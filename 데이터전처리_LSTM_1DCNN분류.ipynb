{
  "cells": [
    {
      "cell_type": "code",
      "execution_count": 1,
      "metadata": {
        "colab": {
          "base_uri": "https://localhost:8080/"
        },
        "id": "hFuMcziChwr5",
        "outputId": "6e352cc9-4f76-45e6-bc80-2e15e8b26871"
      },
      "outputs": [
        {
          "output_type": "stream",
          "name": "stdout",
          "text": [
            "Selecting previously unselected package fonts-nanum.\n",
            "(Reading database ... 155639 files and directories currently installed.)\n",
            "Preparing to unpack .../fonts-nanum_20170925-1_all.deb ...\n",
            "Unpacking fonts-nanum (20170925-1) ...\n",
            "Selecting previously unselected package fonts-nanum-eco.\n",
            "Preparing to unpack .../fonts-nanum-eco_1.000-6_all.deb ...\n",
            "Unpacking fonts-nanum-eco (1.000-6) ...\n",
            "Selecting previously unselected package fonts-nanum-extra.\n",
            "Preparing to unpack .../fonts-nanum-extra_20170925-1_all.deb ...\n",
            "Unpacking fonts-nanum-extra (20170925-1) ...\n",
            "Selecting previously unselected package fonts-nanum-coding.\n",
            "Preparing to unpack .../fonts-nanum-coding_2.5-1_all.deb ...\n",
            "Unpacking fonts-nanum-coding (2.5-1) ...\n",
            "Setting up fonts-nanum-extra (20170925-1) ...\n",
            "Setting up fonts-nanum (20170925-1) ...\n",
            "Setting up fonts-nanum-coding (2.5-1) ...\n",
            "Setting up fonts-nanum-eco (1.000-6) ...\n",
            "Processing triggers for fontconfig (2.12.6-0ubuntu2) ...\n",
            "NanumBarunGothic\n"
          ]
        }
      ],
      "source": [
        "# 한글폰트 사용 in colab\n",
        "%matplotlib inline  \n",
        "\n",
        "import matplotlib as mpl \n",
        "import matplotlib.pyplot as plt \n",
        "import matplotlib.font_manager as fm  \n",
        "\n",
        "!apt-get update -qq\n",
        "!apt-get install fonts-nanum* -qq\n",
        "\n",
        "path = '/usr/share/fonts/truetype/nanum/NanumBarunGothic.ttf' \n",
        "font_name = fm.FontProperties(fname=path, size=10).get_name()\n",
        "print(font_name)\n",
        "plt.rc('font', family=font_name)\n",
        "\n",
        "fm._rebuild()\n",
        "mpl.rcParams['axes.unicode_minus'] = False\n",
        "\n",
        "fm._rebuild()"
      ]
    },
    {
      "cell_type": "code",
      "execution_count": 2,
      "metadata": {
        "colab": {
          "base_uri": "https://localhost:8080/"
        },
        "id": "KxAh1plCWw_1",
        "outputId": "6e2cd8b0-4020-40fd-d3a8-e3d2de097d0e"
      },
      "outputs": [
        {
          "output_type": "stream",
          "name": "stdout",
          "text": [
            "Looking in indexes: https://pypi.org/simple, https://us-python.pkg.dev/colab-wheels/public/simple/\n",
            "Collecting konlpy\n",
            "  Downloading konlpy-0.6.0-py2.py3-none-any.whl (19.4 MB)\n",
            "\u001b[K     |████████████████████████████████| 19.4 MB 18.6 MB/s \n",
            "\u001b[?25hRequirement already satisfied: lxml>=4.1.0 in /usr/local/lib/python3.7/dist-packages (from konlpy) (4.2.6)\n",
            "Collecting JPype1>=0.7.0\n",
            "  Downloading JPype1-1.4.0-cp37-cp37m-manylinux_2_5_x86_64.manylinux1_x86_64.whl (453 kB)\n",
            "\u001b[K     |████████████████████████████████| 453 kB 6.3 MB/s \n",
            "\u001b[?25hRequirement already satisfied: numpy>=1.6 in /usr/local/lib/python3.7/dist-packages (from konlpy) (1.21.6)\n",
            "Requirement already satisfied: typing-extensions in /usr/local/lib/python3.7/dist-packages (from JPype1>=0.7.0->konlpy) (4.1.1)\n",
            "Installing collected packages: JPype1, konlpy\n",
            "Successfully installed JPype1-1.4.0 konlpy-0.6.0\n"
          ]
        }
      ],
      "source": [
        "pip install konlpy"
      ]
    },
    {
      "cell_type": "code",
      "execution_count": 3,
      "metadata": {
        "id": "vvsWscYUgims"
      },
      "outputs": [],
      "source": [
        "import pandas as pd\n",
        "import numpy as np\n",
        "import matplotlib.pyplot as plt\n",
        "import re\n",
        "import urllib.request\n",
        "from konlpy.tag import Okt\n",
        "from tqdm import tqdm\n",
        "from tensorflow.keras.preprocessing.text import Tokenizer\n",
        "from tensorflow.keras.preprocessing.sequence import pad_sequences"
      ]
    },
    {
      "cell_type": "code",
      "execution_count": 6,
      "metadata": {
        "id": "SrDxaB2TWs2V"
      },
      "outputs": [],
      "source": [
        "train_data = pd.read_excel('/content/감성대화말뭉치(최종데이터)_Training.xlsx')\n",
        "test_data = pd.read_excel('/content/감성대화말뭉치(최종데이터)_Validation.xlsx')"
      ]
    },
    {
      "cell_type": "code",
      "execution_count": 7,
      "metadata": {
        "colab": {
          "base_uri": "https://localhost:8080/"
        },
        "id": "6FiRLgx1XUpk",
        "outputId": "b59ae7bd-2c6d-4f8f-873b-32caf94f8e7f"
      },
      "outputs": [
        {
          "output_type": "stream",
          "name": "stdout",
          "text": [
            "훈련용 리뷰 개수 : 40879\n"
          ]
        }
      ],
      "source": [
        "print('훈련용 리뷰 개수 :',len(train_data)) # 훈련용 리뷰 개수 출력"
      ]
    },
    {
      "cell_type": "code",
      "execution_count": 8,
      "metadata": {
        "colab": {
          "base_uri": "https://localhost:8080/",
          "height": 736
        },
        "id": "kz2iw8vLXaNW",
        "outputId": "81425ab4-f985-4eed-b1a1-e1e480bfa4ef"
      },
      "outputs": [
        {
          "output_type": "execute_result",
          "data": {
            "text/plain": [
              "      번호   연령  성별       상황키워드    신체질환 감정_대분류   감정_소분류  \\\n",
              "0  44164   청년  남성  연애, 결혼, 출산    해당없음     기쁨     신이 난   \n",
              "1   3926   노년  남성      건강, 죽음  만성질환 유     불안  스트레스 받는   \n",
              "2  50882  청소년  여성     학업 및 진로    해당없음     당황       당황   \n",
              "3  31303   노년  남성          재정  만성질환 무     기쁨     신이 난   \n",
              "4  47200   노년  여성          재정  만성질환 유     기쁨       안도   \n",
              "\n",
              "                                           사람문장1  \\\n",
              "0                      아내가 드디어 출산하게 되어서 정말 신이 나.   \n",
              "1        당뇨랑 합병증 때문에 먹어야 할 약이 열 가지가 넘어가니까 스트레스야.   \n",
              "2        고등학교에 올라오니 중학교 때보다 수업이 갑자기 어려워져서 당황스러워.   \n",
              "3  재취업이 돼서 받게 된 첫 월급으로 온 가족이 외식을 할 예정이야. 너무 행복해.   \n",
              "4                   빚을 드디어 다 갚게 되어서 이제야 안도감이 들어.   \n",
              "\n",
              "                                    시스템응답1  \\\n",
              "0                아내분이 출산을 하시는군요. 정말 축하드려요.   \n",
              "1                       약 종류가 많아 번거로우시겠어요.   \n",
              "2  고등학교 수업이 중학교 때와는 다르게 갑자기 어려워서 당황스러우시군요.   \n",
              "3                  재취업 후 첫 월급이라 정말 기쁘시겠어요.   \n",
              "4           기분 좋으시겠어요. 앞으로는 어떻게 하실 생각이신가요?   \n",
              "\n",
              "                                               사람문장2  \\\n",
              "0                                      아 지금 정말 신이 나.   \n",
              "1                        건강할 때 관리 좀 잘할걸 하는 생각이 들더라고.   \n",
              "2                  아직 학기 초인데 내가 수업에 잘 따라갈 수 있을지 걱정돼.   \n",
              "3  퇴직 후 다시는 돈을 못 벌 줄 알았는데 이렇게 월급으로 가족에게 맛있는 밥을 살 ...   \n",
              "4                  빚도 다 갚았으니 당분간은 아무 생각도 안 하며 살고 싶어.   \n",
              "\n",
              "                                 시스템응답2                               사람문장3  \\\n",
              "0                             잘 된 일이네요.  아기가 점점 클게 벌써 기대가 되네. 내가 많이 놀아줘야지.    \n",
              "1         현재 상황에서 변화를 주기 위해 어떻게 하면 될까요?          약을 잘 챙겨 먹고 나을 수 있도록 노력해야지.   \n",
              "2           이 상황에서 할 수 있는 게 어떤 것이 있을까요?       중학교 수업을 들을 때보다 훨씬 더 열심히 할 거야.   \n",
              "3               이 기분을 유지하려면 어떻게 해야 할까요?           회사생활을 열심히 해서 계속 월급을 받을거야!   \n",
              "4  빚도 다 갚았으니 당분간은 아무 생각도 안 하며 살고 싶으시군요.                                 NaN   \n",
              "\n",
              "                         시스템응답3                                      사람문장4  \\\n",
              "0  좋은 아빠가 되실 거 같아요. 진심으로 축하드려요.                                        NaN   \n",
              "1       약을 잘 챙겨 먹어 건강해지시길 바랄게요.                                        NaN   \n",
              "2    수업을 어떤 방식으로 열심히 듣는게 좋을까요?   선생님이 강조하신 부분을 필기하고 집에서 매일 수업 내용을 복습하려고 해.   \n",
              "3   계속 원하시는 대로 회사생활이 이어지길 바랄게요.                                        NaN   \n",
              "4                           NaN                                        NaN   \n",
              "\n",
              "                     시스템응답4  \n",
              "0                       NaN  \n",
              "1                       NaN  \n",
              "2  열심히 해서 좋은 결과가 있었으면 좋겠어요.  \n",
              "3                       NaN  \n",
              "4                       NaN  "
            ],
            "text/html": [
              "\n",
              "  <div id=\"df-c1e8ea45-425f-4c31-bf08-b5dad77e3001\">\n",
              "    <div class=\"colab-df-container\">\n",
              "      <div>\n",
              "<style scoped>\n",
              "    .dataframe tbody tr th:only-of-type {\n",
              "        vertical-align: middle;\n",
              "    }\n",
              "\n",
              "    .dataframe tbody tr th {\n",
              "        vertical-align: top;\n",
              "    }\n",
              "\n",
              "    .dataframe thead th {\n",
              "        text-align: right;\n",
              "    }\n",
              "</style>\n",
              "<table border=\"1\" class=\"dataframe\">\n",
              "  <thead>\n",
              "    <tr style=\"text-align: right;\">\n",
              "      <th></th>\n",
              "      <th>번호</th>\n",
              "      <th>연령</th>\n",
              "      <th>성별</th>\n",
              "      <th>상황키워드</th>\n",
              "      <th>신체질환</th>\n",
              "      <th>감정_대분류</th>\n",
              "      <th>감정_소분류</th>\n",
              "      <th>사람문장1</th>\n",
              "      <th>시스템응답1</th>\n",
              "      <th>사람문장2</th>\n",
              "      <th>시스템응답2</th>\n",
              "      <th>사람문장3</th>\n",
              "      <th>시스템응답3</th>\n",
              "      <th>사람문장4</th>\n",
              "      <th>시스템응답4</th>\n",
              "    </tr>\n",
              "  </thead>\n",
              "  <tbody>\n",
              "    <tr>\n",
              "      <th>0</th>\n",
              "      <td>44164</td>\n",
              "      <td>청년</td>\n",
              "      <td>남성</td>\n",
              "      <td>연애, 결혼, 출산</td>\n",
              "      <td>해당없음</td>\n",
              "      <td>기쁨</td>\n",
              "      <td>신이 난</td>\n",
              "      <td>아내가 드디어 출산하게 되어서 정말 신이 나.</td>\n",
              "      <td>아내분이 출산을 하시는군요. 정말 축하드려요.</td>\n",
              "      <td>아 지금 정말 신이 나.</td>\n",
              "      <td>잘 된 일이네요.</td>\n",
              "      <td>아기가 점점 클게 벌써 기대가 되네. 내가 많이 놀아줘야지.</td>\n",
              "      <td>좋은 아빠가 되실 거 같아요. 진심으로 축하드려요.</td>\n",
              "      <td>NaN</td>\n",
              "      <td>NaN</td>\n",
              "    </tr>\n",
              "    <tr>\n",
              "      <th>1</th>\n",
              "      <td>3926</td>\n",
              "      <td>노년</td>\n",
              "      <td>남성</td>\n",
              "      <td>건강, 죽음</td>\n",
              "      <td>만성질환 유</td>\n",
              "      <td>불안</td>\n",
              "      <td>스트레스 받는</td>\n",
              "      <td>당뇨랑 합병증 때문에 먹어야 할 약이 열 가지가 넘어가니까 스트레스야.</td>\n",
              "      <td>약 종류가 많아 번거로우시겠어요.</td>\n",
              "      <td>건강할 때 관리 좀 잘할걸 하는 생각이 들더라고.</td>\n",
              "      <td>현재 상황에서 변화를 주기 위해 어떻게 하면 될까요?</td>\n",
              "      <td>약을 잘 챙겨 먹고 나을 수 있도록 노력해야지.</td>\n",
              "      <td>약을 잘 챙겨 먹어 건강해지시길 바랄게요.</td>\n",
              "      <td>NaN</td>\n",
              "      <td>NaN</td>\n",
              "    </tr>\n",
              "    <tr>\n",
              "      <th>2</th>\n",
              "      <td>50882</td>\n",
              "      <td>청소년</td>\n",
              "      <td>여성</td>\n",
              "      <td>학업 및 진로</td>\n",
              "      <td>해당없음</td>\n",
              "      <td>당황</td>\n",
              "      <td>당황</td>\n",
              "      <td>고등학교에 올라오니 중학교 때보다 수업이 갑자기 어려워져서 당황스러워.</td>\n",
              "      <td>고등학교 수업이 중학교 때와는 다르게 갑자기 어려워서 당황스러우시군요.</td>\n",
              "      <td>아직 학기 초인데 내가 수업에 잘 따라갈 수 있을지 걱정돼.</td>\n",
              "      <td>이 상황에서 할 수 있는 게 어떤 것이 있을까요?</td>\n",
              "      <td>중학교 수업을 들을 때보다 훨씬 더 열심히 할 거야.</td>\n",
              "      <td>수업을 어떤 방식으로 열심히 듣는게 좋을까요?</td>\n",
              "      <td>선생님이 강조하신 부분을 필기하고 집에서 매일 수업 내용을 복습하려고 해.</td>\n",
              "      <td>열심히 해서 좋은 결과가 있었으면 좋겠어요.</td>\n",
              "    </tr>\n",
              "    <tr>\n",
              "      <th>3</th>\n",
              "      <td>31303</td>\n",
              "      <td>노년</td>\n",
              "      <td>남성</td>\n",
              "      <td>재정</td>\n",
              "      <td>만성질환 무</td>\n",
              "      <td>기쁨</td>\n",
              "      <td>신이 난</td>\n",
              "      <td>재취업이 돼서 받게 된 첫 월급으로 온 가족이 외식을 할 예정이야. 너무 행복해.</td>\n",
              "      <td>재취업 후 첫 월급이라 정말 기쁘시겠어요.</td>\n",
              "      <td>퇴직 후 다시는 돈을 못 벌 줄 알았는데 이렇게 월급으로 가족에게 맛있는 밥을 살 ...</td>\n",
              "      <td>이 기분을 유지하려면 어떻게 해야 할까요?</td>\n",
              "      <td>회사생활을 열심히 해서 계속 월급을 받을거야!</td>\n",
              "      <td>계속 원하시는 대로 회사생활이 이어지길 바랄게요.</td>\n",
              "      <td>NaN</td>\n",
              "      <td>NaN</td>\n",
              "    </tr>\n",
              "    <tr>\n",
              "      <th>4</th>\n",
              "      <td>47200</td>\n",
              "      <td>노년</td>\n",
              "      <td>여성</td>\n",
              "      <td>재정</td>\n",
              "      <td>만성질환 유</td>\n",
              "      <td>기쁨</td>\n",
              "      <td>안도</td>\n",
              "      <td>빚을 드디어 다 갚게 되어서 이제야 안도감이 들어.</td>\n",
              "      <td>기분 좋으시겠어요. 앞으로는 어떻게 하실 생각이신가요?</td>\n",
              "      <td>빚도 다 갚았으니 당분간은 아무 생각도 안 하며 살고 싶어.</td>\n",
              "      <td>빚도 다 갚았으니 당분간은 아무 생각도 안 하며 살고 싶으시군요.</td>\n",
              "      <td>NaN</td>\n",
              "      <td>NaN</td>\n",
              "      <td>NaN</td>\n",
              "      <td>NaN</td>\n",
              "    </tr>\n",
              "  </tbody>\n",
              "</table>\n",
              "</div>\n",
              "      <button class=\"colab-df-convert\" onclick=\"convertToInteractive('df-c1e8ea45-425f-4c31-bf08-b5dad77e3001')\"\n",
              "              title=\"Convert this dataframe to an interactive table.\"\n",
              "              style=\"display:none;\">\n",
              "        \n",
              "  <svg xmlns=\"http://www.w3.org/2000/svg\" height=\"24px\"viewBox=\"0 0 24 24\"\n",
              "       width=\"24px\">\n",
              "    <path d=\"M0 0h24v24H0V0z\" fill=\"none\"/>\n",
              "    <path d=\"M18.56 5.44l.94 2.06.94-2.06 2.06-.94-2.06-.94-.94-2.06-.94 2.06-2.06.94zm-11 1L8.5 8.5l.94-2.06 2.06-.94-2.06-.94L8.5 2.5l-.94 2.06-2.06.94zm10 10l.94 2.06.94-2.06 2.06-.94-2.06-.94-.94-2.06-.94 2.06-2.06.94z\"/><path d=\"M17.41 7.96l-1.37-1.37c-.4-.4-.92-.59-1.43-.59-.52 0-1.04.2-1.43.59L10.3 9.45l-7.72 7.72c-.78.78-.78 2.05 0 2.83L4 21.41c.39.39.9.59 1.41.59.51 0 1.02-.2 1.41-.59l7.78-7.78 2.81-2.81c.8-.78.8-2.07 0-2.86zM5.41 20L4 18.59l7.72-7.72 1.47 1.35L5.41 20z\"/>\n",
              "  </svg>\n",
              "      </button>\n",
              "      \n",
              "  <style>\n",
              "    .colab-df-container {\n",
              "      display:flex;\n",
              "      flex-wrap:wrap;\n",
              "      gap: 12px;\n",
              "    }\n",
              "\n",
              "    .colab-df-convert {\n",
              "      background-color: #E8F0FE;\n",
              "      border: none;\n",
              "      border-radius: 50%;\n",
              "      cursor: pointer;\n",
              "      display: none;\n",
              "      fill: #1967D2;\n",
              "      height: 32px;\n",
              "      padding: 0 0 0 0;\n",
              "      width: 32px;\n",
              "    }\n",
              "\n",
              "    .colab-df-convert:hover {\n",
              "      background-color: #E2EBFA;\n",
              "      box-shadow: 0px 1px 2px rgba(60, 64, 67, 0.3), 0px 1px 3px 1px rgba(60, 64, 67, 0.15);\n",
              "      fill: #174EA6;\n",
              "    }\n",
              "\n",
              "    [theme=dark] .colab-df-convert {\n",
              "      background-color: #3B4455;\n",
              "      fill: #D2E3FC;\n",
              "    }\n",
              "\n",
              "    [theme=dark] .colab-df-convert:hover {\n",
              "      background-color: #434B5C;\n",
              "      box-shadow: 0px 1px 3px 1px rgba(0, 0, 0, 0.15);\n",
              "      filter: drop-shadow(0px 1px 2px rgba(0, 0, 0, 0.3));\n",
              "      fill: #FFFFFF;\n",
              "    }\n",
              "  </style>\n",
              "\n",
              "      <script>\n",
              "        const buttonEl =\n",
              "          document.querySelector('#df-c1e8ea45-425f-4c31-bf08-b5dad77e3001 button.colab-df-convert');\n",
              "        buttonEl.style.display =\n",
              "          google.colab.kernel.accessAllowed ? 'block' : 'none';\n",
              "\n",
              "        async function convertToInteractive(key) {\n",
              "          const element = document.querySelector('#df-c1e8ea45-425f-4c31-bf08-b5dad77e3001');\n",
              "          const dataTable =\n",
              "            await google.colab.kernel.invokeFunction('convertToInteractive',\n",
              "                                                     [key], {});\n",
              "          if (!dataTable) return;\n",
              "\n",
              "          const docLinkHtml = 'Like what you see? Visit the ' +\n",
              "            '<a target=\"_blank\" href=https://colab.research.google.com/notebooks/data_table.ipynb>data table notebook</a>'\n",
              "            + ' to learn more about interactive tables.';\n",
              "          element.innerHTML = '';\n",
              "          dataTable['output_type'] = 'display_data';\n",
              "          await google.colab.output.renderOutput(dataTable, element);\n",
              "          const docLink = document.createElement('div');\n",
              "          docLink.innerHTML = docLinkHtml;\n",
              "          element.appendChild(docLink);\n",
              "        }\n",
              "      </script>\n",
              "    </div>\n",
              "  </div>\n",
              "  "
            ]
          },
          "metadata": {},
          "execution_count": 8
        }
      ],
      "source": [
        "train_data[:5]"
      ]
    },
    {
      "cell_type": "markdown",
      "metadata": {
        "id": "TysFKgg0ivZy"
      },
      "source": [
        "# 사람 문장 3, 4를 제외한이유\n",
        "- 대부분의 감정은 사람문장 1, 2 에서 드러나는 경우가많다고 판단\n",
        "- 문장 3, 4 에는 Nan값이많아 전처리중에 문제가 발생"
      ]
    },
    {
      "cell_type": "markdown",
      "source": [
        "# 사람문장1, 사람문장2, 를 합쳐도 될거같다고 생각해서 일단은 합쳐봄"
      ],
      "metadata": {
        "id": "3li-35W2g0_p"
      }
    },
    {
      "cell_type": "code",
      "execution_count": 9,
      "metadata": {
        "id": "fAVFvegHXsFF"
      },
      "outputs": [],
      "source": [
        "train_data1 = train_data.drop(['번호','연령','성별','상황키워드','신체질환','사람문장2','사람문장3','사람문장4','시스템응답1','시스템응답2','시스템응답3','시스템응답4'], axis=1)\n",
        "train_data2 = train_data.drop(['번호','연령','성별','상황키워드','신체질환','사람문장1','사람문장3','사람문장4','시스템응답1','시스템응답2','시스템응답3','시스템응답4'], axis=1)"
      ]
    },
    {
      "cell_type": "code",
      "source": [
        "train_data1[:5]"
      ],
      "metadata": {
        "colab": {
          "base_uri": "https://localhost:8080/",
          "height": 206
        },
        "id": "F2vxw3Tak04Q",
        "outputId": "3c84b9dc-a99b-431a-8bf0-4210b7787fa0"
      },
      "execution_count": 10,
      "outputs": [
        {
          "output_type": "execute_result",
          "data": {
            "text/plain": [
              "  감정_대분류   감정_소분류                                          사람문장1\n",
              "0     기쁨     신이 난                      아내가 드디어 출산하게 되어서 정말 신이 나.\n",
              "1     불안  스트레스 받는        당뇨랑 합병증 때문에 먹어야 할 약이 열 가지가 넘어가니까 스트레스야.\n",
              "2     당황       당황        고등학교에 올라오니 중학교 때보다 수업이 갑자기 어려워져서 당황스러워.\n",
              "3     기쁨     신이 난  재취업이 돼서 받게 된 첫 월급으로 온 가족이 외식을 할 예정이야. 너무 행복해.\n",
              "4     기쁨       안도                   빚을 드디어 다 갚게 되어서 이제야 안도감이 들어."
            ],
            "text/html": [
              "\n",
              "  <div id=\"df-3af59d38-27fc-4c82-a064-fda85a31c9cb\">\n",
              "    <div class=\"colab-df-container\">\n",
              "      <div>\n",
              "<style scoped>\n",
              "    .dataframe tbody tr th:only-of-type {\n",
              "        vertical-align: middle;\n",
              "    }\n",
              "\n",
              "    .dataframe tbody tr th {\n",
              "        vertical-align: top;\n",
              "    }\n",
              "\n",
              "    .dataframe thead th {\n",
              "        text-align: right;\n",
              "    }\n",
              "</style>\n",
              "<table border=\"1\" class=\"dataframe\">\n",
              "  <thead>\n",
              "    <tr style=\"text-align: right;\">\n",
              "      <th></th>\n",
              "      <th>감정_대분류</th>\n",
              "      <th>감정_소분류</th>\n",
              "      <th>사람문장1</th>\n",
              "    </tr>\n",
              "  </thead>\n",
              "  <tbody>\n",
              "    <tr>\n",
              "      <th>0</th>\n",
              "      <td>기쁨</td>\n",
              "      <td>신이 난</td>\n",
              "      <td>아내가 드디어 출산하게 되어서 정말 신이 나.</td>\n",
              "    </tr>\n",
              "    <tr>\n",
              "      <th>1</th>\n",
              "      <td>불안</td>\n",
              "      <td>스트레스 받는</td>\n",
              "      <td>당뇨랑 합병증 때문에 먹어야 할 약이 열 가지가 넘어가니까 스트레스야.</td>\n",
              "    </tr>\n",
              "    <tr>\n",
              "      <th>2</th>\n",
              "      <td>당황</td>\n",
              "      <td>당황</td>\n",
              "      <td>고등학교에 올라오니 중학교 때보다 수업이 갑자기 어려워져서 당황스러워.</td>\n",
              "    </tr>\n",
              "    <tr>\n",
              "      <th>3</th>\n",
              "      <td>기쁨</td>\n",
              "      <td>신이 난</td>\n",
              "      <td>재취업이 돼서 받게 된 첫 월급으로 온 가족이 외식을 할 예정이야. 너무 행복해.</td>\n",
              "    </tr>\n",
              "    <tr>\n",
              "      <th>4</th>\n",
              "      <td>기쁨</td>\n",
              "      <td>안도</td>\n",
              "      <td>빚을 드디어 다 갚게 되어서 이제야 안도감이 들어.</td>\n",
              "    </tr>\n",
              "  </tbody>\n",
              "</table>\n",
              "</div>\n",
              "      <button class=\"colab-df-convert\" onclick=\"convertToInteractive('df-3af59d38-27fc-4c82-a064-fda85a31c9cb')\"\n",
              "              title=\"Convert this dataframe to an interactive table.\"\n",
              "              style=\"display:none;\">\n",
              "        \n",
              "  <svg xmlns=\"http://www.w3.org/2000/svg\" height=\"24px\"viewBox=\"0 0 24 24\"\n",
              "       width=\"24px\">\n",
              "    <path d=\"M0 0h24v24H0V0z\" fill=\"none\"/>\n",
              "    <path d=\"M18.56 5.44l.94 2.06.94-2.06 2.06-.94-2.06-.94-.94-2.06-.94 2.06-2.06.94zm-11 1L8.5 8.5l.94-2.06 2.06-.94-2.06-.94L8.5 2.5l-.94 2.06-2.06.94zm10 10l.94 2.06.94-2.06 2.06-.94-2.06-.94-.94-2.06-.94 2.06-2.06.94z\"/><path d=\"M17.41 7.96l-1.37-1.37c-.4-.4-.92-.59-1.43-.59-.52 0-1.04.2-1.43.59L10.3 9.45l-7.72 7.72c-.78.78-.78 2.05 0 2.83L4 21.41c.39.39.9.59 1.41.59.51 0 1.02-.2 1.41-.59l7.78-7.78 2.81-2.81c.8-.78.8-2.07 0-2.86zM5.41 20L4 18.59l7.72-7.72 1.47 1.35L5.41 20z\"/>\n",
              "  </svg>\n",
              "      </button>\n",
              "      \n",
              "  <style>\n",
              "    .colab-df-container {\n",
              "      display:flex;\n",
              "      flex-wrap:wrap;\n",
              "      gap: 12px;\n",
              "    }\n",
              "\n",
              "    .colab-df-convert {\n",
              "      background-color: #E8F0FE;\n",
              "      border: none;\n",
              "      border-radius: 50%;\n",
              "      cursor: pointer;\n",
              "      display: none;\n",
              "      fill: #1967D2;\n",
              "      height: 32px;\n",
              "      padding: 0 0 0 0;\n",
              "      width: 32px;\n",
              "    }\n",
              "\n",
              "    .colab-df-convert:hover {\n",
              "      background-color: #E2EBFA;\n",
              "      box-shadow: 0px 1px 2px rgba(60, 64, 67, 0.3), 0px 1px 3px 1px rgba(60, 64, 67, 0.15);\n",
              "      fill: #174EA6;\n",
              "    }\n",
              "\n",
              "    [theme=dark] .colab-df-convert {\n",
              "      background-color: #3B4455;\n",
              "      fill: #D2E3FC;\n",
              "    }\n",
              "\n",
              "    [theme=dark] .colab-df-convert:hover {\n",
              "      background-color: #434B5C;\n",
              "      box-shadow: 0px 1px 3px 1px rgba(0, 0, 0, 0.15);\n",
              "      filter: drop-shadow(0px 1px 2px rgba(0, 0, 0, 0.3));\n",
              "      fill: #FFFFFF;\n",
              "    }\n",
              "  </style>\n",
              "\n",
              "      <script>\n",
              "        const buttonEl =\n",
              "          document.querySelector('#df-3af59d38-27fc-4c82-a064-fda85a31c9cb button.colab-df-convert');\n",
              "        buttonEl.style.display =\n",
              "          google.colab.kernel.accessAllowed ? 'block' : 'none';\n",
              "\n",
              "        async function convertToInteractive(key) {\n",
              "          const element = document.querySelector('#df-3af59d38-27fc-4c82-a064-fda85a31c9cb');\n",
              "          const dataTable =\n",
              "            await google.colab.kernel.invokeFunction('convertToInteractive',\n",
              "                                                     [key], {});\n",
              "          if (!dataTable) return;\n",
              "\n",
              "          const docLinkHtml = 'Like what you see? Visit the ' +\n",
              "            '<a target=\"_blank\" href=https://colab.research.google.com/notebooks/data_table.ipynb>data table notebook</a>'\n",
              "            + ' to learn more about interactive tables.';\n",
              "          element.innerHTML = '';\n",
              "          dataTable['output_type'] = 'display_data';\n",
              "          await google.colab.output.renderOutput(dataTable, element);\n",
              "          const docLink = document.createElement('div');\n",
              "          docLink.innerHTML = docLinkHtml;\n",
              "          element.appendChild(docLink);\n",
              "        }\n",
              "      </script>\n",
              "    </div>\n",
              "  </div>\n",
              "  "
            ]
          },
          "metadata": {},
          "execution_count": 10
        }
      ]
    },
    {
      "cell_type": "code",
      "source": [
        "train_data2[:5]"
      ],
      "metadata": {
        "colab": {
          "base_uri": "https://localhost:8080/",
          "height": 206
        },
        "id": "9rSNCZETmTjx",
        "outputId": "72667627-ac7b-4402-fc4a-758480cf24e2"
      },
      "execution_count": 11,
      "outputs": [
        {
          "output_type": "execute_result",
          "data": {
            "text/plain": [
              "  감정_대분류   감정_소분류                                              사람문장2\n",
              "0     기쁨     신이 난                                      아 지금 정말 신이 나.\n",
              "1     불안  스트레스 받는                        건강할 때 관리 좀 잘할걸 하는 생각이 들더라고.\n",
              "2     당황       당황                  아직 학기 초인데 내가 수업에 잘 따라갈 수 있을지 걱정돼.\n",
              "3     기쁨     신이 난  퇴직 후 다시는 돈을 못 벌 줄 알았는데 이렇게 월급으로 가족에게 맛있는 밥을 살 ...\n",
              "4     기쁨       안도                  빚도 다 갚았으니 당분간은 아무 생각도 안 하며 살고 싶어."
            ],
            "text/html": [
              "\n",
              "  <div id=\"df-2157c1ed-e2b4-421d-8a26-87021d88fc4c\">\n",
              "    <div class=\"colab-df-container\">\n",
              "      <div>\n",
              "<style scoped>\n",
              "    .dataframe tbody tr th:only-of-type {\n",
              "        vertical-align: middle;\n",
              "    }\n",
              "\n",
              "    .dataframe tbody tr th {\n",
              "        vertical-align: top;\n",
              "    }\n",
              "\n",
              "    .dataframe thead th {\n",
              "        text-align: right;\n",
              "    }\n",
              "</style>\n",
              "<table border=\"1\" class=\"dataframe\">\n",
              "  <thead>\n",
              "    <tr style=\"text-align: right;\">\n",
              "      <th></th>\n",
              "      <th>감정_대분류</th>\n",
              "      <th>감정_소분류</th>\n",
              "      <th>사람문장2</th>\n",
              "    </tr>\n",
              "  </thead>\n",
              "  <tbody>\n",
              "    <tr>\n",
              "      <th>0</th>\n",
              "      <td>기쁨</td>\n",
              "      <td>신이 난</td>\n",
              "      <td>아 지금 정말 신이 나.</td>\n",
              "    </tr>\n",
              "    <tr>\n",
              "      <th>1</th>\n",
              "      <td>불안</td>\n",
              "      <td>스트레스 받는</td>\n",
              "      <td>건강할 때 관리 좀 잘할걸 하는 생각이 들더라고.</td>\n",
              "    </tr>\n",
              "    <tr>\n",
              "      <th>2</th>\n",
              "      <td>당황</td>\n",
              "      <td>당황</td>\n",
              "      <td>아직 학기 초인데 내가 수업에 잘 따라갈 수 있을지 걱정돼.</td>\n",
              "    </tr>\n",
              "    <tr>\n",
              "      <th>3</th>\n",
              "      <td>기쁨</td>\n",
              "      <td>신이 난</td>\n",
              "      <td>퇴직 후 다시는 돈을 못 벌 줄 알았는데 이렇게 월급으로 가족에게 맛있는 밥을 살 ...</td>\n",
              "    </tr>\n",
              "    <tr>\n",
              "      <th>4</th>\n",
              "      <td>기쁨</td>\n",
              "      <td>안도</td>\n",
              "      <td>빚도 다 갚았으니 당분간은 아무 생각도 안 하며 살고 싶어.</td>\n",
              "    </tr>\n",
              "  </tbody>\n",
              "</table>\n",
              "</div>\n",
              "      <button class=\"colab-df-convert\" onclick=\"convertToInteractive('df-2157c1ed-e2b4-421d-8a26-87021d88fc4c')\"\n",
              "              title=\"Convert this dataframe to an interactive table.\"\n",
              "              style=\"display:none;\">\n",
              "        \n",
              "  <svg xmlns=\"http://www.w3.org/2000/svg\" height=\"24px\"viewBox=\"0 0 24 24\"\n",
              "       width=\"24px\">\n",
              "    <path d=\"M0 0h24v24H0V0z\" fill=\"none\"/>\n",
              "    <path d=\"M18.56 5.44l.94 2.06.94-2.06 2.06-.94-2.06-.94-.94-2.06-.94 2.06-2.06.94zm-11 1L8.5 8.5l.94-2.06 2.06-.94-2.06-.94L8.5 2.5l-.94 2.06-2.06.94zm10 10l.94 2.06.94-2.06 2.06-.94-2.06-.94-.94-2.06-.94 2.06-2.06.94z\"/><path d=\"M17.41 7.96l-1.37-1.37c-.4-.4-.92-.59-1.43-.59-.52 0-1.04.2-1.43.59L10.3 9.45l-7.72 7.72c-.78.78-.78 2.05 0 2.83L4 21.41c.39.39.9.59 1.41.59.51 0 1.02-.2 1.41-.59l7.78-7.78 2.81-2.81c.8-.78.8-2.07 0-2.86zM5.41 20L4 18.59l7.72-7.72 1.47 1.35L5.41 20z\"/>\n",
              "  </svg>\n",
              "      </button>\n",
              "      \n",
              "  <style>\n",
              "    .colab-df-container {\n",
              "      display:flex;\n",
              "      flex-wrap:wrap;\n",
              "      gap: 12px;\n",
              "    }\n",
              "\n",
              "    .colab-df-convert {\n",
              "      background-color: #E8F0FE;\n",
              "      border: none;\n",
              "      border-radius: 50%;\n",
              "      cursor: pointer;\n",
              "      display: none;\n",
              "      fill: #1967D2;\n",
              "      height: 32px;\n",
              "      padding: 0 0 0 0;\n",
              "      width: 32px;\n",
              "    }\n",
              "\n",
              "    .colab-df-convert:hover {\n",
              "      background-color: #E2EBFA;\n",
              "      box-shadow: 0px 1px 2px rgba(60, 64, 67, 0.3), 0px 1px 3px 1px rgba(60, 64, 67, 0.15);\n",
              "      fill: #174EA6;\n",
              "    }\n",
              "\n",
              "    [theme=dark] .colab-df-convert {\n",
              "      background-color: #3B4455;\n",
              "      fill: #D2E3FC;\n",
              "    }\n",
              "\n",
              "    [theme=dark] .colab-df-convert:hover {\n",
              "      background-color: #434B5C;\n",
              "      box-shadow: 0px 1px 3px 1px rgba(0, 0, 0, 0.15);\n",
              "      filter: drop-shadow(0px 1px 2px rgba(0, 0, 0, 0.3));\n",
              "      fill: #FFFFFF;\n",
              "    }\n",
              "  </style>\n",
              "\n",
              "      <script>\n",
              "        const buttonEl =\n",
              "          document.querySelector('#df-2157c1ed-e2b4-421d-8a26-87021d88fc4c button.colab-df-convert');\n",
              "        buttonEl.style.display =\n",
              "          google.colab.kernel.accessAllowed ? 'block' : 'none';\n",
              "\n",
              "        async function convertToInteractive(key) {\n",
              "          const element = document.querySelector('#df-2157c1ed-e2b4-421d-8a26-87021d88fc4c');\n",
              "          const dataTable =\n",
              "            await google.colab.kernel.invokeFunction('convertToInteractive',\n",
              "                                                     [key], {});\n",
              "          if (!dataTable) return;\n",
              "\n",
              "          const docLinkHtml = 'Like what you see? Visit the ' +\n",
              "            '<a target=\"_blank\" href=https://colab.research.google.com/notebooks/data_table.ipynb>data table notebook</a>'\n",
              "            + ' to learn more about interactive tables.';\n",
              "          element.innerHTML = '';\n",
              "          dataTable['output_type'] = 'display_data';\n",
              "          await google.colab.output.renderOutput(dataTable, element);\n",
              "          const docLink = document.createElement('div');\n",
              "          docLink.innerHTML = docLinkHtml;\n",
              "          element.appendChild(docLink);\n",
              "        }\n",
              "      </script>\n",
              "    </div>\n",
              "  </div>\n",
              "  "
            ]
          },
          "metadata": {},
          "execution_count": 11
        }
      ]
    },
    {
      "cell_type": "code",
      "source": [
        "train_data2.rename(columns={'사람문장2':'사람문장1'},inplace=True)\n",
        "train_data2[:5]"
      ],
      "metadata": {
        "colab": {
          "base_uri": "https://localhost:8080/",
          "height": 206
        },
        "id": "ApJbN3b4mAmR",
        "outputId": "51890450-890f-43df-9802-126c15a955aa"
      },
      "execution_count": 12,
      "outputs": [
        {
          "output_type": "execute_result",
          "data": {
            "text/plain": [
              "  감정_대분류   감정_소분류                                              사람문장1\n",
              "0     기쁨     신이 난                                      아 지금 정말 신이 나.\n",
              "1     불안  스트레스 받는                        건강할 때 관리 좀 잘할걸 하는 생각이 들더라고.\n",
              "2     당황       당황                  아직 학기 초인데 내가 수업에 잘 따라갈 수 있을지 걱정돼.\n",
              "3     기쁨     신이 난  퇴직 후 다시는 돈을 못 벌 줄 알았는데 이렇게 월급으로 가족에게 맛있는 밥을 살 ...\n",
              "4     기쁨       안도                  빚도 다 갚았으니 당분간은 아무 생각도 안 하며 살고 싶어."
            ],
            "text/html": [
              "\n",
              "  <div id=\"df-2342abc0-d5f8-4aae-99e0-ff52456d66b8\">\n",
              "    <div class=\"colab-df-container\">\n",
              "      <div>\n",
              "<style scoped>\n",
              "    .dataframe tbody tr th:only-of-type {\n",
              "        vertical-align: middle;\n",
              "    }\n",
              "\n",
              "    .dataframe tbody tr th {\n",
              "        vertical-align: top;\n",
              "    }\n",
              "\n",
              "    .dataframe thead th {\n",
              "        text-align: right;\n",
              "    }\n",
              "</style>\n",
              "<table border=\"1\" class=\"dataframe\">\n",
              "  <thead>\n",
              "    <tr style=\"text-align: right;\">\n",
              "      <th></th>\n",
              "      <th>감정_대분류</th>\n",
              "      <th>감정_소분류</th>\n",
              "      <th>사람문장1</th>\n",
              "    </tr>\n",
              "  </thead>\n",
              "  <tbody>\n",
              "    <tr>\n",
              "      <th>0</th>\n",
              "      <td>기쁨</td>\n",
              "      <td>신이 난</td>\n",
              "      <td>아 지금 정말 신이 나.</td>\n",
              "    </tr>\n",
              "    <tr>\n",
              "      <th>1</th>\n",
              "      <td>불안</td>\n",
              "      <td>스트레스 받는</td>\n",
              "      <td>건강할 때 관리 좀 잘할걸 하는 생각이 들더라고.</td>\n",
              "    </tr>\n",
              "    <tr>\n",
              "      <th>2</th>\n",
              "      <td>당황</td>\n",
              "      <td>당황</td>\n",
              "      <td>아직 학기 초인데 내가 수업에 잘 따라갈 수 있을지 걱정돼.</td>\n",
              "    </tr>\n",
              "    <tr>\n",
              "      <th>3</th>\n",
              "      <td>기쁨</td>\n",
              "      <td>신이 난</td>\n",
              "      <td>퇴직 후 다시는 돈을 못 벌 줄 알았는데 이렇게 월급으로 가족에게 맛있는 밥을 살 ...</td>\n",
              "    </tr>\n",
              "    <tr>\n",
              "      <th>4</th>\n",
              "      <td>기쁨</td>\n",
              "      <td>안도</td>\n",
              "      <td>빚도 다 갚았으니 당분간은 아무 생각도 안 하며 살고 싶어.</td>\n",
              "    </tr>\n",
              "  </tbody>\n",
              "</table>\n",
              "</div>\n",
              "      <button class=\"colab-df-convert\" onclick=\"convertToInteractive('df-2342abc0-d5f8-4aae-99e0-ff52456d66b8')\"\n",
              "              title=\"Convert this dataframe to an interactive table.\"\n",
              "              style=\"display:none;\">\n",
              "        \n",
              "  <svg xmlns=\"http://www.w3.org/2000/svg\" height=\"24px\"viewBox=\"0 0 24 24\"\n",
              "       width=\"24px\">\n",
              "    <path d=\"M0 0h24v24H0V0z\" fill=\"none\"/>\n",
              "    <path d=\"M18.56 5.44l.94 2.06.94-2.06 2.06-.94-2.06-.94-.94-2.06-.94 2.06-2.06.94zm-11 1L8.5 8.5l.94-2.06 2.06-.94-2.06-.94L8.5 2.5l-.94 2.06-2.06.94zm10 10l.94 2.06.94-2.06 2.06-.94-2.06-.94-.94-2.06-.94 2.06-2.06.94z\"/><path d=\"M17.41 7.96l-1.37-1.37c-.4-.4-.92-.59-1.43-.59-.52 0-1.04.2-1.43.59L10.3 9.45l-7.72 7.72c-.78.78-.78 2.05 0 2.83L4 21.41c.39.39.9.59 1.41.59.51 0 1.02-.2 1.41-.59l7.78-7.78 2.81-2.81c.8-.78.8-2.07 0-2.86zM5.41 20L4 18.59l7.72-7.72 1.47 1.35L5.41 20z\"/>\n",
              "  </svg>\n",
              "      </button>\n",
              "      \n",
              "  <style>\n",
              "    .colab-df-container {\n",
              "      display:flex;\n",
              "      flex-wrap:wrap;\n",
              "      gap: 12px;\n",
              "    }\n",
              "\n",
              "    .colab-df-convert {\n",
              "      background-color: #E8F0FE;\n",
              "      border: none;\n",
              "      border-radius: 50%;\n",
              "      cursor: pointer;\n",
              "      display: none;\n",
              "      fill: #1967D2;\n",
              "      height: 32px;\n",
              "      padding: 0 0 0 0;\n",
              "      width: 32px;\n",
              "    }\n",
              "\n",
              "    .colab-df-convert:hover {\n",
              "      background-color: #E2EBFA;\n",
              "      box-shadow: 0px 1px 2px rgba(60, 64, 67, 0.3), 0px 1px 3px 1px rgba(60, 64, 67, 0.15);\n",
              "      fill: #174EA6;\n",
              "    }\n",
              "\n",
              "    [theme=dark] .colab-df-convert {\n",
              "      background-color: #3B4455;\n",
              "      fill: #D2E3FC;\n",
              "    }\n",
              "\n",
              "    [theme=dark] .colab-df-convert:hover {\n",
              "      background-color: #434B5C;\n",
              "      box-shadow: 0px 1px 3px 1px rgba(0, 0, 0, 0.15);\n",
              "      filter: drop-shadow(0px 1px 2px rgba(0, 0, 0, 0.3));\n",
              "      fill: #FFFFFF;\n",
              "    }\n",
              "  </style>\n",
              "\n",
              "      <script>\n",
              "        const buttonEl =\n",
              "          document.querySelector('#df-2342abc0-d5f8-4aae-99e0-ff52456d66b8 button.colab-df-convert');\n",
              "        buttonEl.style.display =\n",
              "          google.colab.kernel.accessAllowed ? 'block' : 'none';\n",
              "\n",
              "        async function convertToInteractive(key) {\n",
              "          const element = document.querySelector('#df-2342abc0-d5f8-4aae-99e0-ff52456d66b8');\n",
              "          const dataTable =\n",
              "            await google.colab.kernel.invokeFunction('convertToInteractive',\n",
              "                                                     [key], {});\n",
              "          if (!dataTable) return;\n",
              "\n",
              "          const docLinkHtml = 'Like what you see? Visit the ' +\n",
              "            '<a target=\"_blank\" href=https://colab.research.google.com/notebooks/data_table.ipynb>data table notebook</a>'\n",
              "            + ' to learn more about interactive tables.';\n",
              "          element.innerHTML = '';\n",
              "          dataTable['output_type'] = 'display_data';\n",
              "          await google.colab.output.renderOutput(dataTable, element);\n",
              "          const docLink = document.createElement('div');\n",
              "          docLink.innerHTML = docLinkHtml;\n",
              "          element.appendChild(docLink);\n",
              "        }\n",
              "      </script>\n",
              "    </div>\n",
              "  </div>\n",
              "  "
            ]
          },
          "metadata": {},
          "execution_count": 12
        }
      ]
    },
    {
      "cell_type": "code",
      "source": [
        "train_data = train_data1.append(train_data2)\n",
        "train_data[:5]"
      ],
      "metadata": {
        "colab": {
          "base_uri": "https://localhost:8080/",
          "height": 206
        },
        "id": "YdAWj91nlk5m",
        "outputId": "c41b0af9-327b-40e2-8539-ad5cd4d287eb"
      },
      "execution_count": 13,
      "outputs": [
        {
          "output_type": "execute_result",
          "data": {
            "text/plain": [
              "  감정_대분류   감정_소분류                                          사람문장1\n",
              "0     기쁨     신이 난                      아내가 드디어 출산하게 되어서 정말 신이 나.\n",
              "1     불안  스트레스 받는        당뇨랑 합병증 때문에 먹어야 할 약이 열 가지가 넘어가니까 스트레스야.\n",
              "2     당황       당황        고등학교에 올라오니 중학교 때보다 수업이 갑자기 어려워져서 당황스러워.\n",
              "3     기쁨     신이 난  재취업이 돼서 받게 된 첫 월급으로 온 가족이 외식을 할 예정이야. 너무 행복해.\n",
              "4     기쁨       안도                   빚을 드디어 다 갚게 되어서 이제야 안도감이 들어."
            ],
            "text/html": [
              "\n",
              "  <div id=\"df-c8d7fca1-4650-4ca3-ac1b-72cdbfec3c7b\">\n",
              "    <div class=\"colab-df-container\">\n",
              "      <div>\n",
              "<style scoped>\n",
              "    .dataframe tbody tr th:only-of-type {\n",
              "        vertical-align: middle;\n",
              "    }\n",
              "\n",
              "    .dataframe tbody tr th {\n",
              "        vertical-align: top;\n",
              "    }\n",
              "\n",
              "    .dataframe thead th {\n",
              "        text-align: right;\n",
              "    }\n",
              "</style>\n",
              "<table border=\"1\" class=\"dataframe\">\n",
              "  <thead>\n",
              "    <tr style=\"text-align: right;\">\n",
              "      <th></th>\n",
              "      <th>감정_대분류</th>\n",
              "      <th>감정_소분류</th>\n",
              "      <th>사람문장1</th>\n",
              "    </tr>\n",
              "  </thead>\n",
              "  <tbody>\n",
              "    <tr>\n",
              "      <th>0</th>\n",
              "      <td>기쁨</td>\n",
              "      <td>신이 난</td>\n",
              "      <td>아내가 드디어 출산하게 되어서 정말 신이 나.</td>\n",
              "    </tr>\n",
              "    <tr>\n",
              "      <th>1</th>\n",
              "      <td>불안</td>\n",
              "      <td>스트레스 받는</td>\n",
              "      <td>당뇨랑 합병증 때문에 먹어야 할 약이 열 가지가 넘어가니까 스트레스야.</td>\n",
              "    </tr>\n",
              "    <tr>\n",
              "      <th>2</th>\n",
              "      <td>당황</td>\n",
              "      <td>당황</td>\n",
              "      <td>고등학교에 올라오니 중학교 때보다 수업이 갑자기 어려워져서 당황스러워.</td>\n",
              "    </tr>\n",
              "    <tr>\n",
              "      <th>3</th>\n",
              "      <td>기쁨</td>\n",
              "      <td>신이 난</td>\n",
              "      <td>재취업이 돼서 받게 된 첫 월급으로 온 가족이 외식을 할 예정이야. 너무 행복해.</td>\n",
              "    </tr>\n",
              "    <tr>\n",
              "      <th>4</th>\n",
              "      <td>기쁨</td>\n",
              "      <td>안도</td>\n",
              "      <td>빚을 드디어 다 갚게 되어서 이제야 안도감이 들어.</td>\n",
              "    </tr>\n",
              "  </tbody>\n",
              "</table>\n",
              "</div>\n",
              "      <button class=\"colab-df-convert\" onclick=\"convertToInteractive('df-c8d7fca1-4650-4ca3-ac1b-72cdbfec3c7b')\"\n",
              "              title=\"Convert this dataframe to an interactive table.\"\n",
              "              style=\"display:none;\">\n",
              "        \n",
              "  <svg xmlns=\"http://www.w3.org/2000/svg\" height=\"24px\"viewBox=\"0 0 24 24\"\n",
              "       width=\"24px\">\n",
              "    <path d=\"M0 0h24v24H0V0z\" fill=\"none\"/>\n",
              "    <path d=\"M18.56 5.44l.94 2.06.94-2.06 2.06-.94-2.06-.94-.94-2.06-.94 2.06-2.06.94zm-11 1L8.5 8.5l.94-2.06 2.06-.94-2.06-.94L8.5 2.5l-.94 2.06-2.06.94zm10 10l.94 2.06.94-2.06 2.06-.94-2.06-.94-.94-2.06-.94 2.06-2.06.94z\"/><path d=\"M17.41 7.96l-1.37-1.37c-.4-.4-.92-.59-1.43-.59-.52 0-1.04.2-1.43.59L10.3 9.45l-7.72 7.72c-.78.78-.78 2.05 0 2.83L4 21.41c.39.39.9.59 1.41.59.51 0 1.02-.2 1.41-.59l7.78-7.78 2.81-2.81c.8-.78.8-2.07 0-2.86zM5.41 20L4 18.59l7.72-7.72 1.47 1.35L5.41 20z\"/>\n",
              "  </svg>\n",
              "      </button>\n",
              "      \n",
              "  <style>\n",
              "    .colab-df-container {\n",
              "      display:flex;\n",
              "      flex-wrap:wrap;\n",
              "      gap: 12px;\n",
              "    }\n",
              "\n",
              "    .colab-df-convert {\n",
              "      background-color: #E8F0FE;\n",
              "      border: none;\n",
              "      border-radius: 50%;\n",
              "      cursor: pointer;\n",
              "      display: none;\n",
              "      fill: #1967D2;\n",
              "      height: 32px;\n",
              "      padding: 0 0 0 0;\n",
              "      width: 32px;\n",
              "    }\n",
              "\n",
              "    .colab-df-convert:hover {\n",
              "      background-color: #E2EBFA;\n",
              "      box-shadow: 0px 1px 2px rgba(60, 64, 67, 0.3), 0px 1px 3px 1px rgba(60, 64, 67, 0.15);\n",
              "      fill: #174EA6;\n",
              "    }\n",
              "\n",
              "    [theme=dark] .colab-df-convert {\n",
              "      background-color: #3B4455;\n",
              "      fill: #D2E3FC;\n",
              "    }\n",
              "\n",
              "    [theme=dark] .colab-df-convert:hover {\n",
              "      background-color: #434B5C;\n",
              "      box-shadow: 0px 1px 3px 1px rgba(0, 0, 0, 0.15);\n",
              "      filter: drop-shadow(0px 1px 2px rgba(0, 0, 0, 0.3));\n",
              "      fill: #FFFFFF;\n",
              "    }\n",
              "  </style>\n",
              "\n",
              "      <script>\n",
              "        const buttonEl =\n",
              "          document.querySelector('#df-c8d7fca1-4650-4ca3-ac1b-72cdbfec3c7b button.colab-df-convert');\n",
              "        buttonEl.style.display =\n",
              "          google.colab.kernel.accessAllowed ? 'block' : 'none';\n",
              "\n",
              "        async function convertToInteractive(key) {\n",
              "          const element = document.querySelector('#df-c8d7fca1-4650-4ca3-ac1b-72cdbfec3c7b');\n",
              "          const dataTable =\n",
              "            await google.colab.kernel.invokeFunction('convertToInteractive',\n",
              "                                                     [key], {});\n",
              "          if (!dataTable) return;\n",
              "\n",
              "          const docLinkHtml = 'Like what you see? Visit the ' +\n",
              "            '<a target=\"_blank\" href=https://colab.research.google.com/notebooks/data_table.ipynb>data table notebook</a>'\n",
              "            + ' to learn more about interactive tables.';\n",
              "          element.innerHTML = '';\n",
              "          dataTable['output_type'] = 'display_data';\n",
              "          await google.colab.output.renderOutput(dataTable, element);\n",
              "          const docLink = document.createElement('div');\n",
              "          docLink.innerHTML = docLinkHtml;\n",
              "          element.appendChild(docLink);\n",
              "        }\n",
              "      </script>\n",
              "    </div>\n",
              "  </div>\n",
              "  "
            ]
          },
          "metadata": {},
          "execution_count": 13
        }
      ]
    },
    {
      "cell_type": "code",
      "execution_count": 14,
      "metadata": {
        "colab": {
          "base_uri": "https://localhost:8080/"
        },
        "id": "916Ir9E3eogw",
        "outputId": "bf9f5b03-11c5-4d25-91a4-a5f607888bd6"
      },
      "outputs": [
        {
          "output_type": "stream",
          "name": "stdout",
          "text": [
            "테스트용 리뷰 개수 : 5130\n"
          ]
        }
      ],
      "source": [
        "print('테스트용 리뷰 개수 :',len(test_data)) # 테스트용 리뷰 개수 출력"
      ]
    },
    {
      "cell_type": "code",
      "execution_count": 15,
      "metadata": {
        "id": "4IY_OiHMYfE3"
      },
      "outputs": [],
      "source": [
        "test_data1 = test_data.drop(['번호','연령','성별','상황키워드','신체질환','사람문장2','사람문장3','사람문장4','시스템응답1','시스템응답2','시스템응답3','시스템응답4'], axis=1)\n",
        "test_data2 = test_data.drop(['번호','연령','성별','상황키워드','신체질환','사람문장1','사람문장3','사람문장4','시스템응답1','시스템응답2','시스템응답3','시스템응답4'], axis=1)"
      ]
    },
    {
      "cell_type": "code",
      "source": [
        "test_data2.rename(columns={'사람문장2':'사람문장1'},inplace=True)\n",
        "test_data2[:5]"
      ],
      "metadata": {
        "colab": {
          "base_uri": "https://localhost:8080/",
          "height": 206
        },
        "id": "3tCqv3Symvtz",
        "outputId": "7b5d4777-d756-4df0-a185-8f0a38076888"
      },
      "execution_count": 16,
      "outputs": [
        {
          "output_type": "execute_result",
          "data": {
            "text/plain": [
              "  감정_대분류 감정_소분류                                              사람문장1\n",
              "0     분노   툴툴대는  난 하고 싶은 일이 있는데 부모님은 안정적인 일만 하라고 하셔. 내 마음대로 하지도...\n",
              "1     슬픔    비통한  엄마도 엄마만의 인생이 있을 테니 가지 말라고 할 수가 없었어. 그래서 더 마음이 ...\n",
              "2     불안  조심스러운                      그런데 말을 하고 난 후 나도 괴롭힐까 봐 불안했어.\n",
              "3     당황   죄책감의               곧 있으면 인턴에서 정규직 전환 평가가 있는데 안 좋을 것 같아.\n",
              "4     분노  노여워하는                             어떻게 그럴 수가 있지? 너무 화가 나."
            ],
            "text/html": [
              "\n",
              "  <div id=\"df-77ff13b7-1352-4ebc-9d9b-6864bec58703\">\n",
              "    <div class=\"colab-df-container\">\n",
              "      <div>\n",
              "<style scoped>\n",
              "    .dataframe tbody tr th:only-of-type {\n",
              "        vertical-align: middle;\n",
              "    }\n",
              "\n",
              "    .dataframe tbody tr th {\n",
              "        vertical-align: top;\n",
              "    }\n",
              "\n",
              "    .dataframe thead th {\n",
              "        text-align: right;\n",
              "    }\n",
              "</style>\n",
              "<table border=\"1\" class=\"dataframe\">\n",
              "  <thead>\n",
              "    <tr style=\"text-align: right;\">\n",
              "      <th></th>\n",
              "      <th>감정_대분류</th>\n",
              "      <th>감정_소분류</th>\n",
              "      <th>사람문장1</th>\n",
              "    </tr>\n",
              "  </thead>\n",
              "  <tbody>\n",
              "    <tr>\n",
              "      <th>0</th>\n",
              "      <td>분노</td>\n",
              "      <td>툴툴대는</td>\n",
              "      <td>난 하고 싶은 일이 있는데 부모님은 안정적인 일만 하라고 하셔. 내 마음대로 하지도...</td>\n",
              "    </tr>\n",
              "    <tr>\n",
              "      <th>1</th>\n",
              "      <td>슬픔</td>\n",
              "      <td>비통한</td>\n",
              "      <td>엄마도 엄마만의 인생이 있을 테니 가지 말라고 할 수가 없었어. 그래서 더 마음이 ...</td>\n",
              "    </tr>\n",
              "    <tr>\n",
              "      <th>2</th>\n",
              "      <td>불안</td>\n",
              "      <td>조심스러운</td>\n",
              "      <td>그런데 말을 하고 난 후 나도 괴롭힐까 봐 불안했어.</td>\n",
              "    </tr>\n",
              "    <tr>\n",
              "      <th>3</th>\n",
              "      <td>당황</td>\n",
              "      <td>죄책감의</td>\n",
              "      <td>곧 있으면 인턴에서 정규직 전환 평가가 있는데 안 좋을 것 같아.</td>\n",
              "    </tr>\n",
              "    <tr>\n",
              "      <th>4</th>\n",
              "      <td>분노</td>\n",
              "      <td>노여워하는</td>\n",
              "      <td>어떻게 그럴 수가 있지? 너무 화가 나.</td>\n",
              "    </tr>\n",
              "  </tbody>\n",
              "</table>\n",
              "</div>\n",
              "      <button class=\"colab-df-convert\" onclick=\"convertToInteractive('df-77ff13b7-1352-4ebc-9d9b-6864bec58703')\"\n",
              "              title=\"Convert this dataframe to an interactive table.\"\n",
              "              style=\"display:none;\">\n",
              "        \n",
              "  <svg xmlns=\"http://www.w3.org/2000/svg\" height=\"24px\"viewBox=\"0 0 24 24\"\n",
              "       width=\"24px\">\n",
              "    <path d=\"M0 0h24v24H0V0z\" fill=\"none\"/>\n",
              "    <path d=\"M18.56 5.44l.94 2.06.94-2.06 2.06-.94-2.06-.94-.94-2.06-.94 2.06-2.06.94zm-11 1L8.5 8.5l.94-2.06 2.06-.94-2.06-.94L8.5 2.5l-.94 2.06-2.06.94zm10 10l.94 2.06.94-2.06 2.06-.94-2.06-.94-.94-2.06-.94 2.06-2.06.94z\"/><path d=\"M17.41 7.96l-1.37-1.37c-.4-.4-.92-.59-1.43-.59-.52 0-1.04.2-1.43.59L10.3 9.45l-7.72 7.72c-.78.78-.78 2.05 0 2.83L4 21.41c.39.39.9.59 1.41.59.51 0 1.02-.2 1.41-.59l7.78-7.78 2.81-2.81c.8-.78.8-2.07 0-2.86zM5.41 20L4 18.59l7.72-7.72 1.47 1.35L5.41 20z\"/>\n",
              "  </svg>\n",
              "      </button>\n",
              "      \n",
              "  <style>\n",
              "    .colab-df-container {\n",
              "      display:flex;\n",
              "      flex-wrap:wrap;\n",
              "      gap: 12px;\n",
              "    }\n",
              "\n",
              "    .colab-df-convert {\n",
              "      background-color: #E8F0FE;\n",
              "      border: none;\n",
              "      border-radius: 50%;\n",
              "      cursor: pointer;\n",
              "      display: none;\n",
              "      fill: #1967D2;\n",
              "      height: 32px;\n",
              "      padding: 0 0 0 0;\n",
              "      width: 32px;\n",
              "    }\n",
              "\n",
              "    .colab-df-convert:hover {\n",
              "      background-color: #E2EBFA;\n",
              "      box-shadow: 0px 1px 2px rgba(60, 64, 67, 0.3), 0px 1px 3px 1px rgba(60, 64, 67, 0.15);\n",
              "      fill: #174EA6;\n",
              "    }\n",
              "\n",
              "    [theme=dark] .colab-df-convert {\n",
              "      background-color: #3B4455;\n",
              "      fill: #D2E3FC;\n",
              "    }\n",
              "\n",
              "    [theme=dark] .colab-df-convert:hover {\n",
              "      background-color: #434B5C;\n",
              "      box-shadow: 0px 1px 3px 1px rgba(0, 0, 0, 0.15);\n",
              "      filter: drop-shadow(0px 1px 2px rgba(0, 0, 0, 0.3));\n",
              "      fill: #FFFFFF;\n",
              "    }\n",
              "  </style>\n",
              "\n",
              "      <script>\n",
              "        const buttonEl =\n",
              "          document.querySelector('#df-77ff13b7-1352-4ebc-9d9b-6864bec58703 button.colab-df-convert');\n",
              "        buttonEl.style.display =\n",
              "          google.colab.kernel.accessAllowed ? 'block' : 'none';\n",
              "\n",
              "        async function convertToInteractive(key) {\n",
              "          const element = document.querySelector('#df-77ff13b7-1352-4ebc-9d9b-6864bec58703');\n",
              "          const dataTable =\n",
              "            await google.colab.kernel.invokeFunction('convertToInteractive',\n",
              "                                                     [key], {});\n",
              "          if (!dataTable) return;\n",
              "\n",
              "          const docLinkHtml = 'Like what you see? Visit the ' +\n",
              "            '<a target=\"_blank\" href=https://colab.research.google.com/notebooks/data_table.ipynb>data table notebook</a>'\n",
              "            + ' to learn more about interactive tables.';\n",
              "          element.innerHTML = '';\n",
              "          dataTable['output_type'] = 'display_data';\n",
              "          await google.colab.output.renderOutput(dataTable, element);\n",
              "          const docLink = document.createElement('div');\n",
              "          docLink.innerHTML = docLinkHtml;\n",
              "          element.appendChild(docLink);\n",
              "        }\n",
              "      </script>\n",
              "    </div>\n",
              "  </div>\n",
              "  "
            ]
          },
          "metadata": {},
          "execution_count": 16
        }
      ]
    },
    {
      "cell_type": "code",
      "source": [
        "test_data = test_data1.append(test_data2)\n",
        "test_data[:5]"
      ],
      "metadata": {
        "colab": {
          "base_uri": "https://localhost:8080/",
          "height": 206
        },
        "id": "qF1uwKTam1WN",
        "outputId": "2adf1f06-f0e4-471c-eabf-d95e7e2c32d6"
      },
      "execution_count": 17,
      "outputs": [
        {
          "output_type": "execute_result",
          "data": {
            "text/plain": [
              "  감정_대분류 감정_소분류                                             사람문장1\n",
              "0     분노   툴툴대는                                   요즘 부모님과 많이 부딪혀.\n",
              "1     슬픔    비통한                          엄마가 결국 집을 나갔어. 너무 너무 슬퍼.\n",
              "2     불안  조심스러운                    학교에서 한 친구를 괴롭히는 무리에게 그만하라고 했어.\n",
              "3     당황   죄책감의  이번에 팀장님이 간단한 조사 업무를 부탁하셨는데 내가 잘못 처리했어. 너무 절망적이야.\n",
              "4     분노  노여워하는                 남편이 이혼할 때 위자료를 주지 않으려고 변호사를 고용했어."
            ],
            "text/html": [
              "\n",
              "  <div id=\"df-ee1d6b4b-4dbb-4656-af8e-7eaf128cb722\">\n",
              "    <div class=\"colab-df-container\">\n",
              "      <div>\n",
              "<style scoped>\n",
              "    .dataframe tbody tr th:only-of-type {\n",
              "        vertical-align: middle;\n",
              "    }\n",
              "\n",
              "    .dataframe tbody tr th {\n",
              "        vertical-align: top;\n",
              "    }\n",
              "\n",
              "    .dataframe thead th {\n",
              "        text-align: right;\n",
              "    }\n",
              "</style>\n",
              "<table border=\"1\" class=\"dataframe\">\n",
              "  <thead>\n",
              "    <tr style=\"text-align: right;\">\n",
              "      <th></th>\n",
              "      <th>감정_대분류</th>\n",
              "      <th>감정_소분류</th>\n",
              "      <th>사람문장1</th>\n",
              "    </tr>\n",
              "  </thead>\n",
              "  <tbody>\n",
              "    <tr>\n",
              "      <th>0</th>\n",
              "      <td>분노</td>\n",
              "      <td>툴툴대는</td>\n",
              "      <td>요즘 부모님과 많이 부딪혀.</td>\n",
              "    </tr>\n",
              "    <tr>\n",
              "      <th>1</th>\n",
              "      <td>슬픔</td>\n",
              "      <td>비통한</td>\n",
              "      <td>엄마가 결국 집을 나갔어. 너무 너무 슬퍼.</td>\n",
              "    </tr>\n",
              "    <tr>\n",
              "      <th>2</th>\n",
              "      <td>불안</td>\n",
              "      <td>조심스러운</td>\n",
              "      <td>학교에서 한 친구를 괴롭히는 무리에게 그만하라고 했어.</td>\n",
              "    </tr>\n",
              "    <tr>\n",
              "      <th>3</th>\n",
              "      <td>당황</td>\n",
              "      <td>죄책감의</td>\n",
              "      <td>이번에 팀장님이 간단한 조사 업무를 부탁하셨는데 내가 잘못 처리했어. 너무 절망적이야.</td>\n",
              "    </tr>\n",
              "    <tr>\n",
              "      <th>4</th>\n",
              "      <td>분노</td>\n",
              "      <td>노여워하는</td>\n",
              "      <td>남편이 이혼할 때 위자료를 주지 않으려고 변호사를 고용했어.</td>\n",
              "    </tr>\n",
              "  </tbody>\n",
              "</table>\n",
              "</div>\n",
              "      <button class=\"colab-df-convert\" onclick=\"convertToInteractive('df-ee1d6b4b-4dbb-4656-af8e-7eaf128cb722')\"\n",
              "              title=\"Convert this dataframe to an interactive table.\"\n",
              "              style=\"display:none;\">\n",
              "        \n",
              "  <svg xmlns=\"http://www.w3.org/2000/svg\" height=\"24px\"viewBox=\"0 0 24 24\"\n",
              "       width=\"24px\">\n",
              "    <path d=\"M0 0h24v24H0V0z\" fill=\"none\"/>\n",
              "    <path d=\"M18.56 5.44l.94 2.06.94-2.06 2.06-.94-2.06-.94-.94-2.06-.94 2.06-2.06.94zm-11 1L8.5 8.5l.94-2.06 2.06-.94-2.06-.94L8.5 2.5l-.94 2.06-2.06.94zm10 10l.94 2.06.94-2.06 2.06-.94-2.06-.94-.94-2.06-.94 2.06-2.06.94z\"/><path d=\"M17.41 7.96l-1.37-1.37c-.4-.4-.92-.59-1.43-.59-.52 0-1.04.2-1.43.59L10.3 9.45l-7.72 7.72c-.78.78-.78 2.05 0 2.83L4 21.41c.39.39.9.59 1.41.59.51 0 1.02-.2 1.41-.59l7.78-7.78 2.81-2.81c.8-.78.8-2.07 0-2.86zM5.41 20L4 18.59l7.72-7.72 1.47 1.35L5.41 20z\"/>\n",
              "  </svg>\n",
              "      </button>\n",
              "      \n",
              "  <style>\n",
              "    .colab-df-container {\n",
              "      display:flex;\n",
              "      flex-wrap:wrap;\n",
              "      gap: 12px;\n",
              "    }\n",
              "\n",
              "    .colab-df-convert {\n",
              "      background-color: #E8F0FE;\n",
              "      border: none;\n",
              "      border-radius: 50%;\n",
              "      cursor: pointer;\n",
              "      display: none;\n",
              "      fill: #1967D2;\n",
              "      height: 32px;\n",
              "      padding: 0 0 0 0;\n",
              "      width: 32px;\n",
              "    }\n",
              "\n",
              "    .colab-df-convert:hover {\n",
              "      background-color: #E2EBFA;\n",
              "      box-shadow: 0px 1px 2px rgba(60, 64, 67, 0.3), 0px 1px 3px 1px rgba(60, 64, 67, 0.15);\n",
              "      fill: #174EA6;\n",
              "    }\n",
              "\n",
              "    [theme=dark] .colab-df-convert {\n",
              "      background-color: #3B4455;\n",
              "      fill: #D2E3FC;\n",
              "    }\n",
              "\n",
              "    [theme=dark] .colab-df-convert:hover {\n",
              "      background-color: #434B5C;\n",
              "      box-shadow: 0px 1px 3px 1px rgba(0, 0, 0, 0.15);\n",
              "      filter: drop-shadow(0px 1px 2px rgba(0, 0, 0, 0.3));\n",
              "      fill: #FFFFFF;\n",
              "    }\n",
              "  </style>\n",
              "\n",
              "      <script>\n",
              "        const buttonEl =\n",
              "          document.querySelector('#df-ee1d6b4b-4dbb-4656-af8e-7eaf128cb722 button.colab-df-convert');\n",
              "        buttonEl.style.display =\n",
              "          google.colab.kernel.accessAllowed ? 'block' : 'none';\n",
              "\n",
              "        async function convertToInteractive(key) {\n",
              "          const element = document.querySelector('#df-ee1d6b4b-4dbb-4656-af8e-7eaf128cb722');\n",
              "          const dataTable =\n",
              "            await google.colab.kernel.invokeFunction('convertToInteractive',\n",
              "                                                     [key], {});\n",
              "          if (!dataTable) return;\n",
              "\n",
              "          const docLinkHtml = 'Like what you see? Visit the ' +\n",
              "            '<a target=\"_blank\" href=https://colab.research.google.com/notebooks/data_table.ipynb>data table notebook</a>'\n",
              "            + ' to learn more about interactive tables.';\n",
              "          element.innerHTML = '';\n",
              "          dataTable['output_type'] = 'display_data';\n",
              "          await google.colab.output.renderOutput(dataTable, element);\n",
              "          const docLink = document.createElement('div');\n",
              "          docLink.innerHTML = docLinkHtml;\n",
              "          element.appendChild(docLink);\n",
              "        }\n",
              "      </script>\n",
              "    </div>\n",
              "  </div>\n",
              "  "
            ]
          },
          "metadata": {},
          "execution_count": 17
        }
      ]
    },
    {
      "cell_type": "code",
      "source": [
        "test_data[:5]"
      ],
      "metadata": {
        "colab": {
          "base_uri": "https://localhost:8080/",
          "height": 206
        },
        "id": "8WW8t9Dam7eq",
        "outputId": "31295247-5574-4c89-8f95-67fee143f981"
      },
      "execution_count": 18,
      "outputs": [
        {
          "output_type": "execute_result",
          "data": {
            "text/plain": [
              "  감정_대분류 감정_소분류                                             사람문장1\n",
              "0     분노   툴툴대는                                   요즘 부모님과 많이 부딪혀.\n",
              "1     슬픔    비통한                          엄마가 결국 집을 나갔어. 너무 너무 슬퍼.\n",
              "2     불안  조심스러운                    학교에서 한 친구를 괴롭히는 무리에게 그만하라고 했어.\n",
              "3     당황   죄책감의  이번에 팀장님이 간단한 조사 업무를 부탁하셨는데 내가 잘못 처리했어. 너무 절망적이야.\n",
              "4     분노  노여워하는                 남편이 이혼할 때 위자료를 주지 않으려고 변호사를 고용했어."
            ],
            "text/html": [
              "\n",
              "  <div id=\"df-7d555f05-24d1-494b-bcd6-1e2d19ef5660\">\n",
              "    <div class=\"colab-df-container\">\n",
              "      <div>\n",
              "<style scoped>\n",
              "    .dataframe tbody tr th:only-of-type {\n",
              "        vertical-align: middle;\n",
              "    }\n",
              "\n",
              "    .dataframe tbody tr th {\n",
              "        vertical-align: top;\n",
              "    }\n",
              "\n",
              "    .dataframe thead th {\n",
              "        text-align: right;\n",
              "    }\n",
              "</style>\n",
              "<table border=\"1\" class=\"dataframe\">\n",
              "  <thead>\n",
              "    <tr style=\"text-align: right;\">\n",
              "      <th></th>\n",
              "      <th>감정_대분류</th>\n",
              "      <th>감정_소분류</th>\n",
              "      <th>사람문장1</th>\n",
              "    </tr>\n",
              "  </thead>\n",
              "  <tbody>\n",
              "    <tr>\n",
              "      <th>0</th>\n",
              "      <td>분노</td>\n",
              "      <td>툴툴대는</td>\n",
              "      <td>요즘 부모님과 많이 부딪혀.</td>\n",
              "    </tr>\n",
              "    <tr>\n",
              "      <th>1</th>\n",
              "      <td>슬픔</td>\n",
              "      <td>비통한</td>\n",
              "      <td>엄마가 결국 집을 나갔어. 너무 너무 슬퍼.</td>\n",
              "    </tr>\n",
              "    <tr>\n",
              "      <th>2</th>\n",
              "      <td>불안</td>\n",
              "      <td>조심스러운</td>\n",
              "      <td>학교에서 한 친구를 괴롭히는 무리에게 그만하라고 했어.</td>\n",
              "    </tr>\n",
              "    <tr>\n",
              "      <th>3</th>\n",
              "      <td>당황</td>\n",
              "      <td>죄책감의</td>\n",
              "      <td>이번에 팀장님이 간단한 조사 업무를 부탁하셨는데 내가 잘못 처리했어. 너무 절망적이야.</td>\n",
              "    </tr>\n",
              "    <tr>\n",
              "      <th>4</th>\n",
              "      <td>분노</td>\n",
              "      <td>노여워하는</td>\n",
              "      <td>남편이 이혼할 때 위자료를 주지 않으려고 변호사를 고용했어.</td>\n",
              "    </tr>\n",
              "  </tbody>\n",
              "</table>\n",
              "</div>\n",
              "      <button class=\"colab-df-convert\" onclick=\"convertToInteractive('df-7d555f05-24d1-494b-bcd6-1e2d19ef5660')\"\n",
              "              title=\"Convert this dataframe to an interactive table.\"\n",
              "              style=\"display:none;\">\n",
              "        \n",
              "  <svg xmlns=\"http://www.w3.org/2000/svg\" height=\"24px\"viewBox=\"0 0 24 24\"\n",
              "       width=\"24px\">\n",
              "    <path d=\"M0 0h24v24H0V0z\" fill=\"none\"/>\n",
              "    <path d=\"M18.56 5.44l.94 2.06.94-2.06 2.06-.94-2.06-.94-.94-2.06-.94 2.06-2.06.94zm-11 1L8.5 8.5l.94-2.06 2.06-.94-2.06-.94L8.5 2.5l-.94 2.06-2.06.94zm10 10l.94 2.06.94-2.06 2.06-.94-2.06-.94-.94-2.06-.94 2.06-2.06.94z\"/><path d=\"M17.41 7.96l-1.37-1.37c-.4-.4-.92-.59-1.43-.59-.52 0-1.04.2-1.43.59L10.3 9.45l-7.72 7.72c-.78.78-.78 2.05 0 2.83L4 21.41c.39.39.9.59 1.41.59.51 0 1.02-.2 1.41-.59l7.78-7.78 2.81-2.81c.8-.78.8-2.07 0-2.86zM5.41 20L4 18.59l7.72-7.72 1.47 1.35L5.41 20z\"/>\n",
              "  </svg>\n",
              "      </button>\n",
              "      \n",
              "  <style>\n",
              "    .colab-df-container {\n",
              "      display:flex;\n",
              "      flex-wrap:wrap;\n",
              "      gap: 12px;\n",
              "    }\n",
              "\n",
              "    .colab-df-convert {\n",
              "      background-color: #E8F0FE;\n",
              "      border: none;\n",
              "      border-radius: 50%;\n",
              "      cursor: pointer;\n",
              "      display: none;\n",
              "      fill: #1967D2;\n",
              "      height: 32px;\n",
              "      padding: 0 0 0 0;\n",
              "      width: 32px;\n",
              "    }\n",
              "\n",
              "    .colab-df-convert:hover {\n",
              "      background-color: #E2EBFA;\n",
              "      box-shadow: 0px 1px 2px rgba(60, 64, 67, 0.3), 0px 1px 3px 1px rgba(60, 64, 67, 0.15);\n",
              "      fill: #174EA6;\n",
              "    }\n",
              "\n",
              "    [theme=dark] .colab-df-convert {\n",
              "      background-color: #3B4455;\n",
              "      fill: #D2E3FC;\n",
              "    }\n",
              "\n",
              "    [theme=dark] .colab-df-convert:hover {\n",
              "      background-color: #434B5C;\n",
              "      box-shadow: 0px 1px 3px 1px rgba(0, 0, 0, 0.15);\n",
              "      filter: drop-shadow(0px 1px 2px rgba(0, 0, 0, 0.3));\n",
              "      fill: #FFFFFF;\n",
              "    }\n",
              "  </style>\n",
              "\n",
              "      <script>\n",
              "        const buttonEl =\n",
              "          document.querySelector('#df-7d555f05-24d1-494b-bcd6-1e2d19ef5660 button.colab-df-convert');\n",
              "        buttonEl.style.display =\n",
              "          google.colab.kernel.accessAllowed ? 'block' : 'none';\n",
              "\n",
              "        async function convertToInteractive(key) {\n",
              "          const element = document.querySelector('#df-7d555f05-24d1-494b-bcd6-1e2d19ef5660');\n",
              "          const dataTable =\n",
              "            await google.colab.kernel.invokeFunction('convertToInteractive',\n",
              "                                                     [key], {});\n",
              "          if (!dataTable) return;\n",
              "\n",
              "          const docLinkHtml = 'Like what you see? Visit the ' +\n",
              "            '<a target=\"_blank\" href=https://colab.research.google.com/notebooks/data_table.ipynb>data table notebook</a>'\n",
              "            + ' to learn more about interactive tables.';\n",
              "          element.innerHTML = '';\n",
              "          dataTable['output_type'] = 'display_data';\n",
              "          await google.colab.output.renderOutput(dataTable, element);\n",
              "          const docLink = document.createElement('div');\n",
              "          docLink.innerHTML = docLinkHtml;\n",
              "          element.appendChild(docLink);\n",
              "        }\n",
              "      </script>\n",
              "    </div>\n",
              "  </div>\n",
              "  "
            ]
          },
          "metadata": {},
          "execution_count": 18
        }
      ]
    },
    {
      "cell_type": "code",
      "execution_count": 19,
      "metadata": {
        "colab": {
          "base_uri": "https://localhost:8080/",
          "height": 206
        },
        "id": "ouiKGWAvg4PH",
        "outputId": "d39dc0b6-bbb6-4796-ddbe-d5b0fc039654"
      },
      "outputs": [
        {
          "output_type": "execute_result",
          "data": {
            "text/plain": [
              "  감정_대분류   감정_소분류                                          사람문장1  label\n",
              "0     기쁨     신이 난                      아내가 드디어 출산하게 되어서 정말 신이 나.      0\n",
              "1     불안  스트레스 받는        당뇨랑 합병증 때문에 먹어야 할 약이 열 가지가 넘어가니까 스트레스야.      0\n",
              "2     당황       당황        고등학교에 올라오니 중학교 때보다 수업이 갑자기 어려워져서 당황스러워.      0\n",
              "3     기쁨     신이 난  재취업이 돼서 받게 된 첫 월급으로 온 가족이 외식을 할 예정이야. 너무 행복해.      0\n",
              "4     기쁨       안도                   빚을 드디어 다 갚게 되어서 이제야 안도감이 들어.      0"
            ],
            "text/html": [
              "\n",
              "  <div id=\"df-89c1fb43-20f7-4002-aa23-6bb1fc4e9a63\">\n",
              "    <div class=\"colab-df-container\">\n",
              "      <div>\n",
              "<style scoped>\n",
              "    .dataframe tbody tr th:only-of-type {\n",
              "        vertical-align: middle;\n",
              "    }\n",
              "\n",
              "    .dataframe tbody tr th {\n",
              "        vertical-align: top;\n",
              "    }\n",
              "\n",
              "    .dataframe thead th {\n",
              "        text-align: right;\n",
              "    }\n",
              "</style>\n",
              "<table border=\"1\" class=\"dataframe\">\n",
              "  <thead>\n",
              "    <tr style=\"text-align: right;\">\n",
              "      <th></th>\n",
              "      <th>감정_대분류</th>\n",
              "      <th>감정_소분류</th>\n",
              "      <th>사람문장1</th>\n",
              "      <th>label</th>\n",
              "    </tr>\n",
              "  </thead>\n",
              "  <tbody>\n",
              "    <tr>\n",
              "      <th>0</th>\n",
              "      <td>기쁨</td>\n",
              "      <td>신이 난</td>\n",
              "      <td>아내가 드디어 출산하게 되어서 정말 신이 나.</td>\n",
              "      <td>0</td>\n",
              "    </tr>\n",
              "    <tr>\n",
              "      <th>1</th>\n",
              "      <td>불안</td>\n",
              "      <td>스트레스 받는</td>\n",
              "      <td>당뇨랑 합병증 때문에 먹어야 할 약이 열 가지가 넘어가니까 스트레스야.</td>\n",
              "      <td>0</td>\n",
              "    </tr>\n",
              "    <tr>\n",
              "      <th>2</th>\n",
              "      <td>당황</td>\n",
              "      <td>당황</td>\n",
              "      <td>고등학교에 올라오니 중학교 때보다 수업이 갑자기 어려워져서 당황스러워.</td>\n",
              "      <td>0</td>\n",
              "    </tr>\n",
              "    <tr>\n",
              "      <th>3</th>\n",
              "      <td>기쁨</td>\n",
              "      <td>신이 난</td>\n",
              "      <td>재취업이 돼서 받게 된 첫 월급으로 온 가족이 외식을 할 예정이야. 너무 행복해.</td>\n",
              "      <td>0</td>\n",
              "    </tr>\n",
              "    <tr>\n",
              "      <th>4</th>\n",
              "      <td>기쁨</td>\n",
              "      <td>안도</td>\n",
              "      <td>빚을 드디어 다 갚게 되어서 이제야 안도감이 들어.</td>\n",
              "      <td>0</td>\n",
              "    </tr>\n",
              "  </tbody>\n",
              "</table>\n",
              "</div>\n",
              "      <button class=\"colab-df-convert\" onclick=\"convertToInteractive('df-89c1fb43-20f7-4002-aa23-6bb1fc4e9a63')\"\n",
              "              title=\"Convert this dataframe to an interactive table.\"\n",
              "              style=\"display:none;\">\n",
              "        \n",
              "  <svg xmlns=\"http://www.w3.org/2000/svg\" height=\"24px\"viewBox=\"0 0 24 24\"\n",
              "       width=\"24px\">\n",
              "    <path d=\"M0 0h24v24H0V0z\" fill=\"none\"/>\n",
              "    <path d=\"M18.56 5.44l.94 2.06.94-2.06 2.06-.94-2.06-.94-.94-2.06-.94 2.06-2.06.94zm-11 1L8.5 8.5l.94-2.06 2.06-.94-2.06-.94L8.5 2.5l-.94 2.06-2.06.94zm10 10l.94 2.06.94-2.06 2.06-.94-2.06-.94-.94-2.06-.94 2.06-2.06.94z\"/><path d=\"M17.41 7.96l-1.37-1.37c-.4-.4-.92-.59-1.43-.59-.52 0-1.04.2-1.43.59L10.3 9.45l-7.72 7.72c-.78.78-.78 2.05 0 2.83L4 21.41c.39.39.9.59 1.41.59.51 0 1.02-.2 1.41-.59l7.78-7.78 2.81-2.81c.8-.78.8-2.07 0-2.86zM5.41 20L4 18.59l7.72-7.72 1.47 1.35L5.41 20z\"/>\n",
              "  </svg>\n",
              "      </button>\n",
              "      \n",
              "  <style>\n",
              "    .colab-df-container {\n",
              "      display:flex;\n",
              "      flex-wrap:wrap;\n",
              "      gap: 12px;\n",
              "    }\n",
              "\n",
              "    .colab-df-convert {\n",
              "      background-color: #E8F0FE;\n",
              "      border: none;\n",
              "      border-radius: 50%;\n",
              "      cursor: pointer;\n",
              "      display: none;\n",
              "      fill: #1967D2;\n",
              "      height: 32px;\n",
              "      padding: 0 0 0 0;\n",
              "      width: 32px;\n",
              "    }\n",
              "\n",
              "    .colab-df-convert:hover {\n",
              "      background-color: #E2EBFA;\n",
              "      box-shadow: 0px 1px 2px rgba(60, 64, 67, 0.3), 0px 1px 3px 1px rgba(60, 64, 67, 0.15);\n",
              "      fill: #174EA6;\n",
              "    }\n",
              "\n",
              "    [theme=dark] .colab-df-convert {\n",
              "      background-color: #3B4455;\n",
              "      fill: #D2E3FC;\n",
              "    }\n",
              "\n",
              "    [theme=dark] .colab-df-convert:hover {\n",
              "      background-color: #434B5C;\n",
              "      box-shadow: 0px 1px 3px 1px rgba(0, 0, 0, 0.15);\n",
              "      filter: drop-shadow(0px 1px 2px rgba(0, 0, 0, 0.3));\n",
              "      fill: #FFFFFF;\n",
              "    }\n",
              "  </style>\n",
              "\n",
              "      <script>\n",
              "        const buttonEl =\n",
              "          document.querySelector('#df-89c1fb43-20f7-4002-aa23-6bb1fc4e9a63 button.colab-df-convert');\n",
              "        buttonEl.style.display =\n",
              "          google.colab.kernel.accessAllowed ? 'block' : 'none';\n",
              "\n",
              "        async function convertToInteractive(key) {\n",
              "          const element = document.querySelector('#df-89c1fb43-20f7-4002-aa23-6bb1fc4e9a63');\n",
              "          const dataTable =\n",
              "            await google.colab.kernel.invokeFunction('convertToInteractive',\n",
              "                                                     [key], {});\n",
              "          if (!dataTable) return;\n",
              "\n",
              "          const docLinkHtml = 'Like what you see? Visit the ' +\n",
              "            '<a target=\"_blank\" href=https://colab.research.google.com/notebooks/data_table.ipynb>data table notebook</a>'\n",
              "            + ' to learn more about interactive tables.';\n",
              "          element.innerHTML = '';\n",
              "          dataTable['output_type'] = 'display_data';\n",
              "          await google.colab.output.renderOutput(dataTable, element);\n",
              "          const docLink = document.createElement('div');\n",
              "          docLink.innerHTML = docLinkHtml;\n",
              "          element.appendChild(docLink);\n",
              "        }\n",
              "      </script>\n",
              "    </div>\n",
              "  </div>\n",
              "  "
            ]
          },
          "metadata": {},
          "execution_count": 19
        }
      ],
      "source": [
        "train_data['label'] = 0\n",
        "train_data[:5]"
      ]
    },
    {
      "cell_type": "code",
      "source": [
        "train_data.reset_index(drop=True,inplace=True)\n",
        "test_data.reset_index(drop=True, inplace=True)"
      ],
      "metadata": {
        "id": "15CHPPIznQCA"
      },
      "execution_count": 20,
      "outputs": []
    },
    {
      "cell_type": "code",
      "source": [
        "train_data['감정_대분류'][3]"
      ],
      "metadata": {
        "colab": {
          "base_uri": "https://localhost:8080/",
          "height": 36
        },
        "id": "kykPLkeNnlq7",
        "outputId": "f90b9caf-d8d0-4ce8-d22a-ee35693e7d23"
      },
      "execution_count": 21,
      "outputs": [
        {
          "output_type": "execute_result",
          "data": {
            "text/plain": [
              "'기쁨'"
            ],
            "application/vnd.google.colaboratory.intrinsic+json": {
              "type": "string"
            }
          },
          "metadata": {},
          "execution_count": 21
        }
      ]
    },
    {
      "cell_type": "code",
      "execution_count": 22,
      "metadata": {
        "colab": {
          "base_uri": "https://localhost:8080/",
          "height": 405
        },
        "id": "JSnNL74uYmQk",
        "outputId": "c6d76756-eef9-4367-9ff0-0f7409e1defa"
      },
      "outputs": [
        {
          "output_type": "stream",
          "name": "stderr",
          "text": [
            "/usr/local/lib/python3.7/dist-packages/ipykernel_launcher.py:3: SettingWithCopyWarning: \n",
            "A value is trying to be set on a copy of a slice from a DataFrame\n",
            "\n",
            "See the caveats in the documentation: https://pandas.pydata.org/pandas-docs/stable/user_guide/indexing.html#returning-a-view-versus-a-copy\n",
            "  This is separate from the ipykernel package so we can avoid doing imports until\n",
            "/usr/local/lib/python3.7/dist-packages/ipykernel_launcher.py:5: SettingWithCopyWarning: \n",
            "A value is trying to be set on a copy of a slice from a DataFrame\n",
            "\n",
            "See the caveats in the documentation: https://pandas.pydata.org/pandas-docs/stable/user_guide/indexing.html#returning-a-view-versus-a-copy\n",
            "  \"\"\"\n"
          ]
        },
        {
          "output_type": "execute_result",
          "data": {
            "text/plain": [
              "      감정_대분류   감정_소분류                                              사람문장1  \\\n",
              "81753     불안    혼란스러운                나한테 아예 떠넘길 거 같은데 친구한테 얘기해볼까 고민 중이야.   \n",
              "81754     기쁨       안도                                    결과가 좋게 나와서 다행이야   \n",
              "81755     슬픔      우울한   내 재능이 남들보다 월등한 거는 아니라면서 취업해서 안정적으로 살았으면 좋겠다고 하셔.   \n",
              "81756     기쁨     감사하는  덕분에 건강도 챙길 수 있고 너무 좋아. 안마기도 있던데 내일은 운동하고 안마기도 ...   \n",
              "81757     불안  스트레스 받는                 카페에 가서 대화하거나 같이 술 마시면서 이야기했던 것 같아.   \n",
              "\n",
              "       label  \n",
              "81753      0  \n",
              "81754      1  \n",
              "81755      0  \n",
              "81756      1  \n",
              "81757      0  "
            ],
            "text/html": [
              "\n",
              "  <div id=\"df-926275eb-a49c-4413-99f7-4fbef534b5a3\">\n",
              "    <div class=\"colab-df-container\">\n",
              "      <div>\n",
              "<style scoped>\n",
              "    .dataframe tbody tr th:only-of-type {\n",
              "        vertical-align: middle;\n",
              "    }\n",
              "\n",
              "    .dataframe tbody tr th {\n",
              "        vertical-align: top;\n",
              "    }\n",
              "\n",
              "    .dataframe thead th {\n",
              "        text-align: right;\n",
              "    }\n",
              "</style>\n",
              "<table border=\"1\" class=\"dataframe\">\n",
              "  <thead>\n",
              "    <tr style=\"text-align: right;\">\n",
              "      <th></th>\n",
              "      <th>감정_대분류</th>\n",
              "      <th>감정_소분류</th>\n",
              "      <th>사람문장1</th>\n",
              "      <th>label</th>\n",
              "    </tr>\n",
              "  </thead>\n",
              "  <tbody>\n",
              "    <tr>\n",
              "      <th>81753</th>\n",
              "      <td>불안</td>\n",
              "      <td>혼란스러운</td>\n",
              "      <td>나한테 아예 떠넘길 거 같은데 친구한테 얘기해볼까 고민 중이야.</td>\n",
              "      <td>0</td>\n",
              "    </tr>\n",
              "    <tr>\n",
              "      <th>81754</th>\n",
              "      <td>기쁨</td>\n",
              "      <td>안도</td>\n",
              "      <td>결과가 좋게 나와서 다행이야</td>\n",
              "      <td>1</td>\n",
              "    </tr>\n",
              "    <tr>\n",
              "      <th>81755</th>\n",
              "      <td>슬픔</td>\n",
              "      <td>우울한</td>\n",
              "      <td>내 재능이 남들보다 월등한 거는 아니라면서 취업해서 안정적으로 살았으면 좋겠다고 하셔.</td>\n",
              "      <td>0</td>\n",
              "    </tr>\n",
              "    <tr>\n",
              "      <th>81756</th>\n",
              "      <td>기쁨</td>\n",
              "      <td>감사하는</td>\n",
              "      <td>덕분에 건강도 챙길 수 있고 너무 좋아. 안마기도 있던데 내일은 운동하고 안마기도 ...</td>\n",
              "      <td>1</td>\n",
              "    </tr>\n",
              "    <tr>\n",
              "      <th>81757</th>\n",
              "      <td>불안</td>\n",
              "      <td>스트레스 받는</td>\n",
              "      <td>카페에 가서 대화하거나 같이 술 마시면서 이야기했던 것 같아.</td>\n",
              "      <td>0</td>\n",
              "    </tr>\n",
              "  </tbody>\n",
              "</table>\n",
              "</div>\n",
              "      <button class=\"colab-df-convert\" onclick=\"convertToInteractive('df-926275eb-a49c-4413-99f7-4fbef534b5a3')\"\n",
              "              title=\"Convert this dataframe to an interactive table.\"\n",
              "              style=\"display:none;\">\n",
              "        \n",
              "  <svg xmlns=\"http://www.w3.org/2000/svg\" height=\"24px\"viewBox=\"0 0 24 24\"\n",
              "       width=\"24px\">\n",
              "    <path d=\"M0 0h24v24H0V0z\" fill=\"none\"/>\n",
              "    <path d=\"M18.56 5.44l.94 2.06.94-2.06 2.06-.94-2.06-.94-.94-2.06-.94 2.06-2.06.94zm-11 1L8.5 8.5l.94-2.06 2.06-.94-2.06-.94L8.5 2.5l-.94 2.06-2.06.94zm10 10l.94 2.06.94-2.06 2.06-.94-2.06-.94-.94-2.06-.94 2.06-2.06.94z\"/><path d=\"M17.41 7.96l-1.37-1.37c-.4-.4-.92-.59-1.43-.59-.52 0-1.04.2-1.43.59L10.3 9.45l-7.72 7.72c-.78.78-.78 2.05 0 2.83L4 21.41c.39.39.9.59 1.41.59.51 0 1.02-.2 1.41-.59l7.78-7.78 2.81-2.81c.8-.78.8-2.07 0-2.86zM5.41 20L4 18.59l7.72-7.72 1.47 1.35L5.41 20z\"/>\n",
              "  </svg>\n",
              "      </button>\n",
              "      \n",
              "  <style>\n",
              "    .colab-df-container {\n",
              "      display:flex;\n",
              "      flex-wrap:wrap;\n",
              "      gap: 12px;\n",
              "    }\n",
              "\n",
              "    .colab-df-convert {\n",
              "      background-color: #E8F0FE;\n",
              "      border: none;\n",
              "      border-radius: 50%;\n",
              "      cursor: pointer;\n",
              "      display: none;\n",
              "      fill: #1967D2;\n",
              "      height: 32px;\n",
              "      padding: 0 0 0 0;\n",
              "      width: 32px;\n",
              "    }\n",
              "\n",
              "    .colab-df-convert:hover {\n",
              "      background-color: #E2EBFA;\n",
              "      box-shadow: 0px 1px 2px rgba(60, 64, 67, 0.3), 0px 1px 3px 1px rgba(60, 64, 67, 0.15);\n",
              "      fill: #174EA6;\n",
              "    }\n",
              "\n",
              "    [theme=dark] .colab-df-convert {\n",
              "      background-color: #3B4455;\n",
              "      fill: #D2E3FC;\n",
              "    }\n",
              "\n",
              "    [theme=dark] .colab-df-convert:hover {\n",
              "      background-color: #434B5C;\n",
              "      box-shadow: 0px 1px 3px 1px rgba(0, 0, 0, 0.15);\n",
              "      filter: drop-shadow(0px 1px 2px rgba(0, 0, 0, 0.3));\n",
              "      fill: #FFFFFF;\n",
              "    }\n",
              "  </style>\n",
              "\n",
              "      <script>\n",
              "        const buttonEl =\n",
              "          document.querySelector('#df-926275eb-a49c-4413-99f7-4fbef534b5a3 button.colab-df-convert');\n",
              "        buttonEl.style.display =\n",
              "          google.colab.kernel.accessAllowed ? 'block' : 'none';\n",
              "\n",
              "        async function convertToInteractive(key) {\n",
              "          const element = document.querySelector('#df-926275eb-a49c-4413-99f7-4fbef534b5a3');\n",
              "          const dataTable =\n",
              "            await google.colab.kernel.invokeFunction('convertToInteractive',\n",
              "                                                     [key], {});\n",
              "          if (!dataTable) return;\n",
              "\n",
              "          const docLinkHtml = 'Like what you see? Visit the ' +\n",
              "            '<a target=\"_blank\" href=https://colab.research.google.com/notebooks/data_table.ipynb>data table notebook</a>'\n",
              "            + ' to learn more about interactive tables.';\n",
              "          element.innerHTML = '';\n",
              "          dataTable['output_type'] = 'display_data';\n",
              "          await google.colab.output.renderOutput(dataTable, element);\n",
              "          const docLink = document.createElement('div');\n",
              "          docLink.innerHTML = docLinkHtml;\n",
              "          element.appendChild(docLink);\n",
              "        }\n",
              "      </script>\n",
              "    </div>\n",
              "  </div>\n",
              "  "
            ]
          },
          "metadata": {},
          "execution_count": 22
        }
      ],
      "source": [
        "for i in range(len(train_data)):\n",
        "  if train_data['감정_대분류'][i] == '기쁨' or train_data['감정_대분류'][i] == '기쁨 ':\n",
        "    train_data['label'][i] = 1\n",
        "  else:\n",
        "    train_data['label'][i] = 0\n",
        "\n",
        "train_data[-5:]"
      ]
    },
    {
      "cell_type": "code",
      "execution_count": 23,
      "metadata": {
        "colab": {
          "base_uri": "https://localhost:8080/",
          "height": 206
        },
        "id": "axNHpKaUeE1v",
        "outputId": "6cac2362-1daa-466b-9d9c-447ce2e335b8"
      },
      "outputs": [
        {
          "output_type": "execute_result",
          "data": {
            "text/plain": [
              "  감정_대분류 감정_소분류                                             사람문장1  label\n",
              "0     분노   툴툴대는                                   요즘 부모님과 많이 부딪혀.      0\n",
              "1     슬픔    비통한                          엄마가 결국 집을 나갔어. 너무 너무 슬퍼.      0\n",
              "2     불안  조심스러운                    학교에서 한 친구를 괴롭히는 무리에게 그만하라고 했어.      0\n",
              "3     당황   죄책감의  이번에 팀장님이 간단한 조사 업무를 부탁하셨는데 내가 잘못 처리했어. 너무 절망적이야.      0\n",
              "4     분노  노여워하는                 남편이 이혼할 때 위자료를 주지 않으려고 변호사를 고용했어.      0"
            ],
            "text/html": [
              "\n",
              "  <div id=\"df-fd4747d5-d77a-4a27-96fe-e73c3d6f8842\">\n",
              "    <div class=\"colab-df-container\">\n",
              "      <div>\n",
              "<style scoped>\n",
              "    .dataframe tbody tr th:only-of-type {\n",
              "        vertical-align: middle;\n",
              "    }\n",
              "\n",
              "    .dataframe tbody tr th {\n",
              "        vertical-align: top;\n",
              "    }\n",
              "\n",
              "    .dataframe thead th {\n",
              "        text-align: right;\n",
              "    }\n",
              "</style>\n",
              "<table border=\"1\" class=\"dataframe\">\n",
              "  <thead>\n",
              "    <tr style=\"text-align: right;\">\n",
              "      <th></th>\n",
              "      <th>감정_대분류</th>\n",
              "      <th>감정_소분류</th>\n",
              "      <th>사람문장1</th>\n",
              "      <th>label</th>\n",
              "    </tr>\n",
              "  </thead>\n",
              "  <tbody>\n",
              "    <tr>\n",
              "      <th>0</th>\n",
              "      <td>분노</td>\n",
              "      <td>툴툴대는</td>\n",
              "      <td>요즘 부모님과 많이 부딪혀.</td>\n",
              "      <td>0</td>\n",
              "    </tr>\n",
              "    <tr>\n",
              "      <th>1</th>\n",
              "      <td>슬픔</td>\n",
              "      <td>비통한</td>\n",
              "      <td>엄마가 결국 집을 나갔어. 너무 너무 슬퍼.</td>\n",
              "      <td>0</td>\n",
              "    </tr>\n",
              "    <tr>\n",
              "      <th>2</th>\n",
              "      <td>불안</td>\n",
              "      <td>조심스러운</td>\n",
              "      <td>학교에서 한 친구를 괴롭히는 무리에게 그만하라고 했어.</td>\n",
              "      <td>0</td>\n",
              "    </tr>\n",
              "    <tr>\n",
              "      <th>3</th>\n",
              "      <td>당황</td>\n",
              "      <td>죄책감의</td>\n",
              "      <td>이번에 팀장님이 간단한 조사 업무를 부탁하셨는데 내가 잘못 처리했어. 너무 절망적이야.</td>\n",
              "      <td>0</td>\n",
              "    </tr>\n",
              "    <tr>\n",
              "      <th>4</th>\n",
              "      <td>분노</td>\n",
              "      <td>노여워하는</td>\n",
              "      <td>남편이 이혼할 때 위자료를 주지 않으려고 변호사를 고용했어.</td>\n",
              "      <td>0</td>\n",
              "    </tr>\n",
              "  </tbody>\n",
              "</table>\n",
              "</div>\n",
              "      <button class=\"colab-df-convert\" onclick=\"convertToInteractive('df-fd4747d5-d77a-4a27-96fe-e73c3d6f8842')\"\n",
              "              title=\"Convert this dataframe to an interactive table.\"\n",
              "              style=\"display:none;\">\n",
              "        \n",
              "  <svg xmlns=\"http://www.w3.org/2000/svg\" height=\"24px\"viewBox=\"0 0 24 24\"\n",
              "       width=\"24px\">\n",
              "    <path d=\"M0 0h24v24H0V0z\" fill=\"none\"/>\n",
              "    <path d=\"M18.56 5.44l.94 2.06.94-2.06 2.06-.94-2.06-.94-.94-2.06-.94 2.06-2.06.94zm-11 1L8.5 8.5l.94-2.06 2.06-.94-2.06-.94L8.5 2.5l-.94 2.06-2.06.94zm10 10l.94 2.06.94-2.06 2.06-.94-2.06-.94-.94-2.06-.94 2.06-2.06.94z\"/><path d=\"M17.41 7.96l-1.37-1.37c-.4-.4-.92-.59-1.43-.59-.52 0-1.04.2-1.43.59L10.3 9.45l-7.72 7.72c-.78.78-.78 2.05 0 2.83L4 21.41c.39.39.9.59 1.41.59.51 0 1.02-.2 1.41-.59l7.78-7.78 2.81-2.81c.8-.78.8-2.07 0-2.86zM5.41 20L4 18.59l7.72-7.72 1.47 1.35L5.41 20z\"/>\n",
              "  </svg>\n",
              "      </button>\n",
              "      \n",
              "  <style>\n",
              "    .colab-df-container {\n",
              "      display:flex;\n",
              "      flex-wrap:wrap;\n",
              "      gap: 12px;\n",
              "    }\n",
              "\n",
              "    .colab-df-convert {\n",
              "      background-color: #E8F0FE;\n",
              "      border: none;\n",
              "      border-radius: 50%;\n",
              "      cursor: pointer;\n",
              "      display: none;\n",
              "      fill: #1967D2;\n",
              "      height: 32px;\n",
              "      padding: 0 0 0 0;\n",
              "      width: 32px;\n",
              "    }\n",
              "\n",
              "    .colab-df-convert:hover {\n",
              "      background-color: #E2EBFA;\n",
              "      box-shadow: 0px 1px 2px rgba(60, 64, 67, 0.3), 0px 1px 3px 1px rgba(60, 64, 67, 0.15);\n",
              "      fill: #174EA6;\n",
              "    }\n",
              "\n",
              "    [theme=dark] .colab-df-convert {\n",
              "      background-color: #3B4455;\n",
              "      fill: #D2E3FC;\n",
              "    }\n",
              "\n",
              "    [theme=dark] .colab-df-convert:hover {\n",
              "      background-color: #434B5C;\n",
              "      box-shadow: 0px 1px 3px 1px rgba(0, 0, 0, 0.15);\n",
              "      filter: drop-shadow(0px 1px 2px rgba(0, 0, 0, 0.3));\n",
              "      fill: #FFFFFF;\n",
              "    }\n",
              "  </style>\n",
              "\n",
              "      <script>\n",
              "        const buttonEl =\n",
              "          document.querySelector('#df-fd4747d5-d77a-4a27-96fe-e73c3d6f8842 button.colab-df-convert');\n",
              "        buttonEl.style.display =\n",
              "          google.colab.kernel.accessAllowed ? 'block' : 'none';\n",
              "\n",
              "        async function convertToInteractive(key) {\n",
              "          const element = document.querySelector('#df-fd4747d5-d77a-4a27-96fe-e73c3d6f8842');\n",
              "          const dataTable =\n",
              "            await google.colab.kernel.invokeFunction('convertToInteractive',\n",
              "                                                     [key], {});\n",
              "          if (!dataTable) return;\n",
              "\n",
              "          const docLinkHtml = 'Like what you see? Visit the ' +\n",
              "            '<a target=\"_blank\" href=https://colab.research.google.com/notebooks/data_table.ipynb>data table notebook</a>'\n",
              "            + ' to learn more about interactive tables.';\n",
              "          element.innerHTML = '';\n",
              "          dataTable['output_type'] = 'display_data';\n",
              "          await google.colab.output.renderOutput(dataTable, element);\n",
              "          const docLink = document.createElement('div');\n",
              "          docLink.innerHTML = docLinkHtml;\n",
              "          element.appendChild(docLink);\n",
              "        }\n",
              "      </script>\n",
              "    </div>\n",
              "  </div>\n",
              "  "
            ]
          },
          "metadata": {},
          "execution_count": 23
        }
      ],
      "source": [
        "test_data['label'] = 0\n",
        "test_data[:5]"
      ]
    },
    {
      "cell_type": "code",
      "execution_count": 24,
      "metadata": {
        "colab": {
          "base_uri": "https://localhost:8080/",
          "height": 405
        },
        "id": "bf-UlEUxaDt3",
        "outputId": "a1a9db0b-d668-4597-ad76-4590d17e616c"
      },
      "outputs": [
        {
          "output_type": "stream",
          "name": "stderr",
          "text": [
            "/usr/local/lib/python3.7/dist-packages/ipykernel_launcher.py:3: SettingWithCopyWarning: \n",
            "A value is trying to be set on a copy of a slice from a DataFrame\n",
            "\n",
            "See the caveats in the documentation: https://pandas.pydata.org/pandas-docs/stable/user_guide/indexing.html#returning-a-view-versus-a-copy\n",
            "  This is separate from the ipykernel package so we can avoid doing imports until\n",
            "/usr/local/lib/python3.7/dist-packages/ipykernel_launcher.py:5: SettingWithCopyWarning: \n",
            "A value is trying to be set on a copy of a slice from a DataFrame\n",
            "\n",
            "See the caveats in the documentation: https://pandas.pydata.org/pandas-docs/stable/user_guide/indexing.html#returning-a-view-versus-a-copy\n",
            "  \"\"\"\n"
          ]
        },
        {
          "output_type": "execute_result",
          "data": {
            "text/plain": [
              "  감정_대분류 감정_소분류                                             사람문장1  label\n",
              "0     분노   툴툴대는                                   요즘 부모님과 많이 부딪혀.      1\n",
              "1     슬픔    비통한                          엄마가 결국 집을 나갔어. 너무 너무 슬퍼.      0\n",
              "2     불안  조심스러운                    학교에서 한 친구를 괴롭히는 무리에게 그만하라고 했어.      0\n",
              "3     당황   죄책감의  이번에 팀장님이 간단한 조사 업무를 부탁하셨는데 내가 잘못 처리했어. 너무 절망적이야.      1\n",
              "4     분노  노여워하는                 남편이 이혼할 때 위자료를 주지 않으려고 변호사를 고용했어.      1"
            ],
            "text/html": [
              "\n",
              "  <div id=\"df-603f4d22-fdef-4402-8ff7-79ad14452a87\">\n",
              "    <div class=\"colab-df-container\">\n",
              "      <div>\n",
              "<style scoped>\n",
              "    .dataframe tbody tr th:only-of-type {\n",
              "        vertical-align: middle;\n",
              "    }\n",
              "\n",
              "    .dataframe tbody tr th {\n",
              "        vertical-align: top;\n",
              "    }\n",
              "\n",
              "    .dataframe thead th {\n",
              "        text-align: right;\n",
              "    }\n",
              "</style>\n",
              "<table border=\"1\" class=\"dataframe\">\n",
              "  <thead>\n",
              "    <tr style=\"text-align: right;\">\n",
              "      <th></th>\n",
              "      <th>감정_대분류</th>\n",
              "      <th>감정_소분류</th>\n",
              "      <th>사람문장1</th>\n",
              "      <th>label</th>\n",
              "    </tr>\n",
              "  </thead>\n",
              "  <tbody>\n",
              "    <tr>\n",
              "      <th>0</th>\n",
              "      <td>분노</td>\n",
              "      <td>툴툴대는</td>\n",
              "      <td>요즘 부모님과 많이 부딪혀.</td>\n",
              "      <td>1</td>\n",
              "    </tr>\n",
              "    <tr>\n",
              "      <th>1</th>\n",
              "      <td>슬픔</td>\n",
              "      <td>비통한</td>\n",
              "      <td>엄마가 결국 집을 나갔어. 너무 너무 슬퍼.</td>\n",
              "      <td>0</td>\n",
              "    </tr>\n",
              "    <tr>\n",
              "      <th>2</th>\n",
              "      <td>불안</td>\n",
              "      <td>조심스러운</td>\n",
              "      <td>학교에서 한 친구를 괴롭히는 무리에게 그만하라고 했어.</td>\n",
              "      <td>0</td>\n",
              "    </tr>\n",
              "    <tr>\n",
              "      <th>3</th>\n",
              "      <td>당황</td>\n",
              "      <td>죄책감의</td>\n",
              "      <td>이번에 팀장님이 간단한 조사 업무를 부탁하셨는데 내가 잘못 처리했어. 너무 절망적이야.</td>\n",
              "      <td>1</td>\n",
              "    </tr>\n",
              "    <tr>\n",
              "      <th>4</th>\n",
              "      <td>분노</td>\n",
              "      <td>노여워하는</td>\n",
              "      <td>남편이 이혼할 때 위자료를 주지 않으려고 변호사를 고용했어.</td>\n",
              "      <td>1</td>\n",
              "    </tr>\n",
              "  </tbody>\n",
              "</table>\n",
              "</div>\n",
              "      <button class=\"colab-df-convert\" onclick=\"convertToInteractive('df-603f4d22-fdef-4402-8ff7-79ad14452a87')\"\n",
              "              title=\"Convert this dataframe to an interactive table.\"\n",
              "              style=\"display:none;\">\n",
              "        \n",
              "  <svg xmlns=\"http://www.w3.org/2000/svg\" height=\"24px\"viewBox=\"0 0 24 24\"\n",
              "       width=\"24px\">\n",
              "    <path d=\"M0 0h24v24H0V0z\" fill=\"none\"/>\n",
              "    <path d=\"M18.56 5.44l.94 2.06.94-2.06 2.06-.94-2.06-.94-.94-2.06-.94 2.06-2.06.94zm-11 1L8.5 8.5l.94-2.06 2.06-.94-2.06-.94L8.5 2.5l-.94 2.06-2.06.94zm10 10l.94 2.06.94-2.06 2.06-.94-2.06-.94-.94-2.06-.94 2.06-2.06.94z\"/><path d=\"M17.41 7.96l-1.37-1.37c-.4-.4-.92-.59-1.43-.59-.52 0-1.04.2-1.43.59L10.3 9.45l-7.72 7.72c-.78.78-.78 2.05 0 2.83L4 21.41c.39.39.9.59 1.41.59.51 0 1.02-.2 1.41-.59l7.78-7.78 2.81-2.81c.8-.78.8-2.07 0-2.86zM5.41 20L4 18.59l7.72-7.72 1.47 1.35L5.41 20z\"/>\n",
              "  </svg>\n",
              "      </button>\n",
              "      \n",
              "  <style>\n",
              "    .colab-df-container {\n",
              "      display:flex;\n",
              "      flex-wrap:wrap;\n",
              "      gap: 12px;\n",
              "    }\n",
              "\n",
              "    .colab-df-convert {\n",
              "      background-color: #E8F0FE;\n",
              "      border: none;\n",
              "      border-radius: 50%;\n",
              "      cursor: pointer;\n",
              "      display: none;\n",
              "      fill: #1967D2;\n",
              "      height: 32px;\n",
              "      padding: 0 0 0 0;\n",
              "      width: 32px;\n",
              "    }\n",
              "\n",
              "    .colab-df-convert:hover {\n",
              "      background-color: #E2EBFA;\n",
              "      box-shadow: 0px 1px 2px rgba(60, 64, 67, 0.3), 0px 1px 3px 1px rgba(60, 64, 67, 0.15);\n",
              "      fill: #174EA6;\n",
              "    }\n",
              "\n",
              "    [theme=dark] .colab-df-convert {\n",
              "      background-color: #3B4455;\n",
              "      fill: #D2E3FC;\n",
              "    }\n",
              "\n",
              "    [theme=dark] .colab-df-convert:hover {\n",
              "      background-color: #434B5C;\n",
              "      box-shadow: 0px 1px 3px 1px rgba(0, 0, 0, 0.15);\n",
              "      filter: drop-shadow(0px 1px 2px rgba(0, 0, 0, 0.3));\n",
              "      fill: #FFFFFF;\n",
              "    }\n",
              "  </style>\n",
              "\n",
              "      <script>\n",
              "        const buttonEl =\n",
              "          document.querySelector('#df-603f4d22-fdef-4402-8ff7-79ad14452a87 button.colab-df-convert');\n",
              "        buttonEl.style.display =\n",
              "          google.colab.kernel.accessAllowed ? 'block' : 'none';\n",
              "\n",
              "        async function convertToInteractive(key) {\n",
              "          const element = document.querySelector('#df-603f4d22-fdef-4402-8ff7-79ad14452a87');\n",
              "          const dataTable =\n",
              "            await google.colab.kernel.invokeFunction('convertToInteractive',\n",
              "                                                     [key], {});\n",
              "          if (!dataTable) return;\n",
              "\n",
              "          const docLinkHtml = 'Like what you see? Visit the ' +\n",
              "            '<a target=\"_blank\" href=https://colab.research.google.com/notebooks/data_table.ipynb>data table notebook</a>'\n",
              "            + ' to learn more about interactive tables.';\n",
              "          element.innerHTML = '';\n",
              "          dataTable['output_type'] = 'display_data';\n",
              "          await google.colab.output.renderOutput(dataTable, element);\n",
              "          const docLink = document.createElement('div');\n",
              "          docLink.innerHTML = docLinkHtml;\n",
              "          element.appendChild(docLink);\n",
              "        }\n",
              "      </script>\n",
              "    </div>\n",
              "  </div>\n",
              "  "
            ]
          },
          "metadata": {},
          "execution_count": 24
        }
      ],
      "source": [
        "for i in range(len(test_data)):\n",
        "  if train_data['감정_대분류'][i] == '기쁨' or train_data['감정_대분류'][i] == '기쁨 ':\n",
        "    test_data['label'][i] = 1\n",
        "  else:\n",
        "    test_data['label'][i] = 0\n",
        "\n",
        "test_data[:5]"
      ]
    },
    {
      "cell_type": "code",
      "execution_count": 25,
      "metadata": {
        "colab": {
          "base_uri": "https://localhost:8080/",
          "height": 206
        },
        "id": "q3mZidFwddzf",
        "outputId": "0fa90540-0a29-4a6f-f4d1-5bfe3ac34e03"
      },
      "outputs": [
        {
          "output_type": "execute_result",
          "data": {
            "text/plain": [
              "      감정_대분류 감정_소분류                                              사람문장1  label\n",
              "10255     기쁨     느긋                         그래서 마음의 안정을 가질 수 있었던 것 같아.      0\n",
              "10256     불안   회의적인                         이대로 혹시 더 심해져서 죽게 되는 건 아닐까?      0\n",
              "10257     분노    좌절한  내가 게을러서 다른 방법을 아직 생각하진 못했어. 댄스 동호회는 좀 괜찮은 것 같은...      0\n",
              "10258     분노   안달하는                          당장 내일 밥은 어떡하고 내 병원비는 어쩌지.      0\n",
              "10259     분노   짜증내는   응 이제 다들 독립해가지고 명절 아니면 찾아오질 않아. 안부전화라도 해주면 좋을 텐데.      0"
            ],
            "text/html": [
              "\n",
              "  <div id=\"df-a69674b5-9551-4363-afb1-cf6e86d99378\">\n",
              "    <div class=\"colab-df-container\">\n",
              "      <div>\n",
              "<style scoped>\n",
              "    .dataframe tbody tr th:only-of-type {\n",
              "        vertical-align: middle;\n",
              "    }\n",
              "\n",
              "    .dataframe tbody tr th {\n",
              "        vertical-align: top;\n",
              "    }\n",
              "\n",
              "    .dataframe thead th {\n",
              "        text-align: right;\n",
              "    }\n",
              "</style>\n",
              "<table border=\"1\" class=\"dataframe\">\n",
              "  <thead>\n",
              "    <tr style=\"text-align: right;\">\n",
              "      <th></th>\n",
              "      <th>감정_대분류</th>\n",
              "      <th>감정_소분류</th>\n",
              "      <th>사람문장1</th>\n",
              "      <th>label</th>\n",
              "    </tr>\n",
              "  </thead>\n",
              "  <tbody>\n",
              "    <tr>\n",
              "      <th>10255</th>\n",
              "      <td>기쁨</td>\n",
              "      <td>느긋</td>\n",
              "      <td>그래서 마음의 안정을 가질 수 있었던 것 같아.</td>\n",
              "      <td>0</td>\n",
              "    </tr>\n",
              "    <tr>\n",
              "      <th>10256</th>\n",
              "      <td>불안</td>\n",
              "      <td>회의적인</td>\n",
              "      <td>이대로 혹시 더 심해져서 죽게 되는 건 아닐까?</td>\n",
              "      <td>0</td>\n",
              "    </tr>\n",
              "    <tr>\n",
              "      <th>10257</th>\n",
              "      <td>분노</td>\n",
              "      <td>좌절한</td>\n",
              "      <td>내가 게을러서 다른 방법을 아직 생각하진 못했어. 댄스 동호회는 좀 괜찮은 것 같은...</td>\n",
              "      <td>0</td>\n",
              "    </tr>\n",
              "    <tr>\n",
              "      <th>10258</th>\n",
              "      <td>분노</td>\n",
              "      <td>안달하는</td>\n",
              "      <td>당장 내일 밥은 어떡하고 내 병원비는 어쩌지.</td>\n",
              "      <td>0</td>\n",
              "    </tr>\n",
              "    <tr>\n",
              "      <th>10259</th>\n",
              "      <td>분노</td>\n",
              "      <td>짜증내는</td>\n",
              "      <td>응 이제 다들 독립해가지고 명절 아니면 찾아오질 않아. 안부전화라도 해주면 좋을 텐데.</td>\n",
              "      <td>0</td>\n",
              "    </tr>\n",
              "  </tbody>\n",
              "</table>\n",
              "</div>\n",
              "      <button class=\"colab-df-convert\" onclick=\"convertToInteractive('df-a69674b5-9551-4363-afb1-cf6e86d99378')\"\n",
              "              title=\"Convert this dataframe to an interactive table.\"\n",
              "              style=\"display:none;\">\n",
              "        \n",
              "  <svg xmlns=\"http://www.w3.org/2000/svg\" height=\"24px\"viewBox=\"0 0 24 24\"\n",
              "       width=\"24px\">\n",
              "    <path d=\"M0 0h24v24H0V0z\" fill=\"none\"/>\n",
              "    <path d=\"M18.56 5.44l.94 2.06.94-2.06 2.06-.94-2.06-.94-.94-2.06-.94 2.06-2.06.94zm-11 1L8.5 8.5l.94-2.06 2.06-.94-2.06-.94L8.5 2.5l-.94 2.06-2.06.94zm10 10l.94 2.06.94-2.06 2.06-.94-2.06-.94-.94-2.06-.94 2.06-2.06.94z\"/><path d=\"M17.41 7.96l-1.37-1.37c-.4-.4-.92-.59-1.43-.59-.52 0-1.04.2-1.43.59L10.3 9.45l-7.72 7.72c-.78.78-.78 2.05 0 2.83L4 21.41c.39.39.9.59 1.41.59.51 0 1.02-.2 1.41-.59l7.78-7.78 2.81-2.81c.8-.78.8-2.07 0-2.86zM5.41 20L4 18.59l7.72-7.72 1.47 1.35L5.41 20z\"/>\n",
              "  </svg>\n",
              "      </button>\n",
              "      \n",
              "  <style>\n",
              "    .colab-df-container {\n",
              "      display:flex;\n",
              "      flex-wrap:wrap;\n",
              "      gap: 12px;\n",
              "    }\n",
              "\n",
              "    .colab-df-convert {\n",
              "      background-color: #E8F0FE;\n",
              "      border: none;\n",
              "      border-radius: 50%;\n",
              "      cursor: pointer;\n",
              "      display: none;\n",
              "      fill: #1967D2;\n",
              "      height: 32px;\n",
              "      padding: 0 0 0 0;\n",
              "      width: 32px;\n",
              "    }\n",
              "\n",
              "    .colab-df-convert:hover {\n",
              "      background-color: #E2EBFA;\n",
              "      box-shadow: 0px 1px 2px rgba(60, 64, 67, 0.3), 0px 1px 3px 1px rgba(60, 64, 67, 0.15);\n",
              "      fill: #174EA6;\n",
              "    }\n",
              "\n",
              "    [theme=dark] .colab-df-convert {\n",
              "      background-color: #3B4455;\n",
              "      fill: #D2E3FC;\n",
              "    }\n",
              "\n",
              "    [theme=dark] .colab-df-convert:hover {\n",
              "      background-color: #434B5C;\n",
              "      box-shadow: 0px 1px 3px 1px rgba(0, 0, 0, 0.15);\n",
              "      filter: drop-shadow(0px 1px 2px rgba(0, 0, 0, 0.3));\n",
              "      fill: #FFFFFF;\n",
              "    }\n",
              "  </style>\n",
              "\n",
              "      <script>\n",
              "        const buttonEl =\n",
              "          document.querySelector('#df-a69674b5-9551-4363-afb1-cf6e86d99378 button.colab-df-convert');\n",
              "        buttonEl.style.display =\n",
              "          google.colab.kernel.accessAllowed ? 'block' : 'none';\n",
              "\n",
              "        async function convertToInteractive(key) {\n",
              "          const element = document.querySelector('#df-a69674b5-9551-4363-afb1-cf6e86d99378');\n",
              "          const dataTable =\n",
              "            await google.colab.kernel.invokeFunction('convertToInteractive',\n",
              "                                                     [key], {});\n",
              "          if (!dataTable) return;\n",
              "\n",
              "          const docLinkHtml = 'Like what you see? Visit the ' +\n",
              "            '<a target=\"_blank\" href=https://colab.research.google.com/notebooks/data_table.ipynb>data table notebook</a>'\n",
              "            + ' to learn more about interactive tables.';\n",
              "          element.innerHTML = '';\n",
              "          dataTable['output_type'] = 'display_data';\n",
              "          await google.colab.output.renderOutput(dataTable, element);\n",
              "          const docLink = document.createElement('div');\n",
              "          docLink.innerHTML = docLinkHtml;\n",
              "          element.appendChild(docLink);\n",
              "        }\n",
              "      </script>\n",
              "    </div>\n",
              "  </div>\n",
              "  "
            ]
          },
          "metadata": {},
          "execution_count": 25
        }
      ],
      "source": [
        "test_data[-5:]"
      ]
    },
    {
      "cell_type": "markdown",
      "source": [
        "----"
      ],
      "metadata": {
        "id": "3QuhffFKg4vP"
      }
    },
    {
      "cell_type": "markdown",
      "source": [
        "# 일단저장해보자"
      ],
      "metadata": {
        "id": "ahJ9D06sDJVP"
      }
    },
    {
      "cell_type": "code",
      "source": [
        "train_data.to_csv('train_data.csv')\n",
        "test_data.to_csv('test_data.csv')"
      ],
      "metadata": {
        "id": "Q0NUX7FuDDEc"
      },
      "execution_count": 28,
      "outputs": []
    },
    {
      "cell_type": "markdown",
      "source": [
        "---"
      ],
      "metadata": {
        "id": "Mqjg_tpUDLIF"
      }
    },
    {
      "cell_type": "code",
      "source": [
        "print(train_data.isnull().sum())"
      ],
      "metadata": {
        "colab": {
          "base_uri": "https://localhost:8080/"
        },
        "id": "7SilEi16Yw8L",
        "outputId": "67424d93-f84d-423e-e20b-97831055a0b5"
      },
      "execution_count": 28,
      "outputs": [
        {
          "output_type": "stream",
          "name": "stdout",
          "text": [
            "감정_대분류    0\n",
            "감정_소분류    0\n",
            "사람문장1     0\n",
            "label     0\n",
            "dtype: int64\n"
          ]
        }
      ]
    },
    {
      "cell_type": "code",
      "execution_count": 29,
      "metadata": {
        "id": "V6AVdE3fecVQ"
      },
      "outputs": [],
      "source": [
        "train_data.drop_duplicates(subset=['사람문장1'], inplace=True)"
      ]
    },
    {
      "cell_type": "code",
      "execution_count": 30,
      "metadata": {
        "colab": {
          "base_uri": "https://localhost:8080/"
        },
        "id": "GWraX_Xwe2ZD",
        "outputId": "c643513a-273b-48af-e402-6731973046be"
      },
      "outputs": [
        {
          "output_type": "stream",
          "name": "stdout",
          "text": [
            "총 샘플의 수 : 78288\n"
          ]
        }
      ],
      "source": [
        "print('총 샘플의 수 :',len(train_data))"
      ]
    },
    {
      "cell_type": "code",
      "execution_count": 31,
      "metadata": {
        "id": "aJbD6ssBeyVz"
      },
      "outputs": [],
      "source": [
        "test_data.drop_duplicates(subset=['사람문장1'], inplace=True)"
      ]
    },
    {
      "cell_type": "code",
      "execution_count": 32,
      "metadata": {
        "colab": {
          "base_uri": "https://localhost:8080/"
        },
        "id": "dkenMHC1e2DA",
        "outputId": "a0c53864-6bcd-4a7c-bd5c-92c55f1a5a20"
      },
      "outputs": [
        {
          "output_type": "stream",
          "name": "stdout",
          "text": [
            "총 샘플의 수 : 10199\n"
          ]
        }
      ],
      "source": [
        "print('총 샘플의 수 :',len(test_data))"
      ]
    },
    {
      "cell_type": "code",
      "source": [
        "print(len(train_data['사람문장1']))\n",
        "print(len(train_data['label']))"
      ],
      "metadata": {
        "colab": {
          "base_uri": "https://localhost:8080/"
        },
        "id": "MfmHGm4PcOaI",
        "outputId": "055f0c43-b100-446c-a62c-194d8cbbbc30"
      },
      "execution_count": 33,
      "outputs": [
        {
          "output_type": "stream",
          "name": "stdout",
          "text": [
            "78288\n",
            "78288\n"
          ]
        }
      ]
    },
    {
      "cell_type": "code",
      "execution_count": 34,
      "metadata": {
        "colab": {
          "base_uri": "https://localhost:8080/",
          "height": 298
        },
        "id": "VxKSGS5Ze6xy",
        "outputId": "e24080d4-8231-4702-f6ba-37750a1fbb38"
      },
      "outputs": [
        {
          "output_type": "execute_result",
          "data": {
            "text/plain": [
              "<matplotlib.axes._subplots.AxesSubplot at 0x7ff6ea81f590>"
            ]
          },
          "metadata": {},
          "execution_count": 34
        },
        {
          "output_type": "stream",
          "name": "stderr",
          "text": [
            "findfont: Font family ['NanumBarunGothic'] not found. Falling back to DejaVu Sans.\n"
          ]
        },
        {
          "output_type": "display_data",
          "data": {
            "text/plain": [
              "<Figure size 432x288 with 1 Axes>"
            ],
            "image/png": "[encoded data removed]"
          },
          "metadata": {
            "needs_background": "light"
          }
        }
      ],
      "source": [
        "train_data['label'].value_counts().plot(kind = 'bar')"
      ]
    },
    {
      "cell_type": "code",
      "execution_count": 35,
      "metadata": {
        "colab": {
          "base_uri": "https://localhost:8080/"
        },
        "id": "Z4v6vtc2fBqe",
        "outputId": "fad883fb-0c88-44cf-8a43-0b5ecdd2c792"
      },
      "outputs": [
        {
          "output_type": "stream",
          "name": "stdout",
          "text": [
            "   label  count\n",
            "0      0  65421\n",
            "1      1  12867\n"
          ]
        }
      ],
      "source": [
        "print(train_data.groupby('label').size().reset_index(name = 'count'))"
      ]
    },
    {
      "cell_type": "markdown",
      "metadata": {
        "id": "kvLGEfijjW1t"
      },
      "source": [
        "# 당황 카테고리 지우기"
      ]
    },
    {
      "cell_type": "code",
      "execution_count": 83,
      "metadata": {
        "id": "0dHePYVOfcV6"
      },
      "outputs": [],
      "source": [
        "train_data = train_data[train_data.감정_대분류 != '당황']"
      ]
    },
    {
      "cell_type": "code",
      "execution_count": 84,
      "metadata": {
        "colab": {
          "base_uri": "https://localhost:8080/"
        },
        "id": "fa_jbKJrgp_m",
        "outputId": "c5c74970-e996-49c0-eb58-18d804e56e0a"
      },
      "outputs": [
        {
          "output_type": "stream",
          "name": "stdout",
          "text": [
            "총 샘플의 수 : 32726\n"
          ]
        }
      ],
      "source": [
        "print('총 샘플의 수 :',len(train_data))"
      ]
    },
    {
      "cell_type": "code",
      "execution_count": 85,
      "metadata": {
        "colab": {
          "base_uri": "https://localhost:8080/",
          "height": 279
        },
        "id": "6bS9MP-fhKFB",
        "outputId": "ce07a4db-319e-4246-ffcd-a0419b36b41f"
      },
      "outputs": [
        {
          "output_type": "execute_result",
          "data": {
            "text/plain": [
              "<matplotlib.axes._subplots.AxesSubplot at 0x7fedd601c050>"
            ]
          },
          "metadata": {},
          "execution_count": 85
        },
        {
          "output_type": "display_data",
          "data": {
            "text/plain": [
              "<Figure size 432x288 with 1 Axes>"
            ],
            "image/png": "[encoded data removed]"
          },
          "metadata": {
            "needs_background": "light"
          }
        }
      ],
      "source": [
        "train_data['label'].value_counts().plot(kind = 'bar')"
      ]
    },
    {
      "cell_type": "code",
      "execution_count": 86,
      "metadata": {
        "colab": {
          "base_uri": "https://localhost:8080/"
        },
        "id": "PVGO70-DgvW8",
        "outputId": "2d5bc3d2-4e79-4e68-803f-f432c09d963b"
      },
      "outputs": [
        {
          "output_type": "stream",
          "name": "stdout",
          "text": [
            "   label  count\n",
            "0      0  26347\n",
            "1      1   6379\n"
          ]
        }
      ],
      "source": [
        "print(train_data.groupby('label').size().reset_index(name = 'count'))"
      ]
    },
    {
      "cell_type": "code",
      "execution_count": 87,
      "metadata": {
        "colab": {
          "base_uri": "https://localhost:8080/"
        },
        "id": "juEjPUCDhHSD",
        "outputId": "634a3ec8-9da2-4920-eaa1-8814b6131f0f"
      },
      "outputs": [
        {
          "output_type": "stream",
          "name": "stdout",
          "text": [
            "False\n"
          ]
        }
      ],
      "source": [
        "print(train_data.isnull().values.any())"
      ]
    },
    {
      "cell_type": "markdown",
      "source": [
        "---"
      ],
      "metadata": {
        "id": "CKZ9vuT2VXtA"
      }
    },
    {
      "cell_type": "code",
      "execution_count": 36,
      "metadata": {
        "colab": {
          "base_uri": "https://localhost:8080/"
        },
        "id": "2UjKtN54hXyK",
        "outputId": "d5c0a6a1-b3d9-4828-a231-72e990ebf072"
      },
      "outputs": [
        {
          "output_type": "stream",
          "name": "stderr",
          "text": [
            "/usr/local/lib/python3.7/dist-packages/ipykernel_launcher.py:2: FutureWarning: The default value of regex will change from True to False in a future version.\n",
            "  \n"
          ]
        }
      ],
      "source": [
        "# 한글과 공백을 제외하고 모두 제거\n",
        "train_data['사람문장1'] = train_data['사람문장1'].str.replace(\"[^ㄱ-ㅎㅏ-ㅣ가-힣 ]\",\"\")"
      ]
    },
    {
      "cell_type": "code",
      "execution_count": 37,
      "metadata": {
        "colab": {
          "base_uri": "https://localhost:8080/"
        },
        "id": "mrHOx7gRjrGU",
        "outputId": "b6e31686-767e-4043-dbac-19637b6c9694"
      },
      "outputs": [
        {
          "output_type": "stream",
          "name": "stderr",
          "text": [
            "/usr/local/lib/python3.7/dist-packages/ipykernel_launcher.py:1: FutureWarning: The default value of regex will change from True to False in a future version.\n",
            "  \"\"\"Entry point for launching an IPython kernel.\n"
          ]
        },
        {
          "output_type": "stream",
          "name": "stdout",
          "text": [
            "감정_대분류    0\n",
            "감정_소분류    0\n",
            "사람문장1     0\n",
            "label     0\n",
            "dtype: int64\n"
          ]
        }
      ],
      "source": [
        "train_data['사람문장1'] = train_data['사람문장1'].str.replace('^ +', \"\") # white space 데이터를 empty value로 변경\n",
        "train_data['사람문장1'].replace('', np.nan, inplace=True)\n",
        "\n",
        "print(train_data.isnull().sum())"
      ]
    },
    {
      "cell_type": "code",
      "source": [
        "print(len(train_data['사람문장1']))\n",
        "print(len(train_data['label']))"
      ],
      "metadata": {
        "colab": {
          "base_uri": "https://localhost:8080/"
        },
        "id": "epvXFB9xcWor",
        "outputId": "fea46b82-3d08-435c-a3b5-eb04eac90588"
      },
      "execution_count": 38,
      "outputs": [
        {
          "output_type": "stream",
          "name": "stdout",
          "text": [
            "78288\n",
            "78288\n"
          ]
        }
      ]
    },
    {
      "cell_type": "code",
      "execution_count": 39,
      "metadata": {
        "colab": {
          "base_uri": "https://localhost:8080/",
          "height": 206
        },
        "id": "ou8DYYK6kPAu",
        "outputId": "6e2d321f-81ad-40f7-eb19-2cbc44971cb7"
      },
      "outputs": [
        {
          "output_type": "execute_result",
          "data": {
            "text/plain": [
              "  감정_대분류   감정_소분류                                        사람문장1  label\n",
              "0     기쁨     신이 난                     아내가 드디어 출산하게 되어서 정말 신이 나      1\n",
              "1     불안  스트레스 받는       당뇨랑 합병증 때문에 먹어야 할 약이 열 가지가 넘어가니까 스트레스야      0\n",
              "2     당황       당황       고등학교에 올라오니 중학교 때보다 수업이 갑자기 어려워져서 당황스러워      0\n",
              "3     기쁨     신이 난  재취업이 돼서 받게 된 첫 월급으로 온 가족이 외식을 할 예정이야 너무 행복해      1\n",
              "4     기쁨       안도                  빚을 드디어 다 갚게 되어서 이제야 안도감이 들어      1"
            ],
            "text/html": [
              "\n",
              "  <div id=\"df-550e51c1-9dc1-4ac5-8f2c-3ef18c97a9f2\">\n",
              "    <div class=\"colab-df-container\">\n",
              "      <div>\n",
              "<style scoped>\n",
              "    .dataframe tbody tr th:only-of-type {\n",
              "        vertical-align: middle;\n",
              "    }\n",
              "\n",
              "    .dataframe tbody tr th {\n",
              "        vertical-align: top;\n",
              "    }\n",
              "\n",
              "    .dataframe thead th {\n",
              "        text-align: right;\n",
              "    }\n",
              "</style>\n",
              "<table border=\"1\" class=\"dataframe\">\n",
              "  <thead>\n",
              "    <tr style=\"text-align: right;\">\n",
              "      <th></th>\n",
              "      <th>감정_대분류</th>\n",
              "      <th>감정_소분류</th>\n",
              "      <th>사람문장1</th>\n",
              "      <th>label</th>\n",
              "    </tr>\n",
              "  </thead>\n",
              "  <tbody>\n",
              "    <tr>\n",
              "      <th>0</th>\n",
              "      <td>기쁨</td>\n",
              "      <td>신이 난</td>\n",
              "      <td>아내가 드디어 출산하게 되어서 정말 신이 나</td>\n",
              "      <td>1</td>\n",
              "    </tr>\n",
              "    <tr>\n",
              "      <th>1</th>\n",
              "      <td>불안</td>\n",
              "      <td>스트레스 받는</td>\n",
              "      <td>당뇨랑 합병증 때문에 먹어야 할 약이 열 가지가 넘어가니까 스트레스야</td>\n",
              "      <td>0</td>\n",
              "    </tr>\n",
              "    <tr>\n",
              "      <th>2</th>\n",
              "      <td>당황</td>\n",
              "      <td>당황</td>\n",
              "      <td>고등학교에 올라오니 중학교 때보다 수업이 갑자기 어려워져서 당황스러워</td>\n",
              "      <td>0</td>\n",
              "    </tr>\n",
              "    <tr>\n",
              "      <th>3</th>\n",
              "      <td>기쁨</td>\n",
              "      <td>신이 난</td>\n",
              "      <td>재취업이 돼서 받게 된 첫 월급으로 온 가족이 외식을 할 예정이야 너무 행복해</td>\n",
              "      <td>1</td>\n",
              "    </tr>\n",
              "    <tr>\n",
              "      <th>4</th>\n",
              "      <td>기쁨</td>\n",
              "      <td>안도</td>\n",
              "      <td>빚을 드디어 다 갚게 되어서 이제야 안도감이 들어</td>\n",
              "      <td>1</td>\n",
              "    </tr>\n",
              "  </tbody>\n",
              "</table>\n",
              "</div>\n",
              "      <button class=\"colab-df-convert\" onclick=\"convertToInteractive('df-550e51c1-9dc1-4ac5-8f2c-3ef18c97a9f2')\"\n",
              "              title=\"Convert this dataframe to an interactive table.\"\n",
              "              style=\"display:none;\">\n",
              "        \n",
              "  <svg xmlns=\"http://www.w3.org/2000/svg\" height=\"24px\"viewBox=\"0 0 24 24\"\n",
              "       width=\"24px\">\n",
              "    <path d=\"M0 0h24v24H0V0z\" fill=\"none\"/>\n",
              "    <path d=\"M18.56 5.44l.94 2.06.94-2.06 2.06-.94-2.06-.94-.94-2.06-.94 2.06-2.06.94zm-11 1L8.5 8.5l.94-2.06 2.06-.94-2.06-.94L8.5 2.5l-.94 2.06-2.06.94zm10 10l.94 2.06.94-2.06 2.06-.94-2.06-.94-.94-2.06-.94 2.06-2.06.94z\"/><path d=\"M17.41 7.96l-1.37-1.37c-.4-.4-.92-.59-1.43-.59-.52 0-1.04.2-1.43.59L10.3 9.45l-7.72 7.72c-.78.78-.78 2.05 0 2.83L4 21.41c.39.39.9.59 1.41.59.51 0 1.02-.2 1.41-.59l7.78-7.78 2.81-2.81c.8-.78.8-2.07 0-2.86zM5.41 20L4 18.59l7.72-7.72 1.47 1.35L5.41 20z\"/>\n",
              "  </svg>\n",
              "      </button>\n",
              "      \n",
              "  <style>\n",
              "    .colab-df-container {\n",
              "      display:flex;\n",
              "      flex-wrap:wrap;\n",
              "      gap: 12px;\n",
              "    }\n",
              "\n",
              "    .colab-df-convert {\n",
              "      background-color: #E8F0FE;\n",
              "      border: none;\n",
              "      border-radius: 50%;\n",
              "      cursor: pointer;\n",
              "      display: none;\n",
              "      fill: #1967D2;\n",
              "      height: 32px;\n",
              "      padding: 0 0 0 0;\n",
              "      width: 32px;\n",
              "    }\n",
              "\n",
              "    .colab-df-convert:hover {\n",
              "      background-color: #E2EBFA;\n",
              "      box-shadow: 0px 1px 2px rgba(60, 64, 67, 0.3), 0px 1px 3px 1px rgba(60, 64, 67, 0.15);\n",
              "      fill: #174EA6;\n",
              "    }\n",
              "\n",
              "    [theme=dark] .colab-df-convert {\n",
              "      background-color: #3B4455;\n",
              "      fill: #D2E3FC;\n",
              "    }\n",
              "\n",
              "    [theme=dark] .colab-df-convert:hover {\n",
              "      background-color: #434B5C;\n",
              "      box-shadow: 0px 1px 3px 1px rgba(0, 0, 0, 0.15);\n",
              "      filter: drop-shadow(0px 1px 2px rgba(0, 0, 0, 0.3));\n",
              "      fill: #FFFFFF;\n",
              "    }\n",
              "  </style>\n",
              "\n",
              "      <script>\n",
              "        const buttonEl =\n",
              "          document.querySelector('#df-550e51c1-9dc1-4ac5-8f2c-3ef18c97a9f2 button.colab-df-convert');\n",
              "        buttonEl.style.display =\n",
              "          google.colab.kernel.accessAllowed ? 'block' : 'none';\n",
              "\n",
              "        async function convertToInteractive(key) {\n",
              "          const element = document.querySelector('#df-550e51c1-9dc1-4ac5-8f2c-3ef18c97a9f2');\n",
              "          const dataTable =\n",
              "            await google.colab.kernel.invokeFunction('convertToInteractive',\n",
              "                                                     [key], {});\n",
              "          if (!dataTable) return;\n",
              "\n",
              "          const docLinkHtml = 'Like what you see? Visit the ' +\n",
              "            '<a target=\"_blank\" href=https://colab.research.google.com/notebooks/data_table.ipynb>data table notebook</a>'\n",
              "            + ' to learn more about interactive tables.';\n",
              "          element.innerHTML = '';\n",
              "          dataTable['output_type'] = 'display_data';\n",
              "          await google.colab.output.renderOutput(dataTable, element);\n",
              "          const docLink = document.createElement('div');\n",
              "          docLink.innerHTML = docLinkHtml;\n",
              "          element.appendChild(docLink);\n",
              "        }\n",
              "      </script>\n",
              "    </div>\n",
              "  </div>\n",
              "  "
            ]
          },
          "metadata": {},
          "execution_count": 39
        }
      ],
      "source": [
        "train_data[:5]"
      ]
    },
    {
      "cell_type": "code",
      "execution_count": 40,
      "metadata": {
        "colab": {
          "base_uri": "https://localhost:8080/"
        },
        "id": "bVEyYjU1hyou",
        "outputId": "9b16d470-9375-47dd-86a9-de0b60a2ea29"
      },
      "outputs": [
        {
          "output_type": "stream",
          "name": "stdout",
          "text": [
            "감정_대분류    0\n",
            "감정_소분류    0\n",
            "사람문장1     0\n",
            "label     0\n",
            "dtype: int64\n"
          ]
        },
        {
          "output_type": "stream",
          "name": "stderr",
          "text": [
            "/usr/local/lib/python3.7/dist-packages/ipykernel_launcher.py:1: FutureWarning: The default value of regex will change from True to False in a future version.\n",
            "  \"\"\"Entry point for launching an IPython kernel.\n"
          ]
        }
      ],
      "source": [
        "test_data['사람문장1'] = test_data['사람문장1'].str.replace('^ +', \"\") # white space 데이터를 empty value로 변경\n",
        "test_data['사람문장1'].replace('', np.nan, inplace=True)\n",
        "\n",
        "print(train_data.isnull().sum())"
      ]
    },
    {
      "cell_type": "code",
      "execution_count": 41,
      "metadata": {
        "id": "T_rkDlUjiBR1"
      },
      "outputs": [],
      "source": [
        "stopwords = ['의','가','이','은','들','는','좀','잘','걍','과','도','를','으로','자','에','와','한','하다','이']"
      ]
    },
    {
      "cell_type": "code",
      "execution_count": 42,
      "metadata": {
        "colab": {
          "base_uri": "https://localhost:8080/"
        },
        "id": "fKC1oFuEiDmN",
        "outputId": "0bebb708-f450-4cae-c801-d43a7a3d6196"
      },
      "outputs": [
        {
          "output_type": "execute_result",
          "data": {
            "text/plain": [
              "['은행',\n",
              " '대출',\n",
              " '이',\n",
              " '막히다',\n",
              " '생활비',\n",
              " '를',\n",
              " '구',\n",
              " '하다',\n",
              " '수가',\n",
              " '없다',\n",
              " '이제',\n",
              " '어떻다',\n",
              " '살다',\n",
              " '하나',\n",
              " '막막하다']"
            ]
          },
          "metadata": {},
          "execution_count": 42
        }
      ],
      "source": [
        "okt = Okt()\n",
        "okt.morphs('은행 대출이 막혀서 생활비를 구할 수가 없어 이제 어떻게 살아야 하나 막막해', stem = True)"
      ]
    },
    {
      "cell_type": "code",
      "execution_count": 43,
      "metadata": {
        "colab": {
          "base_uri": "https://localhost:8080/"
        },
        "id": "rWhp2EM1iE1u",
        "outputId": "7bac09e3-1953-4fdd-bcdf-59df87672774"
      },
      "outputs": [
        {
          "output_type": "stream",
          "name": "stderr",
          "text": [
            "100%|██████████| 78288/78288 [01:53<00:00, 687.80it/s]\n"
          ]
        }
      ],
      "source": [
        "X_train = []\n",
        "for sentence in tqdm(train_data['사람문장1']):\n",
        "    tokenized_sentence = okt.morphs(sentence, stem=True) # 토큰화\n",
        "    stopwords_removed_sentence = [word for word in tokenized_sentence if not word in stopwords] # 불용어 제거\n",
        "    X_train.append(stopwords_removed_sentence)"
      ]
    },
    {
      "cell_type": "code",
      "source": [
        "print(len(train_data['사람문장1']))\n",
        "print(len(train_data['label']))"
      ],
      "metadata": {
        "colab": {
          "base_uri": "https://localhost:8080/"
        },
        "id": "1oaNjeydcZh1",
        "outputId": "f35a34a3-0b5c-4d43-cff9-fc2f7ce60b45"
      },
      "execution_count": 44,
      "outputs": [
        {
          "output_type": "stream",
          "name": "stdout",
          "text": [
            "78288\n",
            "78288\n"
          ]
        }
      ]
    },
    {
      "cell_type": "code",
      "execution_count": 45,
      "metadata": {
        "colab": {
          "base_uri": "https://localhost:8080/"
        },
        "id": "ORZRwgXmkuW_",
        "outputId": "760a030a-5602-4bf0-fedf-ef19427986f3"
      },
      "outputs": [
        {
          "output_type": "stream",
          "name": "stderr",
          "text": [
            "100%|██████████| 10199/10199 [00:14<00:00, 695.64it/s]\n"
          ]
        }
      ],
      "source": [
        "X_test = []\n",
        "for sentence in tqdm(test_data['사람문장1']):\n",
        "    tokenized_sentence = okt.morphs(sentence, stem=True) # 토큰화\n",
        "    stopwords_removed_sentence = [word for word in tokenized_sentence if not word in stopwords] # 불용어 제거\n",
        "    X_test.append(stopwords_removed_sentence)"
      ]
    },
    {
      "cell_type": "code",
      "execution_count": 46,
      "metadata": {
        "id": "D7C5IQH-lKGD"
      },
      "outputs": [],
      "source": [
        "tokenizer = Tokenizer()\n",
        "tokenizer.fit_on_texts(X_train)"
      ]
    },
    {
      "cell_type": "code",
      "execution_count": 47,
      "metadata": {
        "colab": {
          "base_uri": "https://localhost:8080/"
        },
        "id": "dp-HvvfTlMzw",
        "outputId": "adca4c83-ecf7-414a-e454-fa3f80c74b45"
      },
      "outputs": [
        {
          "output_type": "stream",
          "name": "stdout",
          "text": [
            "{'을': 1, '내': 2, '나': 3, '너무': 4, '있다': 5, '것': 6, '같다': 7, '친구': 8, '없다': 9, '보다': 10, '안': 11, '않다': 12, '되다': 13, '좋다': 14, '못': 15, '에서': 16, '이야': 17, '말': 18, '싶다': 19, '만': 20, '사람': 21, '들다': 22, '받다': 23, '생각': 24, '모르다': 25, '에게': 26, '게': 27, '돼다': 28, '더': 29, '돈': 30, '정말': 31, '일': 32, '자다': 33, '수': 34, '나다': 35, '걱정': 36, '하고': 37, '그렇다': 38, '회사': 39, '다': 40, '로': 41, '많이': 42, '힘들다': 43, '한테': 44, '때': 45, '고': 46, '가다': 47, '어떻다': 48, '나르다': 49, '거': 50, '요즘': 51, '아니다': 52, '마음': 53, '때문': 54, '오늘': 55, '아내': 56, '그': 57, '해': 58, '스럽다': 59, '남편': 60, '응': 61, '결혼': 62, '우리': 63, '기분': 64, '많다': 65, '야': 66, '화가': 67, '아프다': 68, '이번': 69, '적': 70, '먹다': 71, '오다': 72, '슬프다': 73, '집': 74, '이제': 75, '준비': 76, '나이': 77, '나오다': 78, '인데': 79, '왜': 80, '주다': 81, '직장': 82, '라고': 83, '아들': 84, '일이': 85, '지금': 86, '맞다': 87, '엄마': 88, '다른': 89, '건강': 90, '가족': 91, '난': 92, '불안하다': 93, '되어다': 94, '랑': 95, '자식': 96, '부모님': 97, '걸': 98, '자꾸': 99, '까지': 100, '병원': 101, '날': 102, '혼자': 103, '아이': 104, '해주다': 105, '거야': 106, '당황': 107, '속상하다': 108, '고민': 109, '공부': 110, '알다': 111, '취업': 112, '인': 113, '열심히': 114, '당하다': 115, '다니다': 116, '시간': 117, '기쁘다': 118, '계속': 119, '이다': 120, '아무': 121, '전': 122, '학교': 123, '같이': 124, '몸': 125, '만나다': 126, '내다': 127, '노후': 128, '살다': 129, '줄': 130, '싫다': 131, '서': 132, '앞': 133, '딸': 134, '크다': 135, '이렇게': 136, '짜증': 137, '스트레스': 138, '연락': 139, '보고': 140, '생기다': 141, '버리다': 142, '갑자기': 143, '하나': 144, '업무': 145, '은퇴': 146, '얘기': 147, '이렇다': 148, '애': 149, '알': 150, '아직': 151, '부터': 152, '에는': 153, '성적': 154, '그래서': 155, '아빠': 156, '살': 157, '우울하다': 158, '믿다': 159, '떨어지다': 160, '친하다': 161, '선생님': 162, '상사': 163, '건': 164, '이야기': 165, '뭐': 166, '남자친구': 167, '죽다': 168, '항상': 169, '좋아하다': 170, '문제': 171, '나가다': 172, '시험': 173, '어제': 174, '운동': 175, '자기': 176, '어렵다': 177, '건강하다': 178, '없이': 179, '비': 180, '마다': 181, '걸다': 182, '싸우다': 183, '그냥': 184, '해보다': 185, '상처': 186, '이랑': 187, '번': 188, '걸리다': 189, '직원': 190, '년': 191, '에도': 192, '님': 193, '생활': 194, '모으다': 195, '위해': 196, '매일': 197, '두렵다': 198, '사실': 199, '차다': 200, '지내다': 201, '대화': 202, '대해': 203, '얼마': 204, '지': 205, '수가': 206, '자신': 207, '곳': 208, '동료': 209, '괴롭히다': 210, '후': 211, '이라': 212, '미안하다': 213, '두다': 214, '께': 215, '그렇게': 216, '억울하다': 217, '감': 218, '술': 219, '조금': 220, '동생': 221, '상황': 222, '하': 223, '신경': 224, '주변': 225, '챙기다': 226, '시키다': 227, '괴롭다': 228, '중이': 229, '잘못': 230, '또': 231, '모두': 232, '면접': 233, '다행': 234, '보내다': 235, '후회': 236, '여자': 237, '혼란': 238, '대학': 239, '병': 240, '보이다': 241, '노력': 242, '나서다': 243, '한심하다': 244, '팀': 245, '남자': 246, '쓰다': 247, '눈물': 248, '라': 249, '새롭다': 250, '치료': 251, '여자친구': 252, '무섭다': 253, '중': 254, '힘드다': 255, '부끄럽다': 256, '텐데': 257, '해도': 258, '쉬다': 259, '건지다': 260, '그런데': 261, '처럼': 262, '달라': 263, '어리다': 264, '결과': 265, '느낌': 266, '연애': 267, '면': 268, '이나': 269, '그래도': 270, '따돌림': 271, '처음': 272, '무시': 273, '남': 274, '니까': 275, '젊다': 276, '데': 277, '수술': 278, '느끼다': 279, '다시': 280, '세상': 281, '느껴지다': 282, '무슨': 283, '관리': 284, '몇': 285, '화': 286, '지다': 287, '충격': 288, '배신': 289, '실수': 290, '모습': 291, '고맙다': 292, '반': 293, '시작': 294, '빨리': 295, '그동안': 296, '아주': 297, '빌리다': 298, '바쁘다': 299, '예전': 300, '내일': 301, '먼저': 302, '답답하다': 303, '갈다': 304, '가지': 305, '듣다': 306, '도와주다': 307, '편하다': 308, '자주': 309, '진짜': 310, '원하다': 311, '함께': 312, '정도': 313, '의사': 314, '여행': 315, '나쁘다': 316, '행복하다': 317, '이유': 318, '네': 319, '도움': 320, '들어가다': 321, '언니': 322, '좋아지다': 323, '말다': 324, '점점': 325, '하지만': 326, '코로나': 327, '물어보다': 328, '써다': 329, '이라고': 330, '약': 331, '꼭': 332, '남다': 333, '놀다': 334, '들어서다': 335, '사이': 336, '진로': 337, '고생': 338, '평소': 339, '이해': 340, '암': 341, '달': 342, '밥': 343, '벌써': 344, '감사하다': 345, '하니': 346, '볼': 347, '오래': 348, '들어오다': 349, '늦다': 350, '오랜': 351, '심하다': 352, '외로워': 353, '이상': 354, '제대로': 355, '떠나다': 356, '합격': 357, '언제': 358, '얼마나': 359, '투자': 360, '밖에': 361, '승진': 362, '서로': 363, '키우다': 364, '사다': 365, '근데': 366, '동기': 367, '뒤': 368, '별로': 369, '관심': 370, '엔': 371, '젠': 372, '부족하다': 373, '귀찮다': 374, '찾다': 375, '전화': 376, '실망': 377, '프로젝트': 378, '어떡하다': 379, '인지': 380, '아직도': 381, '필요하다': 382, '뭘': 383, '선물': 384, '제일': 385, '자금': 386, '모임': 387, '그만두다': 388, '드디어': 389, '다음': 390, '놓다': 391, '관계': 392, '질투': 393, '괜찮다': 394, '노인': 395, '재정': 396, '보': 397, '이르다': 398, '곧': 399, '오르다': 400, '질환': 401, '늙다': 402, '라도': 403, '편안하다': 404, '원': 405, '할머니': 406, '간': 407, '막막하다': 408, '이혼': 409, '이라도': 410, '모든': 411, '가기': 412, '사랑': 413, '약속': 414, '눈치': 415, '사업': 416, '매번': 417, '벌다': 418, '동안': 419, '만들다': 420, '중요하다': 421, '상태': 422, '입원': 423, '바람': 424, '늘': 425, '기도': 426, '주식': 427, '불편하다': 428, '소리': 429, '얼굴': 430, '초조하다': 431, '일도': 432, '조심스럽다': 433, '이지': 434, '인정': 435, '가게': 436, '건데': 437, '사귀다': 438, '사': 439, '성가시다': 440, '하루': 441, '음식': 442, '크게': 443, '감정': 444, '라는': 445, '가장': 446, '따돌리다': 447, '행동': 448, '출산': 449, '용돈': 450, '사고': 451, '준': 452, '두': 453, '꿈': 454, '인생': 455, '척': 456, '지원': 457, '수도': 458, '요새': 459, '김': 460, '부장': 461, '부서': 462, '노': 463, '아': 464, '기다리다': 465, '힘': 466, '외롭다': 467, '사장': 468, '방법': 469, '건강검진': 470, '머리': 471, '보기': 472, '퇴직': 473, '아무래도': 474, '취직': 475, '형': 476, '최근': 477, '잔소리': 478, '생일': 479, '그게': 480, '무엇': 481, '퇴근': 482, '뿐': 483, '온': 484, '짜증나다': 485, '주': 486, '대한': 487, '화나다': 488, '야근': 489, '둘': 490, '회의': 491, '이상하다': 492, '께서': 493, '갚다': 494, '자리': 495, '헤어지다': 496, '해결': 497, '성': 498, '거짓말': 499, '대로': 500, '빠지다': 501, '낳다': 502, '당뇨': 503, '선배': 504, '옆': 505, '출근': 506, '치다': 507, '대다': 508, '입사': 509, '저': 510, '몰래': 511, '평생': 512, '손': 513, '비교': 514, '싫어하다': 515, '넘다': 516, '구역질': 517, '아무리': 518, '이고': 519, '씨': 520, '놀라다': 521, '전혀': 522, '끝나다': 523, '대': 524, '맡다': 525, '실망하다': 526, '구': 527, '여서': 528, '며칠': 529, '가난하다': 530, '사과': 531, '에서는': 532, '분': 533, '계획': 534, '당혹스럽다': 535, '명': 536, '끊다': 537, '주말': 538, '당': 539, '늘다': 540, '뭐라다': 541, '돌아가다': 542, '아침': 543, '피우다': 544, '혼나다': 545, '상담': 546, '높다': 547, '서운하다': 548, '결국': 549, '여유': 550, '괜히': 551, '경제': 552, '부부': 553, '만큼': 554, '옷': 555, '적다': 556, '임신': 557, '엄청': 558, '부럽다': 559, '지치다': 560, '담배': 561, '옆집': 562, '발표': 563, '어디': 564, '욕': 565, '처리': 566, '인사': 567, '삶': 568, '알아보다': 569, '죄책감': 570, '없어지다': 571, '월급': 572, '학원': 573, '눈': 574, '손자': 575, '애가': 576, '쓸다': 577, '학교폭력': 578, '거지': 579, '성격': 580, '갖다': 581, '라서': 582, '보험': 583, '고립': 584, '다녀오다': 585, '기': 586, '하라': 587, '재산': 588, '드리다': 589, '때리다': 590, '쓰이다': 591, '누구': 592, '큰일': 593, '빼다': 594, '위': 595, '방': 596, '결혼식': 597, '혹시': 598, '소식': 599, '포기': 600, '솔직하다': 601, '입다': 602, '검진': 603, '따르다': 604, '주지': 605, '당장': 606, '스스로': 607, '에만': 608, '거절': 609, '여러': 610, '혐오': 611, '이라는': 612, '비싸다': 613, '끼리': 614, '째': 615, '찾아오다': 616, '심해지다': 617, '한다는': 618, '오해': 619, '피곤하다': 620, '잃다': 621, '많아지다': 622, '의견': 623, '속': 624, '서다': 625, '능력': 626, '점수': 627, '애인': 628, '매우': 629, '아기': 630, '희생': 631, '으로는': 632, '해고': 633, '가야': 634, '자녀': 635, '누나': 636, '덕분': 637, '바로': 638, '잠': 639, '즐겁다': 640, '씩': 641, '서럽다': 642, '다치다': 643, '연금': 644, '검사': 645, '나누다': 646, '어쩔': 647, '성공하다': 648, '가끔': 649, '신나다': 650, '꾸준하다': 651, '삼': 652, '가지다': 653, '좌절': 654, '대학교': 655, '올해': 656, '사정': 657, '물건': 658, '예쁘다': 659, '미리': 660, '길': 661, '당연하다': 662, '차': 663, '환멸': 664, '집안': 665, '폭력': 666, '거들다': 667, '맨날': 668, '울다': 669, '사기': 670, '아버지': 671, '다투다': 672, '만족스럽다': 673, '시선': 674, '지만': 675, '마비': 676, '빚': 677, '오랫동안': 678, '가해자': 679, '그걸': 680, '다가오다': 681, '으로도': 682, '가면': 683, '죽음': 684, '아끼다': 685, '급하다': 686, '자랑': 687, '작다': 688, '후배': 689, '들어주다': 690, '신뢰': 691, '이네': 692, '열': 693, '형편': 694, '배우다': 695, '영': 696, '집중': 697, '부담': 698, '저축': 699, '기억': 700, '정신': 701, '장님': 702, '졸업': 703, '미치다': 704, '일찍': 705, '허리': 706, '세': 707, '원래': 708, '치매': 709, '이후': 710, '멀어지다': 711, '동네': 712, '오빠': 713, '뭔가': 714, '수업': 715, '생활비': 716, '어쩌지': 717, '괴롭힘': 718, '만날': 719, '버려진': 720, '대출': 721, '결정': 722, '신입': 723, '칭찬': 724, '대인관계': 725, '열등감': 726, '해오다': 727, '소문': 728, '친해지다': 729, '진행': 730, '어울리다': 731, '쓰러지다': 732, '과장': 733, '일어나다': 734, '걱정스럽다': 735, '이직': 736, '반대': 737, '퇴사': 738, '지인': 739, '저번': 740, '배': 741, '걔': 742, '주위': 743, '참다': 744, '고등학교': 745, '바꾸다': 746, '다행하다': 747, '지키다': 748, '나중': 749, '오': 750, '직업': 751, '부모': 752, '그것': 753, '점': 754, '살이': 755, '뜨다': 756, '다르다': 757, '십': 758, '든': 759, '불다': 760, '느긋하다': 761, '밤': 762, '별': 763, '오지': 764, '이사': 765, '선택': 766, '회식': 767, '에서도': 768, '자고': 769, '나아지다': 770, '들이다': 771, '등산': 772, '넣다': 773, '본인': 774, '나빠지다': 775, '인가': 776, '올리다': 777, '일단': 778, '사주다': 779, '게임': 780, '부분': 781, '신고': 782, '풀다': 783, '죽': 784, '편': 785, '일만': 786, '산': 787, '력': 788, '나니': 789, '부탁': 790, '기대': 791, '생기': 792, '니': 793, '순간': 794, '드': 795, '뻔하다': 796, '막상': 797, '편이': 798, '피해': 799, '보이': 800, '맛있다': 801, '고혈압': 802, '통': 803, '분위기': 804, '그만': 805, '퇴직금': 806, '거리': 807, '우울증': 808, '그때': 809, '잡다': 810, '이미': 811, '살아오다': 812, '등': 813, '집안일': 814, '일부러': 815, '긴장': 816, '말씀': 817, '어머니': 818, '끝': 819, '박': 820, '비통하다': 821, '휴가': 822, '제': 823, '오히려': 824, '의지': 825, '진단': 826, '미래': 827, '마련': 828, '쉬': 829, '누가': 830, '저녁': 831, '낮다': 832, '정리': 833, '신': 834, '고백': 835, '실패하다': 836, '왕따': 837, '이기다': 838, '가보다': 839, '돌보다': 840, '타다': 841, '탓': 842, '대신': 843, '말씀드리다': 844, '외': 845, '축하': 846, '이라서': 847, '일자리': 848, '위로': 849, '퇴원': 850, '미루다': 851, '도대체': 852, '체력': 853, '떨리다': 854, '거의': 855, '비다': 856, '가정': 857, '붙다': 858, '정': 859, '어느': 860, '분명': 861, '피하': 862, '얻다': 863, '창피하다': 864, '맞추다': 865, '전부': 866, '소개': 867, '땐': 868, '무릎': 869, '서류': 870, '며느리': 871, '부르다': 872, '이래': 873, '연봉': 874, '수치': 875, '살아가다': 876, '지나다': 877, '기회': 878, '부하': 879, '태도': 880, '정년': 881, '망하다': 882, '새': 883, '과의': 884, '아무렇다': 885, '다리': 886, '끄다': 887, '해봤다': 888, '사라지다': 889, '유지': 890, '털다': 891, '인하다': 892, '강요': 893, '혈압': 894, '에게도': 895, '자신감': 896, '첫': 897, '돌리다': 898, '속이다': 899, '가입': 900, '태어나다': 901, '대하': 902, '돌아오다': 903, '스러운': 904, '즐기다': 905, '말고': 906, '사람과': 907, '나름': 908, '들키다': 909, '무척': 910, '장': 911, '런가': 912, '기간': 913, '현실': 914, '상': 915, '안되다': 916, '험담': 917, '마시다': 918, '시기': 919, '문': 920, '그리고': 921, '쓸쓸하다': 922, '글쎄': 923, '놀리다': 924, '훨씬': 925, '실적': 926, '남지': 927, '필요': 928, '바뀌다': 929, '겪다': 930, '친척': 931, '후회되다': 932, '한번': 933, '교통사고': 934, '웃다': 935, '낼': 936, '만난': 937, '이지만': 938, '안달': 939, '롭고': 940, '확인': 941, '대답': 942, '넘기다': 943, '래': 944, '기다': 945, '짐': 946, '직접': 947, '계약': 948, '손주': 949, '통보': 950, '관련': 951, '적금': 952, '효과': 953, '섭섭하다': 954, '갱년기': 955, '일로': 956, '아르바이트': 957, '건가': 958, '밖': 959, '일주일': 960, '과제': 961, '잊다': 962, '의식': 963, '한데': 964, '쳐다보다': 965, '부리다': 966, '취미': 967, '요구': 968, '에게는': 969, '더욱': 970, '망치다': 971, '취급': 972, '바라다': 973, '어이': 974, '누군가': 975, '의심': 976, '황당하다': 977, '보다는': 978, '변하다': 979, '가슴': 980, '팀원': 981, '양제': 982, '예민하다': 983, '이어서': 984, '여기저기': 985, '엄청나다': 986, '하자': 987, '시': 988, '살기': 989, '사회': 990, '관': 991, '청소': 992, '뿌듯하다': 993, '탈락': 994, '내년': 995, '흥분': 996, '종일': 997, '맡기다': 998, '미우다': 999, '꺼내다': 1000, '겠다': 1001, '앉다': 1002, '근무': 1003, '은행': 1004, '질문': 1005, '간다': 1006, '숙제': 1007, '허무하다': 1008, '학생': 1009, '혼내다': 1010, '전학': 1011, '스럽게': 1012, '병문안': 1013, '놈': 1014, '막': 1015, '완전': 1016, '지르다': 1017, '자격증': 1018, '부동산': 1019, '집다': 1020, '어': 1021, '취소': 1022, '충분하다': 1023, '요양원': 1024, '식사': 1025, '기대하다': 1026, '사춘기': 1027, '명절': 1028, '아깝다': 1029, '똑같다': 1030, '동창': 1031, '표현': 1032, '식': 1033, '공무원': 1034, '안정': 1035, '밀리다': 1036, '치고': 1037, '통해': 1038, '성과': 1039, '한두': 1040, '녀석': 1041, '수학': 1042, '작년': 1043, '잃어버리다': 1044, '이십': 1045, '초라하다': 1046, '화해': 1047, '따로': 1048, '의미': 1049, '드니': 1050, '진학': 1051, '꽤': 1052, '여기': 1053, '찌다': 1054, '죄송하다': 1055, '응원': 1056, '개': 1057, '가버리다': 1058, '비슷하다': 1059, '소개팅': 1060, '풀리다': 1061, '이라니': 1062, '조차': 1063, '끝내다': 1064, '상대': 1065, '분명하다': 1066, '차라리': 1067, '부담스럽다': 1068, '전공': 1069, '통장': 1070, '아쉽다': 1071, '따다': 1072, '악화': 1073, '산책': 1074, '려고': 1075, '만성': 1076, '사원': 1077, '옮기다': 1078, '일해': 1079, '에게만': 1080, '값': 1081, '상의': 1082, '찾아보다': 1083, '당첨': 1084, '조절': 1085, '해내다': 1086, '하루하루': 1087, '반응': 1088, '이면': 1089, '안심': 1090, '날다': 1091, '특별하다': 1092, '보지': 1093, '마지막': 1094, '금방': 1095, '맘': 1096, '대리': 1097, '가져가다': 1098, '쪽': 1099, '조': 1100, '친절하다': 1101, '수입': 1102, '동호회': 1103, '장난': 1104, '멀리': 1105, '유산': 1106, '조용하다': 1107, '전화하다': 1108, '줄이다': 1109, '덜': 1110, '그러니까': 1111, '판정': 1112, '와이프': 1113, '화장실': 1114, '은근': 1115, '듯': 1116, '앞두다': 1117, '눕다': 1118, '믿음': 1119, '완치': 1120, '줄다': 1121, '냄새': 1122, '앓다': 1123, '채': 1124, '활동': 1125, '겨우': 1126, '데이트': 1127, '계시다': 1128, '아파트': 1129, '손해': 1130, '제출': 1131, '지나가다': 1132, '일등': 1133, '자료': 1134, '노래': 1135, '물': 1136, '최종': 1137, '며': 1138, '갑작스럽다': 1139, '취약': 1140, '관절염': 1141, '사소하다': 1142, '굉장하다': 1143, '노년': 1144, '로는': 1145, '비용': 1146, '평가': 1147, '쌓이다': 1148, '넘어가다': 1149, '시절': 1150, '적성': 1151, '이루다': 1152, '소외': 1153, '신입사원': 1154, '뺏다': 1155, '기업': 1156, '추천': 1157, '비밀': 1158, '이대로': 1159, '마치': 1160, '가깝다': 1161, '커서': 1162, '우선': 1163, '대기업': 1164, '대비': 1165, '유학': 1166, '배려': 1167, '보고서': 1168, '살리다': 1169, '암치료': 1170, '보여주다': 1171, '소홀하다': 1172, '내용': 1173, '진지하다': 1174, '조언': 1175, '경험': 1176, '확실하다': 1177, '히': 1178, '마음대로': 1179, '항': 1180, '싫어지다': 1181, '소중하다': 1182, '책': 1183, '장례식': 1184, '삼십': 1185, '쯤': 1186, '대체': 1187, '사용': 1188, '반복': 1189, '싸움': 1190, '궁금하다': 1191, '겁': 1192, '절대': 1193, '인간관계': 1194, '만에': 1195, '알아주다': 1196, '착하다': 1197, '완전하다': 1198, '잖다': 1199, '버티다': 1200, '경력': 1201, '막히다': 1202, '당한': 1203, '지각': 1204, '한마디': 1205, '딸아이': 1206, '틀리다': 1207, '월세': 1208, '진심': 1209, '사진': 1210, '식단': 1211, '답': 1212, '고치다': 1213, '문자': 1214, '냐': 1215, '무조건': 1216, '영어': 1217, '그녀': 1218, '든든하다': 1219, '요청': 1220, '핸드폰': 1221, '벗어나다': 1222, '약하다': 1223, '지도': 1224, '자꾸만': 1225, '어려워지다': 1226, '컴퓨터': 1227, '발령': 1228, '생각나다': 1229, '깨다': 1230, '부정': 1231, '물리다': 1232, '악의': 1233, '중년': 1234, '그리다': 1235, '시어머니': 1236, '개인': 1237, '묻다': 1238, '땅': 1239, '안도': 1240, '거래': 1241, '차리다': 1242, '숨기다': 1243, '와의': 1244, '오십': 1245, '잦다': 1246, '잡히다': 1247, '장이': 1248, '경우': 1249, '무리': 1250, '습관': 1251, '감기': 1252, '줄어들다': 1253, '뽑다': 1254, '조심하다': 1255, '차이': 1256, '벌': 1257, '아이디어': 1258, '의욕': 1259, '커피': 1260, '감당': 1261, '장사': 1262, '권유': 1263, '넉넉하다': 1264, '육아': 1265, '이름': 1266, '어쩌면': 1267, '다가가다': 1268, '역시': 1269, '조급하다': 1270, '일인': 1271, '영감': 1272, '백': 1273, '지방': 1274, '불쌍하다': 1275, '세우다': 1276, '마무리': 1277, '정보': 1278, '견디다': 1279, '훔치다': 1280, '헤어지자': 1281, '곁': 1282, '재미': 1283, '얼른': 1284, '안좋다': 1285, '팔': 1286, '달라지다': 1287, '갈수록': 1288, '라니': 1289, '집사람': 1290, '옛날': 1291, '폐암': 1292, '허락': 1293, '점심': 1294, '비참하다': 1295, '잘해주다': 1296, '도저히': 1297, '교육': 1298, '곳도': 1299, '짓': 1300, '거래처': 1301, '어찌': 1302, '넘어지다': 1303, '영화': 1304, '뒷바라지': 1305, '재미있다': 1306, '언젠가': 1307, '굳다': 1308, '개월': 1309, '올라서다': 1310, '마주치다': 1311, '뉴스': 1312, '잠도': 1313, '너무나': 1314, '자체': 1315, '직': 1316, '불만': 1317, '수능': 1318, '공': 1319, '지경': 1320, '커지다': 1321, '니깐': 1322, '이전': 1323, '시댁': 1324, '지갑': 1325, '받아들이다': 1326, '어이없다': 1327, '육십': 1328, '남아': 1329, '용기': 1330, '걷다': 1331, '어색하다': 1332, '피': 1333, '멀다': 1334, '발견': 1335, '날아가다': 1336, '거기': 1337, '금액': 1338, '조금씩': 1339, '특히': 1340, '난리': 1341, '담임': 1342, '해외': 1343, '할아버지': 1344, '작성': 1345, '울': 1346, '무리하다': 1347, '보람': 1348, '지병': 1349, '말다툼': 1350, '지시': 1351, '처지다': 1352, '만의': 1353, '상대방': 1354, '내려가다': 1355, '모이다': 1356, '환자': 1357, '읽다': 1358, '낫다': 1359, '정작': 1360, '설명': 1361, '절망': 1362, '지난번': 1363, '그대로': 1364, '간호사': 1365, '여': 1366, '길이': 1367, '가방': 1368, '만이': 1369, '어차피': 1370, '심지어': 1371, '잠깐': 1372, '비웃다': 1373, '여태': 1374, '다시다': 1375, '독립': 1376, '화도': 1377, '바보': 1378, '다이어트': 1379, '시골': 1380, '끊기다': 1381, '제안': 1382, '손녀': 1383, '복잡하다': 1384, '간암': 1385, '출장': 1386, '왠지': 1387, '지적': 1388, '이러다가': 1389, '증상': 1390, '혼': 1391, '최선': 1392, '관절': 1393, '대회': 1394, '잘리다': 1395, '이란': 1396, '라면': 1397, '신랑': 1398, '아예': 1399, '원망': 1400, '통화': 1401, '사무실': 1402, '창피해': 1403, '표정': 1404, '이력서': 1405, '분노': 1406, '저러다': 1407, '물론': 1408, '저렇게': 1409, '지긋지긋하다': 1410, '체중': 1411, '위암': 1412, '심': 1413, '신청': 1414, '최고': 1415, '가볍다': 1416, '버스': 1417, '보태': 1418, '지출': 1419, '달다': 1420, '열다': 1421, '또래': 1422, '되게': 1423, '가르치다': 1424, '움직이다': 1425, '까지는': 1426, '빠르다': 1427, '학업': 1428, '이제야': 1429, '교수': 1430, '천식': 1431, '잘나다': 1432, '정상': 1433, '경찰': 1434, '똑같이': 1435, '외출': 1436, '기르다': 1437, '우연히': 1438, '입': 1439, '손님': 1440, '참고': 1441, '자존심': 1442, '바라보다': 1443, '그러면': 1444, '차별': 1445, '소용': 1446, '책임': 1447, '간섭': 1448, '발': 1449, '채용': 1450, '시도': 1451, '요': 1452, '풀': 1453, '인정받다': 1454, '그렇다고': 1455, '예정': 1456, '내주다': 1457, '말기': 1458, '써주다': 1459, '목표': 1460, '떠오르다': 1461, '여기다': 1462, '참여': 1463, '테': 1464, '보험금': 1465, '어디서': 1466, '성공': 1467, '채다': 1468, '설레다': 1469, '얘': 1470, '심해': 1471, '꼴': 1472, '그렇지만': 1473, '가격': 1474, '치': 1475, '카드': 1476, '과연': 1477, '하래': 1478, '지겹다': 1479, '이용': 1480, '초기': 1481, '마저': 1482, '너무하다': 1483, '가만히': 1484, '부터라도': 1485, '합병증': 1486, '외식': 1487, '적응하다': 1488, '프러포즈': 1489, '외모': 1490, '기침': 1491, '지난': 1492, '민망하다': 1493, '내내': 1494, '찍다': 1495, '심장': 1496, '물다': 1497, '엉망': 1498, '모': 1499, '방어': 1500, '모양': 1501, '날리다': 1502, '식품': 1503, '마을': 1504, '업': 1505, '심각하다': 1506, '가능하다': 1507, '무기': 1508, '이건': 1509, '숨': 1510, '강아지': 1511, '기적': 1512, '늘어나다': 1513, '존재': 1514, '그랬는데': 1515, '멈추다': 1516, '안타깝다': 1517, '함부로': 1518, '밉다': 1519, '보답': 1520, '푼': 1521, '재밌다': 1522, '운전': 1523, '기대다': 1524, '버': 1525, '시대': 1526, '서글프다': 1527, '선': 1528, '시끄럽다': 1529, '금': 1530, '떨다': 1531, '보이지': 1532, '조심': 1533, '간호': 1534, '치우다': 1535, '환갑': 1536, '중간': 1537, '대표': 1538, '조건': 1539, '달이': 1540, '입장': 1541, '실': 1542, '디스크': 1543, '낙담하다': 1544, '군대': 1545, '뛰다': 1546, '무량': 1547, '종종': 1548, '듣기': 1549, '온종일': 1550, '찾아가다': 1551, '과외': 1552, '모자라다': 1553, '한숨': 1554, '게다가': 1555, '영업': 1556, '재촉': 1557, '양': 1558, '달리': 1559, '성적표': 1560, '군데': 1561, '펀드': 1562, '내야': 1563, '내지': 1564, '깊다': 1565, '실력': 1566, '짜다': 1567, '올라가다': 1568, '구해': 1569, '거나': 1570, '역겹다': 1571, '치밀다': 1572, '곤란하다': 1573, '핑계': 1574, '워': 1575, '맛': 1576, '심부름': 1577, '타': 1578, '회복': 1579, '인간': 1580, '심정': 1581, '분야': 1582, '지나치다': 1583, '쉽다': 1584, '사수': 1585, '끼다': 1586, '기운': 1587, '도망가다': 1588, '질병': 1589, '한참': 1590, '이니': 1591, '멀쩡하다': 1592, '불합격': 1593, '당뇨병': 1594, '동아리': 1595, '급여': 1596, '내기': 1597, '책임지다': 1598, '해달라다': 1599, '체육': 1600, '확신': 1601, '경로당': 1602, '소용없다': 1603, '꾸다': 1604, '복지': 1605, '도전': 1606, '탈모': 1607, '세월': 1608, '지켜보다': 1609, '뭔': 1610, '날짜': 1611, '친': 1612, '에겐': 1613, '최': 1614, '명예퇴직': 1615, '인터넷': 1616, '내리다': 1617, '새벽': 1618, '당당하다': 1619, '반장': 1620, '주가': 1621, '대충': 1622, '담당': 1623, '어찌나': 1624, '금연': 1625, '차갑다': 1626, '운영': 1627, '대상': 1628, '야하다': 1629, '예상': 1630, '아마': 1631, '막내': 1632, '짝': 1633, '명품': 1634, '자살': 1635, '말로': 1636, '어서': 1637, '터지다': 1638, '과도': 1639, '한편': 1640, '지는': 1641, '편지': 1642, '면서': 1643, '자존감': 1644, '어른': 1645, '딱하다': 1646, '주사': 1647, '연습': 1648, '지난주': 1649, '경기': 1650, '걷기': 1651, '깜짝': 1652, '집도': 1653, '압박': 1654, '놓치다': 1655, '터': 1656, '단': 1657, '천천히': 1658, '대서': 1659, '학과': 1660, '순': 1661, '육': 1662, '마스크': 1663, '귀': 1664, '무언가': 1665, '슬슬': 1666, '계산': 1667, '타고': 1668, '백수': 1669, '화목': 1670, '대놓고': 1671, '딱': 1672, '로부터': 1673, '티': 1674, '마감': 1675, '뻔': 1676, '이니까': 1677, '진급': 1678, '사람인': 1679, '불우하다': 1680, '와도': 1681, '소': 1682, '에선': 1683, '매달': 1684, '참석': 1685, '방해': 1686, '상상': 1687, '정말로': 1688, '과는': 1689, '센터': 1690, '입학': 1691, '고객': 1692, '무사하다': 1693, '식구': 1694, '여유롭다': 1695, '약해지다': 1696, '기사': 1697, '몹시': 1698, '매': 1699, '기한': 1700, '신체': 1701, '위험하다': 1702, '데려오다': 1703, '원금': 1704, '내버리다': 1705, '각자': 1706, '당분간': 1707, '직무': 1708, '산다': 1709, '처지': 1710, '벌리다': 1711, '약간': 1712, '자전거': 1713, '가라': 1714, '오래되다': 1715, '전환': 1716, '나타나다': 1717, '식당': 1718, '금전': 1719, '자랑스럽다': 1720, '실제': 1721, '사회생활': 1722, '닮다': 1723, '덕': 1724, '온몸': 1725, '희망': 1726, '학기': 1727, '따라가다': 1728, '꺼리다': 1729, '길어지다': 1730, '친정': 1731, '고기': 1732, '이동': 1733, '여전하다': 1734, '매출': 1735, '욕심': 1736, '먹기': 1737, '음악': 1738, '현재': 1739, '든지': 1740, '재': 1741, '처벌': 1742, '위축': 1743, '만족하다': 1744, '요리': 1745, '환경': 1746, '지하철': 1747, '일상': 1748, '병실': 1749, '시장': 1750, '고등학생': 1751, '적응': 1752, '보증': 1753, '헬스장': 1754, '고지혈증': 1755, '잊어버리다': 1756, '단체': 1757, '권': 1758, '신세': 1759, '부쩍': 1760, '무너지다': 1761, '낫': 1762, '닫다': 1763, '반갑다': 1764, '감다': 1765, '이만': 1766, '가져오다': 1767, '내면': 1768, '대가': 1769, '과목': 1770, '기계': 1771, '끼': 1772, '투병': 1773, '양보': 1774, '쓸모없다': 1775, '사서': 1776, '방문': 1777, '잡고': 1778, '파티': 1779, '이웃': 1780, '억지로': 1781, '완벽하다': 1782, '숨다': 1783, '보라': 1784, '성실하다': 1785, '부인': 1786, '흘리다': 1787, '보너스': 1788, '과거': 1789, '전달': 1790, '정기': 1791, '저지르다': 1792, '가까워지다': 1793, '프로그램': 1794, '예의': 1795, '이별': 1796, '피해자': 1797, '기획': 1798, '자라다': 1799, '지지': 1800, '이대': 1801, '텔레비전': 1802, '최대한': 1803, '생': 1804, '마흔': 1805, '공감': 1806, '적극': 1807, '술자리': 1808, '주기': 1809, '놓이다': 1810, '별거': 1811, '데리': 1812, '기술': 1813, '어깨': 1814, '정이': 1815, '정확하다': 1816, '장기': 1817, '걔네': 1818, '나라': 1819, '하늘': 1820, '느리다': 1821, '가난': 1822, '원서': 1823, '신경질': 1824, '회복하다': 1825, '언제나': 1826, '동창회': 1827, '외국': 1828, '차려': 1829, '데리다': 1830, '숨기': 1831, '회장': 1832, '복권': 1833, '가도': 1834, '영향': 1835, '변화': 1836, '비도': 1837, '부자': 1838, '티브이': 1839, '근처': 1840, '멋지다': 1841, '파다': 1842, '추석': 1843, '도박': 1844, '과정': 1845, '방금': 1846, '그만하다': 1847, '동': 1848, '창업': 1849, '의도': 1850, '수익': 1851, '씁쓸하다': 1852, '굳이': 1853, '중학교': 1854, '연': 1855, '고장': 1856, '지속': 1857, '명도': 1858, '까먹다': 1859, '용서': 1860, '소통': 1861, '감동': 1862, '골프': 1863, '정해': 1864, '통증': 1865, '처방': 1866, '복수': 1867, '보상': 1868, '칠': 1869, '겁나다': 1870, '일방': 1871, '안쓰럽다': 1872, '반찬': 1873, '출금': 1874, '죄': 1875, '외톨이': 1876, '확': 1877, '펴다': 1878, '집값': 1879, '고향': 1880, '버릇': 1881, '한잔': 1882, '맞벌이': 1883, '불': 1884, '말리다': 1885, '그건': 1886, '큰아들': 1887, '바르다': 1888, '언': 1889, '토': 1890, '적도': 1891, '재테크': 1892, '기본': 1893, '그저': 1894, '가로': 1895, '한결': 1896, '이식': 1897, '목소리': 1898, '생계': 1899, '입시': 1900, '치르다': 1901, '폭행': 1902, '핀잔': 1903, '등급': 1904, '청년': 1905, '서울': 1906, '마냥': 1907, '물어': 1908, '채우다': 1909, '오라': 1910, '경쟁': 1911, '학교생활': 1912, '유명하다': 1913, '취해': 1914, '부터는': 1915, '공원': 1916, '재발': 1917, '다가': 1918, '잔뜩': 1919, '카페': 1920, '와는': 1921, '존경': 1922, '끔찍하다': 1923, '만약': 1924, '쇼핑': 1925, '그만큼': 1926, '운': 1927, '지역': 1928, '안다': 1929, '체': 1930, '쌓다': 1931, '진료': 1932, '급식': 1933, '자르다': 1934, '상하': 1935, '노트': 1936, '외로움': 1937, '듯이': 1938, '데도': 1939, '주의': 1940, '인원': 1941, '까지도': 1942, '만기': 1943, '미워하다': 1944, '이자': 1945, '항암': 1946, '유일하다': 1947, '회': 1948, '제주도': 1949, '세대': 1950, '도착': 1951, '덥다': 1952, '긍정': 1953, '고통': 1954, '의문': 1955, '여직원': 1956, '그림': 1957, '시달리다': 1958, '적당하다': 1959, '방학': 1960, '돌려주다': 1961, '떠나가다': 1962, '도통': 1963, '고집': 1964, '설득': 1965, '빼': 1966, '식이': 1967, '중간고사': 1968, '예약': 1969, '에서만': 1970, '세다': 1971, '어려움': 1972, '남겨지다': 1973, '난감하다': 1974, '재수': 1975, '으로만': 1976, '상해': 1977, '사내': 1978, '낳을': 1979, '작업': 1980, '내시경': 1981, '불쾌하다': 1982, '등록금': 1983, '치료받다': 1984, '뒤지다': 1985, '해외여행': 1986, '그립다': 1987, '끼치다': 1988, '늦어지다': 1989, '착각': 1990, '놀': 1991, '피다': 1992, '피부': 1993, '무겁다': 1994, '해드리다': 1995, '올라오다': 1996, '인상': 1997, '감사': 1998, '주시': 1999, '키': 2000, '집주인': 2001, '독감': 2002, '존중': 2003, '심심하다': 2004, '부당하다': 2005, '시부모': 2006, '구박': 2007, '목돈': 2008, '학년': 2009, '짧다': 2010, '추억': 2011, '하필': 2012, '로서': 2013, '파혼': 2014, '마누라': 2015, '구매': 2016, '징계': 2017, '까지만': 2018, '날씨': 2019, '원인': 2020, '고통스럽다': 2021, '부': 2022, '망설이다': 2023, '고르다': 2024, '꿈꾸다': 2025, '자세하다': 2026, '세금': 2027, '극복': 2028, '로또': 2029, '새다': 2030, '필기': 2031, '염려': 2032, '시비': 2033, '업체': 2034, '점심시간': 2035, '옳다': 2036, '부도': 2037, '한동안': 2038, '인기': 2039, '대단하다': 2040, '병들다': 2041, '부다': 2042, '먹고살다': 2043, '차도': 2044, '밝다': 2045, '짓다': 2046, '바닥': 2047, '진정': 2048, '서른': 2049, '보다도': 2050, '잘살다': 2051, '놀림': 2052, '쏟다': 2053, '소심하다': 2054, '철': 2055, '먹이다': 2056, '실패': 2057, '만만하다': 2058, '가까이': 2059, '깨': 2060, '그니까': 2061, '접다': 2062, '간단하다': 2063, '망가지다': 2064, '허전하다': 2065, '따뜻하다': 2066, '사사건건': 2067, '잠시': 2068, '살림': 2069, '자괴': 2070, '장소': 2071, '수정': 2072, '만큼은': 2073, '자연': 2074, '동성애자': 2075, '대인': 2076, '후련하다': 2077, '관해': 2078, '서도': 2079, '목격': 2080, '불행하다': 2081, '현장': 2082, '말실수': 2083, '치가': 2084, '일정': 2085, '안부': 2086, '다정하다': 2087, '연예인': 2088, '주어': 2089, '질': 2090, '수군거리다': 2091, '대부분': 2092, '어떻': 2093, '여름': 2094, '하고는': 2095, '재혼': 2096, '이리': 2097, '전체': 2098, '아줌마': 2099, '젊은이': 2100, '만으로도': 2101, '커닝': 2102, '깜빡': 2103, '자시다': 2104, '남기다': 2105, '상품': 2106, '뛰어나다': 2107, '다섯': 2108, '출신': 2109, '움직': 2110, '번째': 2111, '병간호': 2112, '기말고사': 2113, '괘씸하다': 2114, '로만': 2115, '주문': 2116, '막다': 2117, '폐': 2118, '수다': 2119, '단절': 2120, '돌아다니다': 2121, '교실': 2122, '외면': 2123, '보통': 2124, '보단': 2125, '저런': 2126, '풀이': 2127, '신장': 2128, '겉': 2129, '몰다': 2130, '형제': 2131, '코': 2132, '에게서': 2133, '중소기업': 2134, '자산': 2135, '근': 2136, '도둑': 2137, '던지다': 2138, '대학생': 2139, '성인': 2140, '뜻대로': 2141, '이기': 2142, '윗': 2143, '으론': 2144, '법': 2145, '국민연금': 2146, '꼼꼼하다': 2147, '유독': 2148, '도무지': 2149, '신발': 2150, '연차': 2151, '별것': 2152, '철저하다': 2153, '홀로': 2154, '만으로': 2155, '익숙하다': 2156, '메시지': 2157, '배우자': 2158, '행복': 2159, '초대': 2160, '길다': 2161, '유방암': 2162, '초등학교': 2163, '산부인과': 2164, '자마자': 2165, '이틀': 2166, '주인': 2167, '워낙': 2168, '잘생기다': 2169, '청혼': 2170, '별일': 2171, '한순간': 2172, '기특하다': 2173, '비상': 2174, '인턴': 2175, '버려지다': 2176, '사건': 2177, '어머님': 2178, '랑은': 2179, '간질': 2180, '연인': 2181, '격려': 2182, '싸다': 2183, '불공평하다': 2184, '속마음': 2185, '나가야': 2186, '학폭위': 2187, '심란하다': 2188, '권고사직': 2189, '푹': 2190, '결혼기념일': 2191, '스펙': 2192, '교육비': 2193, '달래': 2194, '면목': 2195, '눈앞': 2196, '깎다': 2197, '건물': 2198, '두려움': 2199, '명의': 2200, '계': 2201, '귀가': 2202, '도중': 2203, '수학여행': 2204, '중인': 2205, '이런저런': 2206, '뱃살': 2207, '잔': 2208, '높아지다': 2209, '내려오다': 2210, '얄밉다': 2211, '쭉': 2212, '대접': 2213, '고마움': 2214, '앞날': 2215, '대책': 2216, '실감': 2217, '백만': 2218, '보장': 2219, '전세': 2220, '목': 2221, '열리다': 2222, '골다공증': 2223, '뚱뚱하다': 2224, '내신': 2225, '시력': 2226, '다툼': 2227, '이성': 2228, '버겁다': 2229, '임원': 2230, '너': 2231, '실직': 2232, '조만간': 2233, '정부': 2234, '참견': 2235, '나하': 2236, '방식': 2237, '라네': 2238, '통과': 2239, '낯': 2240, '재능': 2241, '희망이': 2242, '소원': 2243, '주더': 2244, '어쩌다': 2245, '흐르다': 2246, '대처': 2247, '스럽지': 2248, '무능하다': 2249, '비만': 2250, '학점': 2251, '잔치': 2252, '벌이': 2253, '매년': 2254, '고과': 2255, '퇴학': 2256, '허탈하다': 2257, '발생': 2258, '동반': 2259, '머릿속': 2260, '자유롭다': 2261, '부질없다': 2262, '에서의': 2263, '휴대폰': 2264, '조마조마하다': 2265, '돌아보다': 2266, '정규직': 2267, '탈': 2268, '바': 2269, '헷갈리다': 2270, '대학원': 2271, '지기': 2272, '깨어나다': 2273, '둘째': 2274, '좁다': 2275, '들리다': 2276, '상관없다': 2277, '꽃': 2278, '분들': 2279, '트집': 2280, '늦잠': 2281, '중학생': 2282, '바치다': 2283, '마치다': 2284, '드릴': 2285, '속도': 2286, '책상': 2287, '판단': 2288, '장애': 2289, '넘어서다': 2290, '몰리다': 2291, '거울': 2292, '짝사랑': 2293, '방송': 2294, '사표': 2295, '뼈': 2296, '국어': 2297, '요실금': 2298, '종양': 2299, '자부': 2300, '계단': 2301, '휴직': 2302, '사지': 2303, '이민': 2304, '지난달': 2305, '더럽다': 2306, '어젯밤': 2307, '그거': 2308, '백내장': 2309, '벅차다': 2310, '줍다': 2311, '해지': 2312, '전형': 2313, '매사': 2314, '카톡': 2315, '장가': 2316, '차례': 2317, '대들다': 2318, '초': 2319, '웃음': 2320, '덜다': 2321, '요양': 2322, '진작': 2323, '팔다': 2324, '아이돌': 2325, '로라': 2326, '처': 2327, '어쩌나': 2328, '빼놓다': 2329, '유행': 2330, '일과': 2331, '돕다': 2332, '쓰기': 2333, '전염병': 2334, '군': 2335, '이기도': 2336, '치킨': 2337, '알리': 2338, '죄송스럽다': 2339, '나기': 2340, '만을': 2341, '주로': 2342, '애쓰다': 2343, '부러지다': 2344, '우리나라': 2345, '부딪히다': 2346, '총각': 2347, '손실': 2348, '자취': 2349, '씻다': 2350, '거부': 2351, '구조조정': 2352, '사망': 2353, '으로의': 2354, '사려': 2355, '이든': 2356, '마라톤': 2357, '밤새': 2358, '예': 2359, '생기지': 2360, '낮': 2361, '돌다': 2362, '그나마': 2363, '이쁘다': 2364, '제때': 2365, '무거워': 2366, '병상': 2367, '전하': 2368, '정시': 2369, '애정': 2370, '허망': 2371, '서툴다': 2372, '정리해고': 2373, '관계도': 2374, '홀가분하다': 2375, '일부': 2376, '가다가': 2377, '선뜻': 2378, '노트북': 2379, '석': 2380, '룸메이트': 2381, '농사': 2382, '사르다': 2383, '오니': 2384, '모의고사': 2385, '답장': 2386, '둘이서': 2387, '일구다': 2388, '컨디션': 2389, '음식점': 2390, '넘치다': 2391, '말투': 2392, '부양': 2393, '절교': 2394, '이러니까': 2395, '안마': 2396, '전과': 2397, '이해해': 2398, '학벌': 2399, '자퇴': 2400, '집착': 2401, '한지': 2402, '어지럽다': 2403, '복지관': 2404, '떠들다': 2405, '동갑': 2406, '스터디': 2407, '부러워하다': 2408, '임': 2409, '혜택': 2410, '주눅': 2411, '권하다': 2412, '뒤통수': 2413, '기력': 2414, '차이다': 2415, '아등바등': 2416, '재택근무': 2417, '등록': 2418, '단순하다': 2419, '무뚝뚝하다': 2420, '인연': 2421, '반말': 2422, '인슐린': 2423, '증': 2424, '행사': 2425, '주택': 2426, '역할': 2427, '맺다': 2428, '쓰레기': 2429, '스타일': 2430, '모자라': 2431, '대우': 2432, '강하다': 2433, '래야': 2434, '증거': 2435, '지금껏': 2436, '어쩜': 2437, '간식': 2438, '위기': 2439, '답안': 2440, '척도': 2441, '낙': 2442, '익숙해지다': 2443, '학비': 2444, '전교': 2445, '축구': 2446, '영상': 2447, '이끌다': 2448, '잔고': 2449, '틈': 2450, '갈등': 2451, '오늘이': 2452, '징그럽다': 2453, '자유': 2454, '절약': 2455, '결심': 2456, '오래전': 2457, '너무나도': 2458, '미술': 2459, '드라마': 2460, '툴툴대': 2461, '전보': 2462, '일어나서': 2463, '뜻': 2464, '보살피다': 2465, '도망': 2466, '사촌': 2467, '금리': 2468, '고작': 2469, '효율': 2470, '전해': 2471, '로운': 2472, '접근': 2473, '사기꾼': 2474, '기쁨': 2475, '중반': 2476, '판매': 2477, '주어지다': 2478, '착잡하다': 2479, '실기': 2480, '피로': 2481, '쓸모': 2482, '남동생': 2483, '분해': 2484, '발목': 2485, '오해해': 2486, '방귀': 2487, '지루하다': 2488, '수익률': 2489, '위원회': 2490, '조사': 2491, '광고': 2492, '예비': 2493, '후임': 2494, '놀이': 2495, '흥분하다': 2496, '가리다': 2497, '에스': 2498, '기초': 2499, '형님': 2500, '수준': 2501, '연기': 2502, '구직': 2503, '매주': 2504, '데려가다': 2505, '한계': 2506, '낮아지다': 2507, '뇌졸중': 2508, '엊그제': 2509, '툭하면': 2510, '회비': 2511, '상관': 2512, '인수': 2513, '인계': 2514, '스마트폰': 2515, '다양하다': 2516, '흥미': 2517, '캄캄하다': 2518, '건드리다': 2519, '조원': 2520, '신혼': 2521, '전문': 2522, '쓰리다': 2523, '고독': 2524, '시각': 2525, '내심': 2526, '올려주다': 2527, '여성': 2528, '칠십': 2529, '간의': 2530, '설계': 2531, '청': 2532, '소화': 2533, '더러': 2534, '깨지다': 2535, '해주': 2536, '제한': 2537, '비난': 2538, '잘해야': 2539, '금융': 2540, '불구': 2541, '째다': 2542, '직장인': 2543, '댁': 2544, '추가': 2545, '진정하다': 2546, '한국': 2547, '미팅': 2548, '깜깜': 2549, '어느새다': 2550, '다해': 2551, '매달리다': 2552, '불평': 2553, '시집': 2554, '아저씨': 2555, '방향': 2556, '코앞': 2557, '수행평가': 2558, '라고는': 2559, '맞이': 2560, '조카': 2561, '쑤시다': 2562, '마디': 2563, '직속': 2564, '봉사': 2565, '게임기': 2566, '학창': 2567, '턱': 2568, '따지다': 2569, '헌신': 2570, '강제': 2571, '의심스럽다': 2572, '흡연': 2573, '반항': 2574, '늘리다': 2575, '콜레스테롤': 2576, '비염': 2577, '설거지': 2578, '발전': 2579, '라며': 2580, '가수': 2581, '효도': 2582, '귀엽다': 2583, '농담': 2584, '번은': 2585, '공기': 2586, '지급': 2587, '단짝': 2588, '마트': 2589, '비혼': 2590, '얘길': 2591, '신기하다': 2592, '기념': 2593, '면담': 2594, '멍하다': 2595, '뜸': 2596, '수영': 2597, '한시름': 2598, '복용': 2599, '녹내장': 2600, '말르다': 2601, '공고': 2602, '이익': 2603, '아부': 2604, '노릇': 2605, '하소연': 2606, '꾸리다': 2607, '맘대로': 2608, '인제': 2609, '일거리': 2610, '기미': 2611, '폐지': 2612, '주신': 2613, '혼수': 2614, '경': 2615, '씌우다': 2616, '휴식': 2617, '전이': 2618, '파일': 2619, '재활': 2620, '명단': 2621, '제도': 2622, '기념일': 2623, '딸도': 2624, '작': 2625, '온갖': 2626, '제발': 2627, '보험료': 2628, '예순': 2629, '개선': 2630, '알려지다': 2631, '불가능하다': 2632, '알리다': 2633, '수습': 2634, '저금': 2635, '화만': 2636, '리': 2637, '하고도': 2638, '내색': 2639, '식다': 2640, '수고': 2641, '찢어지다': 2642, '까다롭다': 2643, '큰소리': 2644, '공모전': 2645, '책임감': 2646, '빨갛다': 2647, '아야': 2648, '물가': 2649, '뒷': 2650, '울면': 2651, '야단': 2652, '혹': 2653, '마주': 2654, '난처하다': 2655, '생명': 2656, '미국': 2657, '배드민턴': 2658, '추다': 2659, '과를': 2660, '간병': 2661, '주니': 2662, '황': 2663, '주민': 2664, '주장': 2665, '살날': 2666, '잘만': 2667, '직급': 2668, '독촉': 2669, '못마땅하다': 2670, '만지다': 2671, '시한': 2672, '선고': 2673, '애교': 2674, '불면증': 2675, '완성': 2676, '배달': 2677, '어딜': 2678, '힘내다': 2679, '상견례': 2680, '나은': 2681, '찾기': 2682, '쓸데없다': 2683, '사별': 2684, '더니': 2685, '꾸미다': 2686, '무료': 2687, '의논': 2688, '일상생활': 2689, '슬픔': 2690, '화장': 2691, '하루아침': 2692, '뵈다': 2693, '내놓다': 2694, '미혼': 2695, '살짝': 2696, '살라': 2697, '더욱더': 2698, '차장': 2699, '에다': 2700, '평균': 2701, '눈빛': 2702, '심장마비': 2703, '펑펑': 2704, '주제': 2705, '노름': 2706, '병행': 2707, '흉': 2708, '글': 2709, '가뜩이나': 2710, '불안감': 2711, '대고': 2712, '독서': 2713, '나머지': 2714, '외우다': 2715, '지고': 2716, '달래다': 2717, '포함': 2718, '취하': 2719, '여생': 2720, '잠적': 2721, '건망증': 2722, '길거리': 2723, '삶다': 2724, '비우다': 2725, '경찰서': 2726, '모욕': 2727, '요즈음': 2728, '조직': 2729, '처가': 2730, '대장암': 2731, '께서는': 2732, '협상': 2733, '밝히다': 2734, '여태껏': 2735, '귀농': 2736, '한쪽': 2737, '소비': 2738, '기만': 2739, '당하': 2740, '퍼센트': 2741, '다루다': 2742, '원만하다': 2743, '전날': 2744, '쌀쌀': 2745, '장만': 2746, '프레': 2747, '테이': 2748, '션': 2749, '별다르다': 2750, '교류': 2751, '공유': 2752, '끌다': 2753, '인맥': 2754, '낙하산': 2755, '편애': 2756, '몸살': 2757, '복': 2758, '이벤트': 2759, '늙은이': 2760, '거짓': 2761, '취향': 2762, '퇴': 2763, '기부': 2764, '간이': 2765, '살갑': 2766, '빈': 2767, '층': 2768, '음': 2769, '일일이': 2770, '공간': 2771, '잠들다': 2772, '동시': 2773, '호전': 2774, '으로서': 2775, '이제껏': 2776, '골': 2777, '메신저': 2778, '규칙': 2779, '지목': 2780, '단어': 2781, '고치': 2782, '장난감': 2783, '빵': 2784, '오전': 2785, '학자금': 2786, '빠듯해': 2787, '달리기': 2788, '택시': 2789, '일어나지': 2790, '잘나가다': 2791, '빌다': 2792, '란': 2793, '마찬가지': 2794, '후유증': 2795, '말고는': 2796, '엄두': 2797, '폭락': 2798, '신문': 2799, '안해': 2800, '의료': 2801, '예방': 2802, '켜다': 2803, '기존': 2804, '내미다': 2805, '붙이다': 2806, '청첩장': 2807, '직할': 2808, '과로': 2809, '냥': 2810, '아버님': 2811, '첫째': 2812, '여동생': 2813, '후반': 2814, '부족': 2815, '두통': 2816, '체육대회': 2817, '근육': 2818, '차서': 2819, '심근경색': 2820, '조르다': 2821, '사적': 2822, '협박': 2823, '폐렴': 2824, '의자': 2825, '꼴다': 2826, '외박': 2827, '사항': 2828, '누락': 2829, '사이좋다': 2830, '보조': 2831, '투정': 2832, '상위': 2833, '장례': 2834, '멋대로': 2835, '자동차': 2836, '정정': 2837, '분담': 2838, '성화': 2839, '만치': 2840, '차질': 2841, '멋있다': 2842, '누군지': 2843, '현금': 2844, '더듬다': 2845, '울적하다': 2846, '넓다': 2847, '수당': 2848, '래서': 2849, '우린': 2850, '가득하다': 2851, '양가': 2852, '영원하다': 2853, '기구': 2854, '늘어서다': 2855, '회원': 2856, '지장': 2857, '증세': 2858, '보험사': 2859, '정책': 2860, '체크': 2861, '쓴다': 2862, '성장하다': 2863, '성희롱': 2864, '신혼여행': 2865, '뒤늦다': 2866, '차마': 2867, '라지': 2868, '쑥스럽다': 2869, '배다': 2870, '불법': 2871, '커플': 2872, '거슬리다': 2873, '뵙다': 2874, '만남': 2875, '재미없다': 2876, '무관심하다': 2877, '말썽': 2878, '돌이키다': 2879, '온라인': 2880, '머리카락': 2881, '치과': 2882, '틀니': 2883, '장면': 2884, '문과': 2885, '보약': 2886, '표': 2887, '비리': 2888, '낯설다': 2889, '찬': 2890, '돌': 2891, '문서': 2892, '정체': 2893, '애도': 2894, '고양이': 2895, '막내딸': 2896, '불륜': 2897, '하든': 2898, '예정일': 2899, '참담하다': 2900, '꼬박꼬박': 2901, '교무': 2902, '세계': 2903, '늘어놓다': 2904, '거동': 2905, '간절하다': 2906, '모시다': 2907, '깨우다': 2908, '전원주택': 2909, '구입': 2910, '제외': 2911, '인공': 2912, '담보': 2913, '무': 2914, '좀처럼': 2915, '주고받다': 2916, '명문': 2917, '응급실': 2918, '환멸감': 2919, '뇌출혈': 2920, '높이다': 2921, '번거롭다': 2922, '문득': 2923, '수시': 2924, '제자리': 2925, '소문나다': 2926, '출퇴근': 2927, '진': 2928, '보더': 2929, '이장': 2930, '상당하다': 2931, '는커녕': 2932, '지나': 2933, '담당자': 2934, '반기다': 2935, '마땅하다': 2936, '이라고는': 2937, '임금': 2938, '서서': 2939, '끼우다': 2940, '냉장고': 2941, '소변': 2942, '공채': 2943, '코지': 2944, '고프다': 2945, '옷차림': 2946, '리더': 2947, '대출받다': 2948, '화장품': 2949, '채팅': 2950, '없애다': 2951, '자제': 2952, '강의': 2953, '혈당': 2954, '기울이다': 2955, '한약': 2956, '활': 2957, '독서실': 2958, '처분': 2959, '만족': 2960, '곤': 2961, '겹': 2962, '괜': 2963, '대견하다': 2964, '반성': 2965, '서먹해지다': 2966, '알바': 2967, '결재': 2968, '쉰': 2969, '넉': 2970, '문화': 2971, '마음먹다': 2972, '피아노': 2973, '판': 2974, '건네다': 2975, '외도': 2976, '낙담': 2977, '고용': 2978, '성별': 2979, '베': 2980, '미련': 2981, '염세': 2982, '꽉': 2983, '부지런하다': 2984, '교회': 2985, '몸무게': 2986, '큰딸': 2987, '불황': 2988, '장학금': 2989, '천만': 2990, '졸라': 2991, '강도': 2992, '투석': 2993, '변경': 2994, '그날': 2995, '그땐': 2996, '범인': 2997, '저렇다': 2998, '그랬더니': 2999, '급': 3000, '여유도': 3001, '침대': 3002, '나오니': 3003, '화분': 3004, '동업': 3005, '마르다': 3006, '퍼트': 3007, '목적': 3008, '사오다': 3009, '결제': 3010, '첫날': 3011, '육십이': 3012, '푸다': 3013, '하객': 3014, '충': 3015, '분하다': 3016, '심사': 3017, '빠듯한데': 3018, '꼬이다': 3019, '고개': 3020, '쫓기다': 3021, '한창': 3022, '쟤': 3023, '타지': 3024, '배고프다': 3025, '타격': 3026, '성향': 3027, '시원하다': 3028, '방치': 3029, '뇌': 3030, '만은': 3031, '안나': 3032, '홈쇼핑': 3033, '되찾다': 3034, '꾸중': 3035, '대장': 3036, '전문가': 3037, '감각': 3038, '진절머리': 3039, '상한': 3040, '낯선': 3041, '서비스': 3042, '코로나바이러스': 3043, '고소하다': 3044, '게으르다': 3045, '온통': 3046, '사치': 3047, '극적': 3048, '은커녕': 3049, '보채다': 3050, '무작정': 3051, '불이익': 3052, '어둡다': 3053, '공개': 3054, '겨울': 3055, '평일': 3056, '깨끗하다': 3057, '오후': 3058, '이래서': 3059, '적어도': 3060, '도시': 3061, '공허하다': 3062, '기계로': 3063, '지불': 3064, '땀': 3065, '빼앗다': 3066, '망': 3067, '삼다': 3068, '뽑히다': 3069, '하고만': 3070, '심다': 3071, '모이': 3072, '온대': 3073, '여간': 3074, '심각해지다': 3075, '놔두다': 3076, '축복': 3077, '입맛': 3078, '비아': 3079, '모시': 3080, '비행기': 3081, '성사': 3082, '친정엄마': 3083, '팔이': 3084, '거실': 3085, '보호자': 3086, '야간': 3087, '뒷말': 3088, '풍족하다': 3089, '날씬하다': 3090, '벌이다': 3091, '무능력하다': 3092, '벌어지다': 3093, '충돌': 3094, '반영': 3095, '함': 3096, '쫓겨나다': 3097, '열정': 3098, '노래방': 3099, '다짜고짜': 3100, '트라우마': 3101, '접촉': 3102, '화려하다': 3103, '신규': 3104, '붙잡다': 3105, '담다': 3106, '틀어지다': 3107, '공장': 3108, '들뜨다': 3109, '따라다니다': 3110, '유능하다': 3111, '무산': 3112, '밀다': 3113, '낭비': 3114, '청약': 3115, '서울대': 3116, '닦달': 3117, '학습': 3118, '헛소문': 3119, '단둘': 3120, '어르신': 3121, '합의': 3122, '삼촌': 3123, '뜯다': 3124, '간병인': 3125, '평온하다': 3126, '투성이': 3127, '몸매': 3128, '월요일': 3129, '조기': 3130, '라니까': 3131, '소음': 3132, '웃기다': 3133, '돌아서다': 3134, '감시': 3135, '기준': 3136, '화낼': 3137, '텃세': 3138, '부턴': 3139, '성형': 3140, '모로': 3141, '그이': 3142, '수행': 3143, '교제': 3144, '케이크': 3145, '퍼지다': 3146, '여자애': 3147, '돼지': 3148, '마음껏': 3149, '방이': 3150, '청춘': 3151, '연락처': 3152, '안전하다': 3153, '뿐이다': 3154, '휠체어': 3155, '체계': 3156, '결핵': 3157, '누명': 3158, '에라도': 3159, '앞서다': 3160, '일으키다': 3161, '정성': 3162, '충당': 3163, '가발': 3164, '나나': 3165, '닥치다': 3166, '무례하다': 3167, '대응': 3168, '타박': 3169, '주거': 3170, '러시': 3171, '거품': 3172, '임플란트': 3173, '발언': 3174, '벗다': 3175, '기복': 3176, '개발': 3177, '순서': 3178, '향': 3179, '에이': 3180, '캠핑': 3181, '브랜드': 3182, '원망하다': 3183, '시스템': 3184, '약점': 3185, '급격하다': 3186, '등교': 3187, '떡': 3188, '오른': 3189, '이냐': 3190, '가보': 3191, '가능성': 3192, '부유하다': 3193, '아시': 3194, '졸업식': 3195, '지저분하다': 3196, '절대로': 3197, '채소': 3198, '대박': 3199, '다그치다': 3200, '망치': 3201, '누르다': 3202, '자세': 3203, '몫': 3204, '메뉴': 3205, '한텐': 3206, '공평하다': 3207, '공격': 3208, '보복': 3209, '만하': 3210, '무심하다': 3211, '매력': 3212, '단순': 3213, '방관': 3214, '가을': 3215, '여력': 3216, '시계': 3217, '스무': 3218, '인걸': 3219, '꽃다발': 3220, '보이스피싱': 3221, '조깅': 3222, '덮다': 3223, '폭': 3224, '고정': 3225, '부리고': 3226, '쏙': 3227, '걱정거리': 3228, '수중': 3229, '직전': 3230, '끼니': 3231, '외근': 3232, '양반': 3233, '역': 3234, '서두르다': 3235, '사랑받다': 3236, '가출': 3237, '곗돈': 3238, '불안': 3239, '성과급': 3240, '영영': 3241, '상치': 3242, '제자': 3243, '적지': 3244, '당선': 3245, '선임': 3246, '목숨': 3247, '톡': 3248, '품': 3249, '소득': 3250, '동의': 3251, '이상은': 3252, '업다': 3253, '수발': 3254, '예산': 3255, '유튜브': 3256, '잡': 3257, '과일': 3258, '때로는': 3259, '벌레': 3260, '순위': 3261, '구조': 3262, '위험': 3263, '백화점': 3264, '내외': 3265, '대기': 3266, '봄': 3267, '바깥': 3268, '오기': 3269, '텅': 3270, '외국어': 3271, '작가': 3272, '퉁': 3273, '밀리': 3274, '업자': 3275, '으로가': 3276, '입대': 3277, '알아듣다': 3278, '가벼워지다': 3279, '설마': 3280, '과자': 3281, '배우': 3282, '다짐': 3283, '직종': 3284, '이러니': 3285, '달리다': 3286, '떨치다': 3287, '여쭈다': 3288, '술집': 3289, '다단계': 3290, '낚시': 3291, '끼어들다': 3292, '썩': 3293, '감축': 3294, '수험생': 3295, '조차도': 3296, '위협': 3297, '떼': 3298, '일구': 3299, '밑': 3300, '수면': 3301, '국가': 3302, '등수': 3303, '식탁': 3304, '달려오다': 3305, '섞이다': 3306, '종합': 3307, '사돈': 3308, '영양': 3309, '까진': 3310, '가사': 3311, '사위': 3312, '시험지': 3313, '만들기': 3314, '연속': 3315, '슈퍼': 3316, '육아휴직': 3317, '식이요법': 3318, '흔쾌하다': 3319, '휴일': 3320, '몽땅': 3321, '손가락': 3322, '부작용': 3323, '일흔': 3324, '물이': 3325, '저혈압': 3326, '승인': 3327, '끓이다': 3328, '예금': 3329, '따름': 3330, '이모': 3331, '유전': 3332, '여섯': 3333, '달성': 3334, '언성': 3335, '기증': 3336, '우유': 3337, '뒷담화': 3338, '치기': 3339, '거란': 3340, '취': 3341, '완주': 3342, '보호': 3343, '는걸': 3344, '가망': 3345, '갇히다': 3346, '쓰레기통': 3347, '편의점': 3348, '어쩌려': 3349, '갑갑하다': 3350, '축': 3351, '배치': 3352, '제시': 3353, '튼튼하다': 3354, '파악': 3355, '연장': 3356, '연말': 3357, '욕설': 3358, '콘서트': 3359, '시국': 3360, '종목': 3361, '양심': 3362, '학부모': 3363, '사직서': 3364, '신중하다': 3365, '와중': 3366, '도망치다': 3367, '주부': 3368, '힘쓰다': 3369, '선정': 3370, '외제': 3371, '개다': 3372, '사태': 3373, '노약': 3374, '침침하다': 3375, '허약하다': 3376, '부잣집': 3377, '빈혈': 3378, '무니': 3379, '러더': 3380, '절제': 3381, '가라앉다': 3382, '동자': 3383, '작고': 3384, '오토바이': 3385, '새우다': 3386, '반드시': 3387, '자상하다': 3388, '착실하다': 3389, '활발하다': 3390, '멍청하다': 3391, '말리': 3392, '암담하다': 3393, '몇몇': 3394, '낭비하다': 3395, '놀란': 3396, '정해진': 3397, '타인': 3398, '죽이다': 3399, '애매하다': 3400, '빼앗기다': 3401, '해주시': 3402, '평범하다': 3403, '거고': 3404, '단점': 3405, '그럭저럭': 3406, '더하다': 3407, '내시': 3408, '최신': 3409, '입양': 3410, '치질': 3411, '무급': 3412, '대수롭다': 3413, '생리': 3414, '밟다': 3415, '진상': 3416, '억': 3417, '꼴등': 3418, '주름': 3419, '꾸짖다': 3420, '굽다': 3421, '고발': 3422, '늦둥이': 3423, '거려': 3424, '집의': 3425, '거두다': 3426, '본가': 3427, '외부': 3428, '하늘나라': 3429, '베풀다': 3430, '적어지다': 3431, '시술': 3432, '똑똑하다': 3433, '믿어지다': 3434, '따라오다': 3435, '중독': 3436, '잠그다': 3437, '사라': 3438, '침': 3439, '기껏': 3440, '정밀': 3441, '정산': 3442, '소리치다': 3443, '리지': 3444, '돈벌이': 3445, '난동': 3446, '질책': 3447, '찢다': 3448, '입덧': 3449, '납부': 3450, '음주': 3451, '안주': 3452, '노망': 3453, '성추행': 3454, '꼼짝': 3455, '연극': 3456, '요통': 3457, '미처': 3458, '식장': 3459, '죽겠네': 3460, '담': 3461, '폭언': 3462, '긁다': 3463, '진실': 3464, '경제력': 3465, '주네': 3466, '차지': 3467, '접': 3468, '절친': 3469, '살아나다': 3470, '휴학': 3471, '심리': 3472, '성질': 3473, '잔병치레': 3474, '디자인': 3475, '부리': 3476, '드라이브': 3477, '변호사': 3478, '구속': 3479, '교과서': 3480, '인들': 3481, '깔다': 3482, '액수': 3483, '인력': 3484, '범죄': 3485, '만사': 3486, '민폐': 3487, '골치': 3488, '야식': 3489, '중단': 3490, '결혼식장': 3491, '되돌리다': 3492, '만으로는': 3493, '도시락': 3494, '구역': 3495, '태산': 3496, '기능': 3497, '비위': 3498, '간만': 3499, '수령': 3500, '톡방': 3501, '검토': 3502, '주도하다': 3503, '안일하다': 3504, '생색': 3505, '비결': 3506, '요리사': 3507, '장거리': 3508, '하교': 3509, '충고': 3510, '떠올리다': 3511, '철수': 3512, '비타민': 3513, '물리치료': 3514, '실리다': 3515, '토익': 3516, '에서야': 3517, '거치다': 3518, '투': 3519, '꼬투리': 3520, '조치': 3521, '은사': 3522, '번호': 3523, '경쟁자': 3524, '살찌다': 3525, '횡령': 3526, '변기': 3527, '복도': 3528, '깔끔하다': 3529, '이어지다': 3530, '종류': 3531, '편찮다': 3532, '교사': 3533, '활용': 3534, '출발': 3535, '망정': 3536, '여가': 3537, '안중': 3538, '그간': 3539, '자연스럽다': 3540, '앞서': 3541, '나잇': 3542, '이며': 3543, '고려': 3544, '막연하다': 3545, '조정': 3546, '경쟁률': 3547, '망신': 3548, '조바심': 3549, '약도': 3550, '가져다주다': 3551, '질리다': 3552, '가치관': 3553, '개념': 3554, '다기': 3555, '해소': 3556, '서먹하다': 3557, '장모님': 3558, '후의': 3559, '반려견': 3560, '홍삼': 3561, '공기업': 3562, '주제가': 3563, '후원': 3564, '한평생': 3565, '졸': 3566, '음성': 3567, '찍히다': 3568, '어기다': 3569, '배정': 3570, '병동': 3571, '꾸지람': 3572, '주임': 3573, '마케팅': 3574, '태풍': 3575, '안내': 3576, '각방': 3577, '가르다': 3578, '감염': 3579, '알레르기': 3580, '위치': 3581, '예식장': 3582, '십년': 3583, '주도': 3584, '병세': 3585, '헬스': 3586, '시누이': 3587, '알코올': 3588, '보시': 3589, '모델': 3590, '뇌종양': 3591, '취득': 3592, '초반': 3593, '겉도': 3594, '필라테스': 3595, '호텔': 3596, '학급': 3597, '폐경': 3598, '휘': 3599, '닿다': 3600, '확률': 3601, '틀다': 3602, '상여금': 3603, '예물': 3604, '흔들리다': 3605, '재료': 3606, '생산': 3607, '으로부터': 3608, '동거': 3609, '꾀병': 3610, '수상하다': 3611, '서서히': 3612, '정해지다': 3613, '중풍': 3614, '굶다': 3615, '그룹': 3616, '띄다': 3617, '해치다': 3618, '답변': 3619, '진자': 3620, '지식': 3621, '절반': 3622, '시설': 3623, '덩달아': 3624, '서글퍼지다': 3625, '가담': 3626, '겸': 3627, '운명': 3628, '손목': 3629, '승낙': 3630, '경조사': 3631, '양육': 3632, '장래': 3633, '손대다': 3634, '모레': 3635, '올': 3636, '노안': 3637, '국내': 3638, '윗사람': 3639, '소름': 3640, '어버이날': 3641, '의치': 3642, '예고': 3643, '불합리': 3644, '휘두르다': 3645, '하나같이': 3646, '막내아들': 3647, '보수': 3648, '여든': 3649, '주체': 3650, '졸다': 3651, '제의': 3652, '뺨': 3653, '건의': 3654, '친목': 3655, '발휘': 3656, '조퇴': 3657, '참가': 3658, '강사': 3659, '측': 3660, '밤새다': 3661, '미움': 3662, '신용': 3663, '불량': 3664, '안정감': 3665, '의대': 3666, '액': 3667, '문화센터': 3668, '지은': 3669, '해대': 3670, '부상': 3671, '가계': 3672, '빈털터리': 3673, '몰려오다': 3674, '모처럼': 3675, '쪽지': 3676, '차로': 3677, '공지': 3678, '떼다': 3679, '근력': 3680, '경비': 3681, '토막': 3682, '클럽': 3683, '일일': 3684, '또한': 3685, '번듯하다': 3686, '상속': 3687, '바닥나다': 3688, '깁스': 3689, '택배': 3690, '벽': 3691, '노동': 3692, '부어': 3693, '스킨십': 3694, '십만': 3695, '하마터면': 3696, '여럿': 3697, '권태기': 3698, '의존': 3699, '평상시': 3700, '능률': 3701, '번번이': 3702, '지우다': 3703, '어떠하다': 3704, '최악': 3705, '둥': 3706, '승진도': 3707, '들여다보다': 3708, '자서': 3709, '수만': 3710, '감추다': 3711, '불안정하다': 3712, '돈독하다': 3713, '고모': 3714, '사나': 3715, '천': 3716, '고가': 3717, '빈자리': 3718, '수월하다': 3719, '어딘가': 3720, '일지': 3721, '죄다': 3722, '확정': 3723, '이래도': 3724, '위주': 3725, '월': 3726, '납품': 3727, '계모임': 3728, '크기': 3729, '횟수': 3730, '섬': 3731, '가치': 3732, '구체': 3733, '샤워': 3734, '오백만': 3735, '이과': 3736, '섞다': 3737, '음주운전': 3738, '하찮다': 3739, '아래': 3740, '실장': 3741, '입자': 3742, '체험': 3743, '아주머니': 3744, '년도': 3745, '박히다': 3746, '실컷': 3747, '찌': 3748, '선거': 3749, '어휴': 3750, '이를': 3751, '가식': 3752, '각종': 3753, '동영상': 3754, '펼치다': 3755, '성인병': 3756, '똑바로': 3757, '쌍둥이': 3758, '이미지': 3759, '구석': 3760, '불친절하다': 3761, '인스타그램': 3762, '접수': 3763, '유부': 3764, '일억': 3765, '젊음': 3766, '팔고': 3767, '권고': 3768, '안이': 3769, '정답': 3770, '차고': 3771, '백혈병': 3772, '통지': 3773, '데뷔': 3774, '설': 3775, '몇십': 3776, '투명인간': 3777, '주머니': 3778, '오가다': 3779, '누굴': 3780, '인지도': 3781, '치이다': 3782, '제품': 3783, '그러나': 3784, '과중': 3785, '우승': 3786, '분배': 3787, '원수': 3788, '판이': 3789, '치면': 3790, '마당': 3791, '유럽': 3792, '막말': 3793, '종교': 3794, '밀려오다': 3795, '상승': 3796, '초등학생': 3797, '식은땀': 3798, '지연': 3799, '오십이': 3800, '분노하다': 3801, '서랍': 3802, '수급': 3803, '폭발': 3804, '단골': 3805, '대상자': 3806, '중환자실': 3807, '악성': 3808, '용': 3809, '싸': 3810, '감싸다': 3811, '밤늦다': 3812, '기저귀': 3813, '희다': 3814, '얻어먹다': 3815, '셔': 3816, '필수': 3817, '적적하다': 3818, '패턴': 3819, '출근길': 3820, '당일': 3821, '살펴보다': 3822, '카카오': 3823, '정직': 3824, '보증금': 3825, '일진': 3826, '헬스클럽': 3827, '정신과': 3828, '도우': 3829, '겨': 3830, '만점': 3831, '사느랗다': 3832, '합격자': 3833, '유치원': 3834, '올바르다': 3835, '염치': 3836, '바다': 3837, '부부싸움': 3838, '빨르다': 3839, '밤새우다': 3840, '기기': 3841, '계주': 3842, '어디가': 3843, '이상형': 3844, '간염': 3845, '안고': 3846, '교통': 3847, '쫓아내다': 3848, '요가': 3849, '찍': 3850, '자석': 3851, '자도': 3852, '약물': 3853, '동성': 3854, '변명': 3855, '쏟아지다': 3856, '레스토랑': 3857, '타고나다': 3858, '하락': 3859, '정치': 3860, '방안': 3861, '말대꾸': 3862, '유난히': 3863, '이중': 3864, '고해': 3865, '훌륭하다': 3866, '상가': 3867, '해나': 3868, '해약': 3869, '연세': 3870, '복학': 3871, '대면': 3872, '리가': 3873, '가짜': 3874, '맥주': 3875, '부치다': 3876, '문병': 3877, '안경': 3878, '호감': 3879, '이웃집': 3880, '슬쩍': 3881, '셈': 3882, '덩어리': 3883, '랄': 3884, '흉하다': 3885, '마취': 3886, '동물': 3887, '엉뚱하다': 3888, '숙이다': 3889, '다만': 3890, '바이러스': 3891, '이랑은': 3892, '경영': 3893, '유': 3894, '백신': 3895, '졸이다': 3896, '약사': 3897, '허덕이다': 3898, '무책임하다': 3899, '차분하다': 3900, '애지중지': 3901, '시더': 3902, '중심': 3903, '명확하다': 3904, '수리': 3905, '틀어박히다': 3906, '채택': 3907, '빼먹다': 3908, '전화번호': 3909, '근사하다': 3910, '바람나다': 3911, '싹': 3912, '처남': 3913, '아름답다': 3914, '언행': 3915, '갖추다': 3916, '신혼집': 3917, '간경변증': 3918, '져서': 3919, '칼': 3920, '대중교통': 3921, '이따금': 3922, '넘겨주다': 3923, '잔액': 3924, '조직검사': 3925, '견제': 3926, '뱉다': 3927, '에너지': 3928, '나라고': 3929, '약국': 3930, '휴': 3931, '감격': 3932, '반려': 3933, '총무': 3934, '저리다': 3935, '쌀': 3936, '산더미': 3937, '치마': 3938, '두기': 3939, '정밀검사': 3940, '달도': 3941, '더군다나': 3942, '황혼': 3943, '기세': 3944, '나아': 3945, '명상': 3946, '사생활': 3947, '부서장': 3948, '그토록': 3949, '야구': 3950, '틀': 3951, '들통': 3952, '따라서': 3953, '유난': 3954, '헛살았': 3955, '미끄러지다': 3956, '무의미하다': 3957, '하반기': 3958, '맛없다': 3959, '붉다': 3960, '재무': 3961, '반지': 3962, '기러기': 3963, '저항': 3964, '못자다': 3965, '대형': 3966, '자로': 3967, '사면': 3968, '일요일': 3969, '새엄마': 3970, '쏘다': 3971, '사가': 3972, '따라잡다': 3973, '진찰': 3974, '오진': 3975, '저기': 3976, '십대': 3977, '아마도': 3978, '잡기': 3979, '복습': 3980, '도로': 3981, '큰소리치다': 3982, '이신': 3983, '상무': 3984, '무단': 3985, '지옥': 3986, '우승하다': 3987, '중도': 3988, '호흡기': 3989, '논': 3990, '탕': 3991, '메일': 3992, '공사': 3993, '염': 3994, '헤매다': 3995, '고급': 3996, '끌리다': 3997, '우기다': 3998, '댄스': 3999, '에서부터': 4000, '안보': 4001, '흉보다': 4002, '가나': 4003, '노리': 4004, '밖에도': 4005, '지방간': 4006, '경매': 4007, '주차': 4008, '장수': 4009, '빨래': 4010, '량': 4011, '끊어지다': 4012, '인재': 4013, '물품': 4014, '들려오다': 4015, '내쫓다': 4016, '이득': 4017, '엄': 4018, '어쩐지': 4019, '면박': 4020, '리기': 4021, '스치다': 4022, '정성껏': 4023, '점차': 4024, '참으로': 4025, '심장병': 4026, '울컥': 4027, '에야': 4028, '덧': 4029, '용품': 4030, '키도': 4031, '염증': 4032, '부위': 4033, '설사': 4034, '돋다': 4035, '아가씨': 4036, '체질': 4037, '부딪치다': 4038, '모자': 4039, '상식': 4040, '대판': 4041, '폐가': 4042, '딴': 4043, '하루빨리': 4044, '위안': 4045, '단지': 4046, '민원': 4047, '비서': 4048, '범위': 4049, '효자': 4050, '힘없다': 4051, '척척': 4052, '려': 4053, '관리자': 4054, '전념': 4055, '숫자': 4056, '내정자': 4057, '노산': 4058, '아픔': 4059, '따끔하다': 4060, '서운해하다': 4061, '상심': 4062, '부업': 4063, '내려놓다': 4064, '가장이': 4065, '조율': 4066, '사주지': 4067, '떳떳하다': 4068, '단호': 4069, '자책': 4070, '누': 4071, '썩다': 4072, '통쾌하다': 4073, '마찰': 4074, '상냥하다': 4075, '렸': 4076, '물러나다': 4077, '잡일': 4078, '체육복': 4079, '제약': 4080, '주의자': 4081, '내부': 4082, '구한': 4083, '비록': 4084, '저리': 4085, '창고': 4086, '변': 4087, '왜냐면': 4088, '밀치다': 4089, '걸치다': 4090, '식욕': 4091, '위자료': 4092, '틀림없다': 4093, '삭감': 4094, '폐업': 4095, '자부심': 4096, '언짢다': 4097, '임용고시': 4098, '통금': 4099, '프로게이머': 4100, '던': 4101, '채점': 4102, '버럭': 4103, '응급': 4104, '어긋나다': 4105, '치레': 4106, '버티고': 4107, '알아차리다': 4108, '업계': 4109, '두운': 4110, '증후군': 4111, '피로하다': 4112, '극단': 4113, '뜬금없이': 4114, '언쟁': 4115, '낡다': 4116, '유출': 4117, '유쾌하다': 4118, '환불': 4119, '정직하다': 4120, '불임': 4121, '뒷전': 4122, '엄격하다': 4123, '병마': 4124, '적자': 4125, '이루어지다': 4126, '별문제': 4127, '남성': 4128, '난폭하다': 4129, '나약하다': 4130, '촉박하다': 4131, '퇴임': 4132, '신다': 4133, '해방': 4134, '자리다': 4135, '시세': 4136, '기립': 4137, '현': 4138, '유튜버': 4139, '경과': 4140, '학력': 4141, '딸내미': 4142, '안남다': 4143, '선수': 4144, '중국': 4145, '금도': 4146, '캐': 4147, '금요일': 4148, '수십': 4149, '죽지': 4150, '여행지': 4151, '끌': 4152, '지향': 4153, '제공': 4154, '형수': 4155, '꿀': 4156, '막무가내': 4157, '학대': 4158, '한시': 4159, '대꾸': 4160, '동참': 4161, '숨쉬기': 4162, '인스턴트': 4163, '날카롭다': 4164, '즙': 4165, '씀씀이': 4166, '피드백': 4167, '끝내': 4168, '산후조리원': 4169, '마구': 4170, '가계부': 4171, '평판': 4172, '고소': 4173, '오락가락': 4174, '마': 4175, '경치': 4176, '운동장': 4177, '골절': 4178, '조롱': 4179, '해당': 4180, '인거': 4181, '십년지기': 4182, '걸어가다': 4183, '워크숍': 4184, '마이너스': 4185, '행운': 4186, '전망': 4187, '늦추다': 4188, '어쩌': 4189, '말고도': 4190, '명예': 4191, '기숙사': 4192, '결근': 4193, '매점': 4194, '끊임없다': 4195, '오시': 4196, '라곤': 4197, '체육관': 4198, '노화': 4199, '완쾌': 4200, '뚜렷하다': 4201, '기관지염': 4202, '비실': 4203, '하얘지다': 4204, '라야': 4205, '손잡다': 4206, '들르다': 4207, '팀워크': 4208, '놀이동산': 4209, '정당하다': 4210, '지게': 4211, '고지식하다': 4212, '고의': 4213, '승무원': 4214, '뮤지컬': 4215, '방지': 4216, '시아버지': 4217, '이뤄지다': 4218, '맛집': 4219, '비키다': 4220, '부린다': 4221, '교내': 4222, '분만': 4223, '방역': 4224, '잠수': 4225, '실행': 4226, '닦다': 4227, '벗': 4228, '우울': 4229, '남자에게': 4230, '어느덧다': 4231, '소질': 4232, '오류': 4233, '당신': 4234, '노년기': 4235, '특별': 4236, '손가락질': 4237, '노고': 4238, '점검': 4239, '떡볶이': 4240, '아흔': 4241, '밀': 4242, '밤낮없이': 4243, '꿇다': 4244, '동서': 4245, '괜스레': 4246, '사채': 4247, '얼떨떨하다': 4248, '여러가지': 4249, '사오': 4250, '던데': 4251, '축의금': 4252, '생신': 4253, '봉사활동': 4254, '유명': 4255, '후기': 4256, '어째': 4257, '도리어': 4258, '오디션': 4259, '오줌': 4260, '전역': 4261, '위염': 4262, '멍': 4263, '연고': 4264, '수록': 4265, '자격지심': 4266, '쫓다': 4267, '새삼': 4268, '노크': 4269, '극': 4270, '고도': 4271, '험하다': 4272, '번만': 4273, '연수': 4274, '사주면': 4275, '구경': 4276, '표시': 4277, '야속하다': 4278, '착용': 4279, '실천': 4280, '진도': 4281, '목욕탕': 4282, '적용': 4283, '항의': 4284, '선호': 4285, '경사': 4286, '진통': 4287, '운전면허': 4288, '동떨어지다': 4289, '헤치다': 4290, '전전긍긍': 4291, '홍보': 4292, '관심사': 4293, '숱': 4294, '동결': 4295, '해명': 4296, '무얼': 4297, '희귀': 4298, '춥다': 4299, '저조하다': 4300, '관념': 4301, '스카우트': 4302, '나날': 4303, '도울': 4304, '지원이': 4305, '도태': 4306, '낮추다': 4307, '에나': 4308, '촬영': 4309, '최소한': 4310, '공휴일': 4311, '입지': 4312, '발작': 4313, '에다가': 4314, '울리다': 4315, '감량': 4316, '차단': 4317, '작아지다': 4318, '흔하다': 4319, '결실': 4320, '성급하다': 4321, '과실': 4322, '그치다': 4323, '연구': 4324, '트러블': 4325, '걸어오다': 4326, '찜찜하다': 4327, '피고': 4328, '암울하다': 4329, '호스피스': 4330, '보양식': 4331, '무인도': 4332, '임종': 4333, '각오': 4334, '허세': 4335, '네트워크': 4336, '부축': 4337, '피우지': 4338, '가시': 4339, '인신공격': 4340, '채널': 4341, '위독하다': 4342, '옛말': 4343, '문신': 4344, '밝혀지다': 4345, '깨닫다': 4346, '연루': 4347, '협심증': 4348, '자율학습': 4349, '테스트': 4350, '개운하다': 4351, '기일': 4352, '옛': 4353, '위층': 4354, '주저앉다': 4355, '육체': 4356, '정장': 4357, '유급': 4358, '천만다행': 4359, '추': 4360, '핵심': 4361, '인색하다': 4362, '쥐다': 4363, '뿌리다': 4364, '시합': 4365, '학창시절': 4366, '운동화': 4367, '안절부절': 4368, '턱걸이': 4369, '토요일': 4370, '덜컥': 4371, '샘': 4372, '미흡하다': 4373, '퍼뜨리': 4374, '맑다': 4375, '아홉': 4376, '퇴근길': 4377, '기절': 4378, '뇌수막염': 4379, '어보': 4380, '자라': 4381, '골골': 4382, '유리하다': 4383, '싱겁다': 4384, '독하다': 4385, '계약서': 4386, '장마': 4387, '췌장암': 4388, '반년': 4389, '야채': 4390, '삐지다': 4391, '바늘': 4392, '산업': 4393, '음료수': 4394, '똥': 4395, '자궁': 4396, '작품': 4397, '정지': 4398, '늦': 4399, '대도': 4400, '자극': 4401, '급성': 4402, '비추다': 4403, '헛': 4404, '증언': 4405, '가든': 4406, '보도': 4407, '부사': 4408, '공경': 4409, '아르바이트생': 4410, '헛된': 4411, '셋': 4412, '비밀번호': 4413, '웬만하다': 4414, '실례': 4415, '출세': 4416, '찌르다': 4417, '미세먼지': 4418, '등하교': 4419, '재력': 4420, '영희': 4421, '학생회장': 4422, '낯가림': 4423, '수술실': 4424, '투덜거리다': 4425, '매월': 4426, '교차': 4427, '실습': 4428, '엘리베이터': 4429, '산소': 4430, '고약하다': 4431, '복귀': 4432, '회피': 4433, '격리': 4434, '께선': 4435, '지난날': 4436, '주사기': 4437, '전만': 4438, '볼일': 4439, '장점': 4440, '둘러보다': 4441, '신사': 4442, '신약': 4443, '꾹': 4444, '품다': 4445, '고독사': 4446, '씹다': 4447, '풍경': 4448, '위급하다': 4449, '형식': 4450, '압류': 4451, '검색': 4452, '제거': 4453, '잠자다': 4454, '잡아먹다': 4455, '이나마': 4456, '섣불리': 4457, '오천만': 4458, '통제': 4459, '임대': 4460, '현상': 4461, '태우다': 4462, '았': 4463, '까지의': 4464, '상담사': 4465, '필요성': 4466, '간경화': 4467, '성하다': 4468, '탕진': 4469, '보청기': 4470, '분장': 4471, '연배': 4472, '사보다': 4473, '가만두다': 4474, '수시로': 4475, '나무라다': 4476, '연령': 4477, '얇다': 4478, '비정상': 4479, '제멋대로': 4480, '불쑥': 4481, '허비하다': 4482, '주먹': 4483, '달려가다': 4484, '빠져나가다': 4485, '엠티': 4486, '움': 4487, '배경': 4488, '불필요하다': 4489, '웃기': 4490, '악착같이': 4491, '유전자': 4492, '빵집': 4493, '소풍': 4494, '휴대전화': 4495, '실로': 4496, '주선': 4497, '파킨슨병': 4498, '정신없이': 4499, '미대': 4500, '홧김': 4501, '처자': 4502, '구토': 4503, '구분': 4504, '사시': 4505, '권위': 4506, '외국인': 4507, '중요': 4508, '유치하다': 4509, '상쾌하다': 4510, '솜씨': 4511, '호흡': 4512, '도우미': 4513, '흐뭇하다': 4514, '순이': 4515, '반도': 4516, '나로': 4517, '전셋집': 4518, '배제': 4519, '믿음직하다': 4520, '만해': 4521, '면역': 4522, '꼬박': 4523, '문의': 4524, '소셜': 4525, '걸음': 4526, '주방': 4527, '갑질': 4528, '공통': 4529, '밥상': 4530, '준비물': 4531, '입금': 4532, '창문': 4533, '갑작스레': 4534, '예감': 4535, '귓등': 4536, '소화도': 4537, '즐거움': 4538, '비어': 4539, '마시기': 4540, '무안하다': 4541, '규모': 4542, '장래희망': 4543, '투기': 4544, '신부': 4545, '앞길': 4546, '얼어붙다': 4547, '어딨다': 4548, '양다리': 4549, '합의금': 4550, '실험': 4551, '나날이': 4552, '덕이': 4553, '여행가': 4554, '빨다': 4555, '가두다': 4556, '두근거리다': 4557, '금주': 4558, '소릴': 4559, '갈아입다': 4560, '기록': 4561, '직위': 4562, '러닝머신': 4563, '상환': 4564, '안기다': 4565, '일기': 4566, '먹듯': 4567, '따위': 4568, '면허': 4569, '오래오래': 4570, '웨딩드레스': 4571, '빠듯': 4572, '그다지': 4573, '정반대': 4574, '또다시': 4575, '단단하다': 4576, '치명': 4577, '한소리': 4578, '일수록': 4579, '제법': 4580, '조리': 4581, '흐름': 4582, '마침': 4583, '소소하다': 4584, '영문': 4585, '흘러가다': 4586, '발뺌': 4587, '어쩌겠어': 4588, '식히다': 4589, '계기': 4590, '꾸리': 4591, '양말': 4592, '녀': 4593, '휴지': 4594, '연휴': 4595, '타령': 4596, '웃': 4597, '그릇': 4598, '한의원': 4599, '신부전증': 4600, '단계': 4601, '응대': 4602, '가신': 4603, '뇌경색': 4604, '땅값': 4605, '틈틈이': 4606, '낙방': 4607, '영정': 4608, '쥐구멍': 4609, '칸': 4610, '일기장': 4611, '소견': 4612, '기피': 4613, '물혹': 4614, '겉모습': 4615, '수년': 4616, '화재': 4617, '나누기': 4618, '수석': 4619, '선언': 4620, '볶다': 4621, '이던': 4622, '파탄': 4623, '다소': 4624, '층간소음': 4625, '낙심': 4626, '임산부': 4627, '살걸': 4628, '실내': 4629, '트레이너': 4630, '건네주다': 4631, '재판': 4632, '팔리다': 4633, '모범': 4634, '원장': 4635, '불량하다': 4636, '상금': 4637, '노출': 4638, '모질다': 4639, '모집': 4640, '무력하다': 4641, '김치': 4642, '하기는': 4643, '선글라스': 4644, '침체': 4645, '바라지': 4646, '이성애자': 4647, '율': 4648, '기어': 4649, '시기하다': 4650, '캐나다': 4651, '사내연애': 4652, '주간': 4653, '가누다': 4654, '에어컨': 4655, '앞집': 4656, '미용': 4657, '전쟁': 4658, '부족함': 4659, '빨': 4660, '신용등급': 4661, '툴툴댔어': 4662, '장도': 4663, '가구': 4664, '흥청망청': 4665, '당구': 4666, '위아래': 4667, '놀이터': 4668, '만들어지다': 4669, '입상': 4670, '손찌검': 4671, '평': 4672, '뽀뽀': 4673, '소송': 4674, '사이트': 4675, '실종': 4676, '최저': 4677, '의학': 4678, '어중간하다': 4679, '민간요법': 4680, '양육비': 4681, '독거': 4682, '기안': 4683, '지난해': 4684, '증오': 4685, '희생양': 4686, '승승장구': 4687, '근속': 4688, '욱해': 4689, '알람': 4690, '뚝': 4691, '원통': 4692, '동년배': 4693, '쓴소리': 4694, '박람회': 4695, '대학병원': 4696, '매형': 4697, '말수': 4698, '아랫사람': 4699, '궁리': 4700, '바지': 4701, '과금': 4702, '남인': 4703, '가래': 4704, '거짓말쟁이': 4705, '젠데': 4706, '담기다': 4707, '종이': 4708, '굽': 4709, '생전': 4710, '피시방': 4711, '검소': 4712, '주변인': 4713, '버는데': 4714, '찬성': 4715, '내보내다': 4716, '단칸': 4717, '크리스마스': 4718, '구급차': 4719, '진솔하다': 4720, '설치다': 4721, '트림': 4722, '안과': 4723, '잇몸': 4724, '현관': 4725, '시원찮다': 4726, '향상': 4727, '금지': 4728, '도둑질': 4729, '속물': 4730, '두절': 4731, '허다': 4732, '번다': 4733, '시즌': 4734, '건성': 4735, '말년': 4736, '불리하다': 4737, '훌쩍': 4738, '입히다': 4739, '난청': 4740, '인복': 4741, '이명': 4742, '마자': 4743, '박탈': 4744, '산후': 4745, '심부전증': 4746, '자동화': 4747, '꼰대': 4748, '화병': 4749, '프로': 4750, '인테리어': 4751, '튀다': 4752, '착취': 4753, '두서': 4754, '넘어오다': 4755, '예단': 4756, '묘': 4757, '만큼의': 4758, '이러하다': 4759, '나이라': 4760, '출가': 4761, '버느': 4762, '화상': 4763, '산재': 4764, '아침밥': 4765, '귀촌': 4766, '소설': 4767, '화기': 4768, '적령': 4769, '묻히다': 4770, '접대': 4771, '따갑다': 4772, '혼수상태': 4773, '지끈': 4774, '적절하다': 4775, '비대': 4776, '허가': 4777, '김씨': 4778, '안면': 4779, '언급': 4780, '굴지': 4781, '정의': 4782, '일정하다': 4783, '근래': 4784, '률': 4785, '두드리다': 4786, '팔팔하다': 4787, '민감하다': 4788, '메': 4789, '과학': 4790, '형성': 4791, '시집가다': 4792, '처량하다': 4793, '유통': 4794, '고만': 4795, '소파': 4796, '무난': 4797, '구석구석': 4798, '병가': 4799, '깜박': 4800, '시원섭섭하다': 4801, '추진': 4802, '독신': 4803, '고사하고': 4804, '얼': 4805, '협조': 4806, '대뜸': 4807, '여부': 4808, '경향': 4809, '드레스': 4810, '진액': 4811, '성의': 4812, '예체능': 4813, '너그럽다': 4814, '강남': 4815, '시험관': 4816, '남매': 4817, '의사소통': 4818, '반납': 4819, '싱숭생숭하다': 4820, '맞춤법': 4821, '심술': 4822, '투자가': 4823, '마음속': 4824, '초음파': 4825, '사전': 4826, '계시': 4827, '무턱': 4828, '임대료': 4829, '만두': 4830, '아두': 4831, '도르다': 4832, '위선': 4833, '노예': 4834, '코피': 4835, '춤추다': 4836, '둔하다': 4837, '현기증': 4838, '발병': 4839, '제대': 4840, '협업': 4841, '붙이': 4842, '빌라': 4843, '부끄러움': 4844, '횡단보도': 4845, '계곡': 4846, '인형': 4847, '애초': 4848, '흉터': 4849, '여윳돈': 4850, '치솟다': 4851, '왕래': 4852, '활기차다': 4853, '우정': 4854, '직책': 4855, '폐결핵': 4856, '멤버': 4857, '알뜰하다': 4858, '악': 4859, '다름없다': 4860, '노리다': 4861, '집단': 4862, '기관': 4863, '일반': 4864, '마저도': 4865, '간신히': 4866, '절실': 4867, '감소': 4868, '문제점': 4869, '알아채다': 4870, '곡': 4871, '만이라도': 4872, '법도': 4873, '걘': 4874, '한정': 4875, '전반': 4876, '악담': 4877, '당시': 4878, '독': 4879, '차근차근': 4880, '쐬다': 4881, '애로': 4882, '인성': 4883, '다독이다': 4884, '순식간': 4885, '꼬리': 4886, '말걸': 4887, '소주': 4888, '난대': 4889, '재개발': 4890, '매다': 4891, '거꾸로': 4892, '방광염': 4893, '마킹': 4894, '치사하다': 4895, '보신': 4896, '건너다': 4897, '꽁초': 4898, '정신건강': 4899, '찍기': 4900, '완료': 4901, '춤': 4902, '백세': 4903, '구질구질하다': 4904, '종업원': 4905, '능숙하다': 4906, '알파벳': 4907, '감옥': 4908, '활기': 4909, '코스': 4910, '드물다': 4911, '여야': 4912, '결과물': 4913, '이주': 4914, '경비원': 4915, '뒷이야기': 4916, '어머님께': 4917, '쥐': 4918, '어쩌다가': 4919, '리포트': 4920, '공로': 4921, '친언니': 4922, '게이트볼': 4923, '주목': 4924, '생일도': 4925, '의료기기': 4926, '매몰': 4927, '필통': 4928, '구두': 4929, '자지': 4930, '가뿐하다': 4931, '시큰거리다': 4932, '사신': 4933, '지점': 4934, '팔지': 4935, '엄살': 4936, '전액': 4937, '흐리다': 4938, '뻐근하다': 4939, '담그다': 4940, '한탄': 4941, '위태': 4942, '파산': 4943, '아랫': 4944, '전기': 4945, '그린': 4946, '지능': 4947, '바닷가': 4948, '장기간': 4949, '채도': 4950, '스물': 4951, '친화력': 4952, '탁구': 4953, '교복': 4954, '서먹서먹하다': 4955, '극심하다': 4956, '만원': 4957, '영정사진': 4958, '분통': 4959, '아이스크림': 4960, '뜻밖': 4961, '모범생': 4962, '프랜차이즈': 4963, '기관지': 4964, '무대': 4965, '혈액': 4966, '토로': 4967, '본받다': 4968, '빠뜨리다': 4969, '먹어주다': 4970, '플레이': 4971, '엎어지다': 4972, '부산': 4973, '진술': 4974, '짜증스럽다': 4975, '의외로': 4976, '사랑스럽다': 4977, '환영': 4978, '호': 4979, '축제': 4980, '곱': 4981, '체지방': 4982, '측정': 4983, '빛': 4984, '정학': 4985, '용이': 4986, '야유회': 4987, '기재': 4988, '앞가림': 4989, '캠프': 4990, '툴툴거려': 4991, '뱃속': 4992, '얕다': 4993, '교대': 4994, '당직': 4995, '숙취': 4996, '골다': 4997, '곧바로': 4998, '무려': 4999, '본부장': 5000, '솟다': 5001, '독차지': 5002, '여덟': 5003, '깜빡깜빡': 5004, '깊이': 5005, '가습기': 5006, '머물다': 5007, '웬': 5008, '자가': 5009, '붓다': 5010, '공동': 5011, '본': 5012, '단벌': 5013, '드러내다': 5014, '빈곤하다': 5015, '어기': 5016, '수단': 5017, '위장': 5018, '불투명하다': 5019, '쇠약하다': 5020, '웨딩': 5021, '과로사': 5022, '편입': 5023, '실업자': 5024, '생인': 5025, '저렴하다': 5026, '신혼부부': 5027, '찝찝하다': 5028, '불화': 5029, '탄탄하다': 5030, '작업복': 5031, '지망': 5032, '단정': 5033, '박해': 5034, '어마어마하다': 5035, '부추기다': 5036, '먹고다': 5037, '수영장': 5038, '험악하다': 5039, '나다니다': 5040, '처참하다': 5041, '놀래다': 5042, '하얗다': 5043, '아쉬움': 5044, '치아': 5045, '충실하다': 5046, '복부': 5047, '전화기': 5048, '인문': 5049, '수락': 5050, '코드': 5051, '사먹다': 5052, '살피다': 5053, '미용실': 5054, '무좀': 5055, '퍼붓다': 5056, '전담': 5057, '부드럽다': 5058, '보나': 5059, '파산하다': 5060, '이에요': 5061, '수험': 5062, '신용카드': 5063, '팍팍하다': 5064, '출석': 5065, '채식': 5066, '사도': 5067, '자격': 5068, '국': 5069, '뒷받침': 5070, '나인': 5071, '어가': 5072, '뜨겁다': 5073, '규제': 5074, '짝꿍': 5075, '점원': 5076, '꼴찌': 5077, '방과': 5078, '모조리': 5079, '놨어': 5080, '트로트': 5081, '화난': 5082, '도리': 5083, '매니저': 5084, '떨어뜨리다': 5085, '조그마하다': 5086, '그랬다고': 5087, '관리사': 5088, '특정': 5089, '소금': 5090, '주자': 5091, '다수': 5092, '창창하다': 5093, '유세': 5094, '자립하다': 5095, '여건': 5096, '글씨': 5097, '커플링': 5098, '파견': 5099, '절차': 5100, '밝아지다': 5101, '엄하': 5102, '외제차': 5103, '보탬': 5104, '외톨': 5105, '합리': 5106, '재계약': 5107, '감수': 5108, '힐': 5109, '귀하다': 5110, '만취': 5111, '대입': 5112, '사두': 5113, '귀로': 5114, '원룸': 5115, '제라': 5116, '갓난아기': 5117, '졸리다': 5118, '회사원': 5119, '궤양': 5120, '사유': 5121, '킬로그램': 5122, '화끈': 5123, '의무': 5124, '프로포즈': 5125, '태블릿': 5126, '계발': 5127, '정신병원': 5128, '주정': 5129, '전원': 5130, '얼버무리다': 5131, '이래저래': 5132, '키스': 5133, '올려놓다': 5134, '궁': 5135, '습득': 5136, '계정': 5137, '일어서다': 5138, '건축': 5139, '어금니': 5140, '주치의': 5141, '진저리': 5142, '쌩쌩하다': 5143, '이겠다': 5144, '외할머니': 5145, '나대다': 5146, '산모': 5147, '탈퇴': 5148, '영수증': 5149, '홍수': 5150, '커리어': 5151, '묵살': 5152, '뛰어들다': 5153, '당기다': 5154, '리도': 5155, '일차': 5156, '툴툴': 5157, '깔보다': 5158, '공항': 5159, '고혈압약': 5160, '진전': 5161, '불경기': 5162, '훈계': 5163, '마중': 5164, '오로지': 5165, '임시': 5166, '교체': 5167, '특강': 5168, '계좌': 5169, '열기': 5170, '현명하다': 5171, '사십': 5172, '너무도': 5173, '이서': 5174, '모금': 5175, '상대로': 5176, '절': 5177, '시큰둥하다': 5178, '가해': 5179, '살길': 5180, '관광': 5181, '밤낮': 5182, '속인': 5183, '움큼': 5184, '연습생': 5185, '당번': 5186, '굴': 5187, '일보': 5188, '실업': 5189, '남녀': 5190, '호강': 5191, '물질': 5192, '변비': 5193, '흔적': 5194, '해먹': 5195, '제사': 5196, '강박': 5197, '다인': 5198, '내려앉다': 5199, '뒷산': 5200, '침착하다': 5201, '입력': 5202, '퍼뜨린': 5203, '밀고': 5204, '순수하다': 5205, '어지르다': 5206, '열중': 5207, '롭': 5208, '예습': 5209, '빠듯하': 5210, '덩': 5211, '무마': 5212, '면회': 5213, '회계': 5214, '잘되지': 5215, '놀랍다': 5216, '한가하다': 5217, '이라곤': 5218, '인식': 5219, '으로나': 5220, '갑': 5221, '웹툰': 5222, '그로': 5223, '벌금': 5224, '카네이션': 5225, '나야': 5226, '이참': 5227, '성도': 5228, '알아내다': 5229, '재취': 5230, '확장': 5231, '증명': 5232, '겨를': 5233, '태연하다': 5234, '직설': 5235, '되풀이': 5236, '태': 5237, '저만': 5238, '하곤': 5239, '어지럽히다': 5240, '만도': 5241, '호의': 5242, '맵다': 5243, '사과받다': 5244, '권리': 5245, '과잉': 5246, '고시': 5247, '튀어나오다': 5248, '상이': 5249, '대학가': 5250, '이외': 5251, '고비': 5252, '닫히다': 5253, '사교성': 5254, '세트': 5255, '헛산': 5256, '보내오다': 5257, '의하다': 5258, '반의': 5259, '만료': 5260, '살얼음': 5261, '에서나': 5262, '스트레칭': 5263, '쪽팔리다': 5264, '길가': 5265, '구십': 5266, '옥상': 5267, '볼펜': 5268, '악한': 5269, '텃밭': 5270, '이도': 5271, '산악': 5272, '지팡이': 5273, '햄버거': 5274, '부숴': 5275, '설정': 5276, '부정맥': 5277, '기억나다': 5278, '지수': 5279, '엑스레이': 5280, '장염': 5281, '아무튼': 5282, '돌이': 5283, '한없이': 5284, '시행': 5285, '대사': 5286, '영역': 5287, '골탕': 5288, '먹이': 5289, '만드': 5290, '만년': 5291, '해산물': 5292, '비겁하다': 5293, '경고': 5294, '일급': 5295, '뀌': 5296, '강화': 5297, '머': 5298, '서술': 5299, '삭제': 5300, '중요시': 5301, '오피스텔': 5302, '갑상선': 5303, '미역국': 5304, '오타': 5305, '원피스': 5306, '법원': 5307, '부고': 5308, '성소수자': 5309, '투덜대다': 5310, '향수': 5311, '서슴없이': 5312, '풍': 5313, '정색': 5314, '비관': 5315, '범죄자': 5316, '미경': 5317, '툭툭': 5318, '류머티즘': 5319, '감원': 5320, '테니스': 5321, '여겨지다': 5322, '고달프다': 5323, '로움': 5324, '편두통': 5325, '열사병': 5326, '혈변': 5327, '공인': 5328, '냉전': 5329, '왕복': 5330, '주년': 5331, '게시판': 5332, '경화': 5333, '딸리다': 5334, '기획서': 5335, '빈곤': 5336, '불리다': 5337, '개도': 5338, '양복': 5339, '교묘하다': 5340, '석류': 5341, '번복': 5342, '힘겹다': 5343, '시니어': 5344, '부조': 5345, '안전': 5346, '신입생': 5347, '만끽': 5348, '잡지': 5349, '갈리다': 5350, '타일러': 5351, '편견': 5352, '억이': 5353, '내려지다': 5354, '모진': 5355, '어처구니없다': 5356, '빈약하다': 5357, '스테이크': 5358, '아토피': 5359, '고대': 5360, '도서관': 5361, '바이어': 5362, '유부녀': 5363, '근심': 5364, '생선': 5365, '가정폭력': 5366, '다달이': 5367, '밥값': 5368, '자원': 5369, '뒤치다꺼리': 5370, '사직': 5371, '상습': 5372, '혀': 5373, '달라붙다': 5374, '팔십': 5375, '무릎관절': 5376, '악취': 5377, '되레': 5378, '박스': 5379, '삼수': 5380, '적막하다': 5381, '종': 5382, '돌변': 5383, '자기계발': 5384, '버튼': 5385, '밭': 5386, '어처구니': 5387, '축가': 5388, '매진': 5389, '게이': 5390, '훈수': 5391, '제만': 5392, '싹싹하다': 5393, '밥맛': 5394, '되돌아보다': 5395, '선후배': 5396, '나들이': 5397, '한바탕': 5398, '영심': 5399, '원한': 5400, '차림': 5401, '은퇴식': 5402, '들러붙다': 5403, '만큼도': 5404, '노숙자': 5405, '본격': 5406, '지체': 5407, '저장': 5408, '항공': 5409, '짚다': 5410, '심장질환': 5411, '수많다': 5412, '고령': 5413, '불어': 5414, '재검': 5415, '호르몬': 5416, '전업': 5417, '가격표': 5418, '기밀': 5419, '우려': 5420, '일절': 5421, '협력': 5422, '디자이너': 5423, '유전병': 5424, '행성': 5425, '몰두하다': 5426, '칠판': 5427, '전신': 5428, '쪽방': 5429, '단속': 5430, '출전': 5431, '합병': 5432, '해석': 5433, '자연스레': 5434, '음식물': 5435, '노부': 5436, '부가': 5437, '양치질': 5438, '조가': 5439, '고역': 5440, '맞서다': 5441, '최소': 5442, '금제': 5443, '인격': 5444, '인센티브': 5445, '때우다': 5446, '죽마고우': 5447, '팔자': 5448, '귀지': 5449, '조작': 5450, '회계사': 5451, '교환': 5452, '특기': 5453, '교장': 5454, '쌓이네': 5455, '설립': 5456, '어수선하다': 5457, '가하다': 5458, '멍하니': 5459, '과체중': 5460, '헐뜯다': 5461, '용법': 5462, '인적': 5463, '어리석다': 5464, '질서': 5465, '추태': 5466, '이동해': 5467, '그런': 5468, '수군대다': 5469, '아이템': 5470, '줄줄이': 5471, '호통': 5472, '숭숭': 5473, '낙서': 5474, '피임': 5475, '논리': 5476, '애애': 5477, '꾼': 5478, '결석': 5479, '피아니스트': 5480, '상실': 5481, '바르게': 5482, '삐': 5483, '공과': 5484, '과식': 5485, '복지사': 5486, '보유': 5487, '십억': 5488, '극도': 5489, '드러나다': 5490, '연주': 5491, '자국': 5492, '공책': 5493, '화내': 5494, '선생': 5495, '대의': 5496, '도난': 5497, '수집': 5498, '농구': 5499, '남고': 5500, '금세': 5501, '까칠하다': 5502, '가꾸다': 5503, '증인': 5504, '엄연하다': 5505, '괴로움': 5506, '패혈증': 5507, '양쪽': 5508, '까봐': 5509, '에까지': 5510, '생활고': 5511, '쪼들리다': 5512, '털': 5513, '소꿉친구': 5514, '서면': 5515, '시급': 5516, '차원': 5517, '출산율': 5518, '돋보기': 5519, '도입': 5520, '장담': 5521, '가운데': 5522, '명인': 5523, '극구': 5524, '실태': 5525, '살맛': 5526, '누리다': 5527, '고구마': 5528, '모함': 5529, '앱': 5530, '언론': 5531, '쓸데없이': 5532, '시가': 5533, '높이': 5534, '세운': 5535, '낫질': 5536, '유망': 5537, '취한': 5538, '비법': 5539, '떠보다': 5540, '분리': 5541, '가라앉히다': 5542, '순산': 5543, '저절로': 5544, '팔짱': 5545, '신부전': 5546, '얼다': 5547, '연결': 5548, '패딩': 5549, '촌스럽다': 5550, '오늘내일': 5551, '공식': 5552, '기타': 5553, '제자리걸음': 5554, '개입': 5555, '조각': 5556, '경청': 5557, '장애인': 5558, '비정규직': 5559, '휩쓸다': 5560, '외톨이야': 5561, '쉬쉬': 5562, '물리': 5563, '식비': 5564, '녹초': 5565, '가만': 5566, '붙들다': 5567, '공적': 5568, '아무나': 5569, '세뱃돈': 5570, '부인과': 5571, '빠져나오다': 5572, '악기': 5573, '퍼뜨렸어': 5574, '주택연금': 5575, '포트폴리오': 5576, '가정부': 5577, '두근두근': 5578, '절뚝': 5579, '말문': 5580, '순하다': 5581, '별도': 5582, '뒷모습': 5583, '한구석': 5584, '엎': 5585, '편안함': 5586, '죄인': 5587, '구두쇠': 5588, '신가': 5589, '어린이집': 5590, '로비': 5591, '복통': 5592, '뛰어다니다': 5593, '뀌었어': 5594, '태권도': 5595, '마는': 5596, '동조': 5597, '점도': 5598, '낮잠': 5599, '구가': 5600, '찾아다니다': 5601, '계열': 5602, '애통하다': 5603, '유리': 5604, '상장': 5605, '최씨': 5606, '월급쟁이': 5607, '패션': 5608, '사흘': 5609, '재건축': 5610, '친분': 5611, '명과': 5612, '살찐': 5613, '생생하다': 5614, '구성': 5615, '둘걸': 5616, '통계': 5617, '해오': 5618, '아낌없이': 5619, '위약금': 5620, '신지': 5621, '헤아리다': 5622, '몹쓸': 5623, '자원봉사': 5624, '점잖다': 5625, '온화하다': 5626, '근무시간': 5627, '어미': 5628, '부적': 5629, '결론': 5630, '번의': 5631, '취할': 5632, '창작': 5633, '포': 5634, '신물': 5635, '중요성': 5636, '욱하': 5637, '혈관': 5638, '외동': 5639, '환절기': 5640, '달이다': 5641, '용도': 5642, '헛디디다': 5643, '할인': 5644, '켜': 5645, '매너': 5646, '매장': 5647, '분양': 5648, '무관심': 5649, '유형': 5650, '만회': 5651, '나아가다': 5652, '치열하다': 5653, '깨뜨리다': 5654, '외딴': 5655, '렀': 5656, '절단': 5657, '팬': 5658, '비운': 5659, '경제활동': 5660, '앉히다': 5661, '부리면': 5662, '방황': 5663, '말주변': 5664, '전염': 5665, '에게까지': 5666, '이구나': 5667, '왕년': 5668, '개업': 5669, '사무직': 5670, '평화롭다': 5671, '토라': 5672, '린': 5673, '론': 5674, '얼떨결': 5675, '자소': 5676, '섭취': 5677, '분량': 5678, '요금': 5679, '해롭다': 5680, '정서': 5681, '더디다': 5682, '불확실하다': 5683, '끝장': 5684, '밖에는': 5685, '초보': 5686, '햇빛': 5687, '참고서': 5688, '복구': 5689, '수포': 5690, '맘껏': 5691, '요법': 5692, '우릴': 5693, '어두워지다': 5694, '슬럼프': 5695, '불행': 5696, '훈련': 5697, '툭': 5698, '조그만': 5699, '국민': 5700, '게을리': 5701, '정중하다': 5702, '자신만만하다': 5703, '누리': 5704, '탈출': 5705, '지구': 5706, '려니': 5707, '법적': 5708, '도구': 5709, '존댓말': 5710, '짐작': 5711, '양해': 5712, '어필': 5713, '그러다가': 5714, '일어나고': 5715, '커피숍': 5716, '이따가': 5717, '만큼만': 5718, '움츠러들다': 5719, '쉬엄쉬엄': 5720, '소모': 5721, '소수자': 5722, '시청': 5723, '소고기': 5724, '딱지': 5725, '빈손': 5726, '연하': 5727, '모욕감': 5728, '뇌리': 5729, '거뜬하다': 5730, '피피티': 5731, '짠하다': 5732, '눈뜨다': 5733, '유도': 5734, '공짜': 5735, '증가': 5736, '볼품': 5737, '아이고': 5738, '냉정하다': 5739, '덤벼': 5740, '대야': 5741, '어도': 5742, '이메일': 5743, '매정하다': 5744, '경영학': 5745, '리모컨': 5746, '멸시': 5747, '늘어지다': 5748, '만행': 5749, '침울하다': 5750, '눈물나다': 5751, '불치': 5752, '폰': 5753, '오만': 5754, '발등': 5755, '프리랜서': 5756, '볕': 5757, '무지': 5758, '진즉': 5759, '결리다': 5760, '사우나': 5761, '낙오': 5762, '주책': 5763, '치부': 5764, '실명': 5765, '보류': 5766, '진영': 5767, '재수술': 5768, '돌잔치': 5769, '꼬치꼬치': 5770, '호들갑': 5771, '두르다': 5772, '전의': 5773, '볶음': 5774, '아비': 5775, '주관': 5776, '샌드위치': 5777, '무자식': 5778, '양수': 5779, '용납': 5780, '머무르다': 5781, '풀어지다': 5782, '슈퍼마켓': 5783, '애기': 5784, '맴돌다': 5785, '도장': 5786, '생애': 5787, '사하다': 5788, '안지': 5789, '양일': 5790, '호소': 5791, '초년': 5792, '감독': 5793, '역사': 5794, '소집': 5795, '정수기': 5796, '발주': 5797, '모호하다': 5798, '입양아': 5799, '유언': 5800, '생존': 5801, '족구': 5802, '뱀': 5803, '찜질': 5804, '옆구리': 5805, '웬일': 5806, '도자기': 5807, '정신병': 5808, '막심': 5809, '더럽히다': 5810, '커녕': 5811, '뒹굴': 5812, '성전환': 5813, '분기': 5814, '대부': 5815, '엑셀': 5816, '한껏': 5817, '뱀술': 5818, '오락': 5819, '바다로': 5820, '순환': 5821, '손발': 5822, '오죽하다': 5823, '수저': 5824, '정식': 5825, '납골당': 5826, '몰골': 5827, '내뱉다': 5828, '뽐내다': 5829, '리스크': 5830, '노인성': 5831, '아려': 5832, '허구': 5833, '입사시험': 5834, '대화방': 5835, '저염식': 5836, '지면': 5837, '강조': 5838, '세지': 5839, '신분': 5840, '대우받다': 5841, '얹혀살다': 5842, '회관': 5843, '손바닥': 5844, '뇌수술': 5845, '해둘걸': 5846, '천하태평': 5847, '음란물': 5848, '발달': 5849, '허위': 5850, '경기도': 5851, '뺑소니': 5852, '특근': 5853, '앞당기다': 5854, '학우': 5855, '녹즙': 5856, '복직': 5857, '시샘': 5858, '전산': 5859, '삭막하다': 5860, '제보': 5861, '야호': 5862, '피크': 5863, '추워지다': 5864, '증권': 5865, '곧장': 5866, '화면': 5867, '사연': 5868, '파스타': 5869, '필름': 5870, '목걸이': 5871, '동문': 5872, '빙판': 5873, '명령': 5874, '과음': 5875, '작은아들': 5876, '예방주사': 5877, '제로': 5878, '눈초리': 5879, '차량': 5880, '오리엔테이션': 5881, '비율': 5882, '쿵쿵': 5883, '금고': 5884, '기여': 5885, '팽': 5886, '한단': 5887, '뇌척수막': 5888, '발음': 5889, '어눌하다': 5890, '각각': 5891, '승급': 5892, '수명': 5893, '어안': 5894, '벙벙하다': 5895, '묵묵하다': 5896, '사경': 5897, '통지서': 5898, '야뇨증': 5899, '구심': 5900, '인터뷰': 5901, '움츠리다': 5902, '성장': 5903, '썩이다': 5904, '총': 5905, '정착': 5906, '어젠': 5907, '십견': 5908, '신제품': 5909, '갈수': 5910, '알콩달콩': 5911, '트': 5912, '품절': 5913, '부터가': 5914, '창밖': 5915, '전립선': 5916, '할멈': 5917, '비명': 5918, '철회': 5919, '올케': 5920, '선명하다': 5921, '골목': 5922, '노여움': 5923, '챙': 5924, '품질': 5925, '난이': 5926, '철렁': 5927, '가불': 5928, '풍요': 5929, '한국어': 5930, '비웃음': 5931, '교우': 5932, '일주년': 5933, '체념하다': 5934, '실업계': 5935, '스팸': 5936, '탁': 5937, '지독하다': 5938, '병중': 5939, '울화통': 5940, '무덤': 5941, '박대': 5942, '트렌드': 5943, '볼걸': 5944, '환상': 5945, '가증': 5946, '장인': 5947, '막대': 5948, '덜하다': 5949, '차라': 5950, '실무': 5951, '감상': 5952, '일박': 5953, '양로원': 5954, '결': 5955, '항해': 5956, '격해지다': 5957, '구멍': 5958, '잡곡': 5959, '분가': 5960, '청력': 5961, '게이머': 5962, '은혜': 5963, '간부': 5964, '우산': 5965, '꺾다': 5966, '백일': 5967, '이력': 5968, '이해력': 5969, '뛰어가다': 5970, '넘어뜨리다': 5971, '침묵': 5972, '분할': 5973, '두둑': 5974, '관둘': 5975, '짖다': 5976, '친근하다': 5977, '응모': 5978, '일치': 5979, '처우': 5980, '경직': 5981, '만큼이나': 5982, '위조': 5983, '일곱': 5984, '월말': 5985, '대감': 5986, '죗값': 5987, '재직': 5988, '산악회': 5989, '베이비': 5990, '감흥': 5991, '수능시험': 5992, '기승': 5993, '간수치': 5994, '맨': 5995, '수련': 5996, '더부룩하다': 5997, '자매': 5998, '제작': 5999, '투명': 6000, '남일': 6001, '지정': 6002, '립스틱': 6003, '야자': 6004, '우시': 6005, '신어': 6006, '경품': 6007, '성폭행': 6008, '갑상샘': 6009, '마늘': 6010, '파손': 6011, '툴툴거리': 6012, '여보': 6013, '미숙': 6014, '주인공': 6015, '첫인상': 6016, '초췌하다': 6017, '개미': 6018, '이빨': 6019, '도달': 6020, '넓어지다': 6021, '해달': 6022, '곳곳': 6023, '문턱': 6024, '기반': 6025, '개학': 6026, '통째': 6027, '놨더': 6028, '가스': 6029, '본의': 6030, '늘그막': 6031, '거액': 6032, '꺼지다': 6033, '재작년': 6034, '오르내리다': 6035, '등등': 6036, '고기만': 6037, '부풀리다': 6038, '가득': 6039, '구인': 6040, '그제야': 6041, '카메라': 6042, '엎드리다': 6043, '식후': 6044, '쏠쏠하다': 6045, '찜질방': 6046, '앞당겨지다': 6047, '운용': 6048, '팔찌': 6049, '혈액형': 6050, '화환': 6051, '감사패': 6052, '캄캄해지다': 6053, '배분': 6054, '끈': 6055, '답지': 6056, '강인하다': 6057, '단풍': 6058, '잔인하다': 6059, '다운': 6060, '끙끙대다': 6061, '연도': 6062, '갖은': 6063, '첫사랑': 6064, '붙임성': 6065, '비속어': 6066, '혼전': 6067, '무서움': 6068, '댓글': 6069, '회화': 6070, '피시': 6071, '따오다': 6072, '억지': 6073, '비롯': 6074, '말동무': 6075, '중개인': 6076, '우쭐대다': 6077, '술잔': 6078, '직후': 6079, '엇': 6080, '돌연사': 6081, '공금': 6082, '다지': 6083, '피자': 6084, '복장': 6085, '에서까지': 6086, '반지하': 6087, '시점': 6088, '대한민국': 6089, '호기심': 6090, '대외': 6091, '경찰관': 6092, '밀가루': 6093, '공공': 6094, '수평': 6095, '고함': 6096, '파트너': 6097, '표창장': 6098, '복합': 6099, '동일하다': 6100, '끝내기': 6101, '급전': 6102, '맞장구': 6103, '살수': 6104, '이해도': 6105, '알선': 6106, '짧아지다': 6107, '잡무': 6108, '정형외과': 6109, '북받치다': 6110, '골병': 6111, '설교': 6112, '방탄소년단': 6113, '대립': 6114, '진창': 6115, '여자아이': 6116, '가정사': 6117, '싱글벙글': 6118, '컵': 6119, '정거장': 6120, '마땅치': 6121, '왕': 6122, '불참': 6123, '위생': 6124, '노조': 6125, '분도': 6126, '경멸': 6127, '용종': 6128, '생소하다': 6129, '소아': 6130, '고스': 6131, '쇼크': 6132, '옮': 6133, '다그': 6134, '연연하다': 6135, '갈구다': 6136, '매매': 6137, '작당': 6138, '무지하다': 6139, '구월': 6140, '벌벌': 6141, '오십만': 6142, '우대': 6143, '투표': 6144, '패스트푸드': 6145, '부끄럼': 6146, '아찔하다': 6147, '리스트': 6148, '으로서의': 6149, '독박': 6150, '김장': 6151, '잇속': 6152, '긴급하다': 6153, '컵라면': 6154, '주무시다': 6155, '자질': 6156, '통풍': 6157, '덤덤하다': 6158, '심리상담': 6159, '사모님': 6160, '불규칙하다': 6161, '병인': 6162, '회삿돈': 6163, '체면': 6164, '스승': 6165, '사진작가': 6166, '대적': 6167, '서질': 6168, '못지않다': 6169, '답시고': 6170, '집들이': 6171, '부품': 6172, '다음주': 6173, '곰팡이': 6174, '월차': 6175, '아프리카': 6176, '어림': 6177, '콜센터': 6178, '집회': 6179, '고심': 6180, '건조하다': 6181, '오거': 6182, '여지': 6183, '파': 6184, '곧잘': 6185, '시집살이': 6186, '연관': 6187, '일쑤': 6188, '한문': 6189, '환승': 6190, '장인어른': 6191, '마음가짐': 6192, '고자질': 6193, '신호': 6194, '셀': 6195, '맛보다': 6196, '하반신': 6197, '경계': 6198, '가가': 6199, '바가지': 6200, '시시콜콜': 6201, '몰입': 6202, '전문성': 6203, '관계없이': 6204, '유서': 6205, '조교': 6206, '풀칠': 6207, '법률': 6208, '팔씨름': 6209, '쩝쩝': 6210, '쩔쩔매다': 6211, '영화배우': 6212, '필요없다': 6213, '목발': 6214, '싸늘하다': 6215, '폭탄': 6216, '십오': 6217, '서든': 6218, '실체': 6219, '심기': 6220, '무리다': 6221, '시련': 6222, '제빵사': 6223, '간소': 6224, '상반기': 6225, '오픈': 6226, '속도위반': 6227, '악성종양': 6228, '배탈': 6229, '분실': 6230, '풍요롭': 6231, '숙소': 6232, '하란': 6233, '벼르': 6234, '공통점': 6235, '그대': 6236, '아사코': 6237, '코로': 6238, '노하우': 6239, '스케줄': 6240, '양도': 6241, '다정다감하다': 6242, '외상': 6243, '데이터': 6244, '내력': 6245, '사주': 6246, '서인': 6247, '우수': 6248, '둘러대다': 6249, '놨는데': 6250, '융통성': 6251, '더러워지다': 6252, '아이야': 6253, '섣부르다': 6254, '여운': 6255, '받치다': 6256, '무게': 6257, '농촌': 6258, '우유부단하다': 6259, '염색': 6260, '회식비': 6261, '출시': 6262, '순은': 6263, '우울함': 6264, '질린다': 6265, '가시다': 6266, '열악하다': 6267, '방심하다': 6268, '부탁드리다': 6269, '유머': 6270, '캐비닛': 6271, '건방지다': 6272, '익히다': 6273, '퍼': 6274, '디저트': 6275, '비판': 6276, '훈육': 6277, '골반': 6278, '육십오': 6279, '감회': 6280, '고서': 6281, '하여간': 6282, '차일피일': 6283, '술술': 6284, '어저께': 6285, '유가족': 6286, '과격하다': 6287, '곤혹': 6288, '삼일': 6289, '악순환': 6290, '어학': 6291, '깨달': 6292, '수상': 6293, '듬직하다': 6294, '운동신경': 6295, '식도': 6296, '놨': 6297, '만화': 6298, '계약금': 6299, '배구': 6300, '종식': 6301, '한결같이': 6302, '업종': 6303, '변동': 6304, '콤플렉스': 6305, '선지': 6306, '뚫리다': 6307, '얽히다': 6308, '떠돌다': 6309, '인정이': 6310, '본적': 6311, '열심': 6312, '간직': 6313, '악감': 6314, '일당': 6315, '세심': 6316, '기약': 6317, '날로': 6318, '셨': 6319, '익숙': 6320, '용다': 6321, '업도': 6322, '충전': 6323, '검': 6324, '조사해': 6325, '출하': 6326, '에가': 6327, '객관': 6328, '내겐': 6329, '서로서로': 6330, '번지': 6331, '명복': 6332, '나볼': 6333, '구르다': 6334, '주기도': 6335, '월등하다': 6336, '밤잠': 6337, '반려동물': 6338, '상부': 6339, '불가피하다': 6340, '허사': 6341, '재검사': 6342, '에게라도': 6343, '까딱': 6344, '차차': 6345, '납득': 6346, '실비': 6347, '스스럼없이': 6348, '뻥': 6349, '나위': 6350, '감히': 6351, '감쪽': 6352, '엮': 6353, '과속': 6354, '충성': 6355, '스르': 6356, '샴푸': 6357, '덥석': 6358, '전공자': 6359, '간접흡연': 6360, '임해': 6361, '람': 6362, '서고': 6363, '장녀': 6364, '일시': 6365, '긴장도': 6366, '사가다': 6367, '어쩌라고': 6368, '에세이': 6369, '진동': 6370, '구걸': 6371, '예술': 6372, '안락사': 6373, '심근경색증': 6374, '시원': 6375, '원만': 6376, '우르르': 6377, '이런': 6378, '임용': 6379, '예방접종': 6380, '금일': 6381, '사이클': 6382, '부진': 6383, '측은하다': 6384, '완벽': 6385, '스마트': 6386, '변심': 6387, '전생': 6388, '관문': 6389, '변치': 6390, '발송': 6391, '떨떠름하다': 6392, '헛되': 6393, '트렸': 6394, '내조': 6395, '사진관': 6396, '지향성': 6397, '몸조리': 6398, '어김없이': 6399, '벌칙': 6400, '그려지다': 6401, '현미': 6402, '일용직': 6403, '으쓱': 6404, '회의실': 6405, '싸구려': 6406, '항심': 6407, '대학교수': 6408, '펀드매니저': 6409, '금수': 6410, '행색': 6411, '홀': 6412, '피부색': 6413, '예시': 6414, '식판': 6415, '눈가': 6416, '들들': 6417, '숫기': 6418, '대성공': 6419, '시말서': 6420, '삐뚤어지다': 6421, '둘리': 6422, '무감각': 6423, '신체검사': 6424, '이군': 6425, '관여': 6426, '정황': 6427, '맑은': 6428, '골인': 6429, '골프채': 6430, '괴팍하다': 6431, '상팔자': 6432, '포교': 6433, '완벽주의자': 6434, '대지': 6435, '근교': 6436, '대머리': 6437, '갈아': 6438, '술병': 6439, '에서조차': 6440, '본사': 6441, '관리인': 6442, '한국사': 6443, '도덕': 6444, '떠밀다': 6445, '미납': 6446, '수백': 6447, '시급하다': 6448, '성의껏': 6449, '구먼': 6450, '고령자': 6451, '등지': 6452, '금식': 6453, '용지': 6454, '제압': 6455, '일찍이': 6456, '매수': 6457, '학예회': 6458, '똑': 6459, '툴툴거린': 6460, '상조': 6461, '여자도': 6462, '성전환수술': 6463, '메우다': 6464, '떤다': 6465, '회수': 6466, '길고양이': 6467, '나일': 6468, '더미': 6469, '대로는': 6470, '언어': 6471, '우애': 6472, '일가': 6473, '편집장': 6474, '중개사': 6475, '토지': 6476, '컨설팅': 6477, '물르다': 6478, '매입': 6479, '주연': 6480, '배송': 6481, '파업': 6482, '맞선': 6483, '도주': 6484, '고깃집': 6485, '척추': 6486, '달마': 6487, '새내기': 6488, '익명': 6489, '세라': 6490, '분주하다': 6491, '중증': 6492, '성분': 6493, '오백': 6494, '좌석': 6495, '괴물': 6496, '곤경': 6497, '재킷': 6498, '더치페이': 6499, '노심초사': 6500, '네일아트': 6501, '독단': 6502, '학': 6503, '평화': 6504, '킬로': 6505, '선천': 6506, '조처': 6507, '시내': 6508, '연로': 6509, '잉여': 6510, '혐의': 6511, '사납다': 6512, '재해': 6513, '검증': 6514, '들락날락': 6515, '한창때': 6516, '트랜스젠더': 6517, '친자': 6518, '근로': 6519, '동고동락': 6520, '욕먹다': 6521, '질색': 6522, '임원진': 6523, '소모품': 6524, '아인': 6525, '살인': 6526, '프린터': 6527, '상일': 6528, '재수생': 6529, '창': 6530, '새치기': 6531, '온천': 6532, '결핍': 6533, '만류': 6534, '권력': 6535, '잉꼬': 6536, '어쩌자': 6537, '사물함': 6538, '극진하다': 6539, '척해': 6540, '개강': 6541, '할당': 6542, '요점': 6543, '패키지': 6544, '해마다': 6545, '스카웃': 6546, '교외': 6547, '타자': 6548, '일어난다': 6549, '기형': 6550, '겁쟁이': 6551, '취약점': 6552, '대졸': 6553, '유물': 6554, '짐짝': 6555, '어지럼증': 6556, '급락': 6557, '지네': 6558, '깨우치다': 6559, '리더십': 6560, '팔다리': 6561, '앞뒤': 6562, '인큐베이터': 6563, '차근차근하다': 6564, '라인': 6565, '유치장': 6566, '부적절하다': 6567, '사이만': 6568, '원활하다': 6569, '태평하다': 6570, '패': 6571, '태교': 6572, '계층': 6573, '눈곱': 6574, '거처': 6575, '주번': 6576, '툴툴거렸어': 6577, '헛구역질': 6578, '입술': 6579, '쏟아내다': 6580, '대니': 6581, '알츠하이머': 6582, '조종사': 6583, '혈액암': 6584, '해지니': 6585, '체지방률': 6586, '원도': 6587, '뻘쭘해': 6588, '마마': 6589, '고단': 6590, '보건소': 6591, '싱글': 6592, '머뭇거리다': 6593, '지하': 6594, '울음소리': 6595, '사탕': 6596, '흥미롭다': 6597, '치주염': 6598, '비로소': 6599, '증진': 6600, '천장': 6601, '저녁식사': 6602, '휴게실': 6603, '들보': 6604, '합심': 6605, '입상하다': 6606, '역류성': 6607, '식도염': 6608, '설날': 6609, '교통비': 6610, '삭히다': 6611, '앤': 6612, '오른쪽': 6613, '딱딱하다': 6614, '정규': 6615, '스포츠': 6616, '소방관': 6617, '부진하다': 6618, '멘토': 6619, '페이': 6620, '세대차이': 6621, '가중': 6622, '공연': 6623, '어나': 6624, '연금복권': 6625, '랍시고': 6626, '내다보다': 6627, '아파해': 6628, '전시': 6629, '계란': 6630, '중식': 6631, '가엾다': 6632, '어린이': 6633, '편의': 6634, '워킹맘': 6635, '흥이': 6636, '귀중하다': 6637, '발톱': 6638, '사교육': 6639, '남남': 6640, '강압': 6641, '선약': 6642, '위도': 6643, '글자': 6644, '착오': 6645, '조이다': 6646, '곰곰': 6647, '이일': 6648, '실손': 6649, '약초': 6650, '구시대': 6651, '결산': 6652, '서방': 6653, '솟구치다': 6654, '물정': 6655, '이의': 6656, '예외': 6657, '거더': 6658, '차오르다': 6659, '주요': 6660, '동성애': 6661, '덤벙대다': 6662, '친밀하다': 6663, '친한친구': 6664, '고갈': 6665, '난장판': 6666, '찬밥': 6667, '집요하다': 6668, '흙': 6669, '석차': 6670, '종합병원': 6671, '금메달': 6672, '낙인': 6673, '구제': 6674, '불능': 6675, '이장님': 6676, '결혼반지': 6677, '옷가게': 6678, '껍데기': 6679, '두껍다': 6680, '장기로': 6681, '비중': 6682, '일손': 6683, '운동회': 6684, '고삼': 6685, '봉양': 6686, '김부': 6687, '장모': 6688, '가주': 6689, '더라도': 6690, '휴무': 6691, '목욕': 6692, '연명': 6693, '행세': 6694, '걸레': 6695, '뛰어오다': 6696, '박수': 6697, '주무르다': 6698, '대인기피증': 6699, '축소': 6700, '부여': 6701, '배역': 6702, '내자': 6703, '만만': 6704, '뻗다': 6705, '옥': 6706, '선산': 6707, '중압감': 6708, '서슴지': 6709, '칠하다': 6710, '재단': 6711, '짓궂다': 6712, '산후조리': 6713, '수감': 6714, '쌈짓돈': 6715, '달랑': 6716, '진땀': 6717, '음반': 6718, '세미나': 6719, '얌전하다': 6720, '간경변': 6721, '컨설턴트': 6722, '설렁설렁': 6723, '트릴': 6724, '자자하다': 6725, '수요일': 6726, '환갑잔치': 6727, '용어': 6728, '후두': 6729, '조상': 6730, '술김': 6731, '일주': 6732, '눈시울': 6733, '오신': 6734, '이차': 6735, '사고방식': 6736, '말벗': 6737, '신선하다': 6738, '버섯': 6739, '꽂다': 6740, '체형': 6741, '효능': 6742, '한턱': 6743, '구성원': 6744, '재산세': 6745, '먼지': 6746, '블로그': 6747, '구단': 6748, '방출': 6749, '플러스': 6750, '더위': 6751, '두드러기': 6752, '공황장애': 6753, '한판': 6754, '곤충': 6755, '부패': 6756, '승률': 6757, '허벅지': 6758, '뜨개질': 6759, '일억이': 6760, '앞장서다': 6761, '인물': 6762, '오피스': 6763, '삼십만': 6764, '상도': 6765, '연체': 6766, '보미': 6767, '일거수일투족': 6768, '아웃': 6769, '봉지': 6770, '아우': 6771, '코골': 6772, '냉면': 6773, '부하라': 6774, '넥타이': 6775, '및': 6776, '행패': 6777, '유복하다': 6778, '흔들다': 6779, '무언': 6780, '운동복': 6781, '민철': 6782, '곱다': 6783, '화제': 6784, '미심': 6785, '검다': 6786, '쇠': 6787, '헛웃음': 6788, '조로': 6789, '설문지': 6790, '신음': 6791, '정전': 6792, '술값': 6793, '폐경기': 6794, '중재': 6795, '백조': 6796, '납작하다': 6797, '혈육': 6798, '방광암': 6799, '섹스': 6800, '빵점': 6801, '자판기': 6802, '복학생': 6803, '무역': 6804, '손재주': 6805, '무식하다': 6806, '확대': 6807, '대중': 6808, '부녀': 6809, '발가락': 6810, '파마': 6811, '한국말': 6812, '해둘': 6813, '전교생': 6814, '테이블': 6815, '궁핍하다': 6816, '페이퍼': 6817, '웅': 6818, '소독': 6819, '한도': 6820, '에서만큼은': 6821, '저녁밥': 6822, '미영': 6823, '도모': 6824, '표기': 6825, '잊혀지다': 6826, '사래': 6827, '재롱': 6828, '푼돈': 6829, '공단': 6830, '호언': 6831, '냉담하다': 6832, '가족사진': 6833, '메세지': 6834, '집문서': 6835, '솔로인': 6836, '발길': 6837, '별명': 6838, '일본': 6839, '석사': 6840, '이끼': 6841, '하굣길': 6842, '시신': 6843, '견': 6844, '행실': 6845, '헤프': 6846, '승소': 6847, '명예롭': 6848, '안색': 6849, '틀어놓다': 6850, '명목': 6851, '처녀': 6852, '마땅': 6853, '약재': 6854, '한적하다': 6855, '편협': 6856, '산골': 6857, '벨': 6858, '초밥': 6859, '인공수정': 6860, '잠기다': 6861, '자랑거리': 6862, '찾아내다': 6863, '전무': 6864, '일터': 6865, '유머러스하다': 6866, '오월': 6867, '뭣': 6868, '은행원': 6869, '어떤': 6870, '삐걱': 6871, '관두': 6872, '풍기다': 6873, '성취': 6874, '혼미하다': 6875, '오래도록': 6876, '흠': 6877, '껄끄러워': 6878, '애사': 6879, '개수': 6880, '비뇨기': 6881, '전략': 6882, '우스꽝스럽다': 6883, '물불': 6884, '삼백만': 6885, '집세': 6886, '주차장': 6887, '귀국': 6888, '유발': 6889, '현관문': 6890, '균': 6891, '주스': 6892, '다나': 6893, '징징대다': 6894, '뉘우치다': 6895, '정원': 6896, '뎌': 6897, '환경미화원': 6898, '지위': 6899, '왼쪽': 6900, '까마득하다': 6901, '문고': 6902, '소가': 6903, '인내심': 6904, '이마': 6905, '양호': 6906, '가정불화': 6907, '흑자': 6908, '다시금': 6909, '메뚜기': 6910, '좌천': 6911, '지표': 6912, '막걸리': 6913, '왈칵': 6914, '염좌': 6915, '야구장': 6916, '메모': 6917, '질타': 6918, '적반하장': 6919, '몸싸움': 6920, '혈당량': 6921, '퍼뜨려': 6922, '우회': 6923, '들먹이다': 6924, '수나': 6925, '삼겹살': 6926, '축농증': 6927, '완고하다': 6928, '그저께': 6929, '파리': 6930, '넋': 6931, '좌': 6932, '떠내려가다': 6933, '퇴행': 6934, '움직임': 6935, '뻣뻣하다': 6936, '친아빠': 6937, '피티': 6938, '확산': 6939, '칠십이': 6940, '무직': 6941, '혹사': 6942, '흩어지다': 6943, '타입': 6944, '세고': 6945, '엇갈리다': 6946, '증권사': 6947, '장비': 6948, '줄넘기': 6949, '메달': 6950, '생리대': 6951, '운동선수': 6952, '잔업': 6953, '액정': 6954, '합류': 6955, '친오빠': 6956, '과장하다': 6957, '초콜릿': 6958, '사방': 6959, '스레': 6960, '피지': 6961, '다야': 6962, '인증': 6963, '휴양지': 6964, '민수': 6965, '곤두박질': 6966, '수금': 6967, '조문': 6968, '다솜': 6969, '운전자': 6970, '작정': 6971, '부실하다': 6972, '내장': 6973, '급등': 6974, '밤중': 6975, '호응': 6976, '응답': 6977, '갈비찜': 6978, '폐해': 6979, '손수': 6980, '이보': 6981, '텅텅': 6982, '자네': 6983, '장시간': 6984, '파스': 6985, '차기': 6986, '자재': 6987, '저택': 6988, '병약하다': 6989, '여사': 6990, '치도': 6991, '나앉다': 6992, '애완동물': 6993, '번갈아': 6994, '슥': 6995, '남친': 6996, '로써': 6997, '분풀이': 6998, '적립': 6999, '타오': 7000, '구강': 7001, '건너가다': 7002, '정돈': 7003, '변덕': 7004, '지사': 7005, '그러기에': 7006, '호출': 7007, '구실': 7008, '작물': 7009, '남부럽다': 7010, '오냐': 7011, '모발': 7012, '암투': 7013, '컴': 7014, '플레인': 7015, '스몰': 7016, '비치다': 7017, '같잖다': 7018, '해체': 7019, '소속': 7020, '일부분': 7021, '와전': 7022, '열두': 7023, '날카로워지다': 7024, '권한': 7025, '공과금': 7026, '엉덩이': 7027, '주랑': 7028, '보아': 7029, '롤모델': 7030, '자수': 7031, '확진': 7032, '로고': 7033, '근거': 7034, '유지비': 7035, '개성': 7036, '때론': 7037, '바퀴': 7038, '과부': 7039, '사후세계': 7040, '부재': 7041, '초초해': 7042, '슬리퍼': 7043, '사이즈': 7044, '병과': 7045, '오십오': 7046, '문책': 7047, '일자': 7048, '울화': 7049, '열세': 7050, '위계': 7051, '근원': 7052, '천지': 7053, '손길': 7054, '중매': 7055, '잔기침': 7056, '전전': 7057, '말귀': 7058, '미묘하다': 7059, '자동': 7060, '경로': 7061, '킬로나': 7062, '것일': 7063, '닳다': 7064, '동정': 7065, '차분해지다': 7066, '서지': 7067, '간혹': 7068, '문학': 7069, '수칙': 7070, '뇌혈관': 7071, '분과': 7072, '베다': 7073, '반주': 7074, '커버': 7075, '경위서': 7076, '말끝': 7077, '랬': 7078, '고물': 7079, '화요일': 7080, '항생제': 7081, '대물리다': 7082, '엉엉': 7083, '오직': 7084, '클래스': 7085, '구별': 7086, '탐색': 7087, '자그마하다': 7088, '뒷돈': 7089, '상실하다': 7090, '외적인': 7091, '문학소녀': 7092, '외할아버지': 7093, '속임수': 7094, '이쯤': 7095, '참관': 7096, '논의': 7097, '종신': 7098, '껄': 7099, '빠듯할': 7100, '투잡': 7101, '토악질': 7102, '담요': 7103, '얼룩': 7104, '격차': 7105, '현직': 7106, '쪼': 7107, '무심코': 7108, '다다르다': 7109, '단위': 7110, '골프장': 7111, '에스컬레이터': 7112, '사의': 7113, '이율': 7114, '여자라서': 7115, '어지간하다': 7116, '책임자': 7117, '무기한': 7118, '동원': 7119, '라디오': 7120, '고리타분하다': 7121, '회한': 7122, '모나': 7123, '업주': 7124, '설치': 7125, '까맣다': 7126, '뇌물': 7127, '고교': 7128, '신분증': 7129, '덴': 7130, '입버릇': 7131, '그러하다': 7132, '입어보다': 7133, '과민': 7134, '호상': 7135, '가압류': 7136, '갓': 7137, '달아나다': 7138, '불의': 7139, '출품': 7140, '감고': 7141, '현지': 7142, '역다': 7143, '둘러싸이다': 7144, '자문': 7145, '사무': 7146, '쿠키': 7147, '일어': 7148, '소도': 7149, '단정하다': 7150, '욱': 7151, '하트': 7152, '구도': 7153, '중성': 7154, '실시': 7155, '납': 7156, '적합하다': 7157, '시르다': 7158, '얌체': 7159, '법인': 7160, '두시': 7161, '숙지': 7162, '균형': 7163, '서러워지다': 7164, '새해': 7165, '투고': 7166, '커뮤니케이션': 7167, '구청': 7168, '클래식': 7169, '벼랑': 7170, '쥐꼬리': 7171, '싸움질': 7172, '송금': 7173, '우습다': 7174, '치우치다': 7175, '미성년': 7176, '사회인': 7177, '적성검사': 7178, '왜냐하면': 7179, '허심': 7180, '탄회': 7181, '족보': 7182, '자진': 7183, '추측': 7184, '청원': 7185, '순번': 7186, '야심': 7187, '접시': 7188, '거길': 7189, '강릉': 7190, '뒹굴뒹굴': 7191, '다잡다': 7192, '패닉': 7193, '지라': 7194, '떠들썩하다': 7195, '시간대': 7196, '자잘하다': 7197, '수법': 7198, '낌새': 7199, '강력하다': 7200, '감성': 7201, '편도': 7202, '꿍꿍': 7203, '솔선수범': 7204, '청구': 7205, '순종': 7206, '그야': 7207, '평균수명': 7208, '바탕': 7209, '형도': 7210, '손편지': 7211, '도라지': 7212, '식사량': 7213, '황금': 7214, '전치': 7215, '메스껍다': 7216, '빈말': 7217, '뾰족': 7218, '확보': 7219, '퍼주': 7220, '불신': 7221, '일석이조': 7222, '은행가': 7223, '자칫하면': 7224, '허물': 7225, '저건': 7226, '계절': 7227, '사드': 7228, '부디': 7229, '캐릭터': 7230, '풍선': 7231, '타박상': 7232, '초과': 7233, '단련하다': 7234, '분석': 7235, '분류': 7236, '배부르다': 7237, '심리치료': 7238, '치고는': 7239, '색': 7240, '낫더': 7241, '수기': 7242, '달력': 7243, '고열': 7244, '겸손하다': 7245, '묵다': 7246, '어련하다': 7247, '압력': 7248, '추궁': 7249, '절도': 7250, '도록': 7251, '책정': 7252, '포장': 7253, '이슈': 7254, '무렵': 7255, '파기': 7256, '넣기': 7257, '으로선': 7258, '솔로': 7259, '속박': 7260, '몰상식하다': 7261, '미지수': 7262, '찌개': 7263, '문밖': 7264, '새벽같이': 7265, '의뢰': 7266, '여리다': 7267, '결단': 7268, '주저': 7269, '분발': 7270, '모태': 7271, '신신당부': 7272, '분리수거': 7273, '우연': 7274, '아무렴': 7275, '개인주의': 7276, '배터리': 7277, '가리키다': 7278, '미신': 7279, '성숙하다': 7280, '난임': 7281, '뚫다': 7282, '빈번': 7283, '반박': 7284, '빠릿빠릿': 7285, '롯': 7286, '각': 7287, '족족': 7288, '진하다': 7289, '탑': 7290, '이따': 7291, '비즈니스': 7292, '제왕절개': 7293, '강습': 7294, '힐링': 7295, '차곡차곡': 7296, '풍기': 7297, '무력감': 7298, '심호흡': 7299, '붓기': 7300, '설비': 7301, '샐러드': 7302, '고문': 7303, '외형': 7304, '별별': 7305, '돌파구': 7306, '나락': 7307, '자포자기': 7308, '시일': 7309, '크림': 7310, '벙어리': 7311, '친딸': 7312, '미소': 7313, '덕택': 7314, '천사': 7315, '파고': 7316, '겉보기': 7317, '반고': 7318, '강행': 7319, '두루': 7320, '숨통': 7321, '추슬러': 7322, '소사': 7323, '하나로': 7324, '넓히다': 7325, '충분': 7326, '차용': 7327, '증도': 7328, '무신경': 7329, '처사': 7330, '티비': 7331, '거니': 7332, '팔목': 7333, '짜릿하다': 7334, '체험학습': 7335, '스': 7336, '클라우드': 7337, '줄어드': 7338, '치매증': 7339, '청각': 7340, '새아버지': 7341, '따로따로': 7342, '우물쭈물': 7343, '글렀어': 7344, '띵하다': 7345, '참혹하다': 7346, '활짝': 7347, '티격태격': 7348, '여우': 7349, '공황': 7350, '야무지다': 7351, '멋': 7352, '아래층': 7353, '사법고시': 7354, '실효': 7355, '모피': 7356, '버냐': 7357, '티켓': 7358, '생태계': 7359, '파괴': 7360, '핑': 7361, '마녀사냥': 7362, '최고다': 7363, '상대평가': 7364, '들러리': 7365, '가정은': 7366, '구로': 7367, '최대': 7368, '작전': 7369, '생활기록부': 7370, '수지': 7371, '특이하다': 7372, '성찰': 7373, '함흥차사': 7374, '뀌어': 7375, '백미': 7376, '연일': 7377, '사그라지다': 7378, '납입': 7379, '장터': 7380, '보드': 7381, '스카이': 7382, '이송': 7383, '급사': 7384, '강점': 7385, '대드': 7386, '실물': 7387, '해변': 7388, '롤': 7389, '객': 7390, '잠잠하다': 7391, '모유': 7392, '수유': 7393, '사칭': 7394, '수수료': 7395, '수천만': 7396, '치장': 7397, '새총': 7398, '과시': 7399, '플루': 7400, '대표이사': 7401, '합창': 7402, '특목고': 7403, '민첩하다': 7404, '휴게소': 7405, '이정': 7406, '응시': 7407, '압도': 7408, '취객': 7409, '활약': 7410, '징징거리다': 7411, '유용하다': 7412, '과만': 7413, '삼백': 7414, '화이트': 7415, '체격': 7416, '당사자': 7417, '슬러': 7418, '재학': 7419, '플': 7420, '기독교': 7421, '옹알': 7422, '잡혀가다': 7423, '고요함': 7424, '부임': 7425, '미화': 7426, '장어': 7427, '금반지': 7428, '씻기다': 7429, '앙상하다': 7430, '굽히다': 7431, '멎다': 7432, '허우적거리다': 7433, '비꼬다': 7434, '경위': 7435, '여한': 7436, '보일러': 7437, '바꿔치다': 7438, '얼음': 7439, '수학과': 7440, '프로야구': 7441, '영양사': 7442, '아랑곳': 7443, '성심': 7444, '달팽이관': 7445, '수빈': 7446, '지안': 7447, '사들이다': 7448, '상대편': 7449, '클레': 7450, '힐끔힐끔': 7451, '엉': 7452, '요로결석': 7453, '기선': 7454, '터뜨리다': 7455, '아들내미': 7456, '작은딸': 7457, '탐방': 7458, '광주': 7459, '온돌': 7460, '거렸더': 7461, '고용주': 7462, '더구나': 7463, '대학입시': 7464, '사량': 7465, '햇살': 7466, '쬐다': 7467, '나마': 7468, '어쩐': 7469, '작업장': 7470, '메이커': 7471, '자처': 7472, '피트니스': 7473, '삐끗': 7474, '답례': 7475, '도구로': 7476, '빗다': 7477, '뇌사': 7478, '사레': 7479, '정신질환': 7480, '자빠지다': 7481, '흉측하다': 7482, '헐다': 7483, '축축하다': 7484, '실버': 7485, '타운': 7486, '국가고시': 7487, '쇠퇴하다': 7488, '방사선': 7489, '과묵': 7490, '전립선암': 7491, '옷맵시': 7492, '자반': 7493, '재정난': 7494, '칭얼대다': 7495, '종료': 7496, '출처': 7497, '건설업': 7498, '가만있다': 7499, '빠트렸어': 7500, '맥': 7501, '직성': 7502, '수술대': 7503, '천사처럼': 7504, '골짜기': 7505, '제하': 7506, '돈다': 7507, '사후': 7508, '무효': 7509, '운영자': 7510, '이세': 7511, '방면': 7512, '대치': 7513, '시피': 7514, '아사': 7515, '빼기': 7516, '은연중': 7517, '접종': 7518, '수없이': 7519, '청년회': 7520, '여물': 7521, '골고루': 7522, '먹여주다': 7523, '외딴섬': 7524, '지로': 7525, '배낭여행': 7526, '장학생': 7527, '명세서': 7528, '인기척': 7529, '헛소리': 7530, '으로서는': 7531, '시렁': 7532, '삐쩍': 7533, '지코': 7534, '매스컴': 7535, '출력': 7536, '공로상': 7537, '띄우다': 7538, '애꿎': 7539, '예절': 7540, '성당': 7541, '위험수위': 7542, '이루': 7543, '대수': 7544, '보조금': 7545, '모회사': 7546, '섬유': 7547, '미네': 7548, '쳇바퀴': 7549, '도용': 7550, '민지': 7551, '일학년': 7552, '순인': 7553, '붕대': 7554, '묵묵': 7555, '개천': 7556, '자각': 7557, '선선해지다': 7558, '한해': 7559, '골목길': 7560, '갈라지다': 7561, '나물': 7562, '멈칫': 7563, '단장': 7564, '비틀': 7565, '유령': 7566, '한글': 7567, '조장': 7568, '즘': 7569, '세균': 7570, '흡족하다': 7571, '매니큐어': 7572, '난건': 7573, '사인': 7574, '낙찰': 7575, '세포': 7576, '팔십이': 7577, '성찬': 7578, '피부병': 7579, '질도': 7580, '입실': 7581, '사고뭉치': 7582, '이사해': 7583, '차비': 7584, '도덕성': 7585, '윤': 7586, '사이비': 7587, '타깃': 7588, '욕구': 7589, '근육통': 7590, '다한': 7591, '탑승': 7592, '만화책': 7593, '부둥켜안다': 7594, '반토막': 7595, '쇼': 7596, '자사고': 7597, '재건': 7598, '꼬마': 7599, '외동딸': 7600, '프로도': 7601, '핼쑥': 7602, '왜인': 7603, '놨는': 7604, '입김': 7605, '슬그머니': 7606, '벌떡': 7607, '정나미': 7608, '동행': 7609, '밴드': 7610, '청결': 7611, '판단력': 7612, '자칫': 7613, '쏠리다': 7614, '환호성': 7615, '이맘때': 7616, '시라': 7617, '병명': 7618, '가르침': 7619, '뽀삐': 7620, '쌍방': 7621, '귓속말': 7622, '앞서서': 7623, '대리점': 7624, '생필품': 7625, '혼사': 7626, '서프라이즈': 7627, '반등': 7628, '맞대다': 7629, '수로': 7630, '약과': 7631, '더치': 7632, '부질': 7633, '가로등': 7634, '괴리감': 7635, '우리엄마': 7636, '남루하다': 7637, '발짝': 7638, '중퇴': 7639, '쾌적하다': 7640, '피부염': 7641, '숙면': 7642, '역정': 7643, '꺼림칙하다': 7644, '어그러지다': 7645, '까닥': 7646, '현황': 7647, '보안': 7648, '간지': 7649, '급작': 7650, '옮을까': 7651, '천원': 7652, '재물': 7653, '학폭': 7654, '난방': 7655, '히터': 7656, '까탈': 7657, '엿': 7658, '뒷골목': 7659, '기성세대': 7660, '행각': 7661, '침해': 7662, '오르락내리락': 7663, '낙태': 7664, '궁상맞다': 7665, '반쪽': 7666, '근절': 7667, '혼인신고': 7668, '크릴': 7669, '오일': 7670, '안하무인': 7671, '제목': 7672, '지대': 7673, '농사일': 7674, '돌연': 7675, '이용만': 7676, '최상': 7677, '화창하다': 7678, '조폭': 7679, '영화관': 7680, '녹차': 7681, '예치': 7682, '성교육': 7683, '난이도': 7684, '기금': 7685, '원기준': 7686, '박사': 7687, '초래': 7688, '하청': 7689, '중점': 7690, '미식': 7691, '욕구불만': 7692, '아보': 7693, '월간지': 7694, '산걸': 7695, '편일': 7696, '구타': 7697, '큰아버지': 7698, '대만': 7699, '왕성': 7700, '개봉': 7701, '외양': 7702, '입찰': 7703, '따내다': 7704, '한강': 7705, '주재': 7706, '주최': 7707, '내달': 7708, '어지러움': 7709, '막냇동생': 7710, '캠퍼스': 7711, '나돌다': 7712, '열한': 7713, '장례비용': 7714, '추구': 7715, '애정도': 7716, '태희': 7717, '출근시간': 7718, '코웃음': 7719, '물병': 7720, '헤드헌터': 7721, '는가': 7722, '헛살': 7723, '조울증': 7724, '단독': 7725, '붐': 7726, '줏대': 7727, '안건': 7728, '옆방': 7729, '갈비': 7730, '헤어': 7731, '환호': 7732, '쫄딱': 7733, '경운기': 7734, '들려주다': 7735, '작심삼일': 7736, '커뮤니티': 7737, '자만': 7738, '빅히트': 7739, '방탄': 7740, '소년단': 7741, '사죄': 7742, '와이셔츠': 7743, '유라': 7744, '서기': 7745, '오르간': 7746, '패거리': 7747, '배당': 7748, '베트남': 7749, '불완전': 7750, '뛰어놀다': 7751, '인파': 7752, '치수': 7753, '남용': 7754, '젤': 7755, '발리': 7756, '치료법': 7757, '결코': 7758, '냉랭하다': 7759, '티나': 7760, '명함': 7761, '누더기': 7762, '격식': 7763, '신생': 7764, '인구': 7765, '가줄': 7766, '목구멍': 7767, '수치심': 7768, '코치': 7769, '칫솔': 7770, '분란': 7771, '유동': 7772, '지민': 7773, '소매치기': 7774, '파토': 7775, '발걸음': 7776, '경영인': 7777, '악플': 7778, '이기심': 7779, '별걱정': 7780, '면제': 7781, '취준생': 7782, '하와이': 7783, '마르고': 7784, '성품': 7785, '참신하다': 7786, '십여': 7787, '물속': 7788, '우러러': 7789, '향후': 7790, '끈질기다': 7791, '식도암': 7792, '짱': 7793, '꾀다': 7794, '애틋하다': 7795, '갈팡질팡': 7796, '굴레': 7797, '막둥': 7798, '눈길': 7799, '당해': 7800, '얽매': 7801, '재결합': 7802, '생물학자': 7803, '음악가': 7804, '만병통치약': 7805, '들추다': 7806, '스토커': 7807, '대범하다': 7808, '푸대접': 7809, '군무원': 7810, '천국': 7811, '소아마비': 7812, '쩔뚝': 7813, '알코올중독': 7814, '넌': 7815, '아웃백': 7816, '문중': 7817, '제기': 7818, '담담하다': 7819, '수완': 7820, '술버릇': 7821, '늘씬하다': 7822, '관람': 7823, '토론': 7824, '수립': 7825, '시리다': 7826, '벤처기업': 7827, '어리광': 7828, '전조': 7829, '열사': 7830, '인감도장': 7831, '부금': 7832, '에프': 7833, '분투': 7834, '건다': 7835, '상향': 7836, '자궁암': 7837, '쩍': 7838, '홍': 7839, '공백기': 7840, '영웅': 7841, '감돌다': 7842, '사나워지다': 7843, '멱살': 7844, '청소부': 7845, '산행': 7846, '래서야': 7847, '에게나': 7848, '맛탕': 7849, '소속사': 7850, '셋째': 7851, '마려워': 7852, '전근': 7853, '위장병': 7854, '컨닝': 7855, '식충이': 7856, '재수없다': 7857, '년차': 7858, '조짐': 7859, '수강': 7860, '제아': 7861, '쫄쫄': 7862, '삿': 7863, '잠자리': 7864, '빠져들다': 7865, '네로': 7866, '거역': 7867, '만족감': 7868, '샤프': 7869, '맹장': 7870, '부간': 7871, '에피소드': 7872, '속지': 7873, '크루즈': 7874, '유방': 7875, '자율': 7876, '공업고등학교': 7877, '연대': 7878, '총애': 7879, '발레': 7880, '승객': 7881, '저하': 7882, '다문화': 7883, '곤욕': 7884, '찌들다': 7885, '수용': 7886, '피라미드': 7887, '유입': 7888, '금실': 7889, '히스테리': 7890, '미숙아': 7891, '조산': 7892, '다녀가다': 7893, '막바지': 7894, '명퇴': 7895, '협회': 7896, '실속': 7897, '이바지': 7898, '아비규환': 7899, '담하다': 7900, '하나님': 7901, '두뇌': 7902, '역무': 7903, '생일상': 7904, '바란': 7905, '능': 7906, '배움': 7907, '봉사자': 7908, '버킷리스트': 7909, '속옷': 7910, '록': 7911, '터치': 7912, '아니꼽다': 7913, '통합': 7914, '찰': 7915, '지퍼': 7916, '쫓아오다': 7917, '마리': 7918, '한턱내다': 7919, '점장님': 7920, '수동': 7921, '보직': 7922, '근소': 7923, '강화하다': 7924, '생으로': 7925, '위원장': 7926, '호기롭': 7927, '등진': 7928, '들고나다': 7929, '갑상샘암': 7930, '인사말': 7931, '가전제품': 7932, '경제권': 7933, '달걀': 7934, '비자': 7935, '가동': 7936, '다혈질': 7937, '종용': 7938, '판사': 7939, '롯데': 7940, '월드': 7941, '막차': 7942, '정자': 7943, '판별': 7944, '소서': 7945, '사안': 7946, '려면': 7947, '포토샵': 7948, '대주': 7949, '복사기': 7950, '약혼': 7951, '전선': 7952, '앓이': 7953, '그중': 7954, '천성': 7955, '약관': 7956, '산만하다': 7957, '익사': 7958, '궂': 7959, '봉투': 7960, '부풀다': 7961, '격투기': 7962, '국물': 7963, '뷔페': 7964, '홈': 7965, '트레이닝': 7966, '아나운서': 7967, '캠핑카': 7968, '중이염': 7969, '하원': 7970, '공직': 7971, '약혼자': 7972, '탁하다': 7973, '로봇': 7974, '장치': 7975, '돌침대': 7976, '쟁이': 7977, '권장': 7978, '망언': 7979, '혁신': 7980, '팔로우': 7981, '거렸': 7982, '행위': 7983, '자금난': 7984, '진통제': 7985, '공문': 7986, '내후년': 7987, '모의': 7988, '삼고': 7989, '폴더': 7990, '무인': 7991, '한때': 7992, '현역': 7993, '성문': 7994, '편파': 7995, '맹세': 7996, '치유': 7997, '비행청소년': 7998, '상사면': 7999, '맞은편': 8000, '종말': 8001, '독자': 8002, '한일': 8003, '박살': 8004, '소지품': 8005, '사십이': 8006, '연기자': 8007, '캐스팅': 8008, '수건': 8009, '레고': 8010, '무전': 8011, '화투': 8012, '노랗다': 8013, '빡빡': 8014, '가물가물': 8015, '순순하다': 8016, '공백': 8017, '올린다': 8018, '모니터': 8019, '에어로빅': 8020, '음악회': 8021, '스크린': 8022, '욕실': 8023, '돈대': 8024, '필': 8025, '표절': 8026, '이인': 8027, '일조': 8028, '범': 8029, '짜장면': 8030, '통원': 8031, '으로써': 8032, '간판': 8033, '하향': 8034, '숙연': 8035, '융통': 8036, '친우': 8037, '밤하늘': 8038, '무관': 8039, '결백': 8040, '살균제': 8041, '점포': 8042, '물놀이': 8043, '자해': 8044, '두텁다': 8045, '선입견': 8046, '짝짝이': 8047, '우기': 8048, '우연이': 8049, '서점': 8050, '남탕': 8051, '정비': 8052, '결항': 8053, '특성': 8054, '알차다': 8055, '주름살': 8056, '말론': 8057, '천하': 8058, '밸런스': 8059, '하고의': 8060, '가차': 8061, '성대': 8062, '주민등록': 8063, '문구점': 8064, '유명인': 8065, '금산사': 8066, '인심': 8067, '즉석식품': 8068, '밤샘': 8069, '단합': 8070, '애착': 8071, '고아원': 8072, '오래간만': 8073, '뒤로': 8074, '빵빵': 8075, '사비': 8076, '끈기': 8077, '으름장': 8078, '느': 8079, '외투': 8080, '호칭': 8081, '억제': 8082, '껏': 8083, '방전': 8084, '건전지': 8085, '떨구다': 8086, '잠꼬대': 8087, '강탈': 8088, '브리핑': 8089, '중복': 8090, '신종': 8091, '잘나오다': 8092, '바로잡다': 8093, '존대': 8094, '기원': 8095, '벼락치기': 8096, '군것질': 8097, '잡아가다': 8098, '출연': 8099, '무임': 8100, '승차': 8101, '졸지': 8102, '부정행위': 8103, '다급해지다': 8104, '성관계': 8105, '빈둥거리': 8106, '정성은': 8107, '미관': 8108, '어머': 8109, '소희': 8110, '사례': 8111, '떄문': 8112, '허리띠': 8113, '범주': 8114, '당부': 8115, '넌지시': 8116, '땡볕': 8117, '튀어': 8118, '치인': 8119, '사체': 8120, '스런': 8121, '젊은것': 8122, '까불다': 8123, '호실': 8124, '오류로': 8125, '전송': 8126, '십이': 8127, '윗몸일으키기': 8128, '생사': 8129, '불분명': 8130, '내과': 8131, '변변찮': 8132, '무소식': 8133, '꼴불견': 8134, '남김없이': 8135, '믹스': 8136, '쪼잔하': 8137, '공세': 8138, '콕': 8139, '지진': 8140, '친한척': 8141, '중천': 8142, '밥상머리': 8143, '엎었': 8144, '어설프다': 8145, '명동': 8146, '하녀': 8147, '맨발': 8148, '차감': 8149, '가이드': 8150, '발끝': 8151, '연골': 8152, '독일': 8153, '유연하다': 8154, '관광지': 8155, '북': 8156, '대상포진': 8157, '식물인간': 8158, '허례': 8159, '허식': 8160, '생략': 8161, '기혼': 8162, '저주받다': 8163, '영민': 8164, '놀이기구': 8165, '최저생계비': 8166, '등반': 8167, '악화시키다': 8168, '무상': 8169, '시름시름': 8170, '하직': 8171, '전자': 8172, '적히다': 8173, '날인': 8174, '거참': 8175, '쑥떡': 8176, '발버둥': 8177, '멘탈': 8178, '줌바': 8179, '치근덕대다': 8180, '외교관': 8181, '학문': 8182, '부침개': 8183, '팔로': 8184, '산산조각': 8185, '혜인': 8186, '조의': 8187, '큰집': 8188, '면도': 8189, '자락': 8190, '탁월하다': 8191, '요강': 8192, '알더': 8193, '나주': 8194, '발표회': 8195, '수확': 8196, '눈병': 8197, '시들하다': 8198, '오천': 8199, '가물치': 8200, '부러': 8201, '할껄': 8202, '살피': 8203, '휘감다': 8204, '업적': 8205, '코딩': 8206, '지우개': 8207, '트로피': 8208, '제조': 8209, '개교': 8210, '보육원': 8211, '전면': 8212, '반기': 8213, '빈도': 8214, '이사장': 8215, '밥풀': 8216, '신념': 8217, '실용음악': 8218, '순탄': 8219, '관점': 8220, '아드님': 8221, '광택': 8222, '청렴': 8223, '이불': 8224, '퍼뜨렸': 8225, '비치': 8226, '헬기': 8227, '백두산': 8228, '눌리': 8229, '축구선수': 8230, '교활하다': 8231, '순진하다': 8232, '관성': 8233, '스페인': 8234, '속보': 8235, '심심': 8236, '스위스': 8237, '치네다': 8238, '라이딩': 8239, '십상': 8240, '친형': 8241, '모기지론': 8242, '퉁퉁': 8243, '협착증': 8244, '경미하다': 8245, '별세': 8246, '살로': 8247, '위경련': 8248, '재고': 8249, '정통': 8250, '전등': 8251, '인기투표': 8252, '참나': 8253, '하인': 8254, '허수아비': 8255, '우두커니': 8256, '일그러지다': 8257, '호주': 8258, '딴지': 8259, '위임장': 8260, '음료': 8261, '아이스': 8262, '굿': 8263, '즈': 8264, '흑': 8265, '개별': 8266, '애칭': 8267, '치욕스럽다': 8268, '휴업': 8269, '깨트렸어': 8270, '금슬': 8271, '편리하다': 8272, '충치': 8273, '삼천만': 8274, '나무': 8275, '부주의': 8276, '은둔': 8277, '투여': 8278, '깡통': 8279, '이기주의': 8280, '노령': 8281, '경황': 8282, '따분하다': 8283, '민우': 8284, '자영': 8285, '소형차': 8286, '사상': 8287, '꾸물거리다': 8288, '박봉': 8289, '부주의하다': 8290, '구나': 8291, '무르': 8292, '건너': 8293, '은인': 8294, '의외': 8295, '미비하다': 8296, '게걸': 8297, '안녕': 8298, '노동부': 8299, '애프터': 8300, '아첨': 8301, '바른길': 8302, '순조': 8303, '투입': 8304, '드림': 8305, '허무맹랑': 8306, '난데없이': 8307, '야위다': 8308, '철석': 8309, '천만원': 8310, '월경': 8311, '멋쟁이': 8312, '효': 8313, '허니문': 8314, '박카스': 8315, '손버릇': 8316, '어리바리하다': 8317, '류': 8318, '몸조심': 8319, '봉급': 8320, '오만원': 8321, '대기발령': 8322, '처신': 8323, '훤': 8324, '감염병': 8325, '디지털': 8326, '올가을': 8327, '밭일': 8328, '주례': 8329, '추하다': 8330, '상종': 8331, '초경': 8332, '웨어': 8333, '스타': 8334, '병환': 8335, '산지': 8336, '친부모': 8337, '혼하': 8338, '스킬': 8339, '영혼': 8340, '상주': 8341, '소수': 8342, '병시': 8343, '유행병': 8344, '엠알아': 8345, '차일': 8346, '자업자득': 8347, '복인': 8348, '신세대': 8349, '현식': 8350, '잔잔하다': 8351, '콩나물': 8352, '편집자': 8353, '기지개': 8354, '빗': 8355, '앨범': 8356, '꼬락서니': 8357, '강의실': 8358, '금값': 8359, '소인배': 8360, '콩알': 8361, '햄스터': 8362, '김치찌개': 8363, '복판': 8364, '우아하다': 8365, '순이익': 8366, '전단지': 8367, '경제학': 8368, '스페인어': 8369, '낙도': 8370, '인스턴트식품': 8371, '가까스로': 8372, '부의': 8373, '토익시험': 8374, '트리': 8375, '생명보험': 8376, '녹용': 8377, '냉동': 8378, '교과': 8379, '털모자': 8380, '마사지': 8381, '이억': 8382, '불만족': 8383, '초인종': 8384, '삼지': 8385, '분별': 8386, '절절': 8387, '목도': 8388, '핀': 8389, '갑상선암': 8390, '쫓아가다': 8391, '문외한': 8392, '기수': 8393, '끝일': 8394, '료': 8395, '무릅쓰': 8396, '젖': 8397, '유언비어': 8398, '아슬아슬하다': 8399, '대시': 8400, '검수': 8401, '아물다': 8402, '멍청이': 8403, '홈페이지': 8404, '뭉치': 8405, '어렵사리': 8406, '쌀밥': 8407, '나요': 8408, '동사무소': 8409, '체감': 8410, '유흥': 8411, '심경': 8412, '자택': 8413, '총명하다': 8414, '의젓하다': 8415, '체력장': 8416, '일면': 8417, '줄줄': 8418, '검버섯': 8419, '눈감다': 8420, '금은': 8421, '썰렁하다': 8422, '처럼만': 8423, '천대': 8424, '노려보다': 8425, '농기': 8426, '뜨끔하다': 8427, '군소리': 8428, '거도': 8429, '통탄': 8430, '알바생': 8431, '입수': 8432, '본전': 8433, '식중독': 8434, '농구부': 8435, '틱': 8436, '마인드': 8437, '시안': 8438, '하염없이': 8439, '포상': 8440, '손수레': 8441, '손상': 8442, '딸애': 8443, '꼬르륵': 8444, '적정': 8445, '합치': 8446, '미로': 8447, '커트라인': 8448, '제이': 8449, '창구': 8450, '끈끈': 8451, '최우수상': 8452, '어버이': 8453, '칠십팔이': 8454, '싸고돌다': 8455, '찬스': 8456, '불공정': 8457, '외아들': 8458, '굴다': 8459, '싯': 8460, '막노동': 8461, '전국': 8462, '부수': 8463, '모형': 8464, '고배': 8465, '볼링': 8466, '파가': 8467, '경리': 8468, '내막': 8469, '명순': 8470, '이단': 8471, '굵다': 8472, '돕기': 8473, '미수': 8474, '술잔치': 8475, '학연': 8476, '사자': 8477, '수납': 8478, '국회의원': 8479, '희미하다': 8480, '연구원': 8481, '티끌': 8482, '특성화고': 8483, '혈연': 8484, '인명': 8485, '재천': 8486, '순리': 8487, '캥거루': 8488, '사슴벌레': 8489, '성용': 8490, '무당': 8491, '격': 8492, '대대로': 8493, '벽지': 8494, '모녀': 8495, '법정': 8496, '차가워지다': 8497, '자장면': 8498, '길길이': 8499, '날뛰다': 8500, '월드컵': 8501, '강': 8502, '초연': 8503, '구장': 8504, '고위': 8505, '공직자': 8506, '어쩌겠다': 8507, '낯빛': 8508, '수라도': 8509, '게임방': 8510, '서러움': 8511, '변태': 8512, '진실하다': 8513, '다급하다': 8514, '사오정': 8515, '경쾌하다': 8516, '완화': 8517, '갈피': 8518, '멍울': 8519, '헛수고': 8520, '나이다': 8521, '들이밀다': 8522, '상품권': 8523, '어엿하다': 8524, '마음잡다': 8525, '나가시': 8526, '복리': 8527, '후생': 8528, '획기': 8529, '직계': 8530, '유사하다': 8531, '헛돈': 8532, '때때로': 8533, '대안': 8534, '자본': 8535, '중시': 8536, '청해': 8537, '삼성': 8538, '가관': 8539, '낭비벽': 8540, '폭우': 8541, '단시간': 8542, '본체': 8543, '주중': 8544, '보듬다': 8545, '가급적': 8546, '열등하다': 8547, '장려': 8548, '역전': 8549, '시치미': 8550, '또는': 8551, '구글': 8552, '있냔': 8553, '기우': 8554, '가려지다': 8555, '온순하다': 8556, '코인': 8557, '훈훈하다': 8558, '역량': 8559, '풀기': 8560, '자릿수': 8561, '폐인': 8562, '뼈마디': 8563, '바이오': 8564, '이치': 8565, '게시': 8566, '가루': 8567, '준우승': 8568, '굴더': 8569, '배상': 8570, '둥글다': 8571, '성차별': 8572, '절박': 8573, '반신반의': 8574, '허투루': 8575, '각박하다': 8576, '레벨': 8577, '가이드라인': 8578, '몰리': 8579, '조심성': 8580, '말아먹다': 8581, '닭': 8582, '치졸하다': 8583, '기출': 8584, '철학': 8585, '초월': 8586, '도가니탕': 8587, '부응': 8588, '방도': 8589, '꿋꿋': 8590, '차트': 8591, '떡하니': 8592, '치밀': 8593, '쌤': 8594, '동동': 8595, '타이밍': 8596, '천생연분': 8597, '굴복': 8598, '이비인후과': 8599, '공공장소': 8600, '한몫': 8601, '외적': 8602, '청와대': 8603, '치더': 8604, '을해': 8605, '괴사': 8606, '새끼': 8607, '찌질하다': 8608, '이점': 8609, '의연하다': 8610, '파렴치하다': 8611, '심리테스트': 8612, '찢기다': 8613, '찔리다': 8614, '이어폰': 8615, '달달': 8616, '자제력': 8617, '대체로': 8618, '무장': 8619, '중절': 8620, '모면': 8621, '추스른다': 8622, '면역성': 8623, '형아': 8624, '가분': 8625, '버젓이': 8626, '통일': 8627, '소신': 8628, '에서라도': 8629, '웬만큼': 8630, '장르': 8631, '중고차': 8632, '월간': 8633, '흘러나오다': 8634, '물류': 8635, '샌들': 8636, '위험부담': 8637, '사교': 8638, '달콤하다': 8639, '마카롱': 8640, '라운딩': 8641, '신축': 8642, '급감': 8643, '화하다': 8644, '또박또박': 8645, '성장기': 8646, '열흘': 8647, '별반': 8648, '홀랑': 8649, '약골': 8650, '근본': 8651, '소년원': 8652, '수사': 8653, '분노조절': 8654, '도나': 8655, '문구': 8656, '타의': 8657, '팔면': 8658, '징조': 8659, '대변': 8660, '혈안': 8661, '다름없이': 8662, '농사짓다': 8663, '버팀목': 8664, '러신': 8665, '우량': 8666, '수도권': 8667, '수의사': 8668, '오붓하다': 8669, '오염': 8670, '부적합하다': 8671, '공예': 8672, '하체': 8673, '가늠': 8674, '은행권': 8675, '지렁이': 8676, '지지리': 8677, '가혹하다': 8678, '의기양양하다': 8679, '수긍': 8680, '클리': 8681, '닉': 8682, '씩씩하다': 8683, '종업': 8684, '퇴짜': 8685, '바둑': 8686, '오가면': 8687, '일반인': 8688, '팍팍': 8689, '십자수': 8690, '관할': 8691, '명소': 8692, '세기': 8693, '십억이': 8694, '통통하다': 8695, '되새기다': 8696, '삼십분': 8697, '막중': 8698, '속셈': 8699, '머신': 8700, '뿌리': 8701, '진의': 8702, '대보다': 8703, '끝내주다': 8704, '자인': 8705, '벗겨지다': 8706, '구상': 8707, '껌': 8708, '덤벙거리다': 8709, '허탈': 8710, '이어도': 8711, '응나': 8712, '융자': 8713, '설마설마': 8714, '깨끗이': 8715, '고리': 8716, '장황하다': 8717, '섬세하다': 8718, '사백오십': 8719, '사백십': 8720, '평점': 8721, '걸음걸이': 8722, '약자': 8723, '키로': 8724, '통속': 8725, '준치': 8726, '회포': 8727, '한밤중': 8728, '비방': 8729, '우왕좌왕': 8730, '이랬는데': 8731, '풍부하다': 8732, '까지나': 8733, '반려자': 8734, '떼쓰다': 8735, '뒷방': 8736, '우여곡절': 8737, '불성실하다': 8738, '다른사람': 8739, '줄곧': 8740, '준걸': 8741, '전학생': 8742, '공대': 8743, '삼키다': 8744, '댕': 8745, '구니': 8746, '소비자': 8747, '투철': 8748, '젖다': 8749, '리어카': 8750, '낭송': 8751, '후보': 8752, '암기': 8753, '적응도': 8754, '버벅거렸어': 8755, '의학과': 8756, '물주': 8757, '고질': 8758, '예식': 8759, '즈음': 8760, '가운': 8761, '라나': 8762, '규율': 8763, '미꾸라지': 8764, '기프티콘': 8765, '폴립': 8766, '보완': 8767, '요건': 8768, '슈퍼맨': 8769, '매끄럽다': 8770, '항목': 8771, '당혹': 8772, '불과하다': 8773, '소망': 8774, '고액': 8775, '물욕': 8776, '의무감': 8777, '하진': 8778, '스파게티': 8779, '잔병': 8780, '돈줄': 8781, '라기보다는': 8782, '깍': 8783, '과민반응': 8784, '친절': 8785, '도해': 8786, '공포': 8787, '펜': 8788, '이든지': 8789, '수혜': 8790, '조달': 8791, '사망률': 8792, '새마을금고': 8793, '시중': 8794, '벌컥': 8795, '재정상': 8796, '형사고소': 8797, '번드르르하다': 8798, '야외': 8799, '뒤따르다': 8800, '사업실패': 8801, '나뭇잎': 8802, '독려': 8803, '왜소하다': 8804, '의아': 8805, '세부': 8806, '합세': 8807, '대다수': 8808, '과감': 8809, '중견': 8810, '호캉스': 8811, '어딘': 8812, '병일': 8813, '치중': 8814, '일종': 8815, '신형': 8816, '친엄마': 8817, '추세': 8818, '울렁거리다': 8819, '무색': 8820, '밸': 8821, '이리저리': 8822, '거금': 8823, '이하': 8824, '군살': 8825, '빈정대다': 8826, '단백질': 8827, '일생': 8828, '재주': 8829, '몸뚱이': 8830, '파일럿': 8831, '원자': 8832, '바리스타': 8833, '하다못해': 8834, '최고급': 8835, '댓': 8836, '사심': 8837, '끌어안다': 8838, '혹은': 8839, '평생토록': 8840, '부유': 8841, '프로그래밍': 8842, '관계자': 8843, '전적': 8844, '틈틈하다': 8845, '제삼자': 8846, '물러서다': 8847, '전시회': 8848, '오스': 8849, '야말로': 8850, '꺼': 8851, '연가': 8852, '더불다': 8853, '박다': 8854, '전복죽': 8855, '근황': 8856, '불결하다': 8857, '세탁기': 8858, '사교육비': 8859, '확고하다': 8860, '배웅': 8861, '시간표': 8862, '동기부여': 8863, '거여': 8864, '도수': 8865, '나흘': 8866, '말단': 8867, '창피': 8868, '기름': 8869, '안이하다': 8870, '첩': 8871, '우월하다': 8872, '가사노동': 8873, '조성': 8874, '피겨': 8875, '딩크족': 8876, '소지': 8877, '안쪽': 8878, '번역': 8879, '진취': 8880, '서핑': 8881, '이체': 8882, '이해관계': 8883, '얹다': 8884, '부시': 8885, '학생회': 8886, '고래고래': 8887, '해하': 8888, '먹히다': 8889, '앞일': 8890, '선의': 8891, '커다랗다': 8892, '위궤양': 8893, '무과': 8894, '뚝뚝': 8895, '엄만데': 8896, '즉각': 8897, '미끄럽다': 8898, '흥얼거리다': 8899, '시민': 8900, '지자체': 8901, '묶이다': 8902, '교재': 8903, '홍보팀': 8904, '공익': 8905, '유익하다': 8906, '견적': 8907, '일리': 8908, '해제': 8909, '장단': 8910, '정민': 8911, '나뉘다': 8912, '차려입다': 8913, '후줄근하다': 8914, '수줍음': 8915, '친지': 8916, '나신': 8917, '심각': 8918, '타협': 8919, '불가하다': 8920, '소유': 8921, '행': 8922, '이용자': 8923, '세련되다': 8924, '특수': 8925, '예측': 8926, '양성': 8927, '기름값': 8928, '장단점': 8929, '떨어트려': 8930, '매도': 8931, '한국인': 8932, '대충대충': 8933, '벌점': 8934, '좀더': 8935, '발효': 8936, '별수': 8937, '아낌없다': 8938, '증시': 8939, '곱씹다': 8940, '흠칫': 8941, '조목조목': 8942, '틀어주다': 8943, '인쇄': 8944, '인쇄물': 8945, '허황': 8946, '협동': 8947, '타당': 8948, '대략': 8949, '악몽': 8950, '으로라도': 8951, '다스리다': 8952, '서너': 8953, '슬기롭다': 8954, '바위': 8955, '편법': 8956, '쪼개다': 8957, '남아나다': 8958, '편집': 8959, '으리': 8960, '뒷일': 8961, '야박하다': 8962, '기보': 8963, '별의별': 8964, '빛나다': 8965, '불똥': 8966, '횟집': 8967, '각별': 8968, '찌그러지다': 8969, '노쇠하다': 8970, '쇼핑몰': 8971, '위원': 8972, '그다음': 8973, '값지다': 8974, '케이': 8975, '액세서리': 8976, '띄엄띄엄': 8977, '그런대로': 8978, '산책로': 8979, '휘트니': 8980, '입도': 8981, '보직변경': 8982, '한자리': 8983, '짊어지': 8984, '주소': 8985, '앓아눕다': 8986, '틱장애': 8987, '울상': 8988, '연신': 8989, '털털': 8990, '호프': 8991, '영업정지': 8992, '본대': 8993, '어울림': 8994, '일이구': 8995, '다크서클': 8996, '매니아': 8997, '몰아치다': 8998, '신호등': 8999, '올가미': 9000, '점집': 9001, '한주': 9002, '영업직': 9003, '꼴등일': 9004, '올림피아드': 9005, '워드': 9006, '중고': 9007, '쓰시': 9008, '친숙하다': 9009, '세력': 9010, '귀감': 9011, '등하굣길': 9012, '노환': 9013, '킥': 9014, '마침내': 9015, '경지': 9016, '이르렀다': 9017, '사택': 9018, '합석': 9019, '반딧불': 9020, '자유분방하다': 9021, '무자비하다': 9022, '바래다주다': 9023, '게임중독': 9024, '나란하다': 9025, '환장하다': 9026, '지름길': 9027, '송두리째': 9028, '정신장애': 9029, '시끌시끌하다': 9030, '입학식': 9031, '뭉클하다': 9032, '몸집': 9033, '주가지수': 9034, '여름방학': 9035, '몽': 9036, '그래그래': 9037, '선망': 9038, '위조품': 9039, '관철': 9040, '은행업': 9041, '무도': 9042, '모바일': 9043, '독학': 9044, '산불': 9045, '날아다니다': 9046, '법석': 9047, '손위': 9048, '천년': 9049, '재활용': 9050, '수거': 9051, '신자': 9052, '무종교': 9053, '옹호': 9054, '제각각': 9055, '적당': 9056, '솔루션': 9057, '주리': 9058, '증원': 9059, '휩싸이다': 9060, '미역': 9061, '완도': 9062, '검정': 9063, '부득이': 9064, '재산상속': 9065, '울분': 9066, '심화': 9067, '일수': 9068, '삼총사': 9069, '스케이트': 9070, '체결': 9071, '세방': 9072, '우승팀': 9073, '낙상': 9074, '뿌리치다': 9075, '성해': 9076, '헉헉거리다': 9077, '혼담': 9078, '프린트': 9079, '추모': 9080, '조르지': 9081, '정오': 9082, '치켜세우다': 9083, '백만원': 9084, '재난': 9085, '취조': 9086, '혼잣말': 9087, '푹신하다': 9088, '기필코': 9089, '대패': 9090, '부케': 9091, '중계': 9092, '온라인과': 9093, '오프라인': 9094, '욱했던': 9095, '고지': 9096, '장일': 9097, '꼽아보': 9098, '출판': 9099, '중개': 9100, '벼슬도': 9101, '성전환자': 9102, '세차': 9103, '익': 9104, '거창하다': 9105, '폭풍우': 9106, '찌릿찌릿하다': 9107, '베개': 9108, '안치': 9109, '약수터': 9110, '으슬으슬': 9111, '위함': 9112, '교정': 9113, '배움터': 9114, '제보자': 9115, '거덜': 9116, '고요하다': 9117, '콘테스트': 9118, '개최': 9119, '서성거리다': 9120, '비축': 9121, '유무': 9122, '시트': 9123, '꿰': 9124, '궂은일': 9125, '층집': 9126, '우등상': 9127, '루테인': 9128, '서바이벌': 9129, '멘붕': 9130, '상상임신': 9131, '빈틈': 9132, '연구실': 9133, '벌겋다': 9134, '중책': 9135, '지킴': 9136, '놨겠다': 9137, '형호': 9138, '퇴소': 9139, '처치': 9140, '넘겨받다': 9141, '한살이': 9142, '질해': 9143, '지방함량': 9144, '유니세프': 9145, '구년': 9146, '이중성': 9147, '불로소득': 9148, '리다': 9149, '방조': 9150, '기침약': 9151, '과학고': 9152, '취업률': 9153, '역대': 9154, '대론': 9155, '국수': 9156, '철인': 9157, '령': 9158, '플래카드': 9159, '위절제술': 9160, '환기': 9161, '생일케이크': 9162, '콱': 9163, '친족': 9164, '이사도': 9165, '연세대': 9166, '암산': 9167, '용접': 9168, '서적': 9169, '툴툴댔더': 9170, '정류장': 9171, '항암제': 9172, '엄한데': 9173, '다람쥐': 9174, '안위': 9175, '민정': 9176, '돌리지': 9177, '의예': 9178, '커피믹스': 9179, '돌발': 9180, '저주': 9181, '잡음': 9182, '라식수술': 9183, '꼿꼿하다': 9184, '낄낄': 9185, '부자간': 9186, '티격태격해': 9187, '빗자루': 9188, '매니지먼트': 9189, '시리': 9190, '주전': 9191, '결함': 9192, '양파': 9193, '이로': 9194, '누런': 9195, '택해': 9196, '장의': 9197, '랜덤': 9198, '피기': 9199, '예비신부': 9200, '빈곤층': 9201, '닥달': 9202, '나진': 9203, '다발': 9204, '마그네슘': 9205, '슬며시': 9206, '한눈팔다': 9207, '의과대학': 9208, '육군사관학교': 9209, '추기': 9210, '번식': 9211, '옥탑방': 9212, '치민': 9213, '목적지': 9214, '수출': 9215, '드세지다': 9216, '투찰': 9217, '번창': 9218, '관객': 9219, '사백': 9220, '이상신': 9221, '호가': 9222, '땜': 9223, '통역사': 9224, '베테': 9225, '투약': 9226, '증여': 9227, '장애우': 9228, '구순': 9229, '일확천금': 9230, '억압받다': 9231, '자본주의': 9232, '카레': 9233, '바퀴벌레': 9234, '흘겨보다': 9235, '반신': 9236, '오목': 9237, '요추': 9238, '협착': 9239, '오백만원': 9240, '변성기': 9241, '유기농': 9242, '곡물': 9243, '꿀꿀하다': 9244, '짓궃': 9245, '이자율': 9246, '기둥': 9247, '증명사진': 9248, '윈도': 9249, '일삼': 9250, '원가': 9251, '잔소릴': 9252, '빈둥대던': 9253, '추악하다': 9254, '불장난': 9255, '권투': 9256, '래미': 9257, '하룻밤': 9258, '심성': 9259, '군상': 9260, '감사히': 9261, '냉소': 9262, '본능': 9263, '엎었어': 9264, '어우': 9265, '안식처': 9266, '비대증': 9267, '회서': 9268, '개고기': 9269, '처절하다': 9270, '혈중': 9271, '자기개발': 9272, '가부장': 9273, '백팔이': 9274, '견주': 9275, '삼십육': 9276, '재활용품': 9277, '독수공방': 9278, '원천': 9279, '전교꼴등': 9280, '짤렸어': 9281, '약혼녀': 9282, '비문증': 9283, '십수': 9284, '순직': 9285, '복무': 9286, '진도면': 9287, '가정법원': 9288, '정당방위': 9289, '대피': 9290, '고스톱': 9291, '학자금대출': 9292, '정리정돈': 9293, '사례금': 9294, '풋살': 9295, '이드': 9296, '판촉': 9297, '차출': 9298, '국채': 9299, '시전': 9300, '창자': 9301, '곽': 9302, '아이폰': 9303, '카풀': 9304, '영진': 9305, '문전': 9306, '깨나': 9307, '콜로라도주': 9308, '입학시험': 9309, '장년': 9310, '조례': 9311, '밑바닥': 9312, '가군': 9313, '콜록콜록': 9314, '억대': 9315, '다양해지다': 9316, '밑었던': 9317, '파란': 9318, '대문': 9319, '가품': 9320, '옥살이': 9321, '체제': 9322, '돌입': 9323, '돌려막기': 9324, '동물원': 9325, '후룸라이드': 9326, '파격': 9327, '얻어맞다': 9328, '끌어내리다': 9329, '네이버': 9330, '중금속': 9331, '해고자': 9332, '학회': 9333, '도련님': 9334, '몸뚱어리': 9335, '개방': 9336, '얹히다': 9337, '고산': 9338, '병적': 9339, '먹구름': 9340, '팔도': 9341, '주야장천': 9342, '들여놓다': 9343, '차사': 9344, '처방전': 9345, '퇴로': 9346, '핸드백': 9347, '위스키': 9348, '기와': 9349, '환우': 9350, '해킹': 9351, '약용식물': 9352, '대학원생': 9353, '건재': 9354, '남한': 9355, '난후': 9356, '문헌정보': 9357, '수위': 9358, '헛딛는': 9359, '전동': 9360, '올림픽': 9361, '로되': 9362, '혈기': 9363, '몸뚱아리': 9364, '도사': 9365, '며늘': 9366, '겨울철': 9367, '신경증': 9368, '괄시': 9369, '미천하다': 9370, '익다': 9371, '제약회사': 9372, '공중화장실': 9373, '뚜껑': 9374, '고래': 9375, '새우등': 9376, '토박이': 9377, '염두': 9378, '천재': 9379, '불성': 9380, '백오십': 9381, '평안하다': 9382, '셰계': 9383, '폐병': 9384, '영지': 9385, '상철': 9386, '영점': 9387, '음감': 9388, '반도체': 9389, '산물': 9390, '미투': 9391, '인수합병': 9392, '정심': 9393, '잔반': 9394, '코코아': 9395, '음미': 9396, '연극배우': 9397, '재택': 9398, '특수부대': 9399, '로나': 9400, '일관': 9401, '사철': 9402, '거둬들이다': 9403, '지소': 9404, '궁색하다': 9405, '알아맞히다': 9406, '기역': 9407, '설탕': 9408, '충동': 9409, '가죽': 9410, '핑곗거리': 9411, '어두우': 9412, '설문조사': 9413, '냉혹하다': 9414, '연달': 9415, '페인트': 9416, '유력': 9417, '잔쯕': 9418, '떵떵': 9419, '메꿀': 9420, '쫄면': 9421, '창립': 9422, '무가': 9423, '꿋꿋하다': 9424, '입국': 9425, '송년회': 9426, '날씨예보': 9427, '일명': 9428, '날밤': 9429, '재항암': 9430, '닥치고': 9431, '반신불수': 9432, '국비': 9433, '헤드셋': 9434, '콩쿠르': 9435, '거북하다': 9436, '학용품': 9437, '황천': 9438, '용의자': 9439, '진탕': 9440, '목격자': 9441, '곯다': 9442, '덕담': 9443, '치근덕거리다': 9444, '조직개편': 9445, '대각선': 9446, '동락': 9447, '빈칸': 9448, '버럭대다': 9449, '지칭': 9450, '고수': 9451, '유리창': 9452, '에게서도': 9453, '생겨나다': 9454, '깜짝깜짝': 9455, '취했다': 9456, '한눈': 9457, '불완전하다': 9458, '굳기': 9459, '식상하다': 9460, '백팔십팔': 9461, '센티미터': 9462, '강인': 9463, '페이스': 9464, '예견': 9465, '유튜버로': 9466, '충만': 9467, '부로': 9468, '공포증': 9469, '감안': 9470, '총괄': 9471, '일억만': 9472, '유골': 9473, '소실': 9474, '차키': 9475, '머쓱하다': 9476, '여름날': 9477, '스톡옵션': 9478, '장마철': 9479, '장대': 9480, '전교회장': 9481, '전가': 9482, '습도': 9483, '순대': 9484, '명예훼손': 9485, '탑골': 9486, '좀빼': 9487, '가족계획': 9488, '웅덩이': 9489, '숨찬': 9490, '예사롭다': 9491, '전자레인지': 9492, '관련성': 9493, '국제': 9494, '어치': 9495, '알콜': 9496, '오번': 9497, '사족': 9498, '이인삼각': 9499, '일일구': 9500, '감상문': 9501, '경희대': 9502, '이심': 9503, '걷히다': 9504, '확답': 9505, '소규모': 9506, '동창생': 9507, '도래': 9508, '초소': 9509, '년전': 9510, '고하': 9511, '집안사람': 9512, '영화제': 9513, '영향력': 9514, '피곤': 9515, '새하얘지다': 9516, '보상금': 9517, '신변': 9518, '해몽': 9519, '알림': 9520, '노궁': 9521, '유흥주점': 9522, '급증': 9523, '적격하다': 9524, '고학력자': 9525, '애달프다': 9526, '유치': 9527, '눈독': 9528, '미션': 9529, '가스레인지': 9530, '착착': 9531, '다이아': 9532, '글짓기': 9533, '목록': 9534, '보도자료': 9535, '머릿결': 9536, '심신': 9537, '선보다': 9538, '대거': 9539, '반수': 9540, '항적': 9541, '평수': 9542, '고모부': 9543, '티격태격하': 9544, '시체': 9545, '오묘하다': 9546, '명시': 9547, '목사': 9548, '설경': 9549, '부녀회': 9550, '이뿌다': 9551, '차안': 9552, '말벌': 9553, '레인': 9554, '홍콩': 9555, '어그': 9556, '청소기': 9557, '머리띠': 9558, '에게로': 9559, '부들부들': 9560, '반면': 9561, '도질': 9562, '췌장': 9563, '보육': 9564, '바람직하다': 9565, '미터': 9566, '쾅': 9567, '리스': 9568, '여드름': 9569, '합동': 9570, '얼렁뚱땅': 9571, '물회': 9572, '미세하다': 9573, '전남편': 9574, '일본어': 9575, '세제': 9576, '갈망': 9577, '행시': 9578, '펜션': 9579, '육류': 9580, '법안': 9581, '알츠하이머병': 9582, '독점': 9583, '장차': 9584, '전립선비대증': 9585, '경제학자': 9586, '바비큐': 9587, '텃새': 9588, '올려다보다': 9589, '박하': 9590, '이복': 9591, '선천성': 9592, '황새': 9593, '뱁새': 9594, '못버는데': 9595, '울렁증': 9596, '수백만': 9597, '감퇴': 9598, '성형수술': 9599, '괴씸': 9600, '블라인드': 9601, '고지서': 9602, '갈아엎다': 9603, '구리다': 9604, '야생': 9605, '집밖': 9606, '밀도': 9607, '피디': 9608, '고시원': 9609, '철썩': 9610, '코트': 9611, '동요': 9612, '까막눈': 9613, '보드게임': 9614, '밑천': 9615, '서류철': 9616, '입소': 9617, '뒤척': 9618, '자궁경부암': 9619, '억압': 9620, '파도': 9621, '상투': 9622, '뜻일': 9623, '필리핀': 9624, '비직': 9625, '폐기': 9626, '콘돔': 9627, '지리산': 9628, '다재': 9629, '다정': 9630, '삼차': 9631, '작동': 9632, '담소': 9633, '지도력': 9634, '주식시장': 9635, '꼰대들': 9636, '색안경': 9637, '떼이다': 9638, '상습범': 9639, '틀림없이': 9640, '해진': 9641, '발끈': 9642, '아치': 9643, '모멸': 9644, '천직': 9645, '뭐기': 9646, '바람둥이': 9647, '벽돌': 9648, '골도': 9649, '뚫어지다': 9650, '육촌': 9651, '친철': 9652, '성능': 9653, '대관절': 9654, '상대자': 9655, '오징어': 9656, '고전': 9657, '이나라': 9658, '불명예': 9659, '영양가': 9660, '한고비': 9661, '넷플릭스': 9662, '획득': 9663, '문해': 9664, '스트레': 9665, '조미료': 9666, '잉크': 9667, '베란다': 9668, '특유': 9669, '박씨': 9670, '방송사': 9671, '추잡': 9672, '살더': 9673, '바른': 9674, '가계약': 9675, '성정체성': 9676, '외진': 9677, '좌지우지': 9678, '연애편지': 9679, '출결': 9680, '첨부': 9681, '주병': 9682, '시금': 9683, '주입': 9684, '다큐': 9685, '흐릿해': 9686, '백해무익': 9687, '물난리': 9688, '살살': 9689, '홀어머니': 9690, '가로막다': 9691, '지리다': 9692, '선행': 9693, '둥지': 9694, '참새': 9695, '계산서': 9696, '발행': 9697, '잔디': 9698, '돗자리': 9699, '산길': 9700, '식약청': 9701, '검문': 9702, '절대음감': 9703, '현수막': 9704, '다년': 9705, '넋두리': 9706, '휘청': 9707, '몇번': 9708, '영구': 9709, '서예': 9710, '호적': 9711, '취했더': 9712, '뉴저지': 9713, '피나': 9714, '밤사이': 9715, '째째하다': 9716, '텐트': 9717, '삽입': 9718, '앞진': 9719, '얼추': 9720, '헤르페스': 9721, '유흥업소': 9722, '파선': 9723, '호우': 9724, '스카프': 9725, '면치': 9726, '포근하다': 9727, '일원': 9728, '족': 9729, '인솔': 9730, '피부암': 9731, '불운': 9732, '아이콘': 9733, '봉': 9734, '식기세척기': 9735, '최저임금': 9736, '크나크다': 9737, '강원랜드': 9738, '구십이': 9739, '요약': 9740, '열두시': 9741, '어리석음': 9742, '제빵': 9743, '깜깜무소식': 9744, '재다': 9745, '삿대질': 9746, '붙잡히다': 9747, '사실관계': 9748, '무표정': 9749, '망태': 9750, '식지': 9751, '방향성': 9752, '업그레이드': 9753, '민낯': 9754, '교습': 9755, '실현': 9756, '공모': 9757, '소유권': 9758, '후송': 9759, '노선': 9760, '저승사자': 9761, '쟁겨주': 9762, '훨훨': 9763, '사무소': 9764, '갈비뼈': 9765, '브로마이드': 9766, '일환': 9767, '웃옷': 9768, '상복': 9769, '애원': 9770, '양성애자': 9771, '파마머리': 9772, '생명과학': 9773, '중병': 9774, '박동수': 9775, '아역': 9776, '기독교도': 9777, '처갓집': 9778, '짓누르다': 9779, '여념': 9780, '지배': 9781, '얼싸안다': 9782, '땅문서': 9783, '다세대': 9784, '포옹': 9785, '폭삭': 9786, '행정': 9787, '삔': 9788, '자네도': 9789, '택할': 9790, '정성스럽다': 9791, '중추': 9792, '신장암': 9793, '무료함': 9794, '개국': 9795, '쥐어박다': 9796, '애정결핍': 9797, '삼일장': 9798, '안방': 9799, '다라': 9800, '관리직': 9801, '사과문': 9802, '병균': 9803, '널': 9804, '아부해': 9805, '이석': 9806, '애니메이션': 9807, '만삭': 9808, '카바레': 9809, '하차': 9810, '땡기다': 9811, '구축': 9812, '로더': 9813, '군기': 9814, '미세': 9815, '중일': 9816, '알라': 9817, '피부관리': 9818, '세척': 9819, '신한': 9820, '나가떨어지다': 9821, '복약': 9822, '부닥치다': 9823, '바람기': 9824, '배상금': 9825, '험준하다': 9826, '소름끼치다': 9827, '겁박': 9828, '직렬': 9829, '전세계약': 9830, '중지': 9831, '집어넣다': 9832, '홀수': 9833, '비거': 9834, '간밤': 9835, '만큼이야': 9836, '덩이': 9837, '산책길': 9838, '엎어': 9839, '직분': 9840, '심정지': 9841, '이탈': 9842, '결판': 9843, '친자검사': 9844, '민해지니': 9845, '줄기세포': 9846, '메뉴얼': 9847, '차남': 9848, '날아오다': 9849, '목장': 9850, '돌부리': 9851, '쭈글쭈글하다': 9852, '패싸움': 9853, '맹세코': 9854, '게으름': 9855, '삼계탕': 9856, '횡재': 9857, '교생': 9858, '구애': 9859, '건너편': 9860, '명일': 9861, '민회': 9862, '오한': 9863, '이른바': 9864, '물밀': 9865, '이상야릇하다': 9866, '순서대로': 9867, '프라푸치노': 9868, '직속상관': 9869, '집밥': 9870, '배지': 9871, '벼슬': 9872, '복부비만': 9873, '애해': 9874, '통행': 9875, '콜라': 9876, '나른하다': 9877, '하루살이': 9878, '불문': 9879, '백이십': 9880, '헛일': 9881, '간도': 9882, '가축': 9883, '뒷덜미': 9884, '교': 9885, '세태': 9886, '예요': 9887, '튀김': 9888, '제나': 9889, '우러러보': 9890, '케어': 9891, '정문': 9892, '자치': 9893, '자작': 9894, '안취': 9895, '헛걸음': 9896, '젋었': 9897, '지니': 9898, '휴양': 9899, '그럴듯하다': 9900, '어린이날': 9901, '표준': 9902, '백도': 9903, '구내식당': 9904, '재우다': 9905, '눕혔는데': 9906, '옛날이야기': 9907, '불순': 9908, '공복': 9909, '음으로': 9910, '운전대': 9911, '고현': 9912, '개통': 9913, '가상': 9914, '화폐': 9915, '유혹': 9916, '밥투': 9917, '서양화': 9918, '허허': 9919, '교양': 9920, '십년감수': 9921, '적기': 9922, '카트': 9923, '프로그래머': 9924, '천근': 9925, '라미': 9926, '태생': 9927, '액자': 9928, '예상외': 9929, '색시': 9930, '저희': 9931, '탄산음료': 9932, '열시': 9933, '신인': 9934, '영어실력': 9935, '할멈들': 9936, '폐활량': 9937, '동맥경화': 9938, '라식': 9939, '무신': 9940, '사양': 9941, '괴팍': 9942, '선출': 9943, '사촌동생': 9944, '흐릿하': 9945, '한층': 9946, '마땅찮다': 9947, '라는데': 9948, '장성': 9949, '성비': 9950, '금지법': 9951, '중과세': 9952, '공시가격': 9953, '화학': 9954, '반대편': 9955, '참내': 9956, '무분별': 9957, '패가망신': 9958, '설움': 9959, '정치가': 9960, '자식새끼': 9961, '경시': 9962, '대성통곡': 9963, '폐수': 9964, '방류': 9965, '물고기': 9966, '훈련소': 9967, '멘트': 9968, '룰루랄라': 9969, '프라모델': 9970, '손수건': 9971, '바람둥': 9972, '뛰어오르다': 9973, '하혈': 9974, '다락방': 9975, '쌍꺼풀': 9976, '락': 9977, '시보': 9978, '왕인': 9979, '기곈': 9980, '시디': 9981, '성화니': 9982, '가설': 9983, '부스럭': 9984, '녹음': 9985, '친밀': 9986, '몰래카메라': 9987, '여론': 9988, '들쑥날쑥하다': 9989, '증서': 9990, '월액': 9991, '해물탕': 9992, '한라산': 9993, '묶음': 9994, '때마': 9995, '주일': 9996, '관장': 9997, '세탁': 9998, '피구': 9999, '익스트림': 10000, '바짓가랑이': 10001, '정액': 10002, '붕괴': 10003, '옥자': 10004, '외무': 10005, '자연과학': 10006, '런닝맨': 10007, '토닥이다': 10008, '대리출석': 10009, '아가': 10010, '부친상': 10011, '내비게이션': 10012, '명성': 10013, '전자기기': 10014, '사투리': 10015, '표준어': 10016, '모여들다': 10017, '난소': 10018, '에서만이': 10019, '고려장': 10020, '오매불망': 10021, '증조': 10022, '해선': 10023, '비책': 10024, '묏': 10025, '오에이': 10026, '떨기': 10027, '맞닥뜨렸었어': 10028, '퀴즈쇼': 10029, '분업': 10030, '목덜미': 10031, '동문회': 10032, '멀뚱하다': 10033, '철민': 10034, '한약재': 10035, '숨가쁘다': 10036, '공존': 10037, '시리얼': 10038, '부류': 10039, '함정': 10040, '이혼소송': 10041, '산업혁명': 10042, '향기': 10043, '식겁하다': 10044, '기울어지다': 10045, '장식': 10046, '골증': 10047, '교도소': 10048, '계서': 10049, '부조리': 10050, '외다': 10051, '백칠십이': 10052, '판명': 10053, '열차': 10054, '탈선': 10055, '간장게장': 10056, '금괴': 10057, '모성애': 10058, '굽실': 10059, '성대결절': 10060, '해임': 10061, '허름': 10062, '새치': 10063, '탯줄': 10064, '금융투자': 10065, '광부': 10066, '질리': 10067, '터널': 10068, '굴착': 10069, '벌렁벌렁': 10070, '재니': 10071, '빠트려': 10072, '여중생': 10073, '부당': 10074, '횟감': 10075, '커밍아웃': 10076, '초혼': 10077, '땅콩': 10078, '끔뻑이': 10079, '백여': 10080, '섬기다': 10081, '쪼그라들다': 10082, '체불': 10083, '어물쩍': 10084, '구지': 10085, '불리': 10086, '측면': 10087, '별장': 10088, '경연': 10089, '스럽지도': 10090, '닌': 10091, '줌': 10092, '매부': 10093, '수줍다': 10094, '위중하다': 10095, '다냬': 10096, '연희': 10097, '삼포': 10098, '칭하': 10099, '스무살': 10100, '탄탄': 10101, '대원': 10102, '기숙': 10103, '구려': 10104, '악명': 10105, '으레': 10106, '정석': 10107, '호구': 10108, '어수룩하다': 10109, '학식': 10110, '외손': 10111, '할머님': 10112, '개장': 10113, '교환학생': 10114, '이삿짐': 10115, '워크넷': 10116, '기저': 10117, '진수': 10118, '남학생': 10119, '관대하다': 10120, '원고': 10121, '고속': 10122, '굴릴': 10123, '돈자': 10124, '졸졸': 10125, '공양': 10126, '만복': 10127, '하지정맥류': 10128, '불고기': 10129, '이레': 10130, '동전': 10131, '영란': 10132, '환': 10133, '장근이': 10134, '특별대우': 10135, '미나': 10136, '물컵': 10137, '경신': 10138, '다이아몬드': 10139, '그른': 10140, '남다르다': 10141, '빈둥대': 10142, '식약처': 10143, '바이크': 10144, '임종은': 10145, '버셨어': 10146, '형제자매': 10147, '뭉치다': 10148, '종친회': 10149, '착상': 10150, '선남선녀': 10151, '업소': 10152, '렌스': 10153, '젠더': 10154, '그림자': 10155, '구조대': 10156, '인공호흡': 10157, '부착': 10158, '요지경': 10159, '소방': 10160, '타부': 10161, '노인도': 10162, '요금소': 10163, '기자': 10164, '이적': 10165, '러브콜': 10166, '개시': 10167, '삭신': 10168, '그따위': 10169, '벌렁': 10170, '농작물': 10171, '부전': 10172, '골수암': 10173, '거뭇거뭇': 10174, '베스트': 10175, '프': 10176, '랜드': 10177, '독극물': 10178, '씨름': 10179, '부속품': 10180, '댄서': 10181, '스킨': 10182, '하프마라톤': 10183, '보충수업': 10184, '버럭버럭': 10185, '토록': 10186, '호화': 10187, '유람선': 10188, '카를': 10189, '수업료': 10190, '맞춤': 10191, '분윳값': 10192, '맥박': 10193, '한의사': 10194, '정기적금': 10195, '웠': 10196, '포대': 10197, '탕수육': 10198, '책장': 10199, '숟가락': 10200, '무력': 10201, '동맥': 10202, '방석집': 10203, '쓰레기봉투': 10204, '요구르트': 10205, '근로계약서': 10206, '칙': 10207, '칠해': 10208, '아날로그': 10209, '로란': 10210, '차곡하다': 10211, '사촌오빠': 10212, '와우': 10213, '추근거리다': 10214, '작은아버지': 10215, '명쾌하다': 10216, '치맥': 10217, '배신감드': 10218, '따윈': 10219, '새기다': 10220, '센티': 10221, '브': 10222, '비굴하다': 10223, '뻘쭘했어': 10224, '기색': 10225, '통학': 10226, '덤비다': 10227, '준비운동': 10228, '엄습': 10229, '여행기': 10230, '학번': 10231, '진담': 10232, '이어진': 10233, '꼿꼿이': 10234, '무병장수': 10235, '오억이': 10236, '국장': 10237, '느슨하다': 10238, '덤': 10239, '도세': 10240, '파서': 10241, '우수하다': 10242, '씌었던': 10243, '마크': 10244, '논밭': 10245, '확실': 10246, '이견': 10247, '좁히다': 10248, '환전': 10249, '통치': 10250, '간담': 10251, '답문': 10252, '격렬하다': 10253, '동물병원': 10254, '문건': 10255, '어긋나게': 10256, '번뜩': 10257, '전철역': 10258, '이십팔': 10259, '소액': 10260, '지지도': 10261, '툴툴대더': 10262, '공신': 10263, '실언': 10264, '희소': 10265, '한심헤': 10266, '사담': 10267, '난리치다': 10268, '신장결석': 10269, '파릇파릇하다': 10270, '환송': 10271, '앞세우다': 10272, '복날': 10273, '경제사': 10274, '군림': 10275, '회신': 10276, '한식': 10277, '조리사': 10278, '박아': 10279, '팬클럽': 10280, '오살': 10281, '비행': 10282, '청소년': 10283, '말재': 10284, '화이트데이': 10285, '타이': 10286, '홱': 10287, '첨': 10288, '삭': 10289, '사위다': 10290, '끝없다': 10291, '앰뷸런스': 10292, '난산': 10293, '무궁무진': 10294, '학술': 10295, '졸업생': 10296, '흐': 10297, '로거': 10298, '지우': 10299, '까치': 10300, '어영부영': 10301, '안경점': 10302, '찬물': 10303, '따끈하다': 10304, '무지막지': 10305, '인대': 10306, '김치전': 10307, '부스스': 10308, '호명': 10309, '백발': 10310, '돌기': 10311, '악습': 10312, '쾌변': 10313, '벼룩': 10314, '굴걸': 10315, '퍼부어': 10316, '브런치': 10317, '임자': 10318, '잉어': 10319, '응급구조대': 10320, '기합': 10321, '기물': 10322, '시동생': 10323, '짤릴까': 10324, '볼껄': 10325, '동심': 10326, '구독': 10327, '출동': 10328, '의리': 10329, '게재': 10330, '축구공': 10331, '꼬셔': 10332, '적집': 10333, '눈코': 10334, '뜰': 10335, '다지다': 10336, '산악자전거': 10337, '뻑뻑': 10338, '폐쇄되어': 10339, '거름': 10340, '불상': 10341, '건실': 10342, '펄펄': 10343, '이십만': 10344, '암흑': 10345, '술취해': 10346, '굳은살': 10347, '애나': 10348, '세지면': 10349, '직하다': 10350, '도서실': 10351, '년제': 10352, '작용': 10353, '전립선염': 10354, '셀프': 10355, '바득바득': 10356, '항복': 10357, '특채': 10358, '가스요금': 10359, '컴컴하다': 10360, '금지옥엽': 10361, '채근': 10362, '팀별': 10363, '마르지': 10364, '개조': 10365, '한정판': 10366, '손익': 10367, '화려': 10368, '틈타다': 10369, '두창': 10370, '정력': 10371, '광경': 10372, '일꾼': 10373, '질질': 10374, '하위': 10375, '원산지': 10376, '둔갑': 10377, '장사꾼': 10378, '뜬금': 10379, '짐일': 10380, '외숙모': 10381, '켜지다': 10382, '배꼽': 10383, '마치니': 10384, '사기죄': 10385, '단식': 10386, '두통약': 10387, '왼': 10388, '북새통': 10389, '살인마': 10390, '노부모': 10391, '바램': 10392, '레슨': 10393, '이씨': 10394, '신통': 10395, '우편물': 10396, '남성만': 10397, '팸플릿': 10398, '부라': 10399, '만구천': 10400, '스토킹': 10401, '역서': 10402, '휜다': 10403, '러시아': 10404, '결원': 10405, '정신차리다': 10406, '실실': 10407, '부아': 10408, '기량': 10409, '도비': 10410, '잡티': 10411, '여권': 10412, '물배': 10413, '스포츠댄스': 10414, '장려상': 10415, '분홍색': 10416, '애석하다': 10417, '일위': 10418, '신비': 10419, '현금인출기': 10420, '귀금속': 10421, '멍멍하다': 10422, '피진': 10423, '맹구': 10424, '추수': 10425, '이백사십만': 10426, '백팔십만': 10427, '비보': 10428, '대금': 10429, '달인': 10430, '애완견': 10431, '허약': 10432, '단기간': 10433, '장롱': 10434, '대여': 10435, '대폭': 10436, '부터의': 10437, '먹잇감': 10438, '팬티': 10439, '나변': 10440, '혹평': 10441, '헛헛해': 10442, '오성': 10443, '톤': 10444, '트럭': 10445, '형부': 10446, '항공기': 10447, '못정': 10448, '프렌': 10449, '이즈': 10450, '외주': 10451, '판다': 10452, '맴도': 10453, '약인': 10454, '무심': 10455, '쓰다듬다': 10456, '과신': 10457, '근엄하다': 10458, '상임': 10459, '제과제빵': 10460, '위험성': 10461, '존재도': 10462, '감지': 10463, '널다': 10464, '두어': 10465, '수속': 10466, '아유': 10467, '당근': 10468, '울타리': 10469, '음담패설': 10470, '확충': 10471, '성황리': 10472, '끼리끼리': 10473, '가사도': 10474, '말라가': 10475, '긴축': 10476, '복사': 10477, '막강': 10478, '고속도로': 10479, '헛먹': 10480, '몰두': 10481, '현성': 10482, '나본': 10483, '요사이': 10484, '두피': 10485, '폐교': 10486, '나누어지다': 10487, '하우스': 10488, '탐욕': 10489, '인삼': 10490, '얽매이다': 10491, '장신구': 10492, '령액': 10493, '과업': 10494, '부글부글': 10495, '끓다': 10496, '저녁때': 10497, '뀌었는데': 10498, '시야': 10499, '흐릿': 10500, '불우': 10501, '페스티벌': 10502, '수목장': 10503, '한량': 10504, '담합': 10505, '유비': 10506, '무환': 10507, '성어': 10508, '불균형': 10509, '숨소리': 10510, '경악': 10511, '금치': 10512, '급변': 10513, '황달': 10514, '염소': 10515, '다운증후군': 10516, '검정고시': 10517, '주주': 10518, '공용': 10519, '점퍼': 10520, '불길': 10521, '외침': 10522, '상여': 10523, '면전': 10524, '체조': 10525, '풍년': 10526, '수확량': 10527, '결벽증': 10528, '의탁': 10529, '냉기': 10530, '싫증': 10531, '양옆': 10532, '품위': 10533, '문상': 10534, '체류': 10535, '데스크': 10536, '김숙': 10537, '반값': 10538, '주군': 10539, '친부': 10540, '환승역': 10541, '단층': 10542, '누님': 10543, '인의': 10544, '기울다': 10545, '강력': 10546, '계비': 10547, '차이점': 10548, '영재': 10549, '삐었어': 10550, '뿌옇다': 10551, '부결': 10552, '해만': 10553, '허겁지겁': 10554, '걸알': 10555, '눈살': 10556, '찌푸리다': 10557, '마약': 10558, '패물': 10559, '비키': 10560, '북한': 10561, '콜': 10562, '효심': 10563, '지극': 10564, '십분': 10565, '느닷없다': 10566, '툴툴거렸더': 10567, '차하': 10568, '연쇄': 10569, '손등': 10570, '서빙': 10571, '혼동': 10572, '방편': 10573, '보물찾기': 10574, '무의미': 10575, '경쟁력': 10576, '채근하듯': 10577, '차보': 10578, '이왕': 10579, '단조롭다': 10580, '템포': 10581, '심보': 10582, '묶여서': 10583, '굽신거릴': 10584, '청천벽력': 10585, '효용': 10586, '통한': 10587, '면은': 10588, '유창하다': 10589, '일기예보': 10590, '뵀었거': 10591, '한치': 10592, '정본': 10593, '감감': 10594, '다독': 10595, '지레': 10596, '자발': 10597, '괜시리': 10598, '그리기': 10599, '만화가': 10600, '맨손체조': 10601, '장군': 10602, '항일': 10603, '바짝': 10604, '지혜': 10605, '안간힘': 10606, '폐쇄한대': 10607, '다양성': 10608, '식감': 10609, '패기': 10610, '서주': 10611, '섭외': 10612, '유의': 10613, '뭣하': 10614, '꿈구': 10615, '나타': 10616, '백해무익하다': 10617, '폭등': 10618, '주관성': 10619, '편도선': 10620, '행여': 10621, '순진무구': 10622, '한마음': 10623, '다이야': 10624, '기해': 10625, '거구': 10626, '주춤': 10627, '위태롭거': 10628, '틴트': 10629, '도안': 10630, '탄생': 10631, '위대하다': 10632, '꿈틀': 10633, '징크스': 10634, '사물': 10635, '태클': 10636, '베이비박스': 10637, '서일': 10638, '빌어': 10639, '킬로미터': 10640, '갸': 10641, '짙다': 10642, '푸른': 10643, '찌뿌둥': 10644, '리조트': 10645, '이용권': 10646, '파워포인트': 10647, '색깔': 10648, '이백': 10649, '특징': 10650, '조급': 10651, '몆': 10652, '평탄하다': 10653, '블라우스': 10654, '글렀': 10655, '들으랬더': 10656, '성경': 10657, '구절': 10658, '읊는다든': 10659, '제인': 10660, '세련': 10661, '공정하다': 10662, '제재': 10663, '햇': 10664, '화끈하다': 10665, '측은': 10666, '겨워': 10667, '이내': 10668, '유투버': 10669, '합주': 10670, '실만': 10671, '출국': 10672, '쉬이': 10673, '이주나': 10674, '간사하다': 10675, '단칼': 10676, '딛다': 10677, '스페셜리스트': 10678, '사수자리': 10679, '수의': 10680, '유품': 10681, '삼삼오오': 10682, '스릴': 10683, '헛수': 10684, '무기력증': 10685, '화들짝': 10686, '훑다': 10687, '품평': 10688, '다단계판매': 10689, '독사': 10690, '견해': 10691, '물산': 10692, '악쓰다': 10693, '도운': 10694, '기름기': 10695, '차림새': 10696, '학구': 10697, '선상': 10698, '잠자코': 10699, '핵전쟁': 10700, '멸망하다': 10701, '옮는': 10702, '케이스': 10703, '노동청': 10704, '절로': 10705, '소정': 10706, '염분': 10707, '귀신': 10708, '쏜살같다': 10709, '약식': 10710, '편중': 10711, '갑자': 10712, '지상권': 10713, '부지': 10714, '떠나오다': 10715, '부와': 10716, '치의': 10717, '명백하다': 10718, '소관': 10719, '종인': 10720, '독신자': 10721, '컨트롤': 10722, '중세': 10723, '미스코리아': 10724, '팔십오': 10725, '꽝': 10726, '삐뚤다': 10727, '빼뚤': 10728, '지그': 10729, '굴욕': 10730, '동방예의지국': 10731, '눈총': 10732, '아가서': 10733, '역효과': 10734, '어여쁘다': 10735, '장하다': 10736, '폭로': 10737, '교육부': 10738, '왈가': 10739, '왈부': 10740, '국문과': 10741, '노출증': 10742, '교감': 10743, '졸혼': 10744, '로맨틱': 10745, '웃음소리': 10746, '시기심': 10747, '갉아먹다': 10748, '노쇠': 10749, '간편하다': 10750, '상호': 10751, '여주': 10752, '윤리관': 10753, '대타': 10754, '나폴레옹': 10755, '파이다': 10756, '늠름하다': 10757, '힌트': 10758, '연초': 10759, '배아': 10760, '번하다': 10761, '베끼': 10762, '타계': 10763, '용무': 10764, '연식': 10765, '반감': 10766, '흉내': 10767, '통역': 10768, '발인': 10769, '무수': 10770, '타이틀': 10771, '자물쇠': 10772, '서준': 10773, '직시': 10774, '외동아들': 10775, '구서': 10776, '용소': 10777, '범행': 10778, '쓸개': 10779, '로스쿨': 10780, '이유지': 10781, '초청': 10782, '과오': 10783, '호주머니': 10784, '앨': 10785, '마음씨': 10786, '폭염': 10787, '열병': 10788, '길들이다': 10789, '매물도': 10790, '묶다': 10791, '팽개': 10792, '터보': 10793, '유진': 10794, '차선': 10795, '두고두고': 10796, '싸가지': 10797, '어두울': 10798, '후드': 10799, '유심': 10800, '하제': 10801, '치사': 10802, '거일': 10803, '상함': 10804, '보호대': 10805, '사이더': 10806, '후보자': 10807, '말장난': 10808, '번질': 10809, '설계자': 10810, '건달': 10811, '방범': 10812, '난관': 10813, '국문학': 10814, '머피': 10815, '법칙': 10816, '일정량': 10817, '굶주리다': 10818, '장난스럽다': 10819, '돈값': 10820, '학사': 10821, '북적': 10822, '쌍욕': 10823, '영화감독': 10824, '자투리': 10825, '요가랑': 10826, '장본': 10827, '곤란': 10828, '모색': 10829, '분쟁': 10830, '개그': 10831, '동선': 10832, '젓다': 10833, '엠비티아이': 10834, '방비': 10835, '나열하다': 10836, '복달': 10837, '매라': 10838, '닥달해': 10839, '처세술': 10840, '매스미디어': 10841, '웨이': 10842, '맨몸': 10843, '임상시험': 10844, '소지도': 10845, '해독': 10846, '예쁘장하다': 10847, '헤픈': 10848, '메르스': 10849, '음치': 10850, '화질': 10851, '카피라이터': 10852, '몸담': 10853, '로간': 10854, '병력': 10855, '아칭믈': 10856, '배타': 10857, '이탈리아': 10858, '가세': 10859, '매운탕': 10860, '기발하다': 10861, '떼돈': 10862, '안구': 10863, '렌즈': 10864, '마이크': 10865, '뀌었거': 10866, '회전목마': 10867, '요리조리': 10868, '워진': 10869, '공손하다': 10870, '달랄': 10871, '빗나가다': 10872, '넘겨짚다': 10873, '실업률': 10874, '바치': 10875, '방방': 10876, '현대': 10877, '울화병': 10878, '리마': 10879, '득달': 10880, '달려들다': 10881, '서쪽': 10882, '석양': 10883, '쿠션': 10884, '편식': 10885, '한결같다': 10886, '프로세스': 10887, '시차': 10888, '소행': 10889, '엎었으': 10890, '셰프': 10891, '스테로이드': 10892, '안압': 10893, '전향': 10894, '구비': 10895, '서강대': 10896, '초긴장해': 10897, '쪼르르': 10898, '물약': 10899, '곱절': 10900, '시행착오': 10901, '암내': 10902, '구차하다': 10903, '물리치료사': 10904, '파노라마': 10905, '논다니': 10906, '도도': 10907, '초보자': 10908, '군인': 10909, '대학자': 10910, '유기견': 10911, '부방': 10912, '꾀죄죄': 10913, '허비': 10914, '샘플': 10915, '채취': 10916, '계로': 10917, '누운': 10918, '쟁쟁': 10919, '진실로': 10920, '실직자': 10921, '불구자': 10922, '민주': 10923, '스쿼트': 10924, '본드': 10925, '혼도': 10926, '한파': 10927, '운동량': 10928, '불쾌감': 10929, '수임료': 10930, '지지자': 10931, '외환위기': 10932, '어른스럽다': 10933, '간략하다': 10934, '전분': 10935, '반품': 10936, '하므다': 10937, '독후감': 10938, '여름철': 10939, '습하다': 10940, '족쇄': 10941, '산송장': 10942, '답습': 10943, '시긴': 10944, '밖엔': 10945, '서거': 10946, '인품': 10947, '모양새': 10948, '의혹': 10949, '태만': 10950, '바들바들': 10951, '잇따르다': 10952, '계산기': 10953, '마구잡이': 10954, '월요병': 10955, '싹싹': 10956, '장보고': 10957, '콕콕': 10958, '불철': 10959, '주야': 10960, '비닐하우스': 10961, '지탄': 10962, '팝콘': 10963, '무효표': 10964, '싸매다': 10965, '시돈': 10966, '담벼락': 10967, '페루': 10968, '안데스': 10969, '문명': 10970, '당국': 10971, '복종': 10972, '원어민': 10973, '영어학원': 10974, '소요': 10975, '밭농사': 10976, '반적': 10977, '희박하다': 10978, '무통': 10979, '다리다': 10980, '강좌': 10981, '삐친': 10982, '특이': 10983, '망가뜨렸거': 10984, '업보': 10985, '윽박': 10986, '매각': 10987, '비겁': 10988, '처럼은': 10989, '주무': 10990, '매상': 10991, '쌈질': 10992, '최우': 10993, '꼼지락': 10994, '우쭐': 10995, '웅장': 10996, '학교행사': 10997, '수상한': 10998, '치고받다': 10999, '개판': 11000, '스릴러': 11001, '합방': 11002, '카페나': 11003, '어쨌다': 11004, '번꼴': 11005, '쩍거려': 11006, '조이': 11007, '동경': 11008, '반경': 11009, '러닝': 11010, '약주': 11011, '사발': 11012, '요란하다': 11013, '남부끄럽다': 11014, '구억': 11015, '종부세': 11016, '신건': 11017, '꼬아': 11018, '하단': 11019, '어깨동무': 11020, '블랙박스': 11021, '자손': 11022, '자제시키다': 11023, '격하': 11024, '배변': 11025, '패드': 11026, '만인': 11027, '인치': 11028, '상세': 11029, '이돈': 11030, '칼슘': 11031, '시간제': 11032, '난거지': 11033, '울고불고': 11034, '어지러워지다': 11035, '실질': 11036, '보건': 11037, '이왕이면': 11038, '헤어스타일': 11039, '십일이': 11040, '비일비재하다': 11041, '양식': 11042, '손색': 11043, '찌릿하': 11044, '경련': 11045, '헛수고더': 11046, '백삼십': 11047, '썻어': 11048, '핏기': 11049, '조곤조곤': 11050, '판막': 11051, '파랗다': 11052, '짜이다': 11053, '오자': 11054, '묘사': 11055, '동지': 11056, '나타내다': 11057, '가산': 11058, '청심환': 11059, '된거': 11060, '인게': 11061, '생강차': 11062, '가랑이': 11063, '수액': 11064, '플랜': 11065, '대작': 11066, '건단': 11067, '지워지다': 11068, '생필': 11069, '이천만': 11070, '착': 11071, '용감하다': 11072, '꽂히다': 11073, '오손도손': 11074, '십일': 11075, '조회': 11076, '하기야': 11077, '무어': 11078, '굴렸': 11079, '애먼': 11080, '악보': 11081, '지휘자': 11082, '급우': 11083, '나시': 11084, '오순도순': 11085, '주얼리': 11086, '개개인': 11087, '악착': 11088, '아마추어': 11089, '오케스트라': 11090, '결별': 11091, '합리화': 11092, '기념품': 11093, '만주': 11094, '부대끼다': 11095, '손글씨': 11096, '감자': 11097, '되라셔': 11098, '민망': 11099, '택': 11100, '나머진': 11101, '면지': 11102, '원형탈모': 11103, '소박하다': 11104, '아웅': 11105, '속닥거리다': 11106, '부부인': 11107, '삼억': 11108, '계획성': 11109, '꽃집': 11110, '읽히다': 11111, '병풍': 11112, '백지상태': 11113, '쟨': 11114, '저셔': 11115, '요플레': 11116, '전수': 11117, '밤길': 11118, '지주': 11119, '시사': 11120, '다큐멘터리': 11121, '전문직': 11122, '이신가': 11123, '줄라': 11124, '이친': 11125, '골로': 11126, '신들리다': 11127, '뺨치': 11128, '허기지다': 11129, '장미': 11130, '청순': 11131, '거보': 11132, '축하파티': 11133, '흐물흐물': 11134, '남발': 11135, '연결고리': 11136, '잡아떼다': 11137, '검도': 11138, '독지가': 11139, '평가절하': 11140, '푸념': 11141, '일사병': 11142, '에러': 11143, '방울': 11144, '본국': 11145, '무더위': 11146, '먹거리': 11147, '뜬눈': 11148, '황상': 11149, '지방도': 11150, '헤딩': 11151, '거미': 11152, '궤도': 11153, '동성연애': 11154, '뿐더러': 11155, '둔화': 11156, '방과후': 11157, '겁결': 11158, '짬': 11159, '기입': 11160, '논쟁': 11161, '싱가포르': 11162, '한사코': 11163, '셨는데': 11164, '체인점': 11165, '우후죽순': 11166, '다분하다': 11167, '당화혈색소': 11168, '못내': 11169, '판결': 11170, '회상': 11171, '종속': 11172, '틀려먹다': 11173, '기생충': 11174, '사회면': 11175, '가려움증': 11176, '단것': 11177, '악질': 11178, '태만하다': 11179, '빈부격차': 11180, '수면제': 11181, '팔짝': 11182, '추첨': 11183, '뛰놀다': 11184, '해볼껄': 11185, '자산운용': 11186, '몆년': 11187, '지린다': 11188, '올드': 11189, '동굴': 11190, '고착': 11191, '굳히다': 11192, '점주': 11193, '자명종': 11194, '기왕': 11195, '다이나믹듀오': 11196, '짜지다': 11197, '조종': 11198, '하고야': 11199, '반발': 11200, '타트': 11201, '체리': 11202, '복제': 11203, '보자기': 11204, '세네': 11205, '강원도': 11206, '긴밀하다': 11207, '자리야': 11208, '구색': 11209, '직기': 11210, '유책': 11211, '목전': 11212, '융화': 11213, '알뜰살뜰': 11214, '활황': 11215, '손흥민': 11216, '운세': 11217, '할당량': 11218, '활동량': 11219, '피치': 11220, '살일': 11221, '미적지근하다': 11222, '영문학': 11223, '의상': 11224, '데인': 11225, '임종도': 11226, '고어': 11227, '빠듯하거': 11228, '해충': 11229, '대항': 11230, '안내서': 11231, '농락': 11232, '변덕쟁이': 11233, '헐레벌떡': 11234, '해피엔딩': 11235, '아리송하다': 11236, '수직': 11237, '자립': 11238, '모카': 11239, '이기만': 11240, '피씨': 11241, '단편': 11242, '무제한': 11243, '엽기': 11244, '전주': 11245, '핏줄': 11246, '설계도': 11247, '옆반': 11248, '의적': 11249, '용하다': 11250, '짊어져': 11251, '간수': 11252, '퍼먹': 11253, '약정': 11254, '둘러싸다': 11255, '욱했어': 11256, '칠천만': 11257, '금번': 11258, '걜': 11259, '에펠탑': 11260, '런던': 11261, '시계탑': 11262, '그리스도': 11263, '불면': 11264, '정의롭': 11265, '선본': 11266, '콘텐츠': 11267, '숨죽': 11268, '셀룰라이트': 11269, '덮이다': 11270, '배출': 11271, '유산균': 11272, '법무': 11273, '작문': 11274, '어간': 11275, '축축': 11276, '분식집': 11277, '화근': 11278, '그릴': 11279, '공략': 11280, '청탁': 11281, '라든가': 11282, '열렬하다': 11283, '복대': 11284, '복강': 11285, '체액': 11286, '축적': 11287, '철야': 11288, '미안': 11289, '냉': 11290, '찌게': 11291, '마상': 11292, '쇼핑중독': 11293, '바랬는데': 11294, '선하다': 11295, '양약': 11296, '모교': 11297, '버거운': 11298, '저걸': 11299, '표면': 11300, '수면시간': 11301, '카펫': 11302, '등쌀': 11303, '골칫': 11304, '자욱하다': 11305, '외교': 11306, '기막히다': 11307, '파운데이션': 11308, '팔뚝': 11309, '세수': 11310, '태아': 11311, '나이트클럽': 11312, '울음': 11313, '외향': 11314, '응낙': 11315, '워질': 11316, '복용량': 11317, '업로드': 11318, '뛰어넘다': 11319, '부터도': 11320, '감정노동': 11321, '노동조합': 11322, '새집': 11323, '느릿느릿': 11324, '추스': 11325, '각별히': 11326, '폭음': 11327, '퇴보하다': 11328, '퇴보': 11329, '누군데': 11330, '쓰래': 11331, '내진': 11332, '헛되이': 11333, '부음': 11334, '허덕거리다': 11335, '입담': 11336, '생머리': 11337, '프랑스': 11338, '복기': 11339, '속사정': 11340, '안개': 11341, '싸인': 11342, '결절': 11343, '향기롭다': 11344, '반전': 11345, '오차': 11346, '선처': 11347, '패배': 11348, '어번': 11349, '파벌': 11350, '거주': 11351, '기획사': 11352, '중역': 11353, '성폭력': 11354, '기적처럼': 11355, '아침식사': 11356, '혈색': 11357, '끝없이': 11358, '내정': 11359, '엠아르아': 11360, '금일봉': 11361, '쉅': 11362, '나래': 11363, '대로가': 11364, '가트': 11365, '엮어': 11366, '미모': 11367, '정표': 11368, '단원': 11369, '위신': 11370, '자라나다': 11371, '실시간': 11372, '회선': 11373, '천구백': 11374, '이십일': 11375, '뽑기': 11376, '글쓰기': 11377, '계약해지': 11378, '알코올중독자': 11379, '눈웃음': 11380, '질부': 11381, '포인트': 11382, '들쭉날쭉': 11383, '반점': 11384, '저작물': 11385, '커리큘럼': 11386, '건장하다': 11387, '지루함': 11388, '권리금': 11389, '박도': 11390, '복잡': 11391, '전출': 11392, '우산도': 11393, '갑지': 11394, '신용하': 11395, '깔깔': 11396, '공약': 11397, '동분서주': 11398, '누우': 11399, '실의': 11400, '휙': 11401, '살랑': 11402, '채권': 11403, '자루': 11404, '썰매': 11405, '청사진': 11406, '일체': 11407, '갓길': 11408, '덴데': 11409, '이승': 11410, '등골': 11411, '서늘하다': 11412, '됨됨이': 11413, '실랑이': 11414, '가요': 11415, '언닌': 11416, '베프': 11417, '친구여': 11418, '몸종': 11419, '흠집': 11420, '전락': 11421, '배반': 11422, '시신경': 11423, '쎄다': 11424, '귀인': 11425, '운수': 11426, '쭉쭉': 11427, '보스': 11428, '체통': 11429, '표적': 11430, '하여금': 11431, '모의투자': 11432, '작작하다': 11433, '독특하다': 11434, '세계대전': 11435, '배경인': 11436, '나치': 11437, '따끔': 11438, '가쁘': 11439, '잠재우다': 11440, '발품': 11441, '쑤다': 11442, '점심식사': 11443, '치약': 11444, '침수': 11445, '터전': 11446, '앞니': 11447, '이하고': 11448, '억하심정': 11449, '유연제': 11450, '피신': 11451, '어휘': 11452, '원점': 11453, '동글동글': 11454, '체증': 11455, '듯해': 11456, '유행어': 11457, '명감': 11458, '까발리다': 11459, '괘씸': 11460, '시위': 11461, '소나타': 11462, '그랜저': 11463, '라던가': 11464, '적극성': 11465, '사막': 11466, '우물가': 11467, '아쿠아': 11468, '로빅': 11469, '남하': 11470, '차주': 11471, '어린시절': 11472, '파트': 11473, '치근대다': 11474, '대리인': 11475, '동학': 11476, '행렬': 11477, '떠다니다': 11478, '닌데': 11479, '복층': 11480, '테라스': 11481, '군생': 11482, '악착같다': 11483, '소수만': 11484, '정보라': 11485, '알맞다': 11486, '불로': 11487, '날벼락': 11488, '막둥이': 11489, '유지시': 11490, '나태하다': 11491, '여당': 11492, '정치인': 11493, '퍼뜨릴까': 11494, '대식': 11495, '위인': 11496, '한자': 11497, '똑소리': 11498, '사만': 11499, '천이': 11500, '생채기': 11501, '곪아': 11502, '백지장': 11503, '새아빠': 11504, '자만하다': 11505, '광화문': 11506, '예배': 11507, '거르': 11508, '사로자다': 11509, '원자력': 11510, '닥치': 11511, '임박': 11512, '깜박깜박': 11513, '해짐': 11514, '길목': 11515, '잊힌': 11516, '베짱이': 11517, '조잡하다': 11518, '병색': 11519, '완연': 11520, '가령': 11521, '물음': 11522, '틈나다': 11523, '아른거리다': 11524, '무용지물': 11525, '사망자': 11526, '삼십오': 11527, '어째서': 11528, '박약': 11529, '가랬는데': 11530, '시인': 11531, '으로까지': 11532, '낄낄대다': 11533, '긋다': 11534, '전과자': 11535, '상품화': 11536, '어림없다': 11537, '된장찌개': 11538, '화살': 11539, '정당화': 11540, '찌뿌둥해': 11541, '우두머리': 11542, '자글자글': 11543, '앙갚음': 11544, '냉대': 11545, '동력': 11546, '하루걸러': 11547, '캐드': 11548, '도면': 11549, '투덕거릴': 11550, '의식주': 11551, '사로잡히다': 11552, '초점': 11553, '과소': 11554, '적응력': 11555, '본기': 11556, '피상': 11557, '참을성': 11558, '심려': 11559, '임무': 11560, '집사': 11561, '이사야': 11562, '돼지고기': 11563, '걸남': 11564, '습성': 11565, '버르장머리': 11566, '철면피': 11567, '남자라면': 11568, '상급자': 11569, '돈일': 11570, '전해질': 11571, '대내': 11572, '간과': 11573, '고교생': 11574, '장학': 11575, '찹찹하다': 11576, '과언': 11577, '샤워실': 11578, '보석': 11579, '들끓다': 11580, '훤하': 11581, '알갱이': 11582, '파전': 11583, '후각': 11584, '낫기': 11585, '차후': 11586, '재판매': 11587, '탱탱하다': 11588, '거슬러': 11589, '리액션': 11590, '천벌': 11591, '본부': 11592, '사륜': 11593, '안산': 11594, '쭈뼛거리다': 11595, '툴툴댔거': 11596, '한달음': 11597, '차수': 11598, '심리학': 11599, '채진': 11600, '불사': 11601, '단보': 11602, '심사숙고': 11603, '반문': 11604, '방탕하다': 11605, '자기방어': 11606, '중턱': 11607, '시냐': 11608, '동등': 11609, '초면': 11610, '배상도': 11611, '병진': 11612, '회로': 11613, '개정': 11614, '과대': 11615, '과학자': 11616, '섭': 11617, '일임': 11618, '이용도': 11619, '사리다': 11620, '행태': 11621, '태동': 11622, '꽁무니': 11623, '추후': 11624, '깨트린': 11625, '가슴속': 11626, '해부': 11627, '밝혀내다': 11628, '종잡': 11629, '각서': 11630, '봉인': 11631, '시종': 11632, '짤릴까봐': 11633, '용한': 11634, '철분': 11635, '흡수': 11636, '공평': 11637, '볼꼴': 11638, '이시고': 11639, '재무제표': 11640, '멀미': 11641, '실정': 11642, '촛불': 11643, '웨딩홀': 11644, '칼로리': 11645, '단물': 11646, '미끼': 11647, '대업': 11648, '행적': 11649, '확연': 11650, '결격': 11651, '규정': 11652, '꽃병': 11653, '비일비재': 11654, '무선': 11655, '만으론': 11656, '빈둥대기': 11657, '식인': 11658, '의류': 11659, '윤택': 11660, '신진대사': 11661, '맥북': 11662, '싸하다': 11663, '개살구': 11664, '리라': 11665, '융합': 11666, '살림살이': 11667, '찬사': 11668, '완강': 11669, '낭만': 11670, '설령': 11671, '농어촌': 11672, '본문': 11673, '논란': 11674, '기류': 11675, '내리막': 11676, '꿈속': 11677, '묘안': 11678, '힐끗': 11679, '수군수군': 11680, '선도': 11681, '복를': 11682, '원대': 11683, '낙인찍히다': 11684, '건드': 11685, '오순도순하다': 11686, '간당간당': 11687, '무일푼': 11688, '같이만': 11689, '우선하다': 11690, '더욱이': 11691, '호불호': 11692, '수제': 11693, '비누': 11694, '송구': 11695, '주된': 11696, '혼쭐': 11697, '화방': 11698, '대장염': 11699, '사유재산': 11700, '적폐': 11701, '빌붙다': 11702, '망막': 11703, '비합리적': 11704, '헛거': 11705, '뭉술': 11706, '기다림': 11707, '안락하다': 11708, '선사': 11709, '부수입': 11710, '이진': 11711, '씨아이': 11712, '겹친': 11713, '조마조마': 11714, '완곡하': 11715, '퍼뜨리면': 11716, '요구사항': 11717, '손사래': 11718, '요긴': 11719, '워킹': 11720, '세로': 11721, '휴강': 11722, '기죽다': 11723, '그나저나': 11724, '자그마치': 11725, '노처녀': 11726, '떨어트렸으': 11727, '미필': 11728, '군필': 11729, '사대': 11730, '치자': 11731, '휴게': 11732, '비꼼': 11733, '블루': 11734, '엄습해': 11735, '친구사이': 11736, '기상': 11737, '격일': 11738, '뒷정리': 11739, '발리다': 11740, '뻘뻘': 11741, '흐지부지': 11742, '엄수': 11743, '말더': 11744, '에요': 11745, '열자': 11746, '결승': 11747, '진출': 11748, '건축물': 11749, '내쉬다': 11750, '굴렸다': 11751, '꿀꺽': 11752, '언론사': 11753, '각기': 11754, '베이비부머': 11755, '거린': 11756, '특약': 11757, '수산시장': 11758, '직도': 11759, '치루길': 11760, '외손녀': 11761, '경전': 11762, '먼일': 11763, '헉헉대다': 11764, '힘차다': 11765, '그딴': 11766, '박약하다': 11767, '거해': 11768, '젖병': 11769, '스키': 11770, '유분수': 11771, '단번': 11772, '발림': 11773, '창의': 11774, '보온병': 11775, '잡아당기다': 11776, '감겨': 11777, '지피다': 11778, '추근대다': 11779, '이론': 11780, '출입': 11781, '명부': 11782, '감개': 11783, '에서까지도': 11784, '격의': 11785, '고꾸라지다': 11786, '실었는데': 11787, '헤엄': 11788, '상극': 11789, '구덩이': 11790, '산채': 11791, '천문학': 11792, '소년': 11793, '홀라당': 11794, '꼬면': 11795, '만반': 11796, '콧물': 11797, '신작': 11798, '민간': 11799, '헌': 11800, '난도': 11801, '사용자': 11802, '포도주': 11803, '과민성': 11804, '적대': 11805, '똑바르다': 11806, '근성': 11807, '황무지': 11808, '도산': 11809, '회전': 11810, '쇠고기': 11811, '마켓': 11812, '속세': 11813, '슬러지': 11814, '버니': 11815, '당일치기': 11816, '응징': 11817, '집수': 11818, '리해': 11819, '걷어차다': 11820, '예정자': 11821, '학군': 11822, '조제': 11823, '멋쩍': 11824, '건들': 11825, '메다': 11826, '머나멀다': 11827, '쪼잔': 11828, '노모': 11829, '소장': 11830, '신병': 11831, '갑각류': 11832, '콩': 11833, '태인': 11834, '육아법': 11835, '타이어': 11836, '펑크': 11837, '쓸리다': 11838, '뛰어나가다': 11839, '저급하다': 11840, '단결': 11841, '미스터리': 11842, '제트': 11843, '허울': 11844, '논술': 11845, '채집': 11846, '꼽': 11847, '독해': 11848, '우엉': 11849, '팔자걸음': 11850, '백업': 11851, '친절해지다': 11852, '마네': 11853, '물티슈': 11854, '미달': 11855, '라켓': 11856, '계속드': 11857, '불거지다': 11858, '으로부터도': 11859, '요지': 11860, '앤데': 11861, '원활': 11862, '잇다': 11863, '호락호락': 11864, '리하': 11865, '외관': 11866, '덕인': 11867, '옮아온': 11868, '오버': 11869, '카': 11870, '무뎌': 11871, '협의': 11872, '비공개': 11873, '주렴': 11874, '생이별': 11875, '백일이': 11876, '종잣돈': 11877, '설계서': 11878, '또다른': 11879, '내란': 11880, '제철': 11881, '유채꽃': 11882, '벚꽃': 11883, '어쩌란': 11884, '아버': 11885, '소품': 11886, '잡아내다': 11887, '쌤통': 11888, '미용사': 11889, '피땀': 11890, '일전': 11891, '불멍': 11892, '독약': 11893, '도리도': 11894, '계급': 11895, '군중': 11896, '대자보': 11897, '밀어내기': 11898, '소설가': 11899, '여차하면': 11900, '동양인': 11901, '코디': 11902, '색감': 11903, '세관': 11904, '어쩌냐': 11905, '둥글둥글하다': 11906, '얼마간': 11907, '토사': 11908, '곽란': 11909, '보관': 11910, '작곡': 11911, '군말': 11912, '정적': 11913, '법대': 11914, '견고하다': 11915, '첫걸음': 11916, '정기예금': 11917, '경쟁심': 11918, '자고만': 11919, '살다보면': 11920, '사업자': 11921, '상급': 11922, '제테크': 11923, '노무사': 11924, '수억': 11925, '할부': 11926, '의절': 11927, '보전': 11928, '번번하다': 11929, '젬병': 11930, '고정관념': 11931, '더없이': 11932, '덜렁대다': 11933, '안정화': 11934, '수영모': 11935, '임도': 11936, '담화': 11937, '흐트러져': 11938, '지침': 11939, '아홉시': 11940, '패스': 11941, '색다르다': 11942, '농약': 11943, '오일이': 11944, '추출': 11945, '용매': 11946, '견과류': 11947, '심문': 11948, '거저': 11949, '국토': 11950, '대장정': 11951, '정육면체': 11952, '연상녀': 11953, '하나라': 11954, '웠으': 11955, '와르르': 11956, '살바': 11957, '머슴': 11958, '뀔': 11959, '트이다': 11960, '빗대다': 11961, '들것': 11962, '실전': 11963, '툴툴대다': 11964, '동일': 11965, '곱슬곱슬하다': 11966, '대걸레': 11967, '자랑거리다': 11968, '단말': 11969, '인간미': 11970, '대접받다': 11971, '구부리다': 11972, '선풍기': 11973, '말좀': 11974, '아궁이': 11975, '굴뚝': 11976, '엉터리': 11977, '부속': 11978, '암만': 11979, '역도': 11980, '금단현상': 11981, '허풍': 11982, '애하': 11983, '매물': 11984, '준수': 11985, '깐깐하다': 11986, '춧': 11987, '다물다': 11988, '라니깐': 11989, '며느라': 11990, '가량': 11991, '장본인': 11992, '애경': 11993, '진척': 11994, '환하다': 11995, '할리': 11996, '휴대': 11997, '지도사': 11998, '안당': 11999, '원본': 12000, '잔뇨감': 12001, '퇴화': 12002, '사치하다': 12003, '바자회': 12004, '오메가': 12005, '단념하다': 12006, '삼시': 12007, '속병': 12008, '부근': 12009, '초록색': 12010, '티셔츠': 12011, '밑바탕': 12012, '내려다보다': 12013, '초코': 12014, '출렁': 12015, '식성': 12016, '이삼일': 12017, '대모': 12018, '취지': 12019, '로망': 12020, '도끼': 12021, '툴툴대는': 12022, '툴툴거리더': 12023, '감행': 12024, '툴툴대기': 12025, '대규모': 12026, '이례': 12027, '근거리': 12028, '전략기획': 12029, '발치': 12030, '이민하': 12031, '후식': 12032, '선곡': 12033, '잠복': 12034, '각질': 12035, '인척': 12036, '설레임': 12037, '습기': 12038, '담양': 12039, '이모작': 12040, '허튼': 12041, '달짜': 12042, '미라': 12043, '공수도': 12044, '요소': 12045, '호사': 12046, '인턴십': 12047, '전용': 12048, '비열하다': 12049, '외치다': 12050, '때매': 12051, '억지스럽다': 12052, '쌀쌀하다': 12053, '사립학교': 12054, '정교': 12055, '삼사십': 12056, '로맨스': 12057, '예매': 12058, '분열': 12059, '시늉': 12060, '속초': 12061, '기어이': 12062, '멀뚱멀뚱': 12063, '불과': 12064, '부단하다': 12065, '장사치': 12066, '컷': 12067, '옥수수': 12068, '걸핏하면': 12069, '휘었다': 12070, '시끌벅적하다': 12071, '부모뻘': 12072, '배알': 12073, '꼴리다': 12074, '매뉴얼': 12075, '정독': 12076, '해물': 12077, '랴': 12078, '일률': 12079, '방석': 12080, '갈기갈기': 12081, '공부량': 12082, '노발': 12083, '대발': 12084, '비수': 12085, '냅다': 12086, '철도': 12087, '퍼오더': 12088, '앙금': 12089, '자막': 12090, '아이엠': 12091, '희끗': 12092, '캐러멜': 12093, '마키아토': 12094, '외지': 12095, '불가능': 12096, '짤려': 12097, '타라': 12098, '가빠지다': 12099, '가죽공예': 12100, '퀼팅': 12101, '궁전': 12102, '떄': 12103, '젓갈': 12104, '도벽': 12105, '안남': 12106, '올인': 12107, '감봉': 12108, '등산로': 12109, '여느': 12110, '기품': 12111, '개인정보': 12112, '횡': 12113, '단자': 12114, '후딱': 12115, '가물': 12116, '페이지': 12117, '지문': 12118, '사월': 12119, '공경심': 12120, '토지대장': 12121, '할증': 12122, '문장': 12123, '패치': 12124, '인부': 12125, '웹서핑': 12126, '종교인': 12127, '술벗': 12128, '경솔하다': 12129, '고급스럽다': 12130, '애견': 12131, '어우러지다': 12132, '주먹다짐': 12133, '절감': 12134, '에스프레소': 12135, '조신': 12136, '문뜩': 12137, '덜덜': 12138, '가계비': 12139, '유괴': 12140, '악수': 12141, '전직': 12142, '찻잔': 12143, '출판사': 12144, '복숭아': 12145, '난해하다': 12146, '중위': 12147, '번개': 12148, '노련': 12149, '미가': 12150, '쩍더': 12151, '압수': 12152, '암벽': 12153, '어쨌든': 12154, '맘속': 12155, '우스개': 12156, '부랴부랴': 12157, '참석자': 12158, '적나라하다': 12159, '도박중독': 12160, '매가': 12161, '불미': 12162, '림프샘': 12163, '놀걸': 12164, '매체': 12165, '룰': 12166, '뒤엎': 12167, '시지': 12168, '스리': 12169, '상온': 12170, '버벅거린': 12171, '매너리즘': 12172, '직문': 12173, '엉거주춤': 12174, '꿈쩍': 12175, '시시각각': 12176, '요일': 12177, '꾸역꾸역': 12178, '시원시원하다': 12179, '회칙': 12180, '경식': 12181, '나이키': 12182, '버는': 12183, '무너뜨렸다': 12184, '면모': 12185, '투어': 12186, '젠틀': 12187, '배후': 12188, '종아리': 12189, '보신탕': 12190, '증상만': 12191, '조촐하다': 12192, '겨자': 12193, '상벌': 12194, '세워지다': 12195, '충족': 12196, '무지개다리': 12197, '질의': 12198, '뒤끝': 12199, '이천팔': 12200, '모기지': 12201, '푸셔': 12202, '공공기관': 12203, '제삿날': 12204, '보충': 12205, '미미하다': 12206, '청계산': 12207, '벤치': 12208, '맞힌': 12209, '돋보이다': 12210, '사치품': 12211, '공정': 12212, '다과': 12213, '난소암': 12214, '선량하다': 12215, '실족': 12216, '채운': 12217, '봉변': 12218, '냉동식품': 12219, '진중하다': 12220, '술수': 12221, '반짝이다': 12222, '카메룬': 12223, '회고': 12224, '사치스럽다': 12225, '미덕': 12226, '껄끄러우': 12227, '빨간색': 12228, '가책': 12229, '어평생': 12230, '미지근하다': 12231, '고충': 12232, '육십만원': 12233, '허드': 12234, '렛': 12235, '불입': 12236, '국산': 12237, '방사': 12238, '아누': 12239, '이삼십': 12240, '감점': 12241, '팩': 12242, '진가': 12243, '누적': 12244, '실신': 12245, '행방': 12246, '깃': 12247, '육신': 12248, '교태': 12249, '식모': 12250, '십구': 12251, '품목': 12252, '구식': 12253, '졸업장': 12254, '수강생': 12255, '미디어': 12256, '요령': 12257, '피팅': 12258, '요술': 12259, '공주': 12260, '신문방송학': 12261, '단조': 12262, '드세다': 12263, '조선': 12264, '잔해': 12265, '부들': 12266, '초행길': 12267, '칠팔': 12268, '가점': 12269, '뚜렷': 12270, '골방': 12271, '탄력': 12272, '빗집': 12273, '신속하다': 12274, '덕목': 12275, '주얼': 12276, '데이': 12277, '반바지': 12278, '채권자': 12279, '쑥': 12280, '애니': 12281, '운반': 12282, '삐그덕거릴까': 12283, '성가': 12284, '싼값': 12285, '아이러니': 12286, '이거지': 12287, '군다': 12288, '생동감': 12289, '감명': 12290, '어깃장': 12291, '시중금리': 12292, '알거지': 12293, '인건비': 12294, '개설': 12295, '택했어': 12296, '불효': 12297, '입막음': 12298, '속기': 12299, '고향이': 12300, '단란': 12301, '통근': 12302, '폐품': 12303, '팔천': 12304, '화합': 12305, '놨거': 12306, '초임': 12307, '사천': 12308, '응그': 12309, '깨끗해지다': 12310, '엘': 12311, '자백': 12312, '선별': 12313, '턱턱': 12314, '잠옷': 12315, '전집': 12316, '이십여': 12317, '옷장': 12318, '병아리': 12319, '보강': 12320, '분출': 12321, '일대': 12322, '둔감하다': 12323, '진퇴양난': 12324, '더하기': 12325, '그러냬': 12326, '극성': 12327, '애프터눈': 12328, '특허': 12329, '족저': 12330, '근막': 12331, '착잡': 12332, '모텔': 12333, '드나들다': 12334, '기지': 12335, '국경': 12336, '분간': 12337, '불편': 12338, '홈트': 12339, '진부하다': 12340, '희로애락': 12341, '답사': 12342, '강매': 12343, '맏': 12344, '악행': 12345, '간지럽다': 12346, '팁': 12347, '적임': 12348, '알기': 12349, '쌍': 12350, '형평성': 12351, '심정은': 12352, '내규': 12353, '이목': 12354, '레이저': 12355, '가안': 12356, '발현': 12357, '기정': 12358, '애비': 12359, '형체': 12360, '유산소운동': 12361, '채식주의자': 12362, '빠듯할까': 12363, '수첩': 12364, '버벅거렸더': 12365, '활달': 12366, '여파': 12367, '착복': 12368, '될런': 12369, '대게': 12370, '주휴수당': 12371, '상기': 12372, '헬스뿐': 12373, '파쇄': 12374, '색도': 12375, '못줄': 12376, '회유': 12377, '서화': 12378, '뻥튀기': 12379, '내숭': 12380, '일제': 12381, '난무': 12382, '중대하다': 12383, '피싱': 12384, '식견': 12385, '열도': 12386, '행복감': 12387, '귀띔': 12388, '교통혼잡': 12389, '핵가족': 12390, '대가족': 12391, '거미줄': 12392, '나은지': 12393, '분전': 12394, '습량': 12395, '통신비': 12396, '아득해지다': 12397, '다가서다': 12398, '택했': 12399, '실격': 12400, '작자': 12401, '보건복지부': 12402, '항시': 12403, '환급금': 12404, '글로벌': 12405, '이의신청': 12406, '조항': 12407, '차이나': 12408, '저축량': 12409, '그까짓': 12410, '신문지': 12411, '철부지': 12412, '밀지': 12413, '후분': 12414, '반하다': 12415, '원조': 12416, '배짱': 12417, '한옆': 12418, '식대': 12419, '정상화': 12420, '작별': 12421, '통폐합': 12422, '화상회의': 12423, '구십오': 12424, '검산': 12425, '약학': 12426, '끄덕이다': 12427, '팍': 12428, '김태희': 12429, '전지현': 12430, '오뚝하다': 12431, '트와이스': 12432, '나연': 12433, '붕': 12434, '박동': 12435, '잡다하다': 12436, '일감': 12437, '전파': 12438, '자게': 12439, '번지르르하다': 12440, '영리': 12441}\n"
          ]
        }
      ],
      "source": [
        "print(tokenizer.word_index)"
      ]
    },
    {
      "cell_type": "code",
      "execution_count": 48,
      "metadata": {
        "colab": {
          "base_uri": "https://localhost:8080/"
        },
        "id": "hC7JKBnGlOhz",
        "outputId": "0a4e8e00-2a47-44cd-8452-9a885ae374f0"
      },
      "outputs": [
        {
          "output_type": "stream",
          "name": "stdout",
          "text": [
            "단어 집합(vocabulary)의 크기 : 12441\n",
            "등장 빈도가 3번 이하인 희귀 단어의 수: 6073\n",
            "단어 집합에서 희귀 단어의 비율: 48.81440398681778\n",
            "전체 등장 빈도에서 희귀 단어 등장 빈도 비율: 1.1453731935399194\n"
          ]
        }
      ],
      "source": [
        "threshold = 4\n",
        "total_cnt = len(tokenizer.word_index) # 단어의 수\n",
        "rare_cnt = 0 # 등장 빈도수가 threshold보다 작은 단어의 개수를 카운트\n",
        "total_freq = 0 # 훈련 데이터의 전체 단어 빈도수 총 합\n",
        "rare_freq = 0 # 등장 빈도수가 threshold보다 작은 단어의 등장 빈도수의 총 합\n",
        "\n",
        "# 단어와 빈도수의 쌍(pair)을 key와 value로 받는다.\n",
        "for key, value in tokenizer.word_counts.items():\n",
        "    total_freq = total_freq + value\n",
        "\n",
        "    # 단어의 등장 빈도수가 threshold보다 작으면\n",
        "    if(value < threshold):\n",
        "        rare_cnt = rare_cnt + 1\n",
        "        rare_freq = rare_freq + value\n",
        "\n",
        "print('단어 집합(vocabulary)의 크기 :',total_cnt)\n",
        "print('등장 빈도가 %s번 이하인 희귀 단어의 수: %s'%(threshold - 1, rare_cnt))\n",
        "print(\"단어 집합에서 희귀 단어의 비율:\", (rare_cnt / total_cnt)*100)\n",
        "print(\"전체 등장 빈도에서 희귀 단어 등장 빈도 비율:\", (rare_freq / total_freq)*100)"
      ]
    },
    {
      "cell_type": "markdown",
      "metadata": {
        "id": "NwYHGHRmlZPu"
      },
      "source": [
        "등장 빈도가 threshold 값인 4회 미만. 즉, 3회 이하인 단어들은 단어 집합에서 무려 절반 을 차지. 하지만, 실제로 훈련 데이터에서 등장 빈도로 차지하는 비중은 상대적으로 매우 적은 수치인 2.18%밖에 되지\b 않음. 등장 빈도가 3회 이하인 단어들은 자연어 처리에서 별로 중요하지 않다고 생각. 그래서 이 단어들은 정수 인코딩 과정에서 배제."
      ]
    },
    {
      "cell_type": "code",
      "execution_count": 49,
      "metadata": {
        "colab": {
          "base_uri": "https://localhost:8080/"
        },
        "id": "synwbGp7lT9T",
        "outputId": "0891ffc9-f66b-41fd-fdc4-ba90f40c9277"
      },
      "outputs": [
        {
          "output_type": "stream",
          "name": "stdout",
          "text": [
            "단어 집합의 크기 : 6369\n"
          ]
        }
      ],
      "source": [
        "# 전체 단어 개수 중 빈도수 3이하인 단어는 제거.\n",
        "# 0번 패딩 토큰을 고려하여 + 1\n",
        "vocab_size = total_cnt - rare_cnt + 1\n",
        "print('단어 집합의 크기 :',vocab_size)\n"
      ]
    },
    {
      "cell_type": "code",
      "execution_count": 50,
      "metadata": {
        "id": "dV8gzGoRlmrb"
      },
      "outputs": [],
      "source": [
        "tokenizer = Tokenizer(vocab_size) \n",
        "tokenizer.fit_on_texts(X_train)\n",
        "X_train = tokenizer.texts_to_sequences(X_train)\n",
        "X_test = tokenizer.texts_to_sequences(X_test)"
      ]
    },
    {
      "cell_type": "code",
      "source": [
        "print(len(X_train))\n",
        "print(len(train_data['label']))"
      ],
      "metadata": {
        "colab": {
          "base_uri": "https://localhost:8080/"
        },
        "id": "KKDJn4frfAUm",
        "outputId": "218de09b-d35c-44bf-aa4e-f2b5305fa06b"
      },
      "execution_count": 51,
      "outputs": [
        {
          "output_type": "stream",
          "name": "stdout",
          "text": [
            "78288\n",
            "78288\n"
          ]
        }
      ]
    },
    {
      "cell_type": "code",
      "execution_count": 52,
      "metadata": {
        "colab": {
          "base_uri": "https://localhost:8080/"
        },
        "id": "WC9dYIwElonV",
        "outputId": "21b5f6eb-a0d2-4372-b6cc-5cdd26171808"
      },
      "outputs": [
        {
          "output_type": "stream",
          "name": "stdout",
          "text": [
            "[[56, 389, 449, 94, 31, 834, 3], [503, 95, 1486, 54, 71, 331, 693, 305, 1149, 138, 66], [745, 1996, 1854, 45, 10, 715, 143, 1226, 107, 59]]\n"
          ]
        }
      ],
      "source": [
        "print(X_train[:3])"
      ]
    },
    {
      "cell_type": "code",
      "execution_count": 53,
      "metadata": {
        "id": "pMzKptvYmvPp"
      },
      "outputs": [],
      "source": [
        "y_train = np.array(train_data['label'])\n",
        "y_test = np.array(test_data['label'])"
      ]
    },
    {
      "cell_type": "code",
      "execution_count": 54,
      "metadata": {
        "id": "o2-K3594mrlm"
      },
      "outputs": [],
      "source": [
        "drop_train = [index for index, sentence in enumerate(X_train) if len(sentence) < 1]"
      ]
    },
    {
      "cell_type": "code",
      "execution_count": 55,
      "metadata": {
        "colab": {
          "base_uri": "https://localhost:8080/"
        },
        "id": "k3Vl5jIGm5Fu",
        "outputId": "65b6880a-1656-48a0-b8b7-05939dccc5a5"
      },
      "outputs": [
        {
          "output_type": "stream",
          "name": "stdout",
          "text": [
            "78286\n",
            "78286\n"
          ]
        },
        {
          "output_type": "stream",
          "name": "stderr",
          "text": [
            "/usr/local/lib/python3.7/dist-packages/numpy/lib/function_base.py:4454: VisibleDeprecationWarning: Creating an ndarray from ragged nested sequences (which is a list-or-tuple of lists-or-tuples-or ndarrays with different lengths or shapes) is deprecated. If you meant to do this, you must specify 'dtype=object' when creating the ndarray.\n",
            "  arr = asarray(arr)\n"
          ]
        }
      ],
      "source": [
        "# 빈 샘플들을 제거\n",
        "X_train = np.delete(X_train, drop_train, axis=0)\n",
        "y_train = np.delete(y_train, drop_train, axis=0)\n",
        "print(len(X_train))\n",
        "print(len(y_train))"
      ]
    },
    {
      "cell_type": "code",
      "execution_count": 56,
      "metadata": {
        "colab": {
          "base_uri": "https://localhost:8080/",
          "height": 315
        },
        "id": "-KmFwwK2m7DE",
        "outputId": "5dd76615-7226-4bbb-e439-1ad0435650d9"
      },
      "outputs": [
        {
          "output_type": "stream",
          "name": "stdout",
          "text": [
            "채팅의 최대 길이 : 47\n",
            "채팅의 평균 길이 : 10.631096236875049\n"
          ]
        },
        {
          "output_type": "display_data",
          "data": {
            "text/plain": [
              "<Figure size 432x288 with 1 Axes>"
            ],
            "image/png": "[encoded data removed]"
          },
          "metadata": {
            "needs_background": "light"
          }
        }
      ],
      "source": [
        "print('채팅의 최대 길이 :',max(len(review) for review in X_train))\n",
        "print('채팅의 평균 길이 :',sum(map(len, X_train))/len(X_train))\n",
        "plt.hist([len(review) for review in X_train], bins=50)\n",
        "plt.xlabel('length of samples')\n",
        "plt.ylabel('number of samples')\n",
        "plt.show()"
      ]
    },
    {
      "cell_type": "code",
      "execution_count": 57,
      "metadata": {
        "id": "Qk91PHJKnIkA"
      },
      "outputs": [],
      "source": [
        "def below_threshold_len(max_len, nested_list):\n",
        "  count = 0\n",
        "  for sentence in nested_list:\n",
        "    if(len(sentence) <= max_len):\n",
        "        count = count + 1\n",
        "  print('전체 샘플 중 길이가 %s 이하인 샘플의 비율: %s'%(max_len, (count / len(nested_list))*100))"
      ]
    },
    {
      "cell_type": "code",
      "execution_count": 58,
      "metadata": {
        "colab": {
          "base_uri": "https://localhost:8080/"
        },
        "id": "U61XGpT4nMyP",
        "outputId": "614b7ce4-54ef-440e-ca6b-d49d68d060ab"
      },
      "outputs": [
        {
          "output_type": "stream",
          "name": "stdout",
          "text": [
            "전체 샘플 중 길이가 20 이하인 샘플의 비율: 98.66642822471451\n"
          ]
        }
      ],
      "source": [
        "max_len = 20\n",
        "below_threshold_len(max_len, X_train)"
      ]
    },
    {
      "cell_type": "code",
      "execution_count": 59,
      "metadata": {
        "id": "WiVkxOZSnQ55"
      },
      "outputs": [],
      "source": [
        "X_train = pad_sequences(X_train, maxlen=max_len)\n",
        "X_test = pad_sequences(X_test, maxlen=max_len)"
      ]
    },
    {
      "cell_type": "code",
      "execution_count": 60,
      "metadata": {
        "colab": {
          "base_uri": "https://localhost:8080/"
        },
        "id": "PkYpCk5roFE7",
        "outputId": "7c890f61-ad1f-4b73-fb3a-4275fb239cf0"
      },
      "outputs": [
        {
          "output_type": "execute_result",
          "data": {
            "text/plain": [
              "array([[   0,    0,    0,    0,    0,    0,    0,    0,    0,    0,    0,\n",
              "           0,    0,   56,  389,  449,   94,   31,  834,    3],\n",
              "       [   0,    0,    0,    0,    0,    0,    0,    0,    0,  503,   95,\n",
              "        1486,   54,   71,  331,  693,  305, 1149,  138,   66],\n",
              "       [   0,    0,    0,    0,    0,    0,    0,    0,    0,    0,  745,\n",
              "        1996, 1854,   45,   10,  715,  143, 1226,  107,   59],\n",
              "       [   0,    0,    0,    0,    0, 1741,  112,   28,   23,   13,  897,\n",
              "         572,  484,   91, 1487,    1, 1456,   17,    4,  317],\n",
              "       [   0,    0,    0,    0,    0,    0,    0,    0,    0,    0,  677,\n",
              "           1,  389,   40,  494,   94, 1429, 1240,  218,   22]],\n",
              "      dtype=int32)"
            ]
          },
          "metadata": {},
          "execution_count": 60
        }
      ],
      "source": [
        "X_train[:5]"
      ]
    },
    {
      "cell_type": "code",
      "execution_count": 61,
      "metadata": {
        "colab": {
          "base_uri": "https://localhost:8080/"
        },
        "id": "sEniCRu4oBpq",
        "outputId": "cba0a7d4-f8f5-4071-eb67-604b4badffb8"
      },
      "outputs": [
        {
          "output_type": "execute_result",
          "data": {
            "text/plain": [
              "array([1, 0, 0, 1, 1])"
            ]
          },
          "metadata": {},
          "execution_count": 61
        }
      ],
      "source": [
        "y_train[:5]"
      ]
    },
    {
      "cell_type": "code",
      "execution_count": 62,
      "metadata": {
        "colab": {
          "base_uri": "https://localhost:8080/"
        },
        "id": "1ilXfVWBn3SI",
        "outputId": "0aff7655-9b91-4e3f-8a75-248703fb3d7a"
      },
      "outputs": [
        {
          "output_type": "stream",
          "name": "stdout",
          "text": [
            "78286\n",
            "10199\n",
            "78286\n",
            "10199\n"
          ]
        }
      ],
      "source": [
        "print(len(X_train))\n",
        "print(len(X_test))\n",
        "print(len(y_train))\n",
        "print(len(y_test))"
      ]
    },
    {
      "cell_type": "markdown",
      "metadata": {
        "id": "GkWZ-pn4nYpJ"
      },
      "source": [
        "# LSTM 을이용한 분류"
      ]
    },
    {
      "cell_type": "code",
      "execution_count": 63,
      "metadata": {
        "colab": {
          "base_uri": "https://localhost:8080/"
        },
        "id": "7HxhvsIunVXV",
        "outputId": "eb769ba1-73bf-450c-b21c-cc6da80f9f9b"
      },
      "outputs": [
        {
          "output_type": "stream",
          "name": "stdout",
          "text": [
            "Epoch 1/15\n",
            "974/979 [============================>.] - ETA: 0s - loss: 0.2493 - acc: 0.9062\n",
            "Epoch 1: val_acc improved from -inf to 0.89922, saving model to best_model.h5\n",
            "979/979 [==============================] - 16s 8ms/step - loss: 0.2493 - acc: 0.9061 - val_loss: 0.2664 - val_acc: 0.8992\n",
            "Epoch 2/15\n",
            "974/979 [============================>.] - ETA: 0s - loss: 0.2010 - acc: 0.9249\n",
            "Epoch 2: val_acc improved from 0.89922 to 0.90133, saving model to best_model.h5\n",
            "979/979 [==============================] - 7s 7ms/step - loss: 0.2009 - acc: 0.9250 - val_loss: 0.2576 - val_acc: 0.9013\n",
            "Epoch 3/15\n",
            "979/979 [==============================] - ETA: 0s - loss: 0.1879 - acc: 0.9299\n",
            "Epoch 3: val_acc improved from 0.90133 to 0.90280, saving model to best_model.h5\n",
            "979/979 [==============================] - 8s 8ms/step - loss: 0.1879 - acc: 0.9299 - val_loss: 0.2563 - val_acc: 0.9028\n",
            "Epoch 4/15\n",
            "972/979 [============================>.] - ETA: 0s - loss: 0.1794 - acc: 0.9333\n",
            "Epoch 4: val_acc improved from 0.90280 to 0.90344, saving model to best_model.h5\n",
            "979/979 [==============================] - 7s 7ms/step - loss: 0.1794 - acc: 0.9333 - val_loss: 0.2491 - val_acc: 0.9034\n",
            "Epoch 5/15\n",
            "974/979 [============================>.] - ETA: 0s - loss: 0.1712 - acc: 0.9373\n",
            "Epoch 5: val_acc did not improve from 0.90344\n",
            "979/979 [==============================] - 7s 7ms/step - loss: 0.1712 - acc: 0.9374 - val_loss: 0.2520 - val_acc: 0.9025\n",
            "Epoch 6/15\n",
            "974/979 [============================>.] - ETA: 0s - loss: 0.1631 - acc: 0.9405\n",
            "Epoch 6: val_acc improved from 0.90344 to 0.90452, saving model to best_model.h5\n",
            "979/979 [==============================] - 7s 7ms/step - loss: 0.1630 - acc: 0.9406 - val_loss: 0.2499 - val_acc: 0.9045\n",
            "Epoch 7/15\n",
            "973/979 [============================>.] - ETA: 0s - loss: 0.1562 - acc: 0.9447\n",
            "Epoch 7: val_acc did not improve from 0.90452\n",
            "979/979 [==============================] - 7s 7ms/step - loss: 0.1564 - acc: 0.9447 - val_loss: 0.2624 - val_acc: 0.8965\n",
            "Epoch 8/15\n",
            "973/979 [============================>.] - ETA: 0s - loss: 0.1489 - acc: 0.9475\n",
            "Epoch 8: val_acc did not improve from 0.90452\n",
            "979/979 [==============================] - 8s 9ms/step - loss: 0.1487 - acc: 0.9475 - val_loss: 0.2539 - val_acc: 0.9045\n",
            "Epoch 8: early stopping\n"
          ]
        }
      ],
      "source": [
        "from tensorflow.keras.layers import Embedding, Dense, LSTM\n",
        "from tensorflow.keras.models import Sequential\n",
        "from tensorflow.keras.models import load_model\n",
        "from tensorflow.keras.callbacks import EarlyStopping, ModelCheckpoint\n",
        "\n",
        "embedding_dim = 100\n",
        "hidden_units = 128\n",
        "\n",
        "model = Sequential()\n",
        "model.add(Embedding(vocab_size, embedding_dim))\n",
        "model.add(LSTM(hidden_units))\n",
        "model.add(Dense(1, activation='sigmoid'))\n",
        "\n",
        "es = EarlyStopping(monitor='val_loss', mode='min', verbose=1, patience=4)\n",
        "mc = ModelCheckpoint('best_model.h5', monitor='val_acc', mode='max', verbose=1, save_best_only=True)\n",
        "\n",
        "model.compile(optimizer='rmsprop', loss='binary_crossentropy', metrics=['acc'])\n",
        "history = model.fit(X_train, y_train, epochs=15, callbacks=[es, mc], batch_size=64, validation_split=0.2)"
      ]
    },
    {
      "cell_type": "code",
      "execution_count": 64,
      "metadata": {
        "colab": {
          "base_uri": "https://localhost:8080/"
        },
        "id": "KQRNwkSzqggF",
        "outputId": "472993fc-6517-4168-8acd-6fb7e0e4fefb"
      },
      "outputs": [
        {
          "output_type": "stream",
          "name": "stdout",
          "text": [
            "319/319 [==============================] - 2s 3ms/step - loss: 0.9818 - acc: 0.7449\n",
            "\n",
            " 테스트 정확도: 0.7449\n"
          ]
        }
      ],
      "source": [
        "loaded_model = load_model('best_model.h5')\n",
        "print(\"\\n 테스트 정확도: %.4f\" % (loaded_model.evaluate(X_test, y_test)[1]))"
      ]
    },
    {
      "cell_type": "code",
      "execution_count": 65,
      "metadata": {
        "id": "8i-JZ0T_qn2W"
      },
      "outputs": [],
      "source": [
        "def sentiment_predict(new_sentence):\n",
        "  new_sentence = re.sub(r'[^ㄱ-ㅎㅏ-ㅣ가-힣 ]','', new_sentence)\n",
        "  new_sentence = okt.morphs(new_sentence, stem=True) # 토큰화\n",
        "  new_sentence = [word for word in new_sentence if not word in stopwords] # 불용어 제거\n",
        "  encoded = tokenizer.texts_to_sequences([new_sentence]) # 정수 인코딩\n",
        "  pad_new = pad_sequences(encoded, maxlen = max_len) # 패딩\n",
        "  score = float(loaded_model.predict(pad_new)) # 예측\n",
        "  if(score > 0.5):\n",
        "    print(\"{:.2f}% 확률로 기쁨 입니다.\\n\".format(score * 100))\n",
        "  else:\n",
        "    print(\"{:.2f}% 확률로 부정 입니다.\\n\".format((1 - score) * 100))"
      ]
    },
    {
      "cell_type": "code",
      "execution_count": 66,
      "metadata": {
        "colab": {
          "base_uri": "https://localhost:8080/"
        },
        "id": "HdfaaqCqqwee",
        "outputId": "d45a89a0-5bb4-443b-8410-948281ef2565"
      },
      "outputs": [
        {
          "output_type": "stream",
          "name": "stdout",
          "text": [
            "98.82% 확률로 부정 입니다.\n",
            "\n"
          ]
        }
      ],
      "source": [
        "sentiment_predict('정말 죽고싶어요.')"
      ]
    },
    {
      "cell_type": "code",
      "execution_count": 67,
      "metadata": {
        "colab": {
          "base_uri": "https://localhost:8080/"
        },
        "id": "euWuV8MBqy2y",
        "outputId": "a2c4281a-470b-400e-e943-5bd4ece93d88"
      },
      "outputs": [
        {
          "output_type": "stream",
          "name": "stdout",
          "text": [
            "90.64% 확률로 기쁨 입니다.\n",
            "\n"
          ]
        }
      ],
      "source": [
        "sentiment_predict('오늘은 날씨가 정말 맑네요!')"
      ]
    },
    {
      "cell_type": "markdown",
      "metadata": {
        "id": "lO6W2uyMq8Dm"
      },
      "source": [
        "# 틀린 예측"
      ]
    },
    {
      "cell_type": "code",
      "execution_count": 68,
      "metadata": {
        "colab": {
          "base_uri": "https://localhost:8080/"
        },
        "id": "Cx795zrGq4f-",
        "outputId": "2556fc1c-eb3b-4edf-9da7-95df843c39ca"
      },
      "outputs": [
        {
          "output_type": "stream",
          "name": "stdout",
          "text": [
            "73.02% 확률로 부정 입니다.\n",
            "\n"
          ]
        }
      ],
      "source": [
        "sentiment_predict('오늘 날씨는 제 기분처럼 너무 흐려요')"
      ]
    },
    {
      "cell_type": "code",
      "execution_count": 69,
      "metadata": {
        "colab": {
          "base_uri": "https://localhost:8080/"
        },
        "id": "7RqqOZM0rA7U",
        "outputId": "696de651-1d9d-4179-93bb-0f988f541b69"
      },
      "outputs": [
        {
          "output_type": "stream",
          "name": "stdout",
          "text": [
            "71.53% 확률로 기쁨 입니다.\n",
            "\n"
          ]
        }
      ],
      "source": [
        "sentiment_predict('오늘 제 기분은 너무 흐리네요')"
      ]
    },
    {
      "cell_type": "markdown",
      "metadata": {
        "id": "BLmue0yJnpJr"
      },
      "source": [
        "# 1D CNN"
      ]
    },
    {
      "cell_type": "code",
      "execution_count": 70,
      "metadata": {
        "id": "_-x2rRzMnah2"
      },
      "outputs": [],
      "source": [
        "from tensorflow.keras.models import Sequential, Model\n",
        "from tensorflow.keras.layers import Embedding, Dropout, Conv1D, GlobalMaxPooling1D, Dense, Input, Flatten, Concatenate\n",
        "from tensorflow.keras.callbacks import EarlyStopping, ModelCheckpoint\n",
        "from tensorflow.keras.models import load_model\n",
        "\n",
        "embedding_dim = 128\n",
        "dropout_ratio = (0.5, 0.8)\n",
        "num_filters = 128\n",
        "hidden_units = 128"
      ]
    },
    {
      "cell_type": "code",
      "execution_count": 71,
      "metadata": {
        "id": "3ZeQJfzjntXA"
      },
      "outputs": [],
      "source": [
        "model_input = Input(shape = (max_len,))\n",
        "z = Embedding(vocab_size, embedding_dim, input_length = max_len, name=\"embedding\")(model_input)\n",
        "z = Dropout(dropout_ratio[0])(z)"
      ]
    },
    {
      "cell_type": "code",
      "execution_count": 72,
      "metadata": {
        "id": "_cFg_YGNn1Dk"
      },
      "outputs": [],
      "source": [
        "conv_blocks = []\n",
        "\n",
        "for sz in [3, 4, 5]:\n",
        "    conv = Conv1D(filters = num_filters,\n",
        "                         kernel_size = sz,\n",
        "                         padding = \"valid\",\n",
        "                         activation = \"relu\",\n",
        "                         strides = 1)(z)\n",
        "    conv = GlobalMaxPooling1D()(conv)\n",
        "    conv_blocks.append(conv)"
      ]
    },
    {
      "cell_type": "code",
      "execution_count": 73,
      "metadata": {
        "colab": {
          "base_uri": "https://localhost:8080/"
        },
        "id": "RDE8O0OgtQGT",
        "outputId": "1f7675c1-944c-434e-88d6-3b0eb7e4baa5"
      },
      "outputs": [
        {
          "output_type": "stream",
          "name": "stdout",
          "text": [
            "Epoch 1/10\n",
            "\n",
            "Epoch 1: val_acc improved from -inf to 0.89756, saving model to CNN_model.h5\n",
            "979/979 - 15s - loss: 0.2977 - acc: 0.8847 - val_loss: 0.2681 - val_acc: 0.8976 - 15s/epoch - 16ms/step\n",
            "Epoch 2/10\n",
            "\n",
            "Epoch 2: val_acc improved from 0.89756 to 0.90152, saving model to CNN_model.h5\n",
            "979/979 - 7s - loss: 0.2071 - acc: 0.9225 - val_loss: 0.2579 - val_acc: 0.9015 - 7s/epoch - 7ms/step\n",
            "Epoch 3/10\n",
            "\n",
            "Epoch 3: val_acc did not improve from 0.90152\n",
            "979/979 - 6s - loss: 0.1838 - acc: 0.9317 - val_loss: 0.2606 - val_acc: 0.8990 - 6s/epoch - 7ms/step\n",
            "Epoch 4/10\n",
            "\n",
            "Epoch 4: val_acc did not improve from 0.90152\n",
            "979/979 - 6s - loss: 0.1671 - acc: 0.9386 - val_loss: 0.2669 - val_acc: 0.8990 - 6s/epoch - 6ms/step\n",
            "Epoch 5/10\n",
            "\n",
            "Epoch 5: val_acc did not improve from 0.90152\n",
            "979/979 - 6s - loss: 0.1558 - acc: 0.9424 - val_loss: 0.2665 - val_acc: 0.8995 - 6s/epoch - 6ms/step\n",
            "Epoch 6/10\n",
            "\n",
            "Epoch 6: val_acc did not improve from 0.90152\n",
            "979/979 - 6s - loss: 0.1456 - acc: 0.9460 - val_loss: 0.2770 - val_acc: 0.9005 - 6s/epoch - 6ms/step\n",
            "Epoch 6: early stopping\n"
          ]
        },
        {
          "output_type": "execute_result",
          "data": {
            "text/plain": [
              "<keras.callbacks.History at 0x7ff6b72a9f50>"
            ]
          },
          "metadata": {},
          "execution_count": 73
        }
      ],
      "source": [
        "z = Concatenate()(conv_blocks) if len(conv_blocks) > 1 else conv_blocks[0]\n",
        "z = Dropout(dropout_ratio[1])(z)\n",
        "z = Dense(hidden_units, activation=\"relu\")(z)\n",
        "model_output = Dense(1, activation=\"sigmoid\")(z)\n",
        "\n",
        "model = Model(model_input, model_output)\n",
        "model.compile(loss=\"binary_crossentropy\", optimizer=\"adam\", metrics=[\"acc\"])\n",
        "\n",
        "es = EarlyStopping(monitor='val_loss', mode='min', verbose=1, patience=4)\n",
        "mc = ModelCheckpoint('CNN_model.h5', monitor='val_acc', mode='max', verbose=1, save_best_only=True)\n",
        "\n",
        "model.fit(X_train, y_train, batch_size=64, epochs=10, validation_split=0.2, verbose=2, callbacks=[es, mc])\n"
      ]
    },
    {
      "cell_type": "code",
      "execution_count": 74,
      "metadata": {
        "colab": {
          "base_uri": "https://localhost:8080/"
        },
        "id": "EEMXHcN0tSZJ",
        "outputId": "243e83ee-d19d-4a19-914f-1702fc377fce"
      },
      "outputs": [
        {
          "output_type": "stream",
          "name": "stdout",
          "text": [
            "319/319 [==============================] - 1s 3ms/step - loss: 0.8883 - acc: 0.7466\n",
            "\n",
            " 테스트 정확도: 0.7466\n"
          ]
        }
      ],
      "source": [
        "loaded_model = load_model('CNN_model.h5')\n",
        "print(\"\\n 테스트 정확도: %.4f\" % (loaded_model.evaluate(X_test, y_test)[1]))"
      ]
    },
    {
      "cell_type": "code",
      "execution_count": 75,
      "metadata": {
        "colab": {
          "base_uri": "https://localhost:8080/"
        },
        "id": "NReqdkw2tlQm",
        "outputId": "353da13c-146d-4f48-e097-f38c14c94dc9"
      },
      "outputs": [
        {
          "output_type": "stream",
          "name": "stdout",
          "text": [
            "95.55% 확률로 기쁨 입니다.\n",
            "\n"
          ]
        }
      ],
      "source": [
        "sentiment_predict('오늘은 날씨가 정말 맑네요!')"
      ]
    },
    {
      "cell_type": "code",
      "execution_count": 76,
      "metadata": {
        "colab": {
          "base_uri": "https://localhost:8080/"
        },
        "id": "iHomnlxTtlNQ",
        "outputId": "7bbac58a-3d4a-44a9-e6bd-75fef99da9c2"
      },
      "outputs": [
        {
          "output_type": "stream",
          "name": "stdout",
          "text": [
            "96.63% 확률로 부정 입니다.\n",
            "\n"
          ]
        }
      ],
      "source": [
        "sentiment_predict('정말 죽고싶어요.')"
      ]
    },
    {
      "cell_type": "code",
      "execution_count": 77,
      "metadata": {
        "colab": {
          "base_uri": "https://localhost:8080/"
        },
        "id": "FNSTo5p7taSQ",
        "outputId": "0e11ceec-17fb-49a8-dad9-cd3e57b54d27"
      },
      "outputs": [
        {
          "output_type": "stream",
          "name": "stdout",
          "text": [
            "93.29% 확률로 부정 입니다.\n",
            "\n"
          ]
        }
      ],
      "source": [
        "sentiment_predict('오늘 날씨는 제 기분처럼 너무 흐려요')"
      ]
    },
    {
      "cell_type": "code",
      "execution_count": 78,
      "metadata": {
        "colab": {
          "base_uri": "https://localhost:8080/"
        },
        "id": "XvN1Q4putpSa",
        "outputId": "3f9cbba3-e27f-4230-b2cf-c009cc51f5d2"
      },
      "outputs": [
        {
          "output_type": "stream",
          "name": "stdout",
          "text": [
            "97.49% 확률로 부정 입니다.\n",
            "\n"
          ]
        }
      ],
      "source": [
        "sentiment_predict('\b오늘은 무슨 큰일이라도 날거 같네요..')"
      ]
    },
    {
      "cell_type": "code",
      "execution_count": 79,
      "metadata": {
        "colab": {
          "base_uri": "https://localhost:8080/"
        },
        "id": "NzACAmCmtfTV",
        "outputId": "b4297895-c7c3-46e2-e344-7498e5f103b1"
      },
      "outputs": [
        {
          "output_type": "stream",
          "name": "stdout",
          "text": [
            "94.05% 확률로 부정 입니다.\n",
            "\n"
          ]
        }
      ],
      "source": [
        "sentiment_predict('오늘 제 기분은 너무 흐리네요')"
      ]
    },
    {
      "cell_type": "markdown",
      "metadata": {
        "id": "MFMDMTKXtj3D"
      },
      "source": [
        "# 틀린예측"
      ]
    },
    {
      "cell_type": "markdown",
      "metadata": {
        "id": "h8DIZUPgxnvX"
      },
      "source": [
        "## 원하는것 \n",
        "- 사람문장 1이랑 사람문장 2가 곱해져서 좀더 높은 정확도를 분석할수있지않을까?"
      ]
    },
    {
      "cell_type": "markdown",
      "metadata": {
        "id": "KksSDjiiIyL8"
      },
      "source": [
        "---"
      ]
    },
    {
      "cell_type": "markdown",
      "source": [
        "---"
      ],
      "metadata": {
        "id": "gZKpvBK5ESxM"
      }
    },
    {
      "cell_type": "markdown",
      "source": [
        "# 챗봇만들어보기 준비\n",
        "\n",
        "-출처: https://github.com/ukairia777/tensorflow-nlp-tutorial/blob/main/16.%20Transformer%20(Chatbot)/16-1%20~%2016-2.%20transformer_chatbot.ipynb"
      ],
      "metadata": {
        "id": "SitGIBmfGWv1"
      }
    },
    {
      "cell_type": "code",
      "source": [
        "import numpy as np\n",
        "import matplotlib.pyplot as plt\n",
        "import tensorflow as tf"
      ],
      "metadata": {
        "id": "RiVUqIfMaujd"
      },
      "execution_count": null,
      "outputs": []
    },
    {
      "cell_type": "code",
      "source": [
        "tf.__version__"
      ],
      "metadata": {
        "id": "TNCQZrC1GjQV"
      },
      "execution_count": null,
      "outputs": []
    },
    {
      "cell_type": "code",
      "source": [
        "# 최종 버전\n",
        "class PositionalEncoding(tf.keras.layers.Layer):\n",
        "  def __init__(self, position, d_model):\n",
        "    super(PositionalEncoding, self).__init__()\n",
        "    self.pos_encoding = self.positional_encoding(position, d_model)\n",
        "\n",
        "  def get_angles(self, position, i, d_model):\n",
        "    angles = 1 / tf.pow(10000, (2 * (i // 2)) / tf.cast(d_model, tf.float32))\n",
        "    return position * angles\n",
        "\n",
        "  def positional_encoding(self, position, d_model):\n",
        "    angle_rads = self.get_angles(\n",
        "        position=tf.range(position, dtype=tf.float32)[:, tf.newaxis],\n",
        "        i=tf.range(d_model, dtype=tf.float32)[tf.newaxis, :],\n",
        "        d_model=d_model)\n",
        "\n",
        "    # 배열의 짝수 인덱스(2i)에는 사인 함수 적용\n",
        "    sines = tf.math.sin(angle_rads[:, 0::2])\n",
        "\n",
        "    # 배열의 홀수 인덱스(2i+1)에는 코사인 함수 적용\n",
        "    cosines = tf.math.cos(angle_rads[:, 1::2])\n",
        "\n",
        "    angle_rads = np.zeros(angle_rads.shape)\n",
        "    angle_rads[:, 0::2] = sines\n",
        "    angle_rads[:, 1::2] = cosines\n",
        "    pos_encoding = tf.constant(angle_rads)\n",
        "    pos_encoding = pos_encoding[tf.newaxis, ...]\n",
        "\n",
        "    print(pos_encoding.shape)\n",
        "    return tf.cast(pos_encoding, tf.float32)\n",
        "\n",
        "  def call(self, inputs):\n",
        "    return inputs + self.pos_encoding[:, :tf.shape(inputs)[1], :]"
      ],
      "metadata": {
        "id": "5twKw99HGk7B"
      },
      "execution_count": null,
      "outputs": []
    },
    {
      "cell_type": "code",
      "source": [
        "sample_pos_encoding = PositionalEncoding(50, 128)\n",
        "\n",
        "plt.pcolormesh(sample_pos_encoding.pos_encoding.numpy()[0], cmap='RdBu')\n",
        "plt.xlabel('Depth')\n",
        "plt.xlim((0, 128))\n",
        "plt.ylabel('Position')\n",
        "plt.colorbar()\n",
        "plt.show()"
      ],
      "metadata": {
        "id": "jvcsf1MaGrAC"
      },
      "execution_count": null,
      "outputs": []
    },
    {
      "cell_type": "code",
      "source": [
        "def scaled_dot_product_attention(query, key, value, mask):\n",
        "  # query 크기 : (batch_size, num_heads, query의 문장 길이, d_model/num_heads)\n",
        "  # key 크기 : (batch_size, num_heads, key의 문장 길이, d_model/num_heads)\n",
        "  # value 크기 : (batch_size, num_heads, value의 문장 길이, d_model/num_heads)\n",
        "  # padding_mask : (batch_size, 1, 1, key의 문장 길이)\n",
        "\n",
        "  # Q와 K의 곱. 어텐션 스코어 행렬.\n",
        "  matmul_qk = tf.matmul(query, key, transpose_b=True)\n",
        "\n",
        "  # 스케일링\n",
        "  # dk의 루트값으로 나눠준다.\n",
        "  depth = tf.cast(tf.shape(key)[-1], tf.float32)\n",
        "  logits = matmul_qk / tf.math.sqrt(depth)\n",
        "\n",
        "  # 마스킹. 어텐션 스코어 행렬의 마스킹 할 위치에 매우 작은 음수값을 넣는다.\n",
        "  # 매우 작은 값이므로 소프트맥스 함수를 지나면 행렬의 해당 위치의 값은 0이 된다.\n",
        "  if mask is not None:\n",
        "    logits += (mask * -1e9)\n",
        "\n",
        "  # 소프트맥스 함수는 마지막 차원인 key의 문장 길이 방향으로 수행된다.\n",
        "  # attention weight : (batch_size, num_heads, query의 문장 길이, key의 문장 길이)\n",
        "  attention_weights = tf.nn.softmax(logits, axis=-1)\n",
        "\n",
        "  # output : (batch_size, num_heads, query의 문장 길이, d_model/num_heads)\n",
        "  output = tf.matmul(attention_weights, value)\n",
        "\n",
        "  return output, attention_weights"
      ],
      "metadata": {
        "id": "fKsO9rIcGsM6"
      },
      "execution_count": null,
      "outputs": []
    },
    {
      "cell_type": "code",
      "source": [
        "class MultiHeadAttention(tf.keras.layers.Layer):\n",
        "\n",
        "  def __init__(self, d_model, num_heads, name=\"multi_head_attention\"):\n",
        "    super(MultiHeadAttention, self).__init__(name=name)\n",
        "    self.num_heads = num_heads\n",
        "    self.d_model = d_model\n",
        "\n",
        "    assert d_model % self.num_heads == 0\n",
        "\n",
        "    # d_model을 num_heads로 나눈 값.\n",
        "    # 논문 기준 : 64\n",
        "    self.depth = d_model // self.num_heads\n",
        "\n",
        "    # WQ, WK, WV에 해당하는 밀집층 정의\n",
        "    self.query_dense = tf.keras.layers.Dense(units=d_model)\n",
        "    self.key_dense = tf.keras.layers.Dense(units=d_model)\n",
        "    self.value_dense = tf.keras.layers.Dense(units=d_model)\n",
        "\n",
        "    # WO에 해당하는 밀집층 정의\n",
        "    self.dense = tf.keras.layers.Dense(units=d_model)\n",
        "\n",
        "  # num_heads 개수만큼 q, k, v를 split하는 함수\n",
        "  def split_heads(self, inputs, batch_size):\n",
        "    inputs = tf.reshape(\n",
        "        inputs, shape=(batch_size, -1, self.num_heads, self.depth))\n",
        "    return tf.transpose(inputs, perm=[0, 2, 1, 3])\n",
        "\n",
        "  def call(self, inputs):\n",
        "    query, key, value, mask = inputs['query'], inputs['key'], inputs[\n",
        "        'value'], inputs['mask']\n",
        "    batch_size = tf.shape(query)[0]\n",
        "\n",
        "    # 1. WQ, WK, WV에 해당하는 밀집층 지나기\n",
        "    # q : (batch_size, query의 문장 길이, d_model)\n",
        "    # k : (batch_size, key의 문장 길이, d_model)\n",
        "    # v : (batch_size, value의 문장 길이, d_model)\n",
        "    # 참고) 인코더(k, v)-디코더(q) 어텐션에서는 query 길이와 key, value의 길이는 다를 수 있다.\n",
        "    query = self.query_dense(query)\n",
        "    key = self.key_dense(key)\n",
        "    value = self.value_dense(value)\n",
        "\n",
        "    # 2. 헤드 나누기\n",
        "    # q : (batch_size, num_heads, query의 문장 길이, d_model/num_heads)\n",
        "    # k : (batch_size, num_heads, key의 문장 길이, d_model/num_heads)\n",
        "    # v : (batch_size, num_heads, value의 문장 길이, d_model/num_heads)\n",
        "    query = self.split_heads(query, batch_size)\n",
        "    key = self.split_heads(key, batch_size)\n",
        "    value = self.split_heads(value, batch_size)\n",
        "\n",
        "    # 3. 스케일드 닷 프로덕트 어텐션. 앞서 구현한 함수 사용.\n",
        "    # (batch_size, num_heads, query의 문장 길이, d_model/num_heads)\n",
        "    scaled_attention, _ = scaled_dot_product_attention(query, key, value, mask)\n",
        "    # (batch_size, query의 문장 길이, num_heads, d_model/num_heads)\n",
        "    scaled_attention = tf.transpose(scaled_attention, perm=[0, 2, 1, 3])\n",
        "\n",
        "    # 4. 헤드 연결(concatenate)하기\n",
        "    # (batch_size, query의 문장 길이, d_model)\n",
        "    concat_attention = tf.reshape(scaled_attention,\n",
        "                                  (batch_size, -1, self.d_model))\n",
        "\n",
        "    # 5. WO에 해당하는 밀집층 지나기\n",
        "    # (batch_size, query의 문장 길이, d_model)\n",
        "    outputs = self.dense(concat_attention)\n",
        "\n",
        "    return outputs"
      ],
      "metadata": {
        "id": "Pp6Zrb2QGu0o"
      },
      "execution_count": null,
      "outputs": []
    },
    {
      "cell_type": "code",
      "source": [
        "def create_padding_mask(x):\n",
        "  mask = tf.cast(tf.math.equal(x, 0), tf.float32)\n",
        "  # (batch_size, 1, 1, key의 문장 길이)\n",
        "  return mask[:, tf.newaxis, tf.newaxis, :]"
      ],
      "metadata": {
        "id": "hvy2MePIG0P7"
      },
      "execution_count": null,
      "outputs": []
    },
    {
      "cell_type": "code",
      "source": [
        "def encoder_layer(dff, d_model, num_heads, dropout, name=\"encoder_layer\"):\n",
        "  inputs = tf.keras.Input(shape=(None, d_model), name=\"inputs\")\n",
        "\n",
        "  # 인코더는 패딩 마스크 사용\n",
        "  padding_mask = tf.keras.Input(shape=(1, 1, None), name=\"padding_mask\")\n",
        "\n",
        "  # 멀티-헤드 어텐션 (첫번째 서브층 / 셀프 어텐션)\n",
        "  attention = MultiHeadAttention(\n",
        "      d_model, num_heads, name=\"attention\")({\n",
        "          'query': inputs, 'key': inputs, 'value': inputs, # Q = K = V\n",
        "          'mask': padding_mask # 패딩 마스크 사용\n",
        "      })\n",
        "\n",
        "  # 드롭아웃 + 잔차 연결과 층 정규화\n",
        "  attention = tf.keras.layers.Dropout(rate=dropout)(attention)\n",
        "  attention = tf.keras.layers.LayerNormalization(\n",
        "      epsilon=1e-6)(inputs + attention)\n",
        "\n",
        "  # 포지션 와이즈 피드 포워드 신경망 (두번째 서브층)\n",
        "  outputs = tf.keras.layers.Dense(units=dff, activation='relu')(attention)\n",
        "  outputs = tf.keras.layers.Dense(units=d_model)(outputs)\n",
        "\n",
        "  # 드롭아웃 + 잔차 연결과 층 정규화\n",
        "  outputs = tf.keras.layers.Dropout(rate=dropout)(outputs)\n",
        "  outputs = tf.keras.layers.LayerNormalization(\n",
        "      epsilon=1e-6)(attention + outputs)\n",
        "\n",
        "  return tf.keras.Model(\n",
        "      inputs=[inputs, padding_mask], outputs=outputs, name=name)"
      ],
      "metadata": {
        "id": "YFKLTbB8G1jg"
      },
      "execution_count": null,
      "outputs": []
    },
    {
      "cell_type": "code",
      "source": [
        "def encoder(vocab_size, num_layers, dff,\n",
        "            d_model, num_heads, dropout,\n",
        "            name=\"encoder\"):\n",
        "  inputs = tf.keras.Input(shape=(None,), name=\"inputs\")\n",
        "\n",
        "  # 인코더는 패딩 마스크 사용\n",
        "  padding_mask = tf.keras.Input(shape=(1, 1, None), name=\"padding_mask\")\n",
        "\n",
        "  # 포지셔널 인코딩 + 드롭아웃\n",
        "  embeddings = tf.keras.layers.Embedding(vocab_size, d_model)(inputs)\n",
        "  embeddings *= tf.math.sqrt(tf.cast(d_model, tf.float32))\n",
        "  embeddings = PositionalEncoding(vocab_size, d_model)(embeddings)\n",
        "  outputs = tf.keras.layers.Dropout(rate=dropout)(embeddings)\n",
        "\n",
        "  # 인코더를 num_layers개 쌓기\n",
        "  for i in range(num_layers):\n",
        "    outputs = encoder_layer(dff=dff, d_model=d_model, num_heads=num_heads,\n",
        "        dropout=dropout, name=\"encoder_layer_{}\".format(i),\n",
        "    )([outputs, padding_mask])\n",
        "\n",
        "  return tf.keras.Model(\n",
        "      inputs=[inputs, padding_mask], outputs=outputs, name=name)"
      ],
      "metadata": {
        "id": "DkgVz44nG2lE"
      },
      "execution_count": null,
      "outputs": []
    },
    {
      "cell_type": "code",
      "source": [
        "# 디코더의 첫번째 서브층(sublayer)에서 미래 토큰을 Mask하는 함수\n",
        "def create_look_ahead_mask(x):\n",
        "  seq_len = tf.shape(x)[1]\n",
        "  look_ahead_mask = 1 - tf.linalg.band_part(tf.ones((seq_len, seq_len)), -1, 0)\n",
        "  padding_mask = create_padding_mask(x) # 패딩 마스크도 포함\n",
        "  return tf.maximum(look_ahead_mask, padding_mask)"
      ],
      "metadata": {
        "id": "J3hM3_uIIBdj"
      },
      "execution_count": null,
      "outputs": []
    },
    {
      "cell_type": "code",
      "source": [
        "def decoder_layer(dff, d_model, num_heads, dropout, name=\"decoder_layer\"):\n",
        "  inputs = tf.keras.Input(shape=(None, d_model), name=\"inputs\")\n",
        "  enc_outputs = tf.keras.Input(shape=(None, d_model), name=\"encoder_outputs\")\n",
        "\n",
        "  # 디코더는 룩어헤드 마스크(첫번째 서브층)와 패딩 마스크(두번째 서브층) 둘 다 사용.\n",
        "  look_ahead_mask = tf.keras.Input(\n",
        "      shape=(1, None, None), name=\"look_ahead_mask\")\n",
        "  padding_mask = tf.keras.Input(shape=(1, 1, None), name='padding_mask')\n",
        "\n",
        "  # 멀티-헤드 어텐션 (첫번째 서브층 / 마스크드 셀프 어텐션)\n",
        "  attention1 = MultiHeadAttention(\n",
        "      d_model, num_heads, name=\"attention_1\")(inputs={\n",
        "          'query': inputs, 'key': inputs, 'value': inputs, # Q = K = V\n",
        "          'mask': look_ahead_mask # 룩어헤드 마스크\n",
        "      })\n",
        "\n",
        "  # 잔차 연결과 층 정규화\n",
        "  attention1 = tf.keras.layers.LayerNormalization(\n",
        "      epsilon=1e-6)(attention1 + inputs)\n",
        "\n",
        "  # 멀티-헤드 어텐션 (두번째 서브층 / 디코더-인코더 어텐션)\n",
        "  attention2 = MultiHeadAttention(\n",
        "      d_model, num_heads, name=\"attention_2\")(inputs={\n",
        "          'query': attention1, 'key': enc_outputs, 'value': enc_outputs, # Q != K = V\n",
        "          'mask': padding_mask # 패딩 마스크\n",
        "      })\n",
        "\n",
        "  # 드롭아웃 + 잔차 연결과 층 정규화\n",
        "  attention2 = tf.keras.layers.Dropout(rate=dropout)(attention2)\n",
        "  attention2 = tf.keras.layers.LayerNormalization(\n",
        "      epsilon=1e-6)(attention2 + attention1)\n",
        "\n",
        "  # 포지션 와이즈 피드 포워드 신경망 (세번째 서브층)\n",
        "  outputs = tf.keras.layers.Dense(units=dff, activation='relu')(attention2)\n",
        "  outputs = tf.keras.layers.Dense(units=d_model)(outputs)\n",
        "\n",
        "  # 드롭아웃 + 잔차 연결과 층 정규화\n",
        "  outputs = tf.keras.layers.Dropout(rate=dropout)(outputs)\n",
        "  outputs = tf.keras.layers.LayerNormalization(\n",
        "      epsilon=1e-6)(outputs + attention2)\n",
        "\n",
        "  return tf.keras.Model(\n",
        "      inputs=[inputs, enc_outputs, look_ahead_mask, padding_mask],\n",
        "      outputs=outputs,\n",
        "      name=name)"
      ],
      "metadata": {
        "id": "WCknKq0BICiY"
      },
      "execution_count": null,
      "outputs": []
    },
    {
      "cell_type": "code",
      "source": [
        "def decoder(vocab_size, num_layers, dff,\n",
        "            d_model, num_heads, dropout,\n",
        "            name='decoder'):\n",
        "  inputs = tf.keras.Input(shape=(None,), name='inputs')\n",
        "  enc_outputs = tf.keras.Input(shape=(None, d_model), name='encoder_outputs')\n",
        "\n",
        "  # 디코더는 룩어헤드 마스크(첫번째 서브층)와 패딩 마스크(두번째 서브층) 둘 다 사용.\n",
        "  look_ahead_mask = tf.keras.Input(\n",
        "      shape=(1, None, None), name='look_ahead_mask')\n",
        "  padding_mask = tf.keras.Input(shape=(1, 1, None), name='padding_mask')\n",
        "\n",
        "  # 포지셔널 인코딩 + 드롭아웃\n",
        "  embeddings = tf.keras.layers.Embedding(vocab_size, d_model)(inputs)\n",
        "  embeddings *= tf.math.sqrt(tf.cast(d_model, tf.float32))\n",
        "  embeddings = PositionalEncoding(vocab_size, d_model)(embeddings)\n",
        "  outputs = tf.keras.layers.Dropout(rate=dropout)(embeddings)\n",
        "\n",
        "  # 디코더를 num_layers개 쌓기\n",
        "  for i in range(num_layers):\n",
        "    outputs = decoder_layer(dff=dff, d_model=d_model, num_heads=num_heads,\n",
        "        dropout=dropout, name='decoder_layer_{}'.format(i),\n",
        "    )(inputs=[outputs, enc_outputs, look_ahead_mask, padding_mask])\n",
        "\n",
        "  return tf.keras.Model(\n",
        "      inputs=[inputs, enc_outputs, look_ahead_mask, padding_mask],\n",
        "      outputs=outputs,\n",
        "      name=name)"
      ],
      "metadata": {
        "id": "Bc1M4LkQIEoI"
      },
      "execution_count": null,
      "outputs": []
    },
    {
      "cell_type": "code",
      "source": [
        "def transformer(vocab_size, num_layers, dff,\n",
        "                d_model, num_heads, dropout,\n",
        "                name=\"transformer\"):\n",
        "\n",
        "  # 인코더의 입력\n",
        "  inputs = tf.keras.Input(shape=(None,), name=\"inputs\")\n",
        "\n",
        "  # 디코더의 입력\n",
        "  dec_inputs = tf.keras.Input(shape=(None,), name=\"dec_inputs\")\n",
        "\n",
        "  # 인코더의 패딩 마스크\n",
        "  enc_padding_mask = tf.keras.layers.Lambda(\n",
        "      create_padding_mask, output_shape=(1, 1, None),\n",
        "      name='enc_padding_mask')(inputs)\n",
        "\n",
        "  # 디코더의 룩어헤드 마스크(첫번째 서브층)\n",
        "  look_ahead_mask = tf.keras.layers.Lambda(\n",
        "      create_look_ahead_mask, output_shape=(1, None, None),\n",
        "      name='look_ahead_mask')(dec_inputs)\n",
        "\n",
        "  # 디코더의 패딩 마스크(두번째 서브층)\n",
        "  dec_padding_mask = tf.keras.layers.Lambda(\n",
        "      create_padding_mask, output_shape=(1, 1, None),\n",
        "      name='dec_padding_mask')(inputs)\n",
        "\n",
        "  # 인코더의 출력은 enc_outputs. 디코더로 전달된다.\n",
        "  enc_outputs = encoder(vocab_size=vocab_size, num_layers=num_layers, dff=dff,\n",
        "      d_model=d_model, num_heads=num_heads, dropout=dropout,\n",
        "  )(inputs=[inputs, enc_padding_mask]) # 인코더의 입력은 입력 문장과 패딩 마스크\n",
        "\n",
        "  # 디코더의 출력은 dec_outputs. 출력층으로 전달된다.\n",
        "  dec_outputs = decoder(vocab_size=vocab_size, num_layers=num_layers, dff=dff,\n",
        "      d_model=d_model, num_heads=num_heads, dropout=dropout,\n",
        "  )(inputs=[dec_inputs, enc_outputs, look_ahead_mask, dec_padding_mask])\n",
        "\n",
        "  # 다음 단어 예측을 위한 출력층\n",
        "  outputs = tf.keras.layers.Dense(units=vocab_size, name=\"outputs\")(dec_outputs)\n",
        "\n",
        "  return tf.keras.Model(inputs=[inputs, dec_inputs], outputs=outputs, name=name)"
      ],
      "metadata": {
        "id": "LtfDwYl5IFr7"
      },
      "execution_count": null,
      "outputs": []
    },
    {
      "cell_type": "code",
      "source": [
        "small_transformer = transformer(\n",
        "    vocab_size = 9000,\n",
        "    num_layers = 4,\n",
        "    dff = 512,\n",
        "    d_model = 128,\n",
        "    num_heads = 4,\n",
        "    dropout = 0.3,\n",
        "    name=\"small_transformer\")\n",
        "\n",
        "tf.keras.utils.plot_model(\n",
        "    small_transformer, to_file='small_transformer.png', show_shapes=True)"
      ],
      "metadata": {
        "id": "gg0FnCdLIJ02"
      },
      "execution_count": null,
      "outputs": []
    },
    {
      "cell_type": "code",
      "source": [
        "def loss_function(y_true, y_pred):\n",
        "  y_true = tf.reshape(y_true, shape=(-1, MAX_LENGTH - 1))\n",
        "\n",
        "  loss = tf.keras.losses.SparseCategoricalCrossentropy(\n",
        "      from_logits=True, reduction='none')(y_true, y_pred)\n",
        "\n",
        "  mask = tf.cast(tf.not_equal(y_true, 0), tf.float32)\n",
        "  loss = tf.multiply(loss, mask)\n",
        "\n",
        "  return tf.reduce_mean(loss)"
      ],
      "metadata": {
        "id": "Hm-ssQX2ILgR"
      },
      "execution_count": null,
      "outputs": []
    },
    {
      "cell_type": "code",
      "source": [
        "class CustomSchedule(tf.keras.optimizers.schedules.LearningRateSchedule):\n",
        "\n",
        "  def __init__(self, d_model, warmup_steps=4000):\n",
        "    super(CustomSchedule, self).__init__()\n",
        "    self.d_model = d_model\n",
        "    self.d_model = tf.cast(self.d_model, tf.float32)\n",
        "    self.warmup_steps = warmup_steps\n",
        "\n",
        "  def __call__(self, step):\n",
        "    arg1 = tf.math.rsqrt(step)\n",
        "    arg2 = step * (self.warmup_steps**-1.5)\n",
        "\n",
        "    return tf.math.rsqrt(self.d_model) * tf.math.minimum(arg1, arg2)"
      ],
      "metadata": {
        "id": "QV4_ynkJINnF"
      },
      "execution_count": null,
      "outputs": []
    },
    {
      "cell_type": "code",
      "source": [
        "sample_learning_rate = CustomSchedule(d_model=128)\n",
        "\n",
        "plt.plot(sample_learning_rate(tf.range(200000, dtype=tf.float32)))\n",
        "plt.ylabel(\"Learning Rate\")\n",
        "plt.xlabel(\"Train Step\")"
      ],
      "metadata": {
        "id": "tDv4VojlIO59"
      },
      "execution_count": null,
      "outputs": []
    },
    {
      "cell_type": "markdown",
      "source": [
        "# 챗봇 만들기"
      ],
      "metadata": {
        "id": "YqJMhBwfIRt6"
      }
    },
    {
      "cell_type": "code",
      "source": [
        "import pandas as pd\n",
        "import urllib.request\n",
        "import tensorflow_datasets as tfds\n",
        "import tensorflow as tf\n",
        "import time\n",
        "import numpy as np\n",
        "import matplotlib.pyplot as plt\n",
        "import re"
      ],
      "metadata": {
        "id": "YJ3cIhQxIP3S"
      },
      "execution_count": null,
      "outputs": []
    },
    {
      "cell_type": "code",
      "source": [
        "train_data1 = pd.read_excel('/content/감성대화말뭉치(최종데이터)_Training.xlsx')\n",
        "train_data2 = pd.read_excel('/content/감성대화말뭉치(최종데이터)_Training.xlsx')\n",
        "train_data1.drop(['번호','연령','성별','상황키워드','신체질환','사람문장2','사람문장3','사람문장4','시스템응답2','시스템응답3','시스템응답4'], axis=1, inplace=True)\n",
        "train_data2.drop(['번호','연령','성별','상황키워드','신체질환','사람문장1','사람문장3','사람문장4','시스템응답1','시스템응답3','시스템응답4'], axis=1, inplace=True)\n",
        "train_data2.rename(columns={'사람문장2':'사람문장1'},inplace=True)\n",
        "train_data2.rename(columns={'시스템응답2': '시스템응답1'},inplace=True)\n",
        "train_data2[:5]"
      ],
      "metadata": {
        "id": "JvEPrMjZIx8q"
      },
      "execution_count": null,
      "outputs": []
    },
    {
      "cell_type": "code",
      "source": [
        "train_datases = pd.concat([train_data1, train_data2])\n",
        "train_datases.reset_index(inplace=True)\n",
        "train_datases['label'] = 0\n",
        "for i in range(len(train_datases)):\n",
        "  if train_datases['감정_대분류'][i] == '기쁨':\n",
        "    train_datases['label'][i] = 1\n",
        "  else:\n",
        "    train_datases['label'][i] = 0\n",
        "\n",
        "train_datases[-5:]"
      ],
      "metadata": {
        "id": "nvXziLFAI5MB"
      },
      "execution_count": null,
      "outputs": []
    },
    {
      "cell_type": "code",
      "source": [
        "test_data1 = pd.read_excel('/content/감성대화말뭉치(최종데이터)_Validation.xlsx')\n",
        "test_data2 = pd.read_excel('/content/감성대화말뭉치(최종데이터)_Validation.xlsx')\n",
        "test_data1.drop(['번호','연령','성별','상황키워드','신체질환','사람문장2','사람문장3','사람문장4','시스템응답2','시스템응답3','시스템응답4'], axis=1, inplace=True)\n",
        "test_data2.drop(['번호','연령','성별','상황키워드','신체질환','사람문장1','사람문장3','사람문장4','시스템응답1','시스템응답3','시스템응답4'], axis=1, inplace=True)\n",
        "test_data2.rename(columns={'사람문장2':'사람문장1'},inplace=True)\n",
        "test_data2.rename(columns={'시스템응답2': '시스템응답1'},inplace=True)\n",
        "test_data2[:5]"
      ],
      "metadata": {
        "id": "4nd4m5u7KCl-"
      },
      "execution_count": null,
      "outputs": []
    },
    {
      "cell_type": "code",
      "source": [
        "test_datas = pd.concat([test_data1, test_data2])\n",
        "test_datas.reset_index(inplace=True)\n",
        "test_datas['label'] = 0\n",
        "for i in range(len(test_datas)):\n",
        "  if test_datas['감정_대분류'][i] == '기쁨':\n",
        "    test_datas['label'][i] = 1\n",
        "  else:\n",
        "    test_datas['label'][i] = 0\n",
        "\n",
        "test_datas[-5:]"
      ],
      "metadata": {
        "id": "7M13IX4cKa8u"
      },
      "execution_count": null,
      "outputs": []
    },
    {
      "cell_type": "code",
      "source": [
        "print('챗봇 샘플의 개수 :', len(train_datases))"
      ],
      "metadata": {
        "id": "1y_hSxd0Knmk"
      },
      "execution_count": null,
      "outputs": []
    },
    {
      "cell_type": "code",
      "source": [
        "print(train_datases.isnull().sum())"
      ],
      "metadata": {
        "id": "U6RLw9geKrqk"
      },
      "execution_count": null,
      "outputs": []
    },
    {
      "cell_type": "code",
      "source": [
        "questions = []\n",
        "for sentence in train_datases['사람문장1']:\n",
        "    # 구두점에 대해서 띄어쓰기\n",
        "    # ex) 12시 땡! -> 12시 땡 !\n",
        "    sentence = re.sub(r\"([?.!,])\", r\" \\1 \", sentence)\n",
        "    sentence = sentence.strip()\n",
        "    questions.append(sentence)"
      ],
      "metadata": {
        "id": "zQdPepC6KtVc"
      },
      "execution_count": null,
      "outputs": []
    },
    {
      "cell_type": "code",
      "source": [
        "answers = []\n",
        "for sentence in train_datases['시스템응답1']:\n",
        "    # 구두점에 대해서 띄어쓰기\n",
        "    # ex) 12시 땡! -> 12시 땡 !\n",
        "    sentence = re.sub(r\"([?.!,])\", r\" \\1 \", sentence)\n",
        "    sentence = sentence.strip()\n",
        "    answers.append(sentence)"
      ],
      "metadata": {
        "id": "Y8GtkK82KyCF"
      },
      "execution_count": null,
      "outputs": []
    },
    {
      "cell_type": "code",
      "source": [
        "len(questions)"
      ],
      "metadata": {
        "id": "k0tzJvG6K1_H"
      },
      "execution_count": null,
      "outputs": []
    },
    {
      "cell_type": "code",
      "source": [
        "print(questions[:5])\n",
        "print(answers[:5])"
      ],
      "metadata": {
        "id": "--kgnh10K5GX"
      },
      "execution_count": null,
      "outputs": []
    },
    {
      "cell_type": "code",
      "source": [
        "# 서브워드텍스트인코더를 사용하여 질문과 답변을 모두 포함한 단어 집합(Vocabulary) 생성\n",
        "tokenizer = tfds.deprecated.text.SubwordTextEncoder.build_from_corpus(\n",
        "    questions + answers, target_vocab_size=2**13)\n",
        "\n",
        "# 시작 토큰과 종료 토큰에 대한 정수 부여.\n",
        "START_TOKEN, END_TOKEN = [tokenizer.vocab_size], [tokenizer.vocab_size + 1]\n",
        "\n",
        "# 시작 토큰과 종료 토큰을 고려하여 단어 집합의 크기를 + 2\n",
        "VOCAB_SIZE = tokenizer.vocab_size + 2"
      ],
      "metadata": {
        "id": "X4J7CbXAK6i2"
      },
      "execution_count": null,
      "outputs": []
    },
    {
      "cell_type": "code",
      "source": [
        "print('시작 토큰 번호 :',START_TOKEN)\n",
        "print('종료 토큰 번호 :',END_TOKEN)\n",
        "print('단어 집합의 크기 :',VOCAB_SIZE)"
      ],
      "metadata": {
        "id": "ZsTtCixiK-vv"
      },
      "execution_count": null,
      "outputs": []
    },
    {
      "cell_type": "code",
      "source": [
        "# 서브워드텍스트인코더 토크나이저의 .encode()를 사용하여 텍스트 시퀀스를 정수 시퀀스로 변환.\n",
        "print('Tokenized sample question: {}'.format(tokenizer.encode(questions[20])))"
      ],
      "metadata": {
        "id": "aGfXkt3sLsRT"
      },
      "execution_count": null,
      "outputs": []
    },
    {
      "cell_type": "code",
      "source": [
        "# 서브워드텍스트인코더 토크나이저의 .encode()와 decode() 테스트해보기\n",
        "\n",
        "# 임의의 입력 문장을 sample_string에 저장\n",
        "sample_string = questions[20]\n",
        "\n",
        "# encode() : 텍스트 시퀀스 --> 정수 시퀀스\n",
        "tokenized_string = tokenizer.encode(sample_string)\n",
        "print ('정수 인코딩 후의 문장 {}'.format(tokenized_string))\n",
        "\n",
        "# decode() : 정수 시퀀스 --> 텍스트 시퀀스\n",
        "original_string = tokenizer.decode(tokenized_string)\n",
        "print ('기존 문장: {}'.format(original_string))"
      ],
      "metadata": {
        "id": "-YS--mg-Ltax"
      },
      "execution_count": null,
      "outputs": []
    },
    {
      "cell_type": "code",
      "source": [
        "# 각 정수는 각 단어와 어떻게 mapping되는지 병렬로 출력\n",
        "# 서브워드텍스트인코더는 의미있는 단위의 서브워드로 토크나이징한다. 띄어쓰기 단위 X 형태소 분석 단위 X\n",
        "for ts in tokenized_string:\n",
        "  print ('{} ----> {}'.format(ts, tokenizer.decode([ts])))"
      ],
      "metadata": {
        "id": "GZgzeTwsLvbL"
      },
      "execution_count": null,
      "outputs": []
    },
    {
      "cell_type": "code",
      "source": [
        "# 최대 길이를 40으로 정의\n",
        "MAX_LENGTH = 40\n",
        "\n",
        "# 토큰화 / 정수 인코딩 / 시작 토큰과 종료 토큰 추가 / 패딩\n",
        "def tokenize_and_filter(inputs, outputs):\n",
        "  tokenized_inputs, tokenized_outputs = [], []\n",
        "  \n",
        "  for (sentence1, sentence2) in zip(inputs, outputs):\n",
        "    # encode(토큰화 + 정수 인코딩), 시작 토큰과 종료 토큰 추가\n",
        "    sentence1 = START_TOKEN + tokenizer.encode(sentence1) + END_TOKEN\n",
        "    sentence2 = START_TOKEN + tokenizer.encode(sentence2) + END_TOKEN\n",
        "\n",
        "    tokenized_inputs.append(sentence1)\n",
        "    tokenized_outputs.append(sentence2)\n",
        "  \n",
        "  # 패딩\n",
        "  tokenized_inputs = tf.keras.preprocessing.sequence.pad_sequences(\n",
        "      tokenized_inputs, maxlen=MAX_LENGTH, padding='post')\n",
        "  tokenized_outputs = tf.keras.preprocessing.sequence.pad_sequences(\n",
        "      tokenized_outputs, maxlen=MAX_LENGTH, padding='post')\n",
        "  \n",
        "  return tokenized_inputs, tokenized_outputs"
      ],
      "metadata": {
        "id": "9FW6KTjiLyvA"
      },
      "execution_count": null,
      "outputs": []
    },
    {
      "cell_type": "code",
      "source": [
        "questions, answers = tokenize_and_filter(questions, answers)"
      ],
      "metadata": {
        "id": "rNtfpAXUL50b"
      },
      "execution_count": null,
      "outputs": []
    },
    {
      "cell_type": "code",
      "source": [
        "print('질문 데이터의 크기(shape) :', questions.shape)\n",
        "print('답변 데이터의 크기(shape) :', answers.shape)\n"
      ],
      "metadata": {
        "id": "H5nefhkwL8jI"
      },
      "execution_count": null,
      "outputs": []
    },
    {
      "cell_type": "code",
      "source": [
        "# 0번째 샘플을 임의로 출력\n",
        "print(questions[0])\n",
        "print(answers[0])"
      ],
      "metadata": {
        "id": "yU94llpKL_eH"
      },
      "execution_count": null,
      "outputs": []
    },
    {
      "cell_type": "code",
      "source": [
        "# 텐서플로우 dataset을 이용하여 셔플(shuffle)을 수행하되, 배치 크기로 데이터를 묶는다.\n",
        "# 또한 이 과정에서 교사 강요(teacher forcing)을 사용하기 위해서 디코더의 입력과 실제값 시퀀스를 구성한다.\n",
        "BATCH_SIZE = 64\n",
        "BUFFER_SIZE = 20000\n",
        "\n",
        "# 디코더의 실제값 시퀀스에서는 시작 토큰을 제거해야 한다.\n",
        "dataset = tf.data.Dataset.from_tensor_slices((\n",
        "    {\n",
        "        'inputs': questions,\n",
        "        'dec_inputs': answers[:, :-1] # 디코더의 입력. 마지막 패딩 토큰이 제거된다.\n",
        "    },\n",
        "    {\n",
        "        'outputs': answers[:, 1:]  # 맨 처음 토큰이 제거된다. 다시 말해 시작 토큰이 제거된다.\n",
        "    },\n",
        "))\n",
        "\n",
        "dataset = dataset.cache()\n",
        "dataset = dataset.shuffle(BUFFER_SIZE)\n",
        "dataset = dataset.batch(BATCH_SIZE)\n",
        "dataset = dataset.prefetch(tf.data.experimental.AUTOTUNE)"
      ],
      "metadata": {
        "id": "f-2ntWcnL_rH"
      },
      "execution_count": null,
      "outputs": []
    },
    {
      "cell_type": "code",
      "source": [
        "# 임의의 샘플에 대해서 [:, :-1]과 [:, 1:]이 어떤 의미를 가지는지 테스트해본다.\n",
        "print(answers[0]) # 기존 샘플\n",
        "print(answers[:1][:, :-1]) # 마지막 패딩 토큰 제거하면서 길이가 39가 된다.\n",
        "print(answers[:1][:, 1:]) # 맨 처음 토큰이 제거된다. 다시 말해 시작 토큰이 제거된다. 길이는 역시 39가 된다."
      ],
      "metadata": {
        "id": "rStKXX_4MCkv"
      },
      "execution_count": null,
      "outputs": []
    },
    {
      "cell_type": "code",
      "source": [
        "pip install transformers"
      ],
      "metadata": {
        "id": "WGHeHHlLiT0V"
      },
      "execution_count": null,
      "outputs": []
    },
    {
      "cell_type": "code",
      "source": [
        "tf.keras.backend.clear_session()\n",
        "\n",
        "# Hyper-parameters\n",
        "NUM_LAYERS = 2\n",
        "D_MODEL = 256\n",
        "NUM_HEADS = 8\n",
        "DFF = 512\n",
        "DROPOUT = 0.1\n",
        "\n",
        "model = transformer(\n",
        "    vocab_size=VOCAB_SIZE,\n",
        "    num_layers=NUM_LAYERS,\n",
        "    dff=DFF,\n",
        "    d_model=D_MODEL,\n",
        "    num_heads=NUM_HEADS,\n",
        "    dropout=DROPOUT)"
      ],
      "metadata": {
        "id": "haKcWGsYMFLO"
      },
      "execution_count": null,
      "outputs": []
    },
    {
      "cell_type": "code",
      "source": [
        "MAX_LENGTH = 40\n",
        "\n",
        "learning_rate = CustomSchedule(D_MODEL)\n",
        "\n",
        "optimizer = tf.keras.optimizers.Adam(\n",
        "    learning_rate, beta_1=0.9, beta_2=0.98, epsilon=1e-9)\n",
        "\n",
        "def accuracy(y_true, y_pred):\n",
        "  # ensure labels have shape (batch_size, MAX_LENGTH - 1)\n",
        "  y_true = tf.reshape(y_true, shape=(-1, MAX_LENGTH - 1))\n",
        "  return tf.keras.metrics.sparse_categorical_accuracy(y_true, y_pred)\n",
        "\n",
        "model.compile(optimizer=optimizer, loss=loss_function, metrics=[accuracy])"
      ],
      "metadata": {
        "id": "qB_d4U_DMGNY"
      },
      "execution_count": null,
      "outputs": []
    },
    {
      "cell_type": "code",
      "source": [
        "EPOCHS = 15\n",
        "\n",
        "model.fit(dataset, epochs=EPOCHS)"
      ],
      "metadata": {
        "id": "5jvDKCZbMHa8"
      },
      "execution_count": null,
      "outputs": []
    },
    {
      "cell_type": "code",
      "source": [
        "def evaluate(sentence):\n",
        "  sentence = preprocess_sentence(sentence)\n",
        "\n",
        "  sentence = tf.expand_dims(\n",
        "      START_TOKEN + tokenizer.encode(sentence) + END_TOKEN, axis=0)\n",
        "\n",
        "  output = tf.expand_dims(START_TOKEN, 0)\n",
        "\n",
        "  # 디코더의 예측 시작\n",
        "  for i in range(MAX_LENGTH):\n",
        "    predictions = model(inputs=[sentence, output], training=False)\n",
        "\n",
        "    # 현재(마지막) 시점의 예측 단어를 받아온다.\n",
        "    predictions = predictions[:, -1:, :]\n",
        "    predicted_id = tf.cast(tf.argmax(predictions, axis=-1), tf.int32)\n",
        "\n",
        "    # 만약 마지막 시점의 예측 단어가 종료 토큰이라면 예측을 중단\n",
        "    if tf.equal(predicted_id, END_TOKEN[0]):\n",
        "      break\n",
        "\n",
        "    # 마지막 시점의 예측 단어를 출력에 연결한다.\n",
        "    # 이는 for문을 통해서 디코더의 입력으로 사용될 예정이다.\n",
        "    output = tf.concat([output, predicted_id], axis=-1)\n",
        "\n",
        "  return tf.squeeze(output, axis=0)\n",
        "\n",
        "\n",
        "def predict(sentence):\n",
        "  prediction = evaluate(sentence)\n",
        "\n",
        "  predicted_sentence = tokenizer.decode(\n",
        "      [i for i in prediction if i < tokenizer.vocab_size])\n",
        "\n",
        "  print('Input: {}'.format(sentence))\n",
        "  print('Output: {}'.format(predicted_sentence))\n",
        "\n",
        "  return predicted_sentence"
      ],
      "metadata": {
        "id": "Z7imKy6YMIjw"
      },
      "execution_count": null,
      "outputs": []
    },
    {
      "cell_type": "code",
      "source": [
        "def preprocess_sentence(sentence):\n",
        "  sentence = re.sub(r\"([?.!,])\", r\" \\1 \", sentence)\n",
        "  sentence = sentence.strip()\n",
        "  return sentence"
      ],
      "metadata": {
        "id": "sNo_BqOzMN7G"
      },
      "execution_count": null,
      "outputs": []
    },
    {
      "cell_type": "code",
      "source": [
        ""
      ],
      "metadata": {
        "id": "uRP4UQg8QaSl"
      },
      "execution_count": null,
      "outputs": []
    }
  ],
  "metadata": {
    "accelerator": "GPU",
    "colab": {
      "name": "데이터전처리/LSTM/1DCNN분류.ipynb",
      "provenance": [],
      "collapsed_sections": []
    },
    "gpuClass": "standard",
    "kernelspec": {
      "display_name": "Python 3",
      "name": "python3"
    },
    "language_info": {
      "name": "python"
    }
  },
  "nbformat": 4,
  "nbformat_minor": 0
}